{
 "cells": [
  {
   "cell_type": "code",
   "execution_count": 1,
   "metadata": {},
   "outputs": [],
   "source": [
    "import pandas as pd \n",
    "import numpy as np\n",
    "import os\n",
    "dataset_folder = '../dataset_new'"
   ]
  },
  {
   "cell_type": "code",
   "execution_count": 2,
   "metadata": {},
   "outputs": [],
   "source": [
    "sensors = ['sensor2', 'sensor3', 'sensor4','sensor7','sensor8','sensor9','sensor11','sensor12','sensor13','sensor14',\n",
    "           'sensor15','sensor17','sensor20', 'sensor21']"
   ]
  },
  {
   "cell_type": "code",
   "execution_count": 3,
   "metadata": {},
   "outputs": [
    {
     "data": {
      "text/html": [
       "<div>\n",
       "<style scoped>\n",
       "    .dataframe tbody tr th:only-of-type {\n",
       "        vertical-align: middle;\n",
       "    }\n",
       "\n",
       "    .dataframe tbody tr th {\n",
       "        vertical-align: top;\n",
       "    }\n",
       "\n",
       "    .dataframe thead th {\n",
       "        text-align: right;\n",
       "    }\n",
       "</style>\n",
       "<table border=\"1\" class=\"dataframe\">\n",
       "  <thead>\n",
       "    <tr style=\"text-align: right;\">\n",
       "      <th></th>\n",
       "      <th>unit_number</th>\n",
       "      <th>time_cycle</th>\n",
       "      <th>op_setting1</th>\n",
       "      <th>op_setting2</th>\n",
       "      <th>op_setting3</th>\n",
       "      <th>RUL</th>\n",
       "      <th>sensor2</th>\n",
       "      <th>sensor3</th>\n",
       "      <th>sensor4</th>\n",
       "      <th>sensor6</th>\n",
       "      <th>...</th>\n",
       "      <th>sensor8</th>\n",
       "      <th>sensor9</th>\n",
       "      <th>sensor11</th>\n",
       "      <th>sensor12</th>\n",
       "      <th>sensor13</th>\n",
       "      <th>sensor14</th>\n",
       "      <th>sensor15</th>\n",
       "      <th>sensor17</th>\n",
       "      <th>sensor20</th>\n",
       "      <th>sensor21</th>\n",
       "    </tr>\n",
       "  </thead>\n",
       "  <tbody>\n",
       "    <tr>\n",
       "      <th>0</th>\n",
       "      <td>1.0</td>\n",
       "      <td>1.0</td>\n",
       "      <td>-0.0005</td>\n",
       "      <td>0.0004</td>\n",
       "      <td>100.0</td>\n",
       "      <td>258.0</td>\n",
       "      <td>0.355972</td>\n",
       "      <td>0.370523</td>\n",
       "      <td>0.308580</td>\n",
       "      <td>1.0</td>\n",
       "      <td>...</td>\n",
       "      <td>0.623529</td>\n",
       "      <td>0.204233</td>\n",
       "      <td>0.348571</td>\n",
       "      <td>0.231279</td>\n",
       "      <td>0.642857</td>\n",
       "      <td>0.239116</td>\n",
       "      <td>0.647755</td>\n",
       "      <td>0.272727</td>\n",
       "      <td>0.559524</td>\n",
       "      <td>0.446331</td>\n",
       "    </tr>\n",
       "    <tr>\n",
       "      <th>1</th>\n",
       "      <td>1.0</td>\n",
       "      <td>2.0</td>\n",
       "      <td>0.0008</td>\n",
       "      <td>-0.0003</td>\n",
       "      <td>100.0</td>\n",
       "      <td>257.0</td>\n",
       "      <td>0.388759</td>\n",
       "      <td>0.399100</td>\n",
       "      <td>0.309360</td>\n",
       "      <td>1.0</td>\n",
       "      <td>...</td>\n",
       "      <td>0.647059</td>\n",
       "      <td>0.202431</td>\n",
       "      <td>0.308571</td>\n",
       "      <td>0.236882</td>\n",
       "      <td>0.654762</td>\n",
       "      <td>0.278567</td>\n",
       "      <td>0.685659</td>\n",
       "      <td>0.363636</td>\n",
       "      <td>0.488095</td>\n",
       "      <td>0.534836</td>\n",
       "    </tr>\n",
       "    <tr>\n",
       "      <th>2</th>\n",
       "      <td>1.0</td>\n",
       "      <td>3.0</td>\n",
       "      <td>-0.0014</td>\n",
       "      <td>-0.0002</td>\n",
       "      <td>100.0</td>\n",
       "      <td>256.0</td>\n",
       "      <td>0.313817</td>\n",
       "      <td>0.353298</td>\n",
       "      <td>0.445398</td>\n",
       "      <td>1.0</td>\n",
       "      <td>...</td>\n",
       "      <td>0.664706</td>\n",
       "      <td>0.241484</td>\n",
       "      <td>0.302857</td>\n",
       "      <td>0.217015</td>\n",
       "      <td>0.636905</td>\n",
       "      <td>0.264526</td>\n",
       "      <td>0.564462</td>\n",
       "      <td>0.272727</td>\n",
       "      <td>0.404762</td>\n",
       "      <td>0.458577</td>\n",
       "    </tr>\n",
       "    <tr>\n",
       "      <th>3</th>\n",
       "      <td>1.0</td>\n",
       "      <td>4.0</td>\n",
       "      <td>-0.0020</td>\n",
       "      <td>0.0001</td>\n",
       "      <td>100.0</td>\n",
       "      <td>255.0</td>\n",
       "      <td>0.487119</td>\n",
       "      <td>0.417107</td>\n",
       "      <td>0.237285</td>\n",
       "      <td>1.0</td>\n",
       "      <td>...</td>\n",
       "      <td>0.647059</td>\n",
       "      <td>0.215326</td>\n",
       "      <td>0.314286</td>\n",
       "      <td>0.240448</td>\n",
       "      <td>0.684524</td>\n",
       "      <td>0.245612</td>\n",
       "      <td>0.558909</td>\n",
       "      <td>0.363636</td>\n",
       "      <td>0.470238</td>\n",
       "      <td>0.391966</td>\n",
       "    </tr>\n",
       "    <tr>\n",
       "      <th>4</th>\n",
       "      <td>1.0</td>\n",
       "      <td>5.0</td>\n",
       "      <td>0.0016</td>\n",
       "      <td>0.0000</td>\n",
       "      <td>100.0</td>\n",
       "      <td>254.0</td>\n",
       "      <td>0.196721</td>\n",
       "      <td>0.476218</td>\n",
       "      <td>0.321217</td>\n",
       "      <td>1.0</td>\n",
       "      <td>...</td>\n",
       "      <td>0.670588</td>\n",
       "      <td>0.268799</td>\n",
       "      <td>0.262857</td>\n",
       "      <td>0.245033</td>\n",
       "      <td>0.654762</td>\n",
       "      <td>0.252109</td>\n",
       "      <td>0.556736</td>\n",
       "      <td>0.363636</td>\n",
       "      <td>0.577381</td>\n",
       "      <td>0.543371</td>\n",
       "    </tr>\n",
       "  </tbody>\n",
       "</table>\n",
       "<p>5 rows × 21 columns</p>\n",
       "</div>"
      ],
      "text/plain": [
       "   unit_number  time_cycle  op_setting1  op_setting2  op_setting3    RUL  \\\n",
       "0          1.0         1.0      -0.0005       0.0004        100.0  258.0   \n",
       "1          1.0         2.0       0.0008      -0.0003        100.0  257.0   \n",
       "2          1.0         3.0      -0.0014      -0.0002        100.0  256.0   \n",
       "3          1.0         4.0      -0.0020       0.0001        100.0  255.0   \n",
       "4          1.0         5.0       0.0016       0.0000        100.0  254.0   \n",
       "\n",
       "    sensor2   sensor3   sensor4  sensor6  ...   sensor8   sensor9  sensor11  \\\n",
       "0  0.355972  0.370523  0.308580      1.0  ...  0.623529  0.204233  0.348571   \n",
       "1  0.388759  0.399100  0.309360      1.0  ...  0.647059  0.202431  0.308571   \n",
       "2  0.313817  0.353298  0.445398      1.0  ...  0.664706  0.241484  0.302857   \n",
       "3  0.487119  0.417107  0.237285      1.0  ...  0.647059  0.215326  0.314286   \n",
       "4  0.196721  0.476218  0.321217      1.0  ...  0.670588  0.268799  0.262857   \n",
       "\n",
       "   sensor12  sensor13  sensor14  sensor15  sensor17  sensor20  sensor21  \n",
       "0  0.231279  0.642857  0.239116  0.647755  0.272727  0.559524  0.446331  \n",
       "1  0.236882  0.654762  0.278567  0.685659  0.363636  0.488095  0.534836  \n",
       "2  0.217015  0.636905  0.264526  0.564462  0.272727  0.404762  0.458577  \n",
       "3  0.240448  0.684524  0.245612  0.558909  0.363636  0.470238  0.391966  \n",
       "4  0.245033  0.654762  0.252109  0.556736  0.363636  0.577381  0.543371  \n",
       "\n",
       "[5 rows x 21 columns]"
      ]
     },
     "execution_count": 3,
     "metadata": {},
     "output_type": "execute_result"
    }
   ],
   "source": [
    "train = []\n",
    "files = os.listdir(dataset_folder)\n",
    "train_files = [file for file in files if file.startswith('scaled')]\n",
    "\n",
    "for file in files: \n",
    "    path_to_file = dataset_folder + '/'+file\n",
    "    df = pd.read_csv(path_to_file, index_col=0) #index_col = 0 perché sennò viene aggiunta la colonna unnamed. \n",
    "    train.append(df)\n",
    "\n",
    "train[0].head()"
   ]
  },
  {
   "cell_type": "code",
   "execution_count": 4,
   "metadata": {},
   "outputs": [],
   "source": [
    "def process_targets(data_length, early_rul = None):\n",
    "    if early_rul == None:\n",
    "        return np.arange(data_length-1, -1, -1)\n",
    "    else:\n",
    "        early_rul_duration = data_length - early_rul\n",
    "        if early_rul_duration <= 0:\n",
    "            return np.arange(data_length-1, -1, -1)\n",
    "        else:\n",
    "            return np.append(early_rul*np.ones(shape = (early_rul_duration,)), np.arange(early_rul-1, -1, -1))"
   ]
  },
  {
   "cell_type": "code",
   "execution_count": 5,
   "metadata": {},
   "outputs": [],
   "source": [
    "def process_input_data_with_targets(input_data, target_data = None, window_length = 1, shift = 1):\n",
    "    #Viene calcolato il numero di batch che saranno generati sulla base della grandezza dell'input \n",
    "    num_batches = int(np.floor((len(input_data) - window_length)/shift)) + 1\n",
    "    \n",
    "    #Si recupera il numero di features all'interno del dataframe\n",
    "    num_features = input_data.shape[1]\n",
    "    '''\n",
    "    Qui, viene inizializzata una matrice output_data con valori NaN, che rappresenta i dati di output che verranno generati dalla funzione. \n",
    "    La matrice è inizialmente creata come una matrice 3D con dimensioni (num_batches, window_length, num_features) per contenere i batch di dati di input.\n",
    "    '''\n",
    "    output_data = np.repeat(np.nan, repeats = num_batches * window_length * num_features).reshape(num_batches, window_length,\n",
    "                                                                                                  num_features)\n",
    "    \n",
    "    #Verfico che i labels siano stati forniti\n",
    "    if target_data is None:\n",
    "        \n",
    "        #Iteriamo attraverso i batch e copiamo le finestre temporali corrispondenti dai dati di input input_data nella matrice output_data. \n",
    "        #L'output sarà quindi una matrice 3D con i batch di dati di input.\n",
    "\n",
    "        for batch in range(num_batches):\n",
    "            output_data[batch,:,:] = input_data[(0+shift*batch):(0+shift*batch+window_length),:]\n",
    "        return output_data\n",
    "    else:\n",
    "        output_targets = np.repeat(np.nan, repeats = num_batches)\n",
    "        #Nel caso in cui i dati siano forniti semplicemente facciamo la stessa cosa per i dati di target\n",
    "        for batch in range(num_batches):\n",
    "            output_data[batch,:,:] = input_data[(0+shift*batch):(0+shift*batch+window_length),:]\n",
    "            output_targets[batch] = target_data[(shift*batch + (window_length-1))] #Differente perché i dati di target sono formattati in altra maniera.\n",
    "        return output_data, output_targets"
   ]
  },
  {
   "cell_type": "code",
   "execution_count": 6,
   "metadata": {},
   "outputs": [],
   "source": [
    "#Configurazione\n",
    "\n",
    "window_length = 30 #Lunghezza delle sequenze\n",
    "shift = 1\n",
    "early_rul = 125 #100 è il valore utilizzato comunemente dallo stato dell'arte             \n",
    "processed_train_data = []\n",
    "processed_train_targets = []\n",
    "\n",
    "FD0001 = train[0]\n",
    "unit_number_col = FD0001['unit_number']\n",
    "num_train_machines_FD0001 = len(FD0001['unit_number'].unique())\n",
    "FD0001 = FD0001[sensors]"
   ]
  },
  {
   "cell_type": "code",
   "execution_count": 7,
   "metadata": {},
   "outputs": [],
   "source": [
    "new_FD0001 = pd.concat([unit_number_col, FD0001], axis= 1 )"
   ]
  },
  {
   "cell_type": "code",
   "execution_count": 8,
   "metadata": {},
   "outputs": [],
   "source": [
    "\n",
    "for i in np.arange(1, num_train_machines_FD0001 + 1):\n",
    "    temp_train_data = new_FD0001[new_FD0001['unit_number'] == i].drop(columns = ['unit_number']).values\n",
    "    \n",
    "    # Verify if data of given window length can be extracted from training data\n",
    "    if (len(temp_train_data) < window_length):\n",
    "        print(\"Train engine {} doesn't have enough data for window_length of {}\".format(i, window_length))\n",
    "        raise AssertionError(\"Window length is larger than number of data points for some engines. \"\n",
    "                             \"Try decreasing window length.\")\n",
    "        \n",
    "    temp_train_targets = process_targets(data_length = temp_train_data.shape[0], early_rul = early_rul)\n",
    "    data_for_a_machine, targets_for_a_machine = process_input_data_with_targets(temp_train_data, temp_train_targets, \n",
    "                                                                                window_length = window_length, shift = shift)\n",
    "    \n",
    "    processed_train_data.append(data_for_a_machine)\n",
    "    processed_train_targets.append(targets_for_a_machine)\n",
    "\n",
    "processed_train_data = np.concatenate(processed_train_data)\n",
    "processed_train_targets = np.concatenate(processed_train_targets)"
   ]
  },
  {
   "cell_type": "code",
   "execution_count": 9,
   "metadata": {},
   "outputs": [
    {
     "name": "stdout",
     "output_type": "stream",
     "text": [
      "Processed trianing data shape:  (21820, 30, 14)\n",
      "Processed training ruls shape:  (21820,)\n"
     ]
    }
   ],
   "source": [
    "\n",
    "print(\"Processed trianing data shape: \", processed_train_data.shape)\n",
    "print(\"Processed training ruls shape: \", processed_train_targets.shape)"
   ]
  },
  {
   "cell_type": "code",
   "execution_count": 10,
   "metadata": {},
   "outputs": [],
   "source": [
    "from sklearn.model_selection import train_test_split\n",
    "X_train, X_val, y_train, y_val = train_test_split(processed_train_data, processed_train_targets, test_size=0.2, random_state=42)"
   ]
  },
  {
   "cell_type": "code",
   "execution_count": 11,
   "metadata": {},
   "outputs": [
    {
     "name": "stderr",
     "output_type": "stream",
     "text": [
      "2023-10-19 11:19:26.544964: E tensorflow/compiler/xla/stream_executor/cuda/cuda_dnn.cc:9342] Unable to register cuDNN factory: Attempting to register factory for plugin cuDNN when one has already been registered\n",
      "2023-10-19 11:19:26.545017: E tensorflow/compiler/xla/stream_executor/cuda/cuda_fft.cc:609] Unable to register cuFFT factory: Attempting to register factory for plugin cuFFT when one has already been registered\n",
      "2023-10-19 11:19:26.546766: E tensorflow/compiler/xla/stream_executor/cuda/cuda_blas.cc:1518] Unable to register cuBLAS factory: Attempting to register factory for plugin cuBLAS when one has already been registered\n",
      "2023-10-19 11:19:26.703355: I tensorflow/core/platform/cpu_feature_guard.cc:182] This TensorFlow binary is optimized to use available CPU instructions in performance-critical operations.\n",
      "To enable the following instructions: AVX2 FMA, in other operations, rebuild TensorFlow with the appropriate compiler flags.\n"
     ]
    }
   ],
   "source": [
    "from keras import backend as K \n",
    "import tensorflow as tf \n",
    "import math \n",
    "\n",
    "@tf.function\n",
    "def custom_loss2(y_true, y_pred):\n",
    "    alpha = 0.2 # 0.4 per la large !!!\n",
    "    difference = y_pred - y_true\n",
    "    squared_difference = tf.square(y_pred - y_true)\n",
    "    \n",
    "    # Calcola la loss per ciascun elemento\n",
    "    loss = tf.where(difference < 0, 2 * alpha * squared_difference, 2 * (alpha + (1 - 2 * alpha)) * squared_difference)\n",
    "    \n",
    "    # Calcola la media delle loss\n",
    "    return tf.reduce_mean(loss)\n",
    "\n",
    "@tf.function\n",
    "def custom_score(y_true, y_pred):\n",
    "    d_i = y_pred - y_true\n",
    "    #esponente = tf.where(d_i < 0, 1.0 / (d_i / 13.0), d_i / 10.0)\n",
    "    sum = tf.reduce_sum(tf.where(d_i < 0, tf.exp(-d_i/13)-1, tf.exp(d_i/10)-1)) #prova\n",
    "    #sum = tf.reduce_sum(tf.exp(esponente) - 1.0)\n",
    "    return sum\n",
    "\n",
    "\n",
    "# def compute_s_score(rul_true, rul_pred):\n",
    "#     \"\"\"\n",
    "#     Both rul_true and rul_pred should be 1D numpy arrays.\n",
    "#     \"\"\"\n",
    "#     diff = rul_pred - rul_true\n",
    "#     return np.sum(np.where(diff < 0, np.exp(-diff/13)-1, np.exp(diff/10)-1))"
   ]
  },
  {
   "cell_type": "code",
   "execution_count": 12,
   "metadata": {},
   "outputs": [],
   "source": [
    "from keras import regularizers\n",
    "from keras.models import Sequential\n",
    "from keras.layers import LSTM\n",
    "from keras.layers import Dense\n",
    "from keras.layers import Activation\n",
    "from keras.layers import Dropout\n",
    "from keras.layers import Flatten\n",
    "from keras.optimizers import Adam\n",
    "\n",
    "\n",
    "#Replica della rete neurale proposta come \"small LSTM\"\n",
    "def createLSTMsmallModel(l1Nodes, l2Nodes, d1Nodes, d2Nodes, input_shape):\n",
    "    # input layer\n",
    "    lstm1 = LSTM(l1Nodes, input_shape=input_shape,activation='tanh', return_sequences=True, kernel_regularizer=regularizers.l2(0.1))\n",
    "    \n",
    "    lstm2 = LSTM(l2Nodes, return_sequences=True, activation='tanh', kernel_regularizer=regularizers.l2(0.1))    \n",
    "    flatten = Flatten()\n",
    "    dense1 = Dense(d1Nodes, activation='relu', kernel_regularizer=regularizers.l2(0.1))\n",
    "    dense2 = Dense(d2Nodes, activation='relu', kernel_regularizer=regularizers.l2(0.1))\n",
    "    \n",
    "    # output layer\n",
    "    outL = Dense(1, activation='relu', kernel_regularizer=regularizers.l2(0.1))\n",
    "    \n",
    "    #layers\n",
    "    layers = [lstm1, lstm2,flatten,  dense1, dense2, outL]\n",
    "    model = Sequential(layers)\n",
    "    #Abbiamo aggiunto le nostre funzioni di loss e accuracy definite precedentemente\n",
    "\n",
    "    optimizer = Adam(learning_rate=0.1)\n",
    "    model.compile(optimizer=optimizer, loss=custom_loss2, metrics = [custom_score] )\n",
    "    return model\n",
    "\n",
    "\n",
    "def createLSTMlargeModel(l1Nodes, l2Nodes, l3Nodes, l4Nodes, d1dense , d2dense, input_shape): \n",
    "    lstm1 = LSTM(l1Nodes, input_shape=input_shape, return_sequences=True, kernel_regularizer=regularizers.l2(0.1))\n",
    "    d1 = Dropout(0.2)\n",
    "    lstm2 = LSTM(l2Nodes, return_sequences=True, kernel_regularizer=regularizers.l2(0.1))\n",
    "    d2 = Dropout(0.2)\n",
    "    lstm3 = LSTM(l3Nodes, return_sequences=True, kernel_regularizer=regularizers.l2(0.1))\n",
    "    d3 = Dropout(0.2)\n",
    "    lstm4 = LSTM(l4Nodes, return_sequences=True, kernel_regularizer=regularizers.l2(0.1))\n",
    "    d4 = Dropout(0.2)\n",
    "\n",
    "    flatten = Flatten()\n",
    "\n",
    "    dense1 = Dense(d1dense,activation='relu', kernel_regularizer=regularizers.l2(0.1))\n",
    "    dense2 = Dense(d2dense,activation='relu', kernel_regularizer=regularizers.l2(0.1))\n",
    "    output_dense = Dense(1,activation='relu', kernel_regularizer=regularizers.l2(0.1))\n",
    "\n",
    "    layers = [lstm1,d1, lstm2,d2, lstm3, d3, lstm4, d4,flatten,  dense1, dense2, output_dense]\n",
    "   \n",
    "    optimizer = Adam(learning_rate=0.01)\n",
    "    model = Sequential(layers)\n",
    "    model.compile(optimizer=optimizer, loss=custom_loss2, metrics = [custom_score])\n",
    "    return model\n"
   ]
  },
  {
   "cell_type": "code",
   "execution_count": 13,
   "metadata": {},
   "outputs": [
    {
     "name": "stderr",
     "output_type": "stream",
     "text": [
      "2023-10-19 11:19:44.686886: I tensorflow/compiler/xla/stream_executor/cuda/cuda_gpu_executor.cc:894] successful NUMA node read from SysFS had negative value (-1), but there must be at least one NUMA node, so returning NUMA node zero. See more at https://github.com/torvalds/linux/blob/v6.0/Documentation/ABI/testing/sysfs-bus-pci#L344-L355\n",
      "2023-10-19 11:19:44.723019: I tensorflow/compiler/xla/stream_executor/cuda/cuda_gpu_executor.cc:894] successful NUMA node read from SysFS had negative value (-1), but there must be at least one NUMA node, so returning NUMA node zero. See more at https://github.com/torvalds/linux/blob/v6.0/Documentation/ABI/testing/sysfs-bus-pci#L344-L355\n",
      "2023-10-19 11:19:44.723367: I tensorflow/compiler/xla/stream_executor/cuda/cuda_gpu_executor.cc:894] successful NUMA node read from SysFS had negative value (-1), but there must be at least one NUMA node, so returning NUMA node zero. See more at https://github.com/torvalds/linux/blob/v6.0/Documentation/ABI/testing/sysfs-bus-pci#L344-L355\n",
      "2023-10-19 11:19:44.725880: I tensorflow/compiler/xla/stream_executor/cuda/cuda_gpu_executor.cc:894] successful NUMA node read from SysFS had negative value (-1), but there must be at least one NUMA node, so returning NUMA node zero. See more at https://github.com/torvalds/linux/blob/v6.0/Documentation/ABI/testing/sysfs-bus-pci#L344-L355\n",
      "2023-10-19 11:19:44.726211: I tensorflow/compiler/xla/stream_executor/cuda/cuda_gpu_executor.cc:894] successful NUMA node read from SysFS had negative value (-1), but there must be at least one NUMA node, so returning NUMA node zero. See more at https://github.com/torvalds/linux/blob/v6.0/Documentation/ABI/testing/sysfs-bus-pci#L344-L355\n",
      "2023-10-19 11:19:44.726488: I tensorflow/compiler/xla/stream_executor/cuda/cuda_gpu_executor.cc:894] successful NUMA node read from SysFS had negative value (-1), but there must be at least one NUMA node, so returning NUMA node zero. See more at https://github.com/torvalds/linux/blob/v6.0/Documentation/ABI/testing/sysfs-bus-pci#L344-L355\n",
      "2023-10-19 11:19:44.854654: I tensorflow/compiler/xla/stream_executor/cuda/cuda_gpu_executor.cc:894] successful NUMA node read from SysFS had negative value (-1), but there must be at least one NUMA node, so returning NUMA node zero. See more at https://github.com/torvalds/linux/blob/v6.0/Documentation/ABI/testing/sysfs-bus-pci#L344-L355\n",
      "2023-10-19 11:19:44.854993: I tensorflow/compiler/xla/stream_executor/cuda/cuda_gpu_executor.cc:894] successful NUMA node read from SysFS had negative value (-1), but there must be at least one NUMA node, so returning NUMA node zero. See more at https://github.com/torvalds/linux/blob/v6.0/Documentation/ABI/testing/sysfs-bus-pci#L344-L355\n",
      "2023-10-19 11:19:44.855439: I tensorflow/compiler/xla/stream_executor/cuda/cuda_gpu_executor.cc:894] successful NUMA node read from SysFS had negative value (-1), but there must be at least one NUMA node, so returning NUMA node zero. See more at https://github.com/torvalds/linux/blob/v6.0/Documentation/ABI/testing/sysfs-bus-pci#L344-L355\n",
      "2023-10-19 11:19:44.855658: I tensorflow/core/common_runtime/gpu/gpu_device.cc:1886] Created device /job:localhost/replica:0/task:0/device:GPU:0 with 4745 MB memory:  -> device: 0, name: NVIDIA GeForce RTX 2060 with Max-Q Design, pci bus id: 0000:01:00.0, compute capability: 7.5\n",
      "2023-10-19 11:19:45.205583: I tensorflow/tsl/platform/default/subprocess.cc:304] Start cannot spawn child process: No such file or directory\n"
     ]
    }
   ],
   "source": [
    "LSTMlargeModel= createLSTMlargeModel(128, 64, 32, 16, 64, 32, (30,14))"
   ]
  },
  {
   "cell_type": "code",
   "execution_count": 14,
   "metadata": {},
   "outputs": [],
   "source": [
    "def scheduler(epoch, lr):\n",
    "    if epoch < 30:\n",
    "        return lr\n",
    "    elif epoch >= 30 and epoch < 60 :\n",
    "        return 0.001\n",
    "    elif epoch >= 60 and epoch < 90: \n",
    "        return 0.0001\n",
    "    elif epoch >= 90: \n",
    "        return 0.00001\n",
    "    else: \n",
    "        return 0.01; \n",
    "    \n",
    "\n",
    "lr_scheduler = tf.keras.callbacks.LearningRateScheduler(scheduler, verbose = 1)"
   ]
  },
  {
   "cell_type": "code",
   "execution_count": 15,
   "metadata": {},
   "outputs": [
    {
     "name": "stdout",
     "output_type": "stream",
     "text": [
      "\n",
      "Epoch 1: LearningRateScheduler setting learning rate to 0.009999999776482582.\n",
      "Epoch 1/100\n"
     ]
    },
    {
     "name": "stderr",
     "output_type": "stream",
     "text": [
      "2023-10-19 11:20:06.260640: I tensorflow/compiler/xla/stream_executor/cuda/cuda_dnn.cc:442] Loaded cuDNN version 8700\n",
      "2023-10-19 11:20:07.987654: I tensorflow/compiler/xla/service/service.cc:168] XLA service 0x7f2190002880 initialized for platform CUDA (this does not guarantee that XLA will be used). Devices:\n",
      "2023-10-19 11:20:07.987711: I tensorflow/compiler/xla/service/service.cc:176]   StreamExecutor device (0): NVIDIA GeForce RTX 2060 with Max-Q Design, Compute Capability 7.5\n",
      "2023-10-19 11:20:07.997825: I tensorflow/compiler/mlir/tensorflow/utils/dump_mlir_util.cc:269] disabling MLIR crash reproducer, set env var `MLIR_CRASH_REPRODUCER_DIRECTORY` to enable.\n",
      "2023-10-19 11:20:08.151573: I ./tensorflow/compiler/jit/device_compiler.h:186] Compiled cluster using XLA!  This line is logged at most once for the lifetime of the process.\n"
     ]
    },
    {
     "name": "stdout",
     "output_type": "stream",
     "text": [
      "69/69 [==============================] - ETA: 0s - loss: 1662.7474 - custom_score: 110176.8984\n",
      "Epoch 1: val_loss improved from inf to 1428.96301, saving model to ./models/LSTMlarge/FD0001\n",
      "INFO:tensorflow:Assets written to: ./models/LSTMlarge/FD0001/assets\n"
     ]
    },
    {
     "name": "stderr",
     "output_type": "stream",
     "text": [
      "INFO:tensorflow:Assets written to: ./models/LSTMlarge/FD0001/assets\n"
     ]
    },
    {
     "name": "stdout",
     "output_type": "stream",
     "text": [
      "69/69 [==============================] - 20s 153ms/step - loss: 1662.7474 - custom_score: 110176.8984 - val_loss: 1428.9630 - val_custom_score: 20166.9316 - lr: 0.0100\n",
      "\n",
      "Epoch 2: LearningRateScheduler setting learning rate to 0.009999999776482582.\n",
      "Epoch 2/100\n",
      "66/69 [===========================>..] - ETA: 0s - loss: 1470.7609 - custom_score: 22761.0977\n",
      "Epoch 2: val_loss did not improve from 1428.96301\n",
      "69/69 [==============================] - 2s 34ms/step - loss: 1466.7557 - custom_score: 22324.1074 - val_loss: 1439.4669 - val_custom_score: 18776.0918 - lr: 0.0100\n",
      "\n",
      "Epoch 3: LearningRateScheduler setting learning rate to 0.009999999776482582.\n",
      "Epoch 3/100\n",
      "67/69 [============================>.] - ETA: 0s - loss: 1487.8191 - custom_score: 28985.2188\n",
      "Epoch 3: val_loss did not improve from 1428.96301\n",
      "69/69 [==============================] - 1s 20ms/step - loss: 1487.2966 - custom_score: 28511.8555 - val_loss: 1441.1643 - val_custom_score: 18817.0586 - lr: 0.0100\n",
      "\n",
      "Epoch 4: LearningRateScheduler setting learning rate to 0.009999999776482582.\n",
      "Epoch 4/100\n",
      "67/69 [============================>.] - ETA: 0s - loss: 1474.6575 - custom_score: 23481.9160\n",
      "Epoch 4: val_loss did not improve from 1428.96301\n",
      "69/69 [==============================] - 1s 17ms/step - loss: 1475.7201 - custom_score: 23180.5078 - val_loss: 1446.2284 - val_custom_score: 25254.8926 - lr: 0.0100\n",
      "\n",
      "Epoch 5: LearningRateScheduler setting learning rate to 0.009999999776482582.\n",
      "Epoch 5/100\n",
      "68/69 [============================>.] - ETA: 0s - loss: 1480.7417 - custom_score: 25713.6074\n",
      "Epoch 5: val_loss improved from 1428.96301 to 1419.16797, saving model to ./models/LSTMlarge/FD0001\n",
      "INFO:tensorflow:Assets written to: ./models/LSTMlarge/FD0001/assets\n"
     ]
    },
    {
     "name": "stderr",
     "output_type": "stream",
     "text": [
      "INFO:tensorflow:Assets written to: ./models/LSTMlarge/FD0001/assets\n"
     ]
    },
    {
     "name": "stdout",
     "output_type": "stream",
     "text": [
      "69/69 [==============================] - 8s 119ms/step - loss: 1481.4764 - custom_score: 25420.0996 - val_loss: 1419.1680 - val_custom_score: 19897.9277 - lr: 0.0100\n",
      "\n",
      "Epoch 6: LearningRateScheduler setting learning rate to 0.009999999776482582.\n",
      "Epoch 6/100\n",
      "66/69 [===========================>..] - ETA: 0s - loss: 1455.7085 - custom_score: 22608.1875\n",
      "Epoch 6: val_loss did not improve from 1419.16797\n",
      "69/69 [==============================] - 1s 19ms/step - loss: 1453.5466 - custom_score: 22268.0293 - val_loss: 1420.2516 - val_custom_score: 18957.2109 - lr: 0.0100\n",
      "\n",
      "Epoch 7: LearningRateScheduler setting learning rate to 0.009999999776482582.\n",
      "Epoch 7/100\n",
      "67/69 [============================>.] - ETA: 0s - loss: 1454.1938 - custom_score: 22720.0859\n",
      "Epoch 7: val_loss improved from 1419.16797 to 1417.81104, saving model to ./models/LSTMlarge/FD0001\n",
      "INFO:tensorflow:Assets written to: ./models/LSTMlarge/FD0001/assets\n"
     ]
    },
    {
     "name": "stderr",
     "output_type": "stream",
     "text": [
      "INFO:tensorflow:Assets written to: ./models/LSTMlarge/FD0001/assets\n"
     ]
    },
    {
     "name": "stdout",
     "output_type": "stream",
     "text": [
      "69/69 [==============================] - 9s 127ms/step - loss: 1451.9482 - custom_score: 22371.6934 - val_loss: 1417.8110 - val_custom_score: 18961.9609 - lr: 0.0100\n",
      "\n",
      "Epoch 8: LearningRateScheduler setting learning rate to 0.009999999776482582.\n",
      "Epoch 8/100\n",
      "69/69 [==============================] - ETA: 0s - loss: 1455.9260 - custom_score: 23130.6523\n",
      "Epoch 8: val_loss improved from 1417.81104 to 1411.91968, saving model to ./models/LSTMlarge/FD0001\n",
      "INFO:tensorflow:Assets written to: ./models/LSTMlarge/FD0001/assets\n"
     ]
    },
    {
     "name": "stderr",
     "output_type": "stream",
     "text": [
      "INFO:tensorflow:Assets written to: ./models/LSTMlarge/FD0001/assets\n"
     ]
    },
    {
     "name": "stdout",
     "output_type": "stream",
     "text": [
      "69/69 [==============================] - 8s 124ms/step - loss: 1455.9260 - custom_score: 23130.6523 - val_loss: 1411.9197 - val_custom_score: 19860.5391 - lr: 0.0100\n",
      "\n",
      "Epoch 9: LearningRateScheduler setting learning rate to 0.009999999776482582.\n",
      "Epoch 9/100\n",
      "68/69 [============================>.] - ETA: 0s - loss: 1458.1749 - custom_score: 23809.6367\n",
      "Epoch 9: val_loss did not improve from 1411.91968\n",
      "69/69 [==============================] - 1s 15ms/step - loss: 1457.9576 - custom_score: 23551.0703 - val_loss: 1481.5751 - val_custom_score: 33033.2578 - lr: 0.0100\n",
      "\n",
      "Epoch 10: LearningRateScheduler setting learning rate to 0.009999999776482582.\n",
      "Epoch 10/100\n",
      "67/69 [============================>.] - ETA: 0s - loss: 1462.5300 - custom_score: 24276.1484\n",
      "Epoch 10: val_loss did not improve from 1411.91968\n",
      "69/69 [==============================] - 1s 18ms/step - loss: 1462.1990 - custom_score: 23935.3594 - val_loss: 1445.1470 - val_custom_score: 27444.7129 - lr: 0.0100\n",
      "\n",
      "Epoch 11: LearningRateScheduler setting learning rate to 0.009999999776482582.\n",
      "Epoch 11/100\n",
      "67/69 [============================>.] - ETA: 0s - loss: 1454.3882 - custom_score: 23305.3516\n",
      "Epoch 11: val_loss improved from 1411.91968 to 1408.86877, saving model to ./models/LSTMlarge/FD0001\n",
      "INFO:tensorflow:Assets written to: ./models/LSTMlarge/FD0001/assets\n"
     ]
    },
    {
     "name": "stderr",
     "output_type": "stream",
     "text": [
      "INFO:tensorflow:Assets written to: ./models/LSTMlarge/FD0001/assets\n"
     ]
    },
    {
     "name": "stdout",
     "output_type": "stream",
     "text": [
      "69/69 [==============================] - 8s 122ms/step - loss: 1452.2424 - custom_score: 23016.7773 - val_loss: 1408.8688 - val_custom_score: 19787.9258 - lr: 0.0100\n",
      "\n",
      "Epoch 12: LearningRateScheduler setting learning rate to 0.009999999776482582.\n",
      "Epoch 12/100\n",
      "67/69 [============================>.] - ETA: 0s - loss: 1460.9730 - custom_score: 24146.3730\n",
      "Epoch 12: val_loss did not improve from 1408.86877\n",
      "69/69 [==============================] - 1s 19ms/step - loss: 1461.8560 - custom_score: 23853.3555 - val_loss: 1455.0476 - val_custom_score: 23247.1699 - lr: 0.0100\n",
      "\n",
      "Epoch 13: LearningRateScheduler setting learning rate to 0.009999999776482582.\n",
      "Epoch 13/100\n",
      "66/69 [===========================>..] - ETA: 0s - loss: 1695.6486 - custom_score: 150957.3906\n",
      "Epoch 13: val_loss did not improve from 1408.86877\n",
      "69/69 [==============================] - 1s 15ms/step - loss: 1693.5758 - custom_score: 145576.2031 - val_loss: 1564.5746 - val_custom_score: 22116.5684 - lr: 0.0100\n",
      "\n",
      "Epoch 14: LearningRateScheduler setting learning rate to 0.009999999776482582.\n",
      "Epoch 14/100\n",
      "68/69 [============================>.] - ETA: 0s - loss: 1537.4237 - custom_score: 25599.3008\n",
      "Epoch 14: val_loss did not improve from 1408.86877\n",
      "69/69 [==============================] - 1s 19ms/step - loss: 1536.8168 - custom_score: 25290.9707 - val_loss: 1466.0746 - val_custom_score: 22679.5742 - lr: 0.0100\n",
      "\n",
      "Epoch 15: LearningRateScheduler setting learning rate to 0.009999999776482582.\n",
      "Epoch 15/100\n",
      "67/69 [============================>.] - ETA: 0s - loss: 1492.7103 - custom_score: 23508.9629\n",
      "Epoch 15: val_loss did not improve from 1408.86877\n",
      "69/69 [==============================] - 1s 18ms/step - loss: 1491.7274 - custom_score: 23202.9160 - val_loss: 1484.3665 - val_custom_score: 19811.5449 - lr: 0.0100\n",
      "\n",
      "Epoch 16: LearningRateScheduler setting learning rate to 0.009999999776482582.\n",
      "Epoch 16/100\n",
      "69/69 [==============================] - ETA: 0s - loss: 1489.1918 - custom_score: 23846.2754\n",
      "Epoch 16: val_loss did not improve from 1408.86877\n",
      "69/69 [==============================] - 1s 15ms/step - loss: 1489.1918 - custom_score: 23846.2754 - val_loss: 1440.0535 - val_custom_score: 22522.6191 - lr: 0.0100\n",
      "\n",
      "Epoch 17: LearningRateScheduler setting learning rate to 0.009999999776482582.\n",
      "Epoch 17/100\n",
      "69/69 [==============================] - ETA: 0s - loss: 1472.3069 - custom_score: 22804.1641\n",
      "Epoch 17: val_loss did not improve from 1408.86877\n",
      "69/69 [==============================] - 1s 18ms/step - loss: 1472.3069 - custom_score: 22804.1641 - val_loss: 1427.7682 - val_custom_score: 19363.4082 - lr: 0.0100\n",
      "\n",
      "Epoch 18: LearningRateScheduler setting learning rate to 0.009999999776482582.\n",
      "Epoch 18/100\n",
      "67/69 [============================>.] - ETA: 0s - loss: 1463.7172 - custom_score: 22869.5840\n",
      "Epoch 18: val_loss did not improve from 1408.86877\n",
      "69/69 [==============================] - 1s 17ms/step - loss: 1464.1887 - custom_score: 22603.1094 - val_loss: 1423.2815 - val_custom_score: 19435.2734 - lr: 0.0100\n",
      "\n",
      "Epoch 19: LearningRateScheduler setting learning rate to 0.009999999776482582.\n",
      "Epoch 19/100\n",
      "69/69 [==============================] - ETA: 0s - loss: 1465.2659 - custom_score: 22836.7207\n",
      "Epoch 19: val_loss did not improve from 1408.86877\n",
      "69/69 [==============================] - 1s 17ms/step - loss: 1465.2659 - custom_score: 22836.7207 - val_loss: 1419.7772 - val_custom_score: 20172.9102 - lr: 0.0100\n",
      "\n",
      "Epoch 20: LearningRateScheduler setting learning rate to 0.009999999776482582.\n",
      "Epoch 20/100\n",
      "67/69 [============================>.] - ETA: 0s - loss: 1464.6357 - custom_score: 23522.6348\n",
      "Epoch 20: val_loss did not improve from 1408.86877\n",
      "69/69 [==============================] - 1s 18ms/step - loss: 1462.1055 - custom_score: 23213.9629 - val_loss: 1418.1125 - val_custom_score: 19377.7559 - lr: 0.0100\n",
      "\n",
      "Epoch 21: LearningRateScheduler setting learning rate to 0.009999999776482582.\n",
      "Epoch 21/100\n",
      "69/69 [==============================] - ETA: 0s - loss: 1457.4772 - custom_score: 22762.8379\n",
      "Epoch 21: val_loss did not improve from 1408.86877\n",
      "69/69 [==============================] - 1s 15ms/step - loss: 1457.4772 - custom_score: 22762.8379 - val_loss: 1417.9668 - val_custom_score: 21136.7227 - lr: 0.0100\n",
      "\n",
      "Epoch 22: LearningRateScheduler setting learning rate to 0.009999999776482582.\n",
      "Epoch 22/100\n",
      "67/69 [============================>.] - ETA: 0s - loss: 1454.8500 - custom_score: 22915.7012\n",
      "Epoch 22: val_loss did not improve from 1408.86877\n",
      "69/69 [==============================] - 1s 18ms/step - loss: 1454.4297 - custom_score: 22682.3379 - val_loss: 1430.7452 - val_custom_score: 24292.7656 - lr: 0.0100\n",
      "\n",
      "Epoch 23: LearningRateScheduler setting learning rate to 0.009999999776482582.\n",
      "Epoch 23/100\n",
      "66/69 [===========================>..] - ETA: 0s - loss: 1456.4515 - custom_score: 23414.3516\n",
      "Epoch 23: val_loss did not improve from 1408.86877\n",
      "69/69 [==============================] - 1s 17ms/step - loss: 1458.3538 - custom_score: 23200.2832 - val_loss: 1412.3027 - val_custom_score: 20235.2266 - lr: 0.0100\n",
      "\n",
      "Epoch 24: LearningRateScheduler setting learning rate to 0.009999999776482582.\n",
      "Epoch 24/100\n",
      "69/69 [==============================] - ETA: 0s - loss: 1451.4948 - custom_score: 22771.0430\n",
      "Epoch 24: val_loss improved from 1408.86877 to 1403.07385, saving model to ./models/LSTMlarge/FD0001\n",
      "INFO:tensorflow:Assets written to: ./models/LSTMlarge/FD0001/assets\n"
     ]
    },
    {
     "name": "stderr",
     "output_type": "stream",
     "text": [
      "INFO:tensorflow:Assets written to: ./models/LSTMlarge/FD0001/assets\n"
     ]
    },
    {
     "name": "stdout",
     "output_type": "stream",
     "text": [
      "69/69 [==============================] - 9s 127ms/step - loss: 1451.4948 - custom_score: 22771.0430 - val_loss: 1403.0739 - val_custom_score: 19724.5391 - lr: 0.0100\n",
      "\n",
      "Epoch 25: LearningRateScheduler setting learning rate to 0.009999999776482582.\n",
      "Epoch 25/100\n",
      "69/69 [==============================] - ETA: 0s - loss: 1053.5472 - custom_score: 20922.6348\n",
      "Epoch 25: val_loss improved from 1403.07385 to 622.19452, saving model to ./models/LSTMlarge/FD0001\n",
      "INFO:tensorflow:Assets written to: ./models/LSTMlarge/FD0001/assets\n"
     ]
    },
    {
     "name": "stderr",
     "output_type": "stream",
     "text": [
      "INFO:tensorflow:Assets written to: ./models/LSTMlarge/FD0001/assets\n"
     ]
    },
    {
     "name": "stdout",
     "output_type": "stream",
     "text": [
      "69/69 [==============================] - 8s 124ms/step - loss: 1053.5472 - custom_score: 20922.6348 - val_loss: 622.1945 - val_custom_score: 5647.1748 - lr: 0.0100\n",
      "\n",
      "Epoch 26: LearningRateScheduler setting learning rate to 0.009999999776482582.\n",
      "Epoch 26/100\n",
      "68/69 [============================>.] - ETA: 0s - loss: 617.8316 - custom_score: 9721.7305\n",
      "Epoch 26: val_loss improved from 622.19452 to 620.39618, saving model to ./models/LSTMlarge/FD0001\n",
      "INFO:tensorflow:Assets written to: ./models/LSTMlarge/FD0001/assets\n"
     ]
    },
    {
     "name": "stderr",
     "output_type": "stream",
     "text": [
      "INFO:tensorflow:Assets written to: ./models/LSTMlarge/FD0001/assets\n"
     ]
    },
    {
     "name": "stdout",
     "output_type": "stream",
     "text": [
      "69/69 [==============================] - 10s 143ms/step - loss: 617.4383 - custom_score: 9590.2402 - val_loss: 620.3962 - val_custom_score: 11265.2734 - lr: 0.0100\n",
      "\n",
      "Epoch 27: LearningRateScheduler setting learning rate to 0.009999999776482582.\n",
      "Epoch 27/100\n",
      "68/69 [============================>.] - ETA: 0s - loss: 592.3466 - custom_score: 9321.3789\n",
      "Epoch 27: val_loss improved from 620.39618 to 570.19867, saving model to ./models/LSTMlarge/FD0001\n",
      "INFO:tensorflow:Assets written to: ./models/LSTMlarge/FD0001/assets\n"
     ]
    },
    {
     "name": "stderr",
     "output_type": "stream",
     "text": [
      "INFO:tensorflow:Assets written to: ./models/LSTMlarge/FD0001/assets\n"
     ]
    },
    {
     "name": "stdout",
     "output_type": "stream",
     "text": [
      "69/69 [==============================] - 9s 131ms/step - loss: 592.3411 - custom_score: 9200.7920 - val_loss: 570.1987 - val_custom_score: 8741.5713 - lr: 0.0100\n",
      "\n",
      "Epoch 28: LearningRateScheduler setting learning rate to 0.009999999776482582.\n",
      "Epoch 28/100\n",
      "69/69 [==============================] - ETA: 0s - loss: 572.3518 - custom_score: 8700.3271\n",
      "Epoch 28: val_loss improved from 570.19867 to 473.08945, saving model to ./models/LSTMlarge/FD0001\n",
      "INFO:tensorflow:Assets written to: ./models/LSTMlarge/FD0001/assets\n"
     ]
    },
    {
     "name": "stderr",
     "output_type": "stream",
     "text": [
      "INFO:tensorflow:Assets written to: ./models/LSTMlarge/FD0001/assets\n"
     ]
    },
    {
     "name": "stdout",
     "output_type": "stream",
     "text": [
      "69/69 [==============================] - 9s 125ms/step - loss: 572.3518 - custom_score: 8700.3271 - val_loss: 473.0894 - val_custom_score: 4688.7207 - lr: 0.0100\n",
      "\n",
      "Epoch 29: LearningRateScheduler setting learning rate to 0.009999999776482582.\n",
      "Epoch 29/100\n",
      "68/69 [============================>.] - ETA: 0s - loss: 446.5233 - custom_score: 4509.5195\n",
      "Epoch 29: val_loss improved from 473.08945 to 315.81592, saving model to ./models/LSTMlarge/FD0001\n",
      "INFO:tensorflow:Assets written to: ./models/LSTMlarge/FD0001/assets\n"
     ]
    },
    {
     "name": "stderr",
     "output_type": "stream",
     "text": [
      "INFO:tensorflow:Assets written to: ./models/LSTMlarge/FD0001/assets\n"
     ]
    },
    {
     "name": "stdout",
     "output_type": "stream",
     "text": [
      "69/69 [==============================] - 9s 126ms/step - loss: 446.1324 - custom_score: 4447.1592 - val_loss: 315.8159 - val_custom_score: 1582.2332 - lr: 0.0100\n",
      "\n",
      "Epoch 30: LearningRateScheduler setting learning rate to 0.009999999776482582.\n",
      "Epoch 30/100\n",
      "68/69 [============================>.] - ETA: 0s - loss: 297.0577 - custom_score: 1921.3540\n",
      "Epoch 30: val_loss improved from 315.81592 to 260.97473, saving model to ./models/LSTMlarge/FD0001\n",
      "INFO:tensorflow:Assets written to: ./models/LSTMlarge/FD0001/assets\n"
     ]
    },
    {
     "name": "stderr",
     "output_type": "stream",
     "text": [
      "INFO:tensorflow:Assets written to: ./models/LSTMlarge/FD0001/assets\n"
     ]
    },
    {
     "name": "stdout",
     "output_type": "stream",
     "text": [
      "69/69 [==============================] - 9s 126ms/step - loss: 296.9537 - custom_score: 1898.4723 - val_loss: 260.9747 - val_custom_score: 1114.1639 - lr: 0.0100\n",
      "\n",
      "Epoch 31: LearningRateScheduler setting learning rate to 0.001.\n",
      "Epoch 31/100\n",
      "67/69 [============================>.] - ETA: 0s - loss: 241.1803 - custom_score: 1319.8093\n",
      "Epoch 31: val_loss improved from 260.97473 to 218.26143, saving model to ./models/LSTMlarge/FD0001\n",
      "INFO:tensorflow:Assets written to: ./models/LSTMlarge/FD0001/assets\n"
     ]
    },
    {
     "name": "stderr",
     "output_type": "stream",
     "text": [
      "INFO:tensorflow:Assets written to: ./models/LSTMlarge/FD0001/assets\n"
     ]
    },
    {
     "name": "stdout",
     "output_type": "stream",
     "text": [
      "69/69 [==============================] - 8s 121ms/step - loss: 240.4888 - custom_score: 1298.6343 - val_loss: 218.2614 - val_custom_score: 1065.4684 - lr: 0.0010\n",
      "\n",
      "Epoch 32: LearningRateScheduler setting learning rate to 0.001.\n",
      "Epoch 32/100\n",
      "68/69 [============================>.] - ETA: 0s - loss: 228.7950 - custom_score: 1235.0988\n",
      "Epoch 32: val_loss improved from 218.26143 to 210.77959, saving model to ./models/LSTMlarge/FD0001\n",
      "INFO:tensorflow:Assets written to: ./models/LSTMlarge/FD0001/assets\n"
     ]
    },
    {
     "name": "stderr",
     "output_type": "stream",
     "text": [
      "INFO:tensorflow:Assets written to: ./models/LSTMlarge/FD0001/assets\n"
     ]
    },
    {
     "name": "stdout",
     "output_type": "stream",
     "text": [
      "69/69 [==============================] - 9s 129ms/step - loss: 228.7659 - custom_score: 1220.0266 - val_loss: 210.7796 - val_custom_score: 1037.8918 - lr: 0.0010\n",
      "\n",
      "Epoch 33: LearningRateScheduler setting learning rate to 0.001.\n",
      "Epoch 33/100\n",
      "69/69 [==============================] - ETA: 0s - loss: 222.0109 - custom_score: 1186.7595\n",
      "Epoch 33: val_loss did not improve from 210.77959\n",
      "69/69 [==============================] - 1s 17ms/step - loss: 222.0109 - custom_score: 1186.7595 - val_loss: 218.9787 - val_custom_score: 944.0939 - lr: 0.0010\n",
      "\n",
      "Epoch 34: LearningRateScheduler setting learning rate to 0.001.\n",
      "Epoch 34/100\n",
      "66/69 [===========================>..] - ETA: 0s - loss: 217.5965 - custom_score: 1180.2937\n",
      "Epoch 34: val_loss improved from 210.77959 to 205.48056, saving model to ./models/LSTMlarge/FD0001\n",
      "INFO:tensorflow:Assets written to: ./models/LSTMlarge/FD0001/assets\n"
     ]
    },
    {
     "name": "stderr",
     "output_type": "stream",
     "text": [
      "INFO:tensorflow:Assets written to: ./models/LSTMlarge/FD0001/assets\n"
     ]
    },
    {
     "name": "stdout",
     "output_type": "stream",
     "text": [
      "69/69 [==============================] - 9s 129ms/step - loss: 217.7168 - custom_score: 1160.8207 - val_loss: 205.4806 - val_custom_score: 1006.3235 - lr: 0.0010\n",
      "\n",
      "Epoch 35: LearningRateScheduler setting learning rate to 0.001.\n",
      "Epoch 35/100\n",
      "69/69 [==============================] - ETA: 0s - loss: 214.8419 - custom_score: 1145.9744\n",
      "Epoch 35: val_loss improved from 205.48056 to 199.42339, saving model to ./models/LSTMlarge/FD0001\n",
      "INFO:tensorflow:Assets written to: ./models/LSTMlarge/FD0001/assets\n"
     ]
    },
    {
     "name": "stderr",
     "output_type": "stream",
     "text": [
      "INFO:tensorflow:Assets written to: ./models/LSTMlarge/FD0001/assets\n"
     ]
    },
    {
     "name": "stdout",
     "output_type": "stream",
     "text": [
      "69/69 [==============================] - 8s 120ms/step - loss: 214.8419 - custom_score: 1145.9744 - val_loss: 199.4234 - val_custom_score: 898.7542 - lr: 0.0010\n",
      "\n",
      "Epoch 36: LearningRateScheduler setting learning rate to 0.001.\n",
      "Epoch 36/100\n",
      "67/69 [============================>.] - ETA: 0s - loss: 224.9480 - custom_score: 1373.0526\n",
      "Epoch 36: val_loss did not improve from 199.42339\n",
      "69/69 [==============================] - 1s 20ms/step - loss: 224.7543 - custom_score: 1350.9150 - val_loss: 221.6593 - val_custom_score: 980.2693 - lr: 0.0010\n",
      "\n",
      "Epoch 37: LearningRateScheduler setting learning rate to 0.001.\n",
      "Epoch 37/100\n",
      "66/69 [===========================>..] - ETA: 0s - loss: 218.1204 - custom_score: 1199.0343\n",
      "Epoch 37: val_loss improved from 199.42339 to 197.18076, saving model to ./models/LSTMlarge/FD0001\n",
      "INFO:tensorflow:Assets written to: ./models/LSTMlarge/FD0001/assets\n"
     ]
    },
    {
     "name": "stderr",
     "output_type": "stream",
     "text": [
      "INFO:tensorflow:Assets written to: ./models/LSTMlarge/FD0001/assets\n"
     ]
    },
    {
     "name": "stdout",
     "output_type": "stream",
     "text": [
      "69/69 [==============================] - 9s 136ms/step - loss: 218.4515 - custom_score: 1190.9459 - val_loss: 197.1808 - val_custom_score: 864.1204 - lr: 0.0010\n",
      "\n",
      "Epoch 38: LearningRateScheduler setting learning rate to 0.001.\n",
      "Epoch 38/100\n",
      "69/69 [==============================] - ETA: 0s - loss: 205.5245 - custom_score: 1089.7670\n",
      "Epoch 38: val_loss improved from 197.18076 to 191.08119, saving model to ./models/LSTMlarge/FD0001\n",
      "INFO:tensorflow:Assets written to: ./models/LSTMlarge/FD0001/assets\n"
     ]
    },
    {
     "name": "stderr",
     "output_type": "stream",
     "text": [
      "INFO:tensorflow:Assets written to: ./models/LSTMlarge/FD0001/assets\n"
     ]
    },
    {
     "name": "stdout",
     "output_type": "stream",
     "text": [
      "69/69 [==============================] - 9s 130ms/step - loss: 205.5245 - custom_score: 1089.7670 - val_loss: 191.0812 - val_custom_score: 913.0640 - lr: 0.0010\n",
      "\n",
      "Epoch 39: LearningRateScheduler setting learning rate to 0.001.\n",
      "Epoch 39/100\n",
      "68/69 [============================>.] - ETA: 0s - loss: 202.8858 - custom_score: 1088.9291\n",
      "Epoch 39: val_loss improved from 191.08119 to 187.78586, saving model to ./models/LSTMlarge/FD0001\n",
      "INFO:tensorflow:Assets written to: ./models/LSTMlarge/FD0001/assets\n"
     ]
    },
    {
     "name": "stderr",
     "output_type": "stream",
     "text": [
      "INFO:tensorflow:Assets written to: ./models/LSTMlarge/FD0001/assets\n"
     ]
    },
    {
     "name": "stdout",
     "output_type": "stream",
     "text": [
      "69/69 [==============================] - 9s 132ms/step - loss: 203.0832 - custom_score: 1081.5562 - val_loss: 187.7859 - val_custom_score: 831.0754 - lr: 0.0010\n",
      "\n",
      "Epoch 40: LearningRateScheduler setting learning rate to 0.001.\n",
      "Epoch 40/100\n",
      "68/69 [============================>.] - ETA: 0s - loss: 199.1071 - custom_score: 1069.0450\n",
      "Epoch 40: val_loss did not improve from 187.78586\n",
      "69/69 [==============================] - 1s 19ms/step - loss: 199.0999 - custom_score: 1057.2904 - val_loss: 191.0891 - val_custom_score: 754.2925 - lr: 0.0010\n",
      "\n",
      "Epoch 41: LearningRateScheduler setting learning rate to 0.001.\n",
      "Epoch 41/100\n",
      "69/69 [==============================] - ETA: 0s - loss: 196.6527 - custom_score: 1033.1892\n",
      "Epoch 41: val_loss improved from 187.78586 to 181.24304, saving model to ./models/LSTMlarge/FD0001\n",
      "INFO:tensorflow:Assets written to: ./models/LSTMlarge/FD0001/assets\n"
     ]
    },
    {
     "name": "stderr",
     "output_type": "stream",
     "text": [
      "INFO:tensorflow:Assets written to: ./models/LSTMlarge/FD0001/assets\n"
     ]
    },
    {
     "name": "stdout",
     "output_type": "stream",
     "text": [
      "69/69 [==============================] - 8s 119ms/step - loss: 196.6527 - custom_score: 1033.1892 - val_loss: 181.2430 - val_custom_score: 803.8376 - lr: 0.0010\n",
      "\n",
      "Epoch 42: LearningRateScheduler setting learning rate to 0.001.\n",
      "Epoch 42/100\n",
      "68/69 [============================>.] - ETA: 0s - loss: 191.8452 - custom_score: 1005.1566\n",
      "Epoch 42: val_loss improved from 181.24304 to 180.33641, saving model to ./models/LSTMlarge/FD0001\n",
      "INFO:tensorflow:Assets written to: ./models/LSTMlarge/FD0001/assets\n"
     ]
    },
    {
     "name": "stderr",
     "output_type": "stream",
     "text": [
      "INFO:tensorflow:Assets written to: ./models/LSTMlarge/FD0001/assets\n"
     ]
    },
    {
     "name": "stdout",
     "output_type": "stream",
     "text": [
      "69/69 [==============================] - 8s 119ms/step - loss: 191.7660 - custom_score: 992.1844 - val_loss: 180.3364 - val_custom_score: 857.6266 - lr: 0.0010\n",
      "\n",
      "Epoch 43: LearningRateScheduler setting learning rate to 0.001.\n",
      "Epoch 43/100\n",
      "68/69 [============================>.] - ETA: 0s - loss: 186.3844 - custom_score: 966.2625\n",
      "Epoch 43: val_loss improved from 180.33641 to 178.15565, saving model to ./models/LSTMlarge/FD0001\n",
      "INFO:tensorflow:Assets written to: ./models/LSTMlarge/FD0001/assets\n"
     ]
    },
    {
     "name": "stderr",
     "output_type": "stream",
     "text": [
      "INFO:tensorflow:Assets written to: ./models/LSTMlarge/FD0001/assets\n"
     ]
    },
    {
     "name": "stdout",
     "output_type": "stream",
     "text": [
      "69/69 [==============================] - 8s 120ms/step - loss: 186.3349 - custom_score: 954.0882 - val_loss: 178.1557 - val_custom_score: 749.7919 - lr: 0.0010\n",
      "\n",
      "Epoch 44: LearningRateScheduler setting learning rate to 0.001.\n",
      "Epoch 44/100\n",
      "68/69 [============================>.] - ETA: 0s - loss: 183.2113 - custom_score: 955.8118\n",
      "Epoch 44: val_loss improved from 178.15565 to 174.59828, saving model to ./models/LSTMlarge/FD0001\n",
      "INFO:tensorflow:Assets written to: ./models/LSTMlarge/FD0001/assets\n"
     ]
    },
    {
     "name": "stderr",
     "output_type": "stream",
     "text": [
      "INFO:tensorflow:Assets written to: ./models/LSTMlarge/FD0001/assets\n"
     ]
    },
    {
     "name": "stdout",
     "output_type": "stream",
     "text": [
      "69/69 [==============================] - 8s 119ms/step - loss: 183.1204 - custom_score: 943.6382 - val_loss: 174.5983 - val_custom_score: 725.0090 - lr: 0.0010\n",
      "\n",
      "Epoch 45: LearningRateScheduler setting learning rate to 0.001.\n",
      "Epoch 45/100\n",
      "66/69 [===========================>..] - ETA: 0s - loss: 180.6753 - custom_score: 927.0301\n",
      "Epoch 45: val_loss improved from 174.59828 to 166.23938, saving model to ./models/LSTMlarge/FD0001\n",
      "INFO:tensorflow:Assets written to: ./models/LSTMlarge/FD0001/assets\n"
     ]
    },
    {
     "name": "stderr",
     "output_type": "stream",
     "text": [
      "INFO:tensorflow:Assets written to: ./models/LSTMlarge/FD0001/assets\n"
     ]
    },
    {
     "name": "stdout",
     "output_type": "stream",
     "text": [
      "69/69 [==============================] - 9s 130ms/step - loss: 180.7310 - custom_score: 916.5135 - val_loss: 166.2394 - val_custom_score: 739.5641 - lr: 0.0010\n",
      "\n",
      "Epoch 46: LearningRateScheduler setting learning rate to 0.001.\n",
      "Epoch 46/100\n",
      "65/69 [===========================>..] - ETA: 0s - loss: 174.4173 - custom_score: 884.7485\n",
      "Epoch 46: val_loss improved from 166.23938 to 164.73450, saving model to ./models/LSTMlarge/FD0001\n",
      "INFO:tensorflow:Assets written to: ./models/LSTMlarge/FD0001/assets\n"
     ]
    },
    {
     "name": "stderr",
     "output_type": "stream",
     "text": [
      "INFO:tensorflow:Assets written to: ./models/LSTMlarge/FD0001/assets\n"
     ]
    },
    {
     "name": "stdout",
     "output_type": "stream",
     "text": [
      "69/69 [==============================] - 8s 125ms/step - loss: 174.1629 - custom_score: 869.0346 - val_loss: 164.7345 - val_custom_score: 670.3531 - lr: 0.0010\n",
      "\n",
      "Epoch 47: LearningRateScheduler setting learning rate to 0.001.\n",
      "Epoch 47/100\n",
      "69/69 [==============================] - ETA: 0s - loss: 173.0195 - custom_score: 850.0741\n",
      "Epoch 47: val_loss did not improve from 164.73450\n",
      "69/69 [==============================] - 1s 16ms/step - loss: 173.0195 - custom_score: 850.0741 - val_loss: 165.4695 - val_custom_score: 812.0732 - lr: 0.0010\n",
      "\n",
      "Epoch 48: LearningRateScheduler setting learning rate to 0.001.\n",
      "Epoch 48/100\n",
      "69/69 [==============================] - ETA: 0s - loss: 169.6974 - custom_score: 837.1624\n",
      "Epoch 48: val_loss did not improve from 164.73450\n",
      "69/69 [==============================] - 1s 15ms/step - loss: 169.6974 - custom_score: 837.1624 - val_loss: 173.8321 - val_custom_score: 659.3032 - lr: 0.0010\n",
      "\n",
      "Epoch 49: LearningRateScheduler setting learning rate to 0.001.\n",
      "Epoch 49/100\n",
      "67/69 [============================>.] - ETA: 0s - loss: 165.4834 - custom_score: 821.6572\n",
      "Epoch 49: val_loss did not improve from 164.73450\n",
      "69/69 [==============================] - 1s 16ms/step - loss: 165.8806 - custom_score: 813.4666 - val_loss: 185.6724 - val_custom_score: 656.6927 - lr: 0.0010\n",
      "\n",
      "Epoch 50: LearningRateScheduler setting learning rate to 0.001.\n",
      "Epoch 50/100\n",
      "69/69 [==============================] - ETA: 0s - loss: 162.9735 - custom_score: 792.4261\n",
      "Epoch 50: val_loss improved from 164.73450 to 155.04144, saving model to ./models/LSTMlarge/FD0001\n",
      "INFO:tensorflow:Assets written to: ./models/LSTMlarge/FD0001/assets\n"
     ]
    },
    {
     "name": "stderr",
     "output_type": "stream",
     "text": [
      "INFO:tensorflow:Assets written to: ./models/LSTMlarge/FD0001/assets\n"
     ]
    },
    {
     "name": "stdout",
     "output_type": "stream",
     "text": [
      "69/69 [==============================] - 9s 132ms/step - loss: 162.9735 - custom_score: 792.4261 - val_loss: 155.0414 - val_custom_score: 729.3105 - lr: 0.0010\n",
      "\n",
      "Epoch 51: LearningRateScheduler setting learning rate to 0.001.\n",
      "Epoch 51/100\n",
      "69/69 [==============================] - ETA: 0s - loss: 159.0487 - custom_score: 767.4807\n",
      "Epoch 51: val_loss did not improve from 155.04144\n",
      "69/69 [==============================] - 1s 18ms/step - loss: 159.0487 - custom_score: 767.4807 - val_loss: 165.5046 - val_custom_score: 606.9156 - lr: 0.0010\n",
      "\n",
      "Epoch 52: LearningRateScheduler setting learning rate to 0.001.\n",
      "Epoch 52/100\n",
      "69/69 [==============================] - ETA: 0s - loss: 157.5177 - custom_score: 768.6660\n",
      "Epoch 52: val_loss improved from 155.04144 to 143.68361, saving model to ./models/LSTMlarge/FD0001\n",
      "INFO:tensorflow:Assets written to: ./models/LSTMlarge/FD0001/assets\n"
     ]
    },
    {
     "name": "stderr",
     "output_type": "stream",
     "text": [
      "INFO:tensorflow:Assets written to: ./models/LSTMlarge/FD0001/assets\n"
     ]
    },
    {
     "name": "stdout",
     "output_type": "stream",
     "text": [
      "69/69 [==============================] - 10s 140ms/step - loss: 157.5177 - custom_score: 768.6660 - val_loss: 143.6836 - val_custom_score: 637.4396 - lr: 0.0010\n",
      "\n",
      "Epoch 53: LearningRateScheduler setting learning rate to 0.001.\n",
      "Epoch 53/100\n",
      "68/69 [============================>.] - ETA: 0s - loss: 151.4632 - custom_score: 721.7407\n",
      "Epoch 53: val_loss did not improve from 143.68361\n",
      "69/69 [==============================] - 1s 20ms/step - loss: 151.5112 - custom_score: 713.6021 - val_loss: 150.3294 - val_custom_score: 730.9227 - lr: 0.0010\n",
      "\n",
      "Epoch 54: LearningRateScheduler setting learning rate to 0.001.\n",
      "Epoch 54/100\n",
      "69/69 [==============================] - ETA: 0s - loss: 152.6085 - custom_score: 738.9099\n",
      "Epoch 54: val_loss improved from 143.68361 to 138.11787, saving model to ./models/LSTMlarge/FD0001\n",
      "INFO:tensorflow:Assets written to: ./models/LSTMlarge/FD0001/assets\n"
     ]
    },
    {
     "name": "stderr",
     "output_type": "stream",
     "text": [
      "INFO:tensorflow:Assets written to: ./models/LSTMlarge/FD0001/assets\n"
     ]
    },
    {
     "name": "stdout",
     "output_type": "stream",
     "text": [
      "69/69 [==============================] - 9s 131ms/step - loss: 152.6085 - custom_score: 738.9099 - val_loss: 138.1179 - val_custom_score: 591.3653 - lr: 0.0010\n",
      "\n",
      "Epoch 55: LearningRateScheduler setting learning rate to 0.001.\n",
      "Epoch 55/100\n",
      "69/69 [==============================] - ETA: 0s - loss: 146.9249 - custom_score: 694.5196\n",
      "Epoch 55: val_loss improved from 138.11787 to 137.93790, saving model to ./models/LSTMlarge/FD0001\n",
      "INFO:tensorflow:Assets written to: ./models/LSTMlarge/FD0001/assets\n"
     ]
    },
    {
     "name": "stderr",
     "output_type": "stream",
     "text": [
      "INFO:tensorflow:Assets written to: ./models/LSTMlarge/FD0001/assets\n"
     ]
    },
    {
     "name": "stdout",
     "output_type": "stream",
     "text": [
      "69/69 [==============================] - 9s 137ms/step - loss: 146.9249 - custom_score: 694.5196 - val_loss: 137.9379 - val_custom_score: 576.4378 - lr: 0.0010\n",
      "\n",
      "Epoch 56: LearningRateScheduler setting learning rate to 0.001.\n",
      "Epoch 56/100\n",
      "69/69 [==============================] - ETA: 0s - loss: 144.3357 - custom_score: 668.8117\n",
      "Epoch 56: val_loss improved from 137.93790 to 137.45656, saving model to ./models/LSTMlarge/FD0001\n",
      "INFO:tensorflow:Assets written to: ./models/LSTMlarge/FD0001/assets\n"
     ]
    },
    {
     "name": "stderr",
     "output_type": "stream",
     "text": [
      "INFO:tensorflow:Assets written to: ./models/LSTMlarge/FD0001/assets\n"
     ]
    },
    {
     "name": "stdout",
     "output_type": "stream",
     "text": [
      "69/69 [==============================] - 10s 143ms/step - loss: 144.3357 - custom_score: 668.8117 - val_loss: 137.4566 - val_custom_score: 670.9922 - lr: 0.0010\n",
      "\n",
      "Epoch 57: LearningRateScheduler setting learning rate to 0.001.\n",
      "Epoch 57/100\n",
      "68/69 [============================>.] - ETA: 0s - loss: 141.7703 - custom_score: 665.5248\n",
      "Epoch 57: val_loss improved from 137.45656 to 133.17987, saving model to ./models/LSTMlarge/FD0001\n",
      "INFO:tensorflow:Assets written to: ./models/LSTMlarge/FD0001/assets\n"
     ]
    },
    {
     "name": "stderr",
     "output_type": "stream",
     "text": [
      "INFO:tensorflow:Assets written to: ./models/LSTMlarge/FD0001/assets\n"
     ]
    },
    {
     "name": "stdout",
     "output_type": "stream",
     "text": [
      "69/69 [==============================] - 9s 139ms/step - loss: 141.8373 - custom_score: 657.6480 - val_loss: 133.1799 - val_custom_score: 559.6161 - lr: 0.0010\n",
      "\n",
      "Epoch 58: LearningRateScheduler setting learning rate to 0.001.\n",
      "Epoch 58/100\n",
      "66/69 [===========================>..] - ETA: 0s - loss: 141.1756 - custom_score: 666.9775\n",
      "Epoch 58: val_loss improved from 133.17987 to 127.93224, saving model to ./models/LSTMlarge/FD0001\n",
      "INFO:tensorflow:Assets written to: ./models/LSTMlarge/FD0001/assets\n"
     ]
    },
    {
     "name": "stderr",
     "output_type": "stream",
     "text": [
      "INFO:tensorflow:Assets written to: ./models/LSTMlarge/FD0001/assets\n"
     ]
    },
    {
     "name": "stdout",
     "output_type": "stream",
     "text": [
      "69/69 [==============================] - 9s 133ms/step - loss: 141.3088 - custom_score: 659.3211 - val_loss: 127.9322 - val_custom_score: 516.3660 - lr: 0.0010\n",
      "\n",
      "Epoch 59: LearningRateScheduler setting learning rate to 0.001.\n",
      "Epoch 59/100\n",
      "66/69 [===========================>..] - ETA: 0s - loss: 139.4653 - custom_score: 658.4194\n",
      "Epoch 59: val_loss did not improve from 127.93224\n",
      "69/69 [==============================] - 1s 16ms/step - loss: 139.6699 - custom_score: 650.3297 - val_loss: 132.4682 - val_custom_score: 588.0247 - lr: 0.0010\n",
      "\n",
      "Epoch 60: LearningRateScheduler setting learning rate to 0.001.\n",
      "Epoch 60/100\n",
      "67/69 [============================>.] - ETA: 0s - loss: 135.6484 - custom_score: 628.5605\n",
      "Epoch 60: val_loss did not improve from 127.93224\n",
      "69/69 [==============================] - 1s 18ms/step - loss: 135.6228 - custom_score: 622.0897 - val_loss: 130.3250 - val_custom_score: 554.5386 - lr: 0.0010\n",
      "\n",
      "Epoch 61: LearningRateScheduler setting learning rate to 0.0001.\n",
      "Epoch 61/100\n",
      "69/69 [==============================] - ETA: 0s - loss: 130.7970 - custom_score: 597.1920\n",
      "Epoch 61: val_loss improved from 127.93224 to 124.47848, saving model to ./models/LSTMlarge/FD0001\n",
      "INFO:tensorflow:Assets written to: ./models/LSTMlarge/FD0001/assets\n"
     ]
    },
    {
     "name": "stderr",
     "output_type": "stream",
     "text": [
      "INFO:tensorflow:Assets written to: ./models/LSTMlarge/FD0001/assets\n"
     ]
    },
    {
     "name": "stdout",
     "output_type": "stream",
     "text": [
      "69/69 [==============================] - 9s 132ms/step - loss: 130.7970 - custom_score: 597.1920 - val_loss: 124.4785 - val_custom_score: 494.4490 - lr: 1.0000e-04\n",
      "\n",
      "Epoch 62: LearningRateScheduler setting learning rate to 0.0001.\n",
      "Epoch 62/100\n",
      "68/69 [============================>.] - ETA: 0s - loss: 129.7696 - custom_score: 594.5858\n",
      "Epoch 62: val_loss improved from 124.47848 to 123.22479, saving model to ./models/LSTMlarge/FD0001\n",
      "INFO:tensorflow:Assets written to: ./models/LSTMlarge/FD0001/assets\n"
     ]
    },
    {
     "name": "stderr",
     "output_type": "stream",
     "text": [
      "INFO:tensorflow:Assets written to: ./models/LSTMlarge/FD0001/assets\n"
     ]
    },
    {
     "name": "stdout",
     "output_type": "stream",
     "text": [
      "69/69 [==============================] - 9s 130ms/step - loss: 129.9101 - custom_score: 589.0786 - val_loss: 123.2248 - val_custom_score: 496.0710 - lr: 1.0000e-04\n",
      "\n",
      "Epoch 63: LearningRateScheduler setting learning rate to 0.0001.\n",
      "Epoch 63/100\n",
      "67/69 [============================>.] - ETA: 0s - loss: 129.1573 - custom_score: 589.4236\n",
      "Epoch 63: val_loss did not improve from 123.22479\n",
      "69/69 [==============================] - 1s 20ms/step - loss: 129.1407 - custom_score: 582.0206 - val_loss: 124.2399 - val_custom_score: 499.5783 - lr: 1.0000e-04\n",
      "\n",
      "Epoch 64: LearningRateScheduler setting learning rate to 0.0001.\n",
      "Epoch 64/100\n",
      "68/69 [============================>.] - ETA: 0s - loss: 128.3140 - custom_score: 579.7493\n",
      "Epoch 64: val_loss improved from 123.22479 to 123.19971, saving model to ./models/LSTMlarge/FD0001\n",
      "INFO:tensorflow:Assets written to: ./models/LSTMlarge/FD0001/assets\n"
     ]
    },
    {
     "name": "stderr",
     "output_type": "stream",
     "text": [
      "INFO:tensorflow:Assets written to: ./models/LSTMlarge/FD0001/assets\n"
     ]
    },
    {
     "name": "stdout",
     "output_type": "stream",
     "text": [
      "69/69 [==============================] - 9s 131ms/step - loss: 128.3466 - custom_score: 573.4175 - val_loss: 123.1997 - val_custom_score: 503.4240 - lr: 1.0000e-04\n",
      "\n",
      "Epoch 65: LearningRateScheduler setting learning rate to 0.0001.\n",
      "Epoch 65/100\n",
      "67/69 [============================>.] - ETA: 0s - loss: 127.4463 - custom_score: 583.2321\n",
      "Epoch 65: val_loss did not improve from 123.19971\n",
      "69/69 [==============================] - 1s 20ms/step - loss: 127.6352 - custom_score: 577.3253 - val_loss: 124.9628 - val_custom_score: 479.3465 - lr: 1.0000e-04\n",
      "\n",
      "Epoch 66: LearningRateScheduler setting learning rate to 0.0001.\n",
      "Epoch 66/100\n",
      "66/69 [===========================>..] - ETA: 0s - loss: 128.2523 - custom_score: 581.7206\n",
      "Epoch 66: val_loss did not improve from 123.19971\n",
      "69/69 [==============================] - 1s 18ms/step - loss: 128.1322 - custom_score: 574.0488 - val_loss: 123.6860 - val_custom_score: 540.7022 - lr: 1.0000e-04\n",
      "\n",
      "Epoch 67: LearningRateScheduler setting learning rate to 0.0001.\n",
      "Epoch 67/100\n",
      "68/69 [============================>.] - ETA: 0s - loss: 127.4733 - custom_score: 581.3644\n",
      "Epoch 67: val_loss improved from 123.19971 to 122.83160, saving model to ./models/LSTMlarge/FD0001\n",
      "INFO:tensorflow:Assets written to: ./models/LSTMlarge/FD0001/assets\n"
     ]
    },
    {
     "name": "stderr",
     "output_type": "stream",
     "text": [
      "INFO:tensorflow:Assets written to: ./models/LSTMlarge/FD0001/assets\n"
     ]
    },
    {
     "name": "stdout",
     "output_type": "stream",
     "text": [
      "69/69 [==============================] - 10s 143ms/step - loss: 127.3886 - custom_score: 574.7300 - val_loss: 122.8316 - val_custom_score: 499.4330 - lr: 1.0000e-04\n",
      "\n",
      "Epoch 68: LearningRateScheduler setting learning rate to 0.0001.\n",
      "Epoch 68/100\n",
      "66/69 [===========================>..] - ETA: 0s - loss: 126.8527 - custom_score: 578.3419\n",
      "Epoch 68: val_loss improved from 122.83160 to 122.13767, saving model to ./models/LSTMlarge/FD0001\n",
      "INFO:tensorflow:Assets written to: ./models/LSTMlarge/FD0001/assets\n"
     ]
    },
    {
     "name": "stderr",
     "output_type": "stream",
     "text": [
      "INFO:tensorflow:Assets written to: ./models/LSTMlarge/FD0001/assets\n"
     ]
    },
    {
     "name": "stdout",
     "output_type": "stream",
     "text": [
      "69/69 [==============================] - 10s 154ms/step - loss: 126.5433 - custom_score: 568.8124 - val_loss: 122.1377 - val_custom_score: 505.0875 - lr: 1.0000e-04\n",
      "\n",
      "Epoch 69: LearningRateScheduler setting learning rate to 0.0001.\n",
      "Epoch 69/100\n",
      "69/69 [==============================] - ETA: 0s - loss: 126.3652 - custom_score: 566.1642\n",
      "Epoch 69: val_loss improved from 122.13767 to 121.91312, saving model to ./models/LSTMlarge/FD0001\n",
      "INFO:tensorflow:Assets written to: ./models/LSTMlarge/FD0001/assets\n"
     ]
    },
    {
     "name": "stderr",
     "output_type": "stream",
     "text": [
      "INFO:tensorflow:Assets written to: ./models/LSTMlarge/FD0001/assets\n"
     ]
    },
    {
     "name": "stdout",
     "output_type": "stream",
     "text": [
      "69/69 [==============================] - 9s 135ms/step - loss: 126.3652 - custom_score: 566.1642 - val_loss: 121.9131 - val_custom_score: 502.5450 - lr: 1.0000e-04\n",
      "\n",
      "Epoch 70: LearningRateScheduler setting learning rate to 0.0001.\n",
      "Epoch 70/100\n",
      "68/69 [============================>.] - ETA: 0s - loss: 126.5434 - custom_score: 574.4071\n",
      "Epoch 70: val_loss improved from 121.91312 to 121.55631, saving model to ./models/LSTMlarge/FD0001\n",
      "INFO:tensorflow:Assets written to: ./models/LSTMlarge/FD0001/assets\n"
     ]
    },
    {
     "name": "stderr",
     "output_type": "stream",
     "text": [
      "INFO:tensorflow:Assets written to: ./models/LSTMlarge/FD0001/assets\n"
     ]
    },
    {
     "name": "stdout",
     "output_type": "stream",
     "text": [
      "69/69 [==============================] - 9s 134ms/step - loss: 126.5323 - custom_score: 567.5033 - val_loss: 121.5563 - val_custom_score: 517.3710 - lr: 1.0000e-04\n",
      "\n",
      "Epoch 71: LearningRateScheduler setting learning rate to 0.0001.\n",
      "Epoch 71/100\n",
      "68/69 [============================>.] - ETA: 0s - loss: 127.2307 - custom_score: 581.1667\n",
      "Epoch 71: val_loss did not improve from 121.55631\n",
      "69/69 [==============================] - 1s 19ms/step - loss: 127.3019 - custom_score: 574.5351 - val_loss: 122.2357 - val_custom_score: 490.2953 - lr: 1.0000e-04\n",
      "\n",
      "Epoch 72: LearningRateScheduler setting learning rate to 0.0001.\n",
      "Epoch 72/100\n",
      "67/69 [============================>.] - ETA: 0s - loss: 126.9294 - custom_score: 582.1826\n",
      "Epoch 72: val_loss did not improve from 121.55631\n",
      "69/69 [==============================] - 1s 20ms/step - loss: 126.7035 - custom_score: 574.2570 - val_loss: 122.4756 - val_custom_score: 487.1165 - lr: 1.0000e-04\n",
      "\n",
      "Epoch 73: LearningRateScheduler setting learning rate to 0.0001.\n",
      "Epoch 73/100\n",
      "68/69 [============================>.] - ETA: 0s - loss: 125.9754 - custom_score: 571.1102\n",
      "Epoch 73: val_loss did not improve from 121.55631\n",
      "69/69 [==============================] - 1s 21ms/step - loss: 126.0498 - custom_score: 564.3289 - val_loss: 121.6190 - val_custom_score: 485.3335 - lr: 1.0000e-04\n",
      "\n",
      "Epoch 74: LearningRateScheduler setting learning rate to 0.0001.\n",
      "Epoch 74/100\n",
      "68/69 [============================>.] - ETA: 0s - loss: 125.4062 - custom_score: 569.7026\n",
      "Epoch 74: val_loss improved from 121.55631 to 121.15754, saving model to ./models/LSTMlarge/FD0001\n",
      "INFO:tensorflow:Assets written to: ./models/LSTMlarge/FD0001/assets\n"
     ]
    },
    {
     "name": "stderr",
     "output_type": "stream",
     "text": [
      "INFO:tensorflow:Assets written to: ./models/LSTMlarge/FD0001/assets\n"
     ]
    },
    {
     "name": "stdout",
     "output_type": "stream",
     "text": [
      "69/69 [==============================] - 11s 155ms/step - loss: 125.4929 - custom_score: 563.7820 - val_loss: 121.1575 - val_custom_score: 485.9915 - lr: 1.0000e-04\n",
      "\n",
      "Epoch 75: LearningRateScheduler setting learning rate to 0.0001.\n",
      "Epoch 75/100\n",
      "66/69 [===========================>..] - ETA: 0s - loss: 124.8191 - custom_score: 563.7870\n",
      "Epoch 75: val_loss improved from 121.15754 to 121.09184, saving model to ./models/LSTMlarge/FD0001\n",
      "INFO:tensorflow:Assets written to: ./models/LSTMlarge/FD0001/assets\n"
     ]
    },
    {
     "name": "stderr",
     "output_type": "stream",
     "text": [
      "INFO:tensorflow:Assets written to: ./models/LSTMlarge/FD0001/assets\n"
     ]
    },
    {
     "name": "stdout",
     "output_type": "stream",
     "text": [
      "69/69 [==============================] - 10s 150ms/step - loss: 125.2564 - custom_score: 558.8066 - val_loss: 121.0918 - val_custom_score: 482.8752 - lr: 1.0000e-04\n",
      "\n",
      "Epoch 76: LearningRateScheduler setting learning rate to 0.0001.\n",
      "Epoch 76/100\n",
      "69/69 [==============================] - ETA: 0s - loss: 124.9826 - custom_score: 558.6718\n",
      "Epoch 76: val_loss improved from 121.09184 to 120.36259, saving model to ./models/LSTMlarge/FD0001\n",
      "INFO:tensorflow:Assets written to: ./models/LSTMlarge/FD0001/assets\n"
     ]
    },
    {
     "name": "stderr",
     "output_type": "stream",
     "text": [
      "INFO:tensorflow:Assets written to: ./models/LSTMlarge/FD0001/assets\n"
     ]
    },
    {
     "name": "stdout",
     "output_type": "stream",
     "text": [
      "69/69 [==============================] - 11s 160ms/step - loss: 124.9826 - custom_score: 558.6718 - val_loss: 120.3626 - val_custom_score: 492.6225 - lr: 1.0000e-04\n",
      "\n",
      "Epoch 77: LearningRateScheduler setting learning rate to 0.0001.\n",
      "Epoch 77/100\n",
      "68/69 [============================>.] - ETA: 0s - loss: 124.3585 - custom_score: 564.8532\n",
      "Epoch 77: val_loss did not improve from 120.36259\n",
      "69/69 [==============================] - 1s 19ms/step - loss: 124.3016 - custom_score: 557.8038 - val_loss: 121.0409 - val_custom_score: 504.0172 - lr: 1.0000e-04\n",
      "\n",
      "Epoch 78: LearningRateScheduler setting learning rate to 0.0001.\n",
      "Epoch 78/100\n",
      "68/69 [============================>.] - ETA: 0s - loss: 124.3555 - custom_score: 562.3260\n",
      "Epoch 78: val_loss improved from 120.36259 to 119.76814, saving model to ./models/LSTMlarge/FD0001\n",
      "INFO:tensorflow:Assets written to: ./models/LSTMlarge/FD0001/assets\n"
     ]
    },
    {
     "name": "stderr",
     "output_type": "stream",
     "text": [
      "INFO:tensorflow:Assets written to: ./models/LSTMlarge/FD0001/assets\n"
     ]
    },
    {
     "name": "stdout",
     "output_type": "stream",
     "text": [
      "69/69 [==============================] - 14s 198ms/step - loss: 124.2952 - custom_score: 556.4766 - val_loss: 119.7681 - val_custom_score: 487.4095 - lr: 1.0000e-04\n",
      "\n",
      "Epoch 79: LearningRateScheduler setting learning rate to 0.0001.\n",
      "Epoch 79/100\n",
      "67/69 [============================>.] - ETA: 0s - loss: 125.3216 - custom_score: 567.7717\n",
      "Epoch 79: val_loss did not improve from 119.76814\n",
      "69/69 [==============================] - 2s 25ms/step - loss: 125.3020 - custom_score: 560.1813 - val_loss: 119.8670 - val_custom_score: 490.0091 - lr: 1.0000e-04\n",
      "\n",
      "Epoch 80: LearningRateScheduler setting learning rate to 0.0001.\n",
      "Epoch 80/100\n",
      "67/69 [============================>.] - ETA: 0s - loss: 125.1758 - custom_score: 571.3754\n",
      "Epoch 80: val_loss did not improve from 119.76814\n",
      "69/69 [==============================] - 2s 28ms/step - loss: 125.1380 - custom_score: 564.1731 - val_loss: 120.9616 - val_custom_score: 491.8714 - lr: 1.0000e-04\n",
      "\n",
      "Epoch 81: LearningRateScheduler setting learning rate to 0.0001.\n",
      "Epoch 81/100\n",
      "68/69 [============================>.] - ETA: 0s - loss: 123.0486 - custom_score: 552.7609\n",
      "Epoch 81: val_loss did not improve from 119.76814\n",
      "69/69 [==============================] - 1s 20ms/step - loss: 122.9521 - custom_score: 545.5325 - val_loss: 119.9720 - val_custom_score: 503.2950 - lr: 1.0000e-04\n",
      "\n",
      "Epoch 82: LearningRateScheduler setting learning rate to 0.0001.\n",
      "Epoch 82/100\n",
      "68/69 [============================>.] - ETA: 0s - loss: 123.2681 - custom_score: 560.4750\n",
      "Epoch 82: val_loss improved from 119.76814 to 119.59383, saving model to ./models/LSTMlarge/FD0001\n",
      "INFO:tensorflow:Assets written to: ./models/LSTMlarge/FD0001/assets\n"
     ]
    },
    {
     "name": "stderr",
     "output_type": "stream",
     "text": [
      "INFO:tensorflow:Assets written to: ./models/LSTMlarge/FD0001/assets\n"
     ]
    },
    {
     "name": "stdout",
     "output_type": "stream",
     "text": [
      "69/69 [==============================] - 16s 231ms/step - loss: 123.2197 - custom_score: 553.4184 - val_loss: 119.5938 - val_custom_score: 490.4974 - lr: 1.0000e-04\n",
      "\n",
      "Epoch 83: LearningRateScheduler setting learning rate to 0.0001.\n",
      "Epoch 83/100\n",
      "68/69 [============================>.] - ETA: 0s - loss: 124.0055 - custom_score: 564.0377\n",
      "Epoch 83: val_loss did not improve from 119.59383\n",
      "69/69 [==============================] - 1s 18ms/step - loss: 124.0203 - custom_score: 557.1664 - val_loss: 120.5195 - val_custom_score: 466.0889 - lr: 1.0000e-04\n",
      "\n",
      "Epoch 84: LearningRateScheduler setting learning rate to 0.0001.\n",
      "Epoch 84/100\n",
      "67/69 [============================>.] - ETA: 0s - loss: 124.6398 - custom_score: 567.0490\n",
      "Epoch 84: val_loss did not improve from 119.59383\n",
      "69/69 [==============================] - 1s 22ms/step - loss: 124.8079 - custom_score: 560.0756 - val_loss: 122.5217 - val_custom_score: 465.6429 - lr: 1.0000e-04\n",
      "\n",
      "Epoch 85: LearningRateScheduler setting learning rate to 0.0001.\n",
      "Epoch 85/100\n",
      "68/69 [============================>.] - ETA: 0s - loss: 123.7665 - custom_score: 561.9714\n",
      "Epoch 85: val_loss improved from 119.59383 to 119.56271, saving model to ./models/LSTMlarge/FD0001\n",
      "INFO:tensorflow:Assets written to: ./models/LSTMlarge/FD0001/assets\n"
     ]
    },
    {
     "name": "stderr",
     "output_type": "stream",
     "text": [
      "INFO:tensorflow:Assets written to: ./models/LSTMlarge/FD0001/assets\n"
     ]
    },
    {
     "name": "stdout",
     "output_type": "stream",
     "text": [
      "69/69 [==============================] - 13s 197ms/step - loss: 123.6785 - custom_score: 554.9755 - val_loss: 119.5627 - val_custom_score: 491.2326 - lr: 1.0000e-04\n",
      "\n",
      "Epoch 86: LearningRateScheduler setting learning rate to 0.0001.\n",
      "Epoch 86/100\n",
      "67/69 [============================>.] - ETA: 0s - loss: 123.1109 - custom_score: 565.4742\n",
      "Epoch 86: val_loss improved from 119.56271 to 119.21518, saving model to ./models/LSTMlarge/FD0001\n",
      "INFO:tensorflow:Assets written to: ./models/LSTMlarge/FD0001/assets\n"
     ]
    },
    {
     "name": "stderr",
     "output_type": "stream",
     "text": [
      "INFO:tensorflow:Assets written to: ./models/LSTMlarge/FD0001/assets\n"
     ]
    },
    {
     "name": "stdout",
     "output_type": "stream",
     "text": [
      "69/69 [==============================] - 15s 224ms/step - loss: 123.0416 - custom_score: 558.6197 - val_loss: 119.2152 - val_custom_score: 465.5497 - lr: 1.0000e-04\n",
      "\n",
      "Epoch 87: LearningRateScheduler setting learning rate to 0.0001.\n",
      "Epoch 87/100\n",
      "66/69 [===========================>..] - ETA: 0s - loss: 123.5603 - custom_score: 554.2676\n",
      "Epoch 87: val_loss improved from 119.21518 to 118.69395, saving model to ./models/LSTMlarge/FD0001\n",
      "INFO:tensorflow:Assets written to: ./models/LSTMlarge/FD0001/assets\n"
     ]
    },
    {
     "name": "stderr",
     "output_type": "stream",
     "text": [
      "INFO:tensorflow:Assets written to: ./models/LSTMlarge/FD0001/assets\n"
     ]
    },
    {
     "name": "stdout",
     "output_type": "stream",
     "text": [
      "69/69 [==============================] - 16s 232ms/step - loss: 123.4605 - custom_score: 548.8367 - val_loss: 118.6939 - val_custom_score: 496.5817 - lr: 1.0000e-04\n",
      "\n",
      "Epoch 88: LearningRateScheduler setting learning rate to 0.0001.\n",
      "Epoch 88/100\n",
      "67/69 [============================>.] - ETA: 0s - loss: 122.8472 - custom_score: 556.2842\n",
      "Epoch 88: val_loss did not improve from 118.69395\n",
      "69/69 [==============================] - 1s 19ms/step - loss: 122.6705 - custom_score: 548.6665 - val_loss: 118.8364 - val_custom_score: 470.2801 - lr: 1.0000e-04\n",
      "\n",
      "Epoch 89: LearningRateScheduler setting learning rate to 0.0001.\n",
      "Epoch 89/100\n",
      "69/69 [==============================] - ETA: 0s - loss: 121.5767 - custom_score: 536.5872\n",
      "Epoch 89: val_loss improved from 118.69395 to 118.15046, saving model to ./models/LSTMlarge/FD0001\n",
      "INFO:tensorflow:Assets written to: ./models/LSTMlarge/FD0001/assets\n"
     ]
    },
    {
     "name": "stderr",
     "output_type": "stream",
     "text": [
      "INFO:tensorflow:Assets written to: ./models/LSTMlarge/FD0001/assets\n"
     ]
    },
    {
     "name": "stdout",
     "output_type": "stream",
     "text": [
      "69/69 [==============================] - 12s 177ms/step - loss: 121.5767 - custom_score: 536.5872 - val_loss: 118.1505 - val_custom_score: 503.7323 - lr: 1.0000e-04\n",
      "\n",
      "Epoch 90: LearningRateScheduler setting learning rate to 0.0001.\n",
      "Epoch 90/100\n",
      "67/69 [============================>.] - ETA: 0s - loss: 122.3733 - custom_score: 557.3890\n",
      "Epoch 90: val_loss did not improve from 118.15046\n",
      "69/69 [==============================] - 1s 20ms/step - loss: 122.7214 - custom_score: 552.3196 - val_loss: 119.2860 - val_custom_score: 464.7570 - lr: 1.0000e-04\n",
      "\n",
      "Epoch 91: LearningRateScheduler setting learning rate to 1e-05.\n",
      "Epoch 91/100\n",
      "68/69 [============================>.] - ETA: 0s - loss: 121.4480 - custom_score: 538.6243\n",
      "Epoch 91: val_loss improved from 118.15046 to 117.86666, saving model to ./models/LSTMlarge/FD0001\n",
      "INFO:tensorflow:Assets written to: ./models/LSTMlarge/FD0001/assets\n"
     ]
    },
    {
     "name": "stderr",
     "output_type": "stream",
     "text": [
      "INFO:tensorflow:Assets written to: ./models/LSTMlarge/FD0001/assets\n"
     ]
    },
    {
     "name": "stdout",
     "output_type": "stream",
     "text": [
      "69/69 [==============================] - 10s 152ms/step - loss: 121.3244 - custom_score: 531.6702 - val_loss: 117.8667 - val_custom_score: 479.6604 - lr: 1.0000e-05\n",
      "\n",
      "Epoch 92: LearningRateScheduler setting learning rate to 1e-05.\n",
      "Epoch 92/100\n",
      "67/69 [============================>.] - ETA: 0s - loss: 120.7462 - custom_score: 542.0930\n",
      "Epoch 92: val_loss did not improve from 117.86666\n",
      "69/69 [==============================] - 1s 20ms/step - loss: 120.9572 - custom_score: 537.2055 - val_loss: 117.9003 - val_custom_score: 472.5009 - lr: 1.0000e-05\n",
      "\n",
      "Epoch 93: LearningRateScheduler setting learning rate to 1e-05.\n",
      "Epoch 93/100\n",
      "69/69 [==============================] - ETA: 0s - loss: 121.3489 - custom_score: 537.2288\n",
      "Epoch 93: val_loss did not improve from 117.86666\n",
      "69/69 [==============================] - 1s 20ms/step - loss: 121.3489 - custom_score: 537.2288 - val_loss: 117.9311 - val_custom_score: 472.6315 - lr: 1.0000e-05\n",
      "\n",
      "Epoch 94: LearningRateScheduler setting learning rate to 1e-05.\n",
      "Epoch 94/100\n",
      "69/69 [==============================] - ETA: 0s - loss: 121.2143 - custom_score: 549.4052\n",
      "Epoch 94: val_loss improved from 117.86666 to 117.84879, saving model to ./models/LSTMlarge/FD0001\n",
      "INFO:tensorflow:Assets written to: ./models/LSTMlarge/FD0001/assets\n"
     ]
    },
    {
     "name": "stderr",
     "output_type": "stream",
     "text": [
      "INFO:tensorflow:Assets written to: ./models/LSTMlarge/FD0001/assets\n"
     ]
    },
    {
     "name": "stdout",
     "output_type": "stream",
     "text": [
      "69/69 [==============================] - 11s 162ms/step - loss: 121.2143 - custom_score: 549.4052 - val_loss: 117.8488 - val_custom_score: 473.2830 - lr: 1.0000e-05\n",
      "\n",
      "Epoch 95: LearningRateScheduler setting learning rate to 1e-05.\n",
      "Epoch 95/100\n",
      "69/69 [==============================] - ETA: 0s - loss: 121.5011 - custom_score: 542.9543\n",
      "Epoch 95: val_loss improved from 117.84879 to 117.71962, saving model to ./models/LSTMlarge/FD0001\n",
      "INFO:tensorflow:Assets written to: ./models/LSTMlarge/FD0001/assets\n"
     ]
    },
    {
     "name": "stderr",
     "output_type": "stream",
     "text": [
      "INFO:tensorflow:Assets written to: ./models/LSTMlarge/FD0001/assets\n"
     ]
    },
    {
     "name": "stdout",
     "output_type": "stream",
     "text": [
      "69/69 [==============================] - 10s 146ms/step - loss: 121.5011 - custom_score: 542.9543 - val_loss: 117.7196 - val_custom_score: 476.0805 - lr: 1.0000e-05\n",
      "\n",
      "Epoch 96: LearningRateScheduler setting learning rate to 1e-05.\n",
      "Epoch 96/100\n",
      "68/69 [============================>.] - ETA: 0s - loss: 121.6562 - custom_score: 554.9761\n",
      "Epoch 96: val_loss did not improve from 117.71962\n",
      "69/69 [==============================] - 1s 20ms/step - loss: 121.6779 - custom_score: 548.5420 - val_loss: 117.8731 - val_custom_score: 476.3008 - lr: 1.0000e-05\n",
      "\n",
      "Epoch 97: LearningRateScheduler setting learning rate to 1e-05.\n",
      "Epoch 97/100\n",
      "69/69 [==============================] - ETA: 0s - loss: 122.0813 - custom_score: 548.9241\n",
      "Epoch 97: val_loss did not improve from 117.71962\n",
      "69/69 [==============================] - 1s 21ms/step - loss: 122.0813 - custom_score: 548.9241 - val_loss: 117.7701 - val_custom_score: 472.0566 - lr: 1.0000e-05\n",
      "\n",
      "Epoch 98: LearningRateScheduler setting learning rate to 1e-05.\n",
      "Epoch 98/100\n",
      "68/69 [============================>.] - ETA: 0s - loss: 122.5792 - custom_score: 561.2079\n",
      "Epoch 98: val_loss improved from 117.71962 to 117.47546, saving model to ./models/LSTMlarge/FD0001\n",
      "INFO:tensorflow:Assets written to: ./models/LSTMlarge/FD0001/assets\n"
     ]
    },
    {
     "name": "stderr",
     "output_type": "stream",
     "text": [
      "INFO:tensorflow:Assets written to: ./models/LSTMlarge/FD0001/assets\n"
     ]
    },
    {
     "name": "stdout",
     "output_type": "stream",
     "text": [
      "69/69 [==============================] - 11s 155ms/step - loss: 122.5491 - custom_score: 554.2312 - val_loss: 117.4755 - val_custom_score: 474.2396 - lr: 1.0000e-05\n",
      "\n",
      "Epoch 99: LearningRateScheduler setting learning rate to 1e-05.\n",
      "Epoch 99/100\n",
      "67/69 [============================>.] - ETA: 0s - loss: 121.2188 - custom_score: 548.3793\n",
      "Epoch 99: val_loss did not improve from 117.47546\n",
      "69/69 [==============================] - 1s 19ms/step - loss: 121.2842 - custom_score: 541.5803 - val_loss: 117.7687 - val_custom_score: 471.7735 - lr: 1.0000e-05\n",
      "\n",
      "Epoch 100: LearningRateScheduler setting learning rate to 1e-05.\n",
      "Epoch 100/100\n",
      "68/69 [============================>.] - ETA: 0s - loss: 121.1835 - custom_score: 549.7436\n",
      "Epoch 100: val_loss did not improve from 117.47546\n",
      "69/69 [==============================] - 1s 20ms/step - loss: 121.3460 - custom_score: 544.8052 - val_loss: 117.7344 - val_custom_score: 473.2188 - lr: 1.0000e-05\n"
     ]
    }
   ],
   "source": [
    "from keras.callbacks import ModelCheckpoint, EarlyStopping\n",
    "from keras.models import load_model, save_model\n",
    "\n",
    "EPOCHS = 100 \n",
    "\n",
    "path_large = './models/LSTMlarge/FD0001'\n",
    "model_checkpoint = ModelCheckpoint(\n",
    "    path_large,\n",
    "    monitor='val_loss',\n",
    "    verbose=1,\n",
    "    save_best_only=True,\n",
    "    save_weights_only=False,\n",
    "    mode='auto',\n",
    "\n",
    ")\n",
    "early_stopping = EarlyStopping(\n",
    "    patience=5,\n",
    "    min_delta=0.001,\n",
    "    restore_best_weights=True,\n",
    ")\n",
    "\n",
    "history = LSTMlargeModel.fit(\n",
    "    X_train, \n",
    "    y_train, \n",
    "    validation_data=(X_val, y_val), \n",
    "    epochs = 100,\n",
    "    batch_size = 256,\n",
    "    use_multiprocessing =True, \n",
    "    callbacks=[model_checkpoint, lr_scheduler])\n"
   ]
  },
  {
   "cell_type": "code",
   "execution_count": 16,
   "metadata": {},
   "outputs": [
    {
     "data": {
      "image/png": "[encoded data removed]",
      "text/plain": [
       "<Figure size 1200x600 with 1 Axes>"
      ]
     },
     "metadata": {},
     "output_type": "display_data"
    },
    {
     "data": {
      "image/png": "[encoded data removed]",
      "text/plain": [
       "<Figure size 1200x600 with 1 Axes>"
      ]
     },
     "metadata": {},
     "output_type": "display_data"
    }
   ],
   "source": [
    "import matplotlib.pyplot as plt\n",
    "loss_values = history.history['loss']\n",
    "val_loss_values = history.history['val_loss']\n",
    "\n",
    "\n",
    "custom_score_values = history.history['custom_score']  \n",
    "custom_score_validation_values = history.history['val_custom_score']\n",
    "\n",
    "\n",
    "# Plot della loss function\n",
    "plt.figure(figsize=(12, 6))\n",
    "plt.plot(range(1, len(loss_values) + 1), loss_values, label='Loss', marker='o')\n",
    "plt.plot(range(1, len(val_loss_values) + 1), val_loss_values, label='Validation Loss', marker='o', linestyle='-', color='orange')\n",
    "plt.title('Training Loss and Validation Loss')\n",
    "plt.xlabel('Epoca')\n",
    "plt.ylabel('Loss')\n",
    "plt.ylim(0, 600)\n",
    "plt.legend()\n",
    "plt.grid(True)\n",
    "plt.show()\n",
    "\n",
    "# Plot della custom score\n",
    "plt.figure(figsize=(12, 6))\n",
    "plt.plot(range(1, len(custom_score_values) + 1), custom_score_values, label='Training S Score', marker='o', color='blue')\n",
    "plt.plot(range(1, len(custom_score_validation_values) + 1), custom_score_validation_values, label='Validation S Score', marker='o', color='orange')\n",
    "plt.title('Training S Score and validation S Score')\n",
    "plt.xlabel('Epoca')\n",
    "plt.ylabel('S Score')\n",
    "plt.ylim(0, 9000)\n",
    "plt.legend()\n",
    "plt.grid(True)\n",
    "plt.show()\n"
   ]
  },
  {
   "cell_type": "code",
   "execution_count": 17,
   "metadata": {},
   "outputs": [
    {
     "data": {
      "image/png": "[encoded data removed]",
      "text/plain": [
       "<Figure size 1200x600 with 1 Axes>"
      ]
     },
     "metadata": {},
     "output_type": "display_data"
    }
   ],
   "source": [
    "plt.figure(figsize=(12, 6))\n",
    "plt.plot(range(1, len(loss_values) + 1), loss_values, label='Training Loss', marker='o')\n",
    "plt.plot(range(1, len(val_loss_values) + 1), val_loss_values, label='Validation Loss', marker='o', linestyle='-', color='orange')\n",
    "plt.title('Training Loss and Validation Loss')\n",
    "plt.xlabel('Epoca')\n",
    "plt.ylabel('Loss')\n",
    "plt.ylim(0,800)\n",
    "plt.xlim(0,60)\n",
    "plt.legend()\n",
    "plt.grid(True)\n",
    "plt.show()\n"
   ]
  },
  {
   "cell_type": "code",
   "execution_count": 18,
   "metadata": {},
   "outputs": [
    {
     "data": {
      "image/png": "[encoded data removed]",
      "text/plain": [
       "<Figure size 1200x600 with 1 Axes>"
      ]
     },
     "metadata": {},
     "output_type": "display_data"
    }
   ],
   "source": [
    "plt.figure(figsize=(12, 6))\n",
    "plt.plot(range(1, len(custom_score_values) + 1), custom_score_values, label='Training S Score', marker='o', color='blue')\n",
    "plt.plot(range(1, len(custom_score_validation_values) + 1), custom_score_validation_values, label='Validation S Score', marker='o', color='orange')\n",
    "plt.title('Training S Score and validation S Score')\n",
    "plt.xlabel('Epoca')\n",
    "plt.ylabel('S Score')\n",
    "plt.ylim(0,1000)\n",
    "plt.xlim(0,100)\n",
    "plt.legend()\n",
    "plt.grid(True)\n",
    "plt.show()"
   ]
  },
  {
   "cell_type": "code",
   "execution_count": 19,
   "metadata": {},
   "outputs": [
    {
     "name": "stdout",
     "output_type": "stream",
     "text": [
      "INFO:tensorflow:Assets written to: /home/aliquodfahriam/tinyML/Riproduzione/Riproduzione_PW/models/LSTMlarge/FD0001/assets\n"
     ]
    },
    {
     "name": "stderr",
     "output_type": "stream",
     "text": [
      "INFO:tensorflow:Assets written to: /home/aliquodfahriam/tinyML/Riproduzione/Riproduzione_PW/models/LSTMlarge/FD0001/assets\n",
      "2023-10-19 11:32:47.250775: W tensorflow/compiler/mlir/lite/python/tf_tfl_flatbuffer_helpers.cc:378] Ignored output_format.\n",
      "2023-10-19 11:32:47.250815: W tensorflow/compiler/mlir/lite/python/tf_tfl_flatbuffer_helpers.cc:381] Ignored drop_control_dependency.\n",
      "2023-10-19 11:32:47.257662: I tensorflow/cc/saved_model/reader.cc:83] Reading SavedModel from: /home/aliquodfahriam/tinyML/Riproduzione/Riproduzione_PW/models/LSTMlarge/FD0001\n",
      "2023-10-19 11:32:47.281587: I tensorflow/cc/saved_model/reader.cc:51] Reading meta graph with tags { serve }\n",
      "2023-10-19 11:32:47.281629: I tensorflow/cc/saved_model/reader.cc:146] Reading SavedModel debug info (if present) from: /home/aliquodfahriam/tinyML/Riproduzione/Riproduzione_PW/models/LSTMlarge/FD0001\n",
      "2023-10-19 11:32:47.325241: I tensorflow/compiler/mlir/mlir_graph_optimization_pass.cc:382] MLIR V1 optimization pass is not enabled\n",
      "2023-10-19 11:32:47.351685: I tensorflow/cc/saved_model/loader.cc:233] Restoring SavedModel bundle.\n",
      "2023-10-19 11:32:47.564900: I tensorflow/cc/saved_model/loader.cc:217] Running initialization op on SavedModel bundle at path: /home/aliquodfahriam/tinyML/Riproduzione/Riproduzione_PW/models/LSTMlarge/FD0001\n",
      "2023-10-19 11:32:47.714722: I tensorflow/cc/saved_model/loader.cc:316] SavedModel load for tags { serve }; Status: success: OK. Took 457066 microseconds.\n",
      "2023-10-19 11:32:48.058374: I tensorflow/compiler/mlir/lite/flatbuffer_export.cc:2245] Estimated count of arithmetic ops: 0.066 M  ops, equivalently 0.033 M  MACs\n"
     ]
    }
   ],
   "source": [
    "### FUNZIONA\n",
    "MODEL_DIR = '/home/aliquodfahriam/tinyML/Riproduzione/Riproduzione_PW/models/LSTMlarge/FD0001'\n",
    "run_model = tf.function(lambda x: LSTMlargeModel(x))\n",
    "BATCH_SIZE = 1\n",
    "STEPS = 30\n",
    "INPUT_SIZE = 14\n",
    "\n",
    "concrete_func = run_model.get_concrete_function(\n",
    "    tf.TensorSpec([BATCH_SIZE, STEPS, INPUT_SIZE], LSTMlargeModel.inputs[0].dtype)\n",
    ")\n",
    "converter = tf.lite.TFLiteConverter.from_keras_model(LSTMlargeModel)\n",
    "converter.target_spec.supported_ops = [\n",
    "  tf.lite.OpsSet.TFLITE_BUILTINS, # enable TensorFlow Lite ops.\n",
    "  tf.lite.OpsSet.SELECT_TF_OPS # enable TensorFlow ops.\n",
    "]\n",
    "\n",
    "\n",
    "LSTMlargeModel.save(MODEL_DIR, save_format=\"tf\", signatures = concrete_func )\n",
    "\n",
    "converter = tf.lite.TFLiteConverter.from_saved_model(MODEL_DIR)\n",
    "tflite_model = converter.convert()\n",
    "\n",
    "with open(\"large_lstm_fixed_batch_1.tflite\", \"wb\") as f:\n",
    "    f.write(tflite_model)\n"
   ]
  }
 ],
 "metadata": {
  "kernelspec": {
   "display_name": "tensorflowEnv",
   "language": "python",
   "name": "python3"
  },
  "language_info": {
   "codemirror_mode": {
    "name": "ipython",
    "version": 3
   },
   "file_extension": ".py",
   "mimetype": "text/x-python",
   "name": "python",
   "nbconvert_exporter": "python",
   "pygments_lexer": "ipython3",
   "version": "3.10.13"
  },
  "orig_nbformat": 4
 },
 "nbformat": 4,
 "nbformat_minor": 2
}
