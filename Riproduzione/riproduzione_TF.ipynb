{
 "cells": [
  {
   "cell_type": "markdown",
   "metadata": {},
   "source": [
    "# Riproduzione modelli e addestramento"
   ]
  },
  {
   "cell_type": "code",
   "execution_count": 1,
   "metadata": {},
   "outputs": [],
   "source": [
    "import pandas as pd \n",
    "import numpy as np\n",
    "import os\n",
    "dataset_folder = 'dataset_new'"
   ]
  },
  {
   "cell_type": "code",
   "execution_count": 2,
   "metadata": {},
   "outputs": [],
   "source": [
    "sensors = ['sensor2', 'sensor3', 'sensor4','sensor7','sensor8','sensor9','sensor11','sensor12','sensor13','sensor14',\n",
    "           'sensor15','sensor17','sensor20', 'sensor21']"
   ]
  },
  {
   "cell_type": "code",
   "execution_count": 3,
   "metadata": {},
   "outputs": [
    {
     "data": {
      "text/html": [
       "<div>\n",
       "<style scoped>\n",
       "    .dataframe tbody tr th:only-of-type {\n",
       "        vertical-align: middle;\n",
       "    }\n",
       "\n",
       "    .dataframe tbody tr th {\n",
       "        vertical-align: top;\n",
       "    }\n",
       "\n",
       "    .dataframe thead th {\n",
       "        text-align: right;\n",
       "    }\n",
       "</style>\n",
       "<table border=\"1\" class=\"dataframe\">\n",
       "  <thead>\n",
       "    <tr style=\"text-align: right;\">\n",
       "      <th></th>\n",
       "      <th>unit_number</th>\n",
       "      <th>time_cycle</th>\n",
       "      <th>op_setting1</th>\n",
       "      <th>op_setting2</th>\n",
       "      <th>op_setting3</th>\n",
       "      <th>RUL</th>\n",
       "      <th>sensor2</th>\n",
       "      <th>sensor3</th>\n",
       "      <th>sensor4</th>\n",
       "      <th>sensor6</th>\n",
       "      <th>...</th>\n",
       "      <th>sensor8</th>\n",
       "      <th>sensor9</th>\n",
       "      <th>sensor11</th>\n",
       "      <th>sensor12</th>\n",
       "      <th>sensor13</th>\n",
       "      <th>sensor14</th>\n",
       "      <th>sensor15</th>\n",
       "      <th>sensor17</th>\n",
       "      <th>sensor20</th>\n",
       "      <th>sensor21</th>\n",
       "    </tr>\n",
       "  </thead>\n",
       "  <tbody>\n",
       "    <tr>\n",
       "      <th>0</th>\n",
       "      <td>1.0</td>\n",
       "      <td>1.0</td>\n",
       "      <td>-0.0005</td>\n",
       "      <td>0.0004</td>\n",
       "      <td>100.0</td>\n",
       "      <td>258.0</td>\n",
       "      <td>0.355972</td>\n",
       "      <td>0.370523</td>\n",
       "      <td>0.308580</td>\n",
       "      <td>1.0</td>\n",
       "      <td>...</td>\n",
       "      <td>0.623529</td>\n",
       "      <td>0.204233</td>\n",
       "      <td>0.348571</td>\n",
       "      <td>0.231279</td>\n",
       "      <td>0.642857</td>\n",
       "      <td>0.239116</td>\n",
       "      <td>0.647755</td>\n",
       "      <td>0.272727</td>\n",
       "      <td>0.559524</td>\n",
       "      <td>0.446331</td>\n",
       "    </tr>\n",
       "    <tr>\n",
       "      <th>1</th>\n",
       "      <td>1.0</td>\n",
       "      <td>2.0</td>\n",
       "      <td>0.0008</td>\n",
       "      <td>-0.0003</td>\n",
       "      <td>100.0</td>\n",
       "      <td>257.0</td>\n",
       "      <td>0.388759</td>\n",
       "      <td>0.399100</td>\n",
       "      <td>0.309360</td>\n",
       "      <td>1.0</td>\n",
       "      <td>...</td>\n",
       "      <td>0.647059</td>\n",
       "      <td>0.202431</td>\n",
       "      <td>0.308571</td>\n",
       "      <td>0.236882</td>\n",
       "      <td>0.654762</td>\n",
       "      <td>0.278567</td>\n",
       "      <td>0.685659</td>\n",
       "      <td>0.363636</td>\n",
       "      <td>0.488095</td>\n",
       "      <td>0.534836</td>\n",
       "    </tr>\n",
       "    <tr>\n",
       "      <th>2</th>\n",
       "      <td>1.0</td>\n",
       "      <td>3.0</td>\n",
       "      <td>-0.0014</td>\n",
       "      <td>-0.0002</td>\n",
       "      <td>100.0</td>\n",
       "      <td>256.0</td>\n",
       "      <td>0.313817</td>\n",
       "      <td>0.353298</td>\n",
       "      <td>0.445398</td>\n",
       "      <td>1.0</td>\n",
       "      <td>...</td>\n",
       "      <td>0.664706</td>\n",
       "      <td>0.241484</td>\n",
       "      <td>0.302857</td>\n",
       "      <td>0.217015</td>\n",
       "      <td>0.636905</td>\n",
       "      <td>0.264526</td>\n",
       "      <td>0.564462</td>\n",
       "      <td>0.272727</td>\n",
       "      <td>0.404762</td>\n",
       "      <td>0.458577</td>\n",
       "    </tr>\n",
       "    <tr>\n",
       "      <th>3</th>\n",
       "      <td>1.0</td>\n",
       "      <td>4.0</td>\n",
       "      <td>-0.0020</td>\n",
       "      <td>0.0001</td>\n",
       "      <td>100.0</td>\n",
       "      <td>255.0</td>\n",
       "      <td>0.487119</td>\n",
       "      <td>0.417107</td>\n",
       "      <td>0.237285</td>\n",
       "      <td>1.0</td>\n",
       "      <td>...</td>\n",
       "      <td>0.647059</td>\n",
       "      <td>0.215326</td>\n",
       "      <td>0.314286</td>\n",
       "      <td>0.240448</td>\n",
       "      <td>0.684524</td>\n",
       "      <td>0.245612</td>\n",
       "      <td>0.558909</td>\n",
       "      <td>0.363636</td>\n",
       "      <td>0.470238</td>\n",
       "      <td>0.391966</td>\n",
       "    </tr>\n",
       "    <tr>\n",
       "      <th>4</th>\n",
       "      <td>1.0</td>\n",
       "      <td>5.0</td>\n",
       "      <td>0.0016</td>\n",
       "      <td>0.0000</td>\n",
       "      <td>100.0</td>\n",
       "      <td>254.0</td>\n",
       "      <td>0.196721</td>\n",
       "      <td>0.476218</td>\n",
       "      <td>0.321217</td>\n",
       "      <td>1.0</td>\n",
       "      <td>...</td>\n",
       "      <td>0.670588</td>\n",
       "      <td>0.268799</td>\n",
       "      <td>0.262857</td>\n",
       "      <td>0.245033</td>\n",
       "      <td>0.654762</td>\n",
       "      <td>0.252109</td>\n",
       "      <td>0.556736</td>\n",
       "      <td>0.363636</td>\n",
       "      <td>0.577381</td>\n",
       "      <td>0.543371</td>\n",
       "    </tr>\n",
       "  </tbody>\n",
       "</table>\n",
       "<p>5 rows × 21 columns</p>\n",
       "</div>"
      ],
      "text/plain": [
       "   unit_number  time_cycle  op_setting1  op_setting2  op_setting3    RUL  \\\n",
       "0          1.0         1.0      -0.0005       0.0004        100.0  258.0   \n",
       "1          1.0         2.0       0.0008      -0.0003        100.0  257.0   \n",
       "2          1.0         3.0      -0.0014      -0.0002        100.0  256.0   \n",
       "3          1.0         4.0      -0.0020       0.0001        100.0  255.0   \n",
       "4          1.0         5.0       0.0016       0.0000        100.0  254.0   \n",
       "\n",
       "    sensor2   sensor3   sensor4  sensor6  ...   sensor8   sensor9  sensor11  \\\n",
       "0  0.355972  0.370523  0.308580      1.0  ...  0.623529  0.204233  0.348571   \n",
       "1  0.388759  0.399100  0.309360      1.0  ...  0.647059  0.202431  0.308571   \n",
       "2  0.313817  0.353298  0.445398      1.0  ...  0.664706  0.241484  0.302857   \n",
       "3  0.487119  0.417107  0.237285      1.0  ...  0.647059  0.215326  0.314286   \n",
       "4  0.196721  0.476218  0.321217      1.0  ...  0.670588  0.268799  0.262857   \n",
       "\n",
       "   sensor12  sensor13  sensor14  sensor15  sensor17  sensor20  sensor21  \n",
       "0  0.231279  0.642857  0.239116  0.647755  0.272727  0.559524  0.446331  \n",
       "1  0.236882  0.654762  0.278567  0.685659  0.363636  0.488095  0.534836  \n",
       "2  0.217015  0.636905  0.264526  0.564462  0.272727  0.404762  0.458577  \n",
       "3  0.240448  0.684524  0.245612  0.558909  0.363636  0.470238  0.391966  \n",
       "4  0.245033  0.654762  0.252109  0.556736  0.363636  0.577381  0.543371  \n",
       "\n",
       "[5 rows x 21 columns]"
      ]
     },
     "execution_count": 3,
     "metadata": {},
     "output_type": "execute_result"
    }
   ],
   "source": [
    "train = []\n",
    "files = os.listdir(dataset_folder)\n",
    "train_files = [file for file in files if file.startswith('scaled')]\n",
    "\n",
    "for file in files: \n",
    "    path_to_file = dataset_folder + '/'+file\n",
    "    df = pd.read_csv(path_to_file, index_col=0) #index_col = 0 perché sennò viene aggiunta la colonna unnamed. \n",
    "    train.append(df)\n",
    "\n",
    "train[0].head() \n"
   ]
  },
  {
   "cell_type": "markdown",
   "metadata": {},
   "source": [
    "Proviamo, al contrario di quanto fatto in precedenza, ad addestrare le reti in maniera separata sulle 4 componenti del dataframe e poi confrontare i dati "
   ]
  },
  {
   "cell_type": "code",
   "execution_count": 4,
   "metadata": {},
   "outputs": [
    {
     "name": "stderr",
     "output_type": "stream",
     "text": [
      "2023-09-18 15:18:24.440918: I tensorflow/core/platform/cpu_feature_guard.cc:193] This TensorFlow binary is optimized with oneAPI Deep Neural Network Library (oneDNN) to use the following CPU instructions in performance-critical operations:  AVX2 FMA\n",
      "To enable them in other operations, rebuild TensorFlow with the appropriate compiler flags.\n",
      "2023-09-18 15:18:25.403741: W tensorflow/compiler/xla/stream_executor/platform/default/dso_loader.cc:64] Could not load dynamic library 'libnvinfer.so.7'; dlerror: libnvinfer.so.7: cannot open shared object file: No such file or directory; LD_LIBRARY_PATH: :/usr/local/cuda-11.2/lib64:/usr/local/cuda-11.2/extras/CUPTI/lib64:/home/aliquodfahriam/miniconda3/envs/tensorflowEnv/lib/\n",
      "2023-09-18 15:18:25.403889: W tensorflow/compiler/xla/stream_executor/platform/default/dso_loader.cc:64] Could not load dynamic library 'libnvinfer_plugin.so.7'; dlerror: libnvinfer_plugin.so.7: cannot open shared object file: No such file or directory; LD_LIBRARY_PATH: :/usr/local/cuda-11.2/lib64:/usr/local/cuda-11.2/extras/CUPTI/lib64:/home/aliquodfahriam/miniconda3/envs/tensorflowEnv/lib/\n",
      "2023-09-18 15:18:25.403905: W tensorflow/compiler/tf2tensorrt/utils/py_utils.cc:38] TF-TRT Warning: Cannot dlopen some TensorRT libraries. If you would like to use Nvidia GPU with TensorRT, please make sure the missing libraries mentioned above are installed properly.\n"
     ]
    }
   ],
   "source": [
    "##Preparo i dati di FD0001 per l'input. \n",
    "sequence_length = 30 #Rappresenta i Time Steps del layer di input\n",
    "\n",
    "from keras.utils import pad_sequences\n",
    "\n",
    "columns_to_keep = sensors \n",
    "columns_to_keep.append('RUL')\n",
    "df = train[0]\n",
    "selected_columns = df[sensors]\n",
    "dataset_array = selected_columns.values\n",
    "\n",
    "\n",
    "\n",
    "sequences = [dataset_array[i:i+sequence_length] for i in range(len(dataset_array) - sequence_length + 1)]\n",
    "\n",
    "sequences_padded = pad_sequences(sequences, maxlen=sequence_length, dtype='float32', padding='post')\n",
    "\n",
    "X = sequences_padded[:, :, :-1]\n",
    "y = sequences_padded[:, :, -1]\n"
   ]
  },
  {
   "cell_type": "code",
   "execution_count": 5,
   "metadata": {},
   "outputs": [
    {
     "name": "stdout",
     "output_type": "stream",
     "text": [
      "(24691, 30, 14) (24691, 30)\n"
     ]
    }
   ],
   "source": [
    "print(X.shape, y.shape)"
   ]
  },
  {
   "cell_type": "code",
   "execution_count": 6,
   "metadata": {},
   "outputs": [],
   "source": [
    "#Splitting del dataset\n",
    "from sklearn.model_selection import train_test_split\n",
    "X_train, X_val, y_train, y_val = train_test_split(X, y, test_size=0.2, random_state=42)"
   ]
  },
  {
   "cell_type": "code",
   "execution_count": 7,
   "metadata": {},
   "outputs": [],
   "source": [
    "from keras import backend as K \n",
    "import tensorflow as tf \n",
    "import math \n",
    "def root_mean_squared_error(y_true, y_pred):\n",
    "        return K.sqrt(K.mean(K.square(y_pred - y_true))) \n",
    "\n",
    "\n",
    "# def custom_score(y_true, y_pred):\n",
    "#      sum = 0 \n",
    "#      for true, predicted in zip(y_true, y_pred): \n",
    "#           d_i = predicted - true\n",
    "#           if d_i < 0:\n",
    "#              esponente = 1/(d_i/13)\n",
    "#              sum += (math.e ** esponente) -1 \n",
    "#           else: \n",
    "#              esponente =  d_i/10\n",
    "#              sum += (math.e ** esponente) -1 \n",
    "     \n",
    "#      return sum \n",
    "\n",
    "@tf.function\n",
    "def custom_score2(y_true, y_pred):\n",
    "    d_i = y_pred - y_true\n",
    "    esponente = tf.where(d_i < 0, 1.0 / (d_i / 13.0), d_i / 10.0)\n",
    "    sum = tf.reduce_sum(tf.exp(esponente) - 1.0)\n",
    "    \n",
    "    return sum\n",
    "\n",
    "\n",
    "# #Possibili valori di alfa = [0.2, 0.4]\n",
    "# def custom_loss(y_true, y_pred):\n",
    "#        alpha = 0.2 \n",
    "#        difference = y_pred - y_true\n",
    "#        if difference < 0: \n",
    "#              loss = 2 *alpha *difference\n",
    "#              return loss\n",
    "#        else: \n",
    "#              loss = 2*(alpha + (1 - 2*alpha))*difference\n",
    "#              return loss\n",
    "       \n",
    "\n",
    "\n",
    "@tf.function\n",
    "def custom_loss2(y_true, y_pred):\n",
    "    alpha = 0.2\n",
    "    difference = y_pred - y_true\n",
    "    squared_difference = tf.square(y_pred - y_true)\n",
    "    \n",
    "    # Calcola la loss per ciascun elemento\n",
    "    loss = tf.where(difference < 0, 2 * alpha * squared_difference, 2 * (alpha + (1 - 2 * alpha)) * squared_difference)\n",
    "    \n",
    "    # Calcola la media delle loss\n",
    "    return tf.reduce_mean(loss)\n",
    "\n",
    "      "
   ]
  },
  {
   "cell_type": "code",
   "execution_count": 8,
   "metadata": {},
   "outputs": [],
   "source": [
    "from keras import regularizers\n",
    "from keras.models import Sequential\n",
    "from keras.layers import LSTM\n",
    "from keras.layers import Dense\n",
    "from keras.layers import Activation\n",
    "from keras.layers import Dropout\n",
    "from keras.layers import Flatten\n",
    "from keras.optimizers import Adam\n",
    "\n",
    "#Replica della rete neurale proposta come \"small LSTM\"\n",
    "def createLSTMsmallModel(l1Nodes, l2Nodes, d1Nodes, d2Nodes, input_shape):\n",
    "    # input layer\n",
    "    lstm1 = LSTM(l1Nodes, input_shape=input_shape, return_sequences=True, kernel_regularizer=regularizers.l2(0.1))\n",
    "    \n",
    "    lstm2 = LSTM(l2Nodes, return_sequences=True, kernel_regularizer=regularizers.l2(0.1))    \n",
    "    flatten = Flatten()\n",
    "    dense1 = Dense(d1Nodes, activation='relu', kernel_regularizer=regularizers.l2(0.1))\n",
    "    dense2 = Dense(d2Nodes, activation='relu', kernel_regularizer=regularizers.l2(0.1))\n",
    "    \n",
    "    # output layer\n",
    "    outL = Dense(1, activation='relu', kernel_regularizer=regularizers.l2(0.1))\n",
    "    \n",
    "    #layers\n",
    "    layers = [lstm1, lstm2,flatten,  dense1, dense2, outL]\n",
    "    model = Sequential(layers)\n",
    "    #Abbiamo aggiunto le nostre funzioni di loss e accuracy definite precedentemente\n",
    "\n",
    "    optimizer = Adam(learning_rate=0.1)\n",
    "    model.compile(optimizer=optimizer, loss=custom_loss2, metrics = [custom_score2] )\n",
    "    return model\n",
    "\n",
    "\n",
    "def createLSTMlargeModel(l1Nodes, l2Nodes, l3Nodes, l4Nodes, d1dense , d2dense, input_shape): \n",
    "    lstm1 = LSTM(l1Nodes, input_shape=input_shape, return_sequences=True, kernel_regularizer=regularizers.l2(0.1))\n",
    "    d1 = Dropout(0.2)\n",
    "    lstm2 = LSTM(l2Nodes, return_sequences=True, kernel_regularizer=regularizers.l2(0.1))\n",
    "    d2 = Dropout(0.2)\n",
    "    lstm3 = LSTM(l3Nodes, return_sequences=True, kernel_regularizer=regularizers.l2(0.1))\n",
    "    d3 = Dropout(0.2)\n",
    "    lstm4 = LSTM(l4Nodes, return_sequences=True, kernel_regularizer=regularizers.l2(0.1))\n",
    "    d4 = Dropout(0.2)\n",
    "\n",
    "    flatten = Flatten()\n",
    "\n",
    "    dense1 = Dense(d1dense,activation='relu', kernel_regularizer=regularizers.l2(0.1))\n",
    "    dense2 = Dense(d2dense,activation='relu', kernel_regularizer=regularizers.l2(0.1))\n",
    "    output_dense = Dense(1,activation='relu', kernel_regularizer=regularizers.l2(0.1))\n",
    "\n",
    "    layers = [lstm1,d1, lstm2,d2, lstm3, d3, lstm4, d4,flatten,  dense1, dense2, output_dense]\n",
    "   \n",
    "    optimizer = Adam(learning_rate=0.1)\n",
    "    model = Sequential(layers)\n",
    "    model.compile(optimizer=optimizer, loss=custom_loss2, metrics = [custom_score2])\n",
    "    return model\n"
   ]
  },
  {
   "cell_type": "code",
   "execution_count": 9,
   "metadata": {},
   "outputs": [
    {
     "name": "stderr",
     "output_type": "stream",
     "text": [
      "2023-09-18 15:18:29.080472: E tensorflow/compiler/xla/stream_executor/cuda/cuda_driver.cc:267] failed call to cuInit: CUDA_ERROR_NO_DEVICE: no CUDA-capable device is detected\n",
      "2023-09-18 15:18:29.080528: I tensorflow/compiler/xla/stream_executor/cuda/cuda_diagnostics.cc:156] kernel driver does not appear to be running on this host (pop-os): /proc/driver/nvidia/version does not exist\n",
      "2023-09-18 15:18:29.081143: I tensorflow/core/platform/cpu_feature_guard.cc:193] This TensorFlow binary is optimized with oneAPI Deep Neural Network Library (oneDNN) to use the following CPU instructions in performance-critical operations:  AVX2 FMA\n",
      "To enable them in other operations, rebuild TensorFlow with the appropriate compiler flags.\n"
     ]
    }
   ],
   "source": [
    "LSTMlargeModel= createLSTMlargeModel(128, 64, 32, 16, 64, 32, (30,14))\n",
    "LSTMsmallModel = createLSTMsmallModel(60, 30, 30, 15, (30, 14)) "
   ]
  },
  {
   "cell_type": "code",
   "execution_count": 10,
   "metadata": {},
   "outputs": [
    {
     "name": "stdout",
     "output_type": "stream",
     "text": [
      "Model: \"sequential_1\"\n",
      "_________________________________________________________________\n",
      " Layer (type)                Output Shape              Param #   \n",
      "=================================================================\n",
      " lstm_4 (LSTM)               (None, 30, 60)            18000     \n",
      "                                                                 \n",
      " lstm_5 (LSTM)               (None, 30, 30)            10920     \n",
      "                                                                 \n",
      " flatten_1 (Flatten)         (None, 900)               0         \n",
      "                                                                 \n",
      " dense_3 (Dense)             (None, 30)                27030     \n",
      "                                                                 \n",
      " dense_4 (Dense)             (None, 15)                465       \n",
      "                                                                 \n",
      " dense_5 (Dense)             (None, 1)                 16        \n",
      "                                                                 \n",
      "=================================================================\n",
      "Total params: 56,431\n",
      "Trainable params: 56,431\n",
      "Non-trainable params: 0\n",
      "_________________________________________________________________\n"
     ]
    }
   ],
   "source": [
    "LSTMsmallModel.summary()"
   ]
  },
  {
   "cell_type": "code",
   "execution_count": 11,
   "metadata": {},
   "outputs": [
    {
     "name": "stdout",
     "output_type": "stream",
     "text": [
      "Model: \"sequential\"\n",
      "_________________________________________________________________\n",
      " Layer (type)                Output Shape              Param #   \n",
      "=================================================================\n",
      " lstm (LSTM)                 (None, 30, 128)           73216     \n",
      "                                                                 \n",
      " dropout (Dropout)           (None, 30, 128)           0         \n",
      "                                                                 \n",
      " lstm_1 (LSTM)               (None, 30, 64)            49408     \n",
      "                                                                 \n",
      " dropout_1 (Dropout)         (None, 30, 64)            0         \n",
      "                                                                 \n",
      " lstm_2 (LSTM)               (None, 30, 32)            12416     \n",
      "                                                                 \n",
      " dropout_2 (Dropout)         (None, 30, 32)            0         \n",
      "                                                                 \n",
      " lstm_3 (LSTM)               (None, 30, 16)            3136      \n",
      "                                                                 \n",
      " dropout_3 (Dropout)         (None, 30, 16)            0         \n",
      "                                                                 \n",
      " flatten (Flatten)           (None, 480)               0         \n",
      "                                                                 \n",
      " dense (Dense)               (None, 64)                30784     \n",
      "                                                                 \n",
      " dense_1 (Dense)             (None, 32)                2080      \n",
      "                                                                 \n",
      " dense_2 (Dense)             (None, 1)                 33        \n",
      "                                                                 \n",
      "=================================================================\n",
      "Total params: 171,073\n",
      "Trainable params: 171,073\n",
      "Non-trainable params: 0\n",
      "_________________________________________________________________\n"
     ]
    }
   ],
   "source": [
    "LSTMlargeModel.summary()"
   ]
  },
  {
   "cell_type": "code",
   "execution_count": 12,
   "metadata": {},
   "outputs": [],
   "source": [
    "from keras.callbacks import ModelCheckpoint, EarlyStopping\n",
    "from keras.models import load_model, save_model\n",
    "\n",
    "EPOCHS = 50 #100 / 80 / 150 \n",
    "\n",
    "path_small = './models/LSTMsmall/FD0001'\n",
    "path_large = './models/LSTMlarge/FD0001'\n",
    "\n",
    "\n",
    "model_checkpoint = ModelCheckpoint(\n",
    "    path_small,\n",
    "    monitor='val_loss',\n",
    "    verbose=1,\n",
    "    save_best_only=True,\n",
    "    save_weights_only=False,\n",
    "    mode='auto',\n",
    "\n",
    ")\n",
    "\n",
    "\n",
    "early_stopping = EarlyStopping(\n",
    "    patience=5,\n",
    "    min_delta=0.001,\n",
    "    restore_best_weights=True,\n",
    ")\n",
    "\n"
   ]
  },
  {
   "cell_type": "code",
   "execution_count": 13,
   "metadata": {},
   "outputs": [
    {
     "name": "stdout",
     "output_type": "stream",
     "text": [
      "Epoch 1/50\n",
      "77/78 [============================>.] - ETA: 0s - loss: 8312.9922 - custom_score2: 580985028608.0000\n",
      "Epoch 1: val_loss improved from inf to 6955.92529, saving model to ./models/LSTMsmall/FD0001\n"
     ]
    },
    {
     "name": "stderr",
     "output_type": "stream",
     "text": [
      "WARNING:absl:Found untraced functions such as lstm_cell_4_layer_call_fn, lstm_cell_4_layer_call_and_return_conditional_losses, lstm_cell_5_layer_call_fn, lstm_cell_5_layer_call_and_return_conditional_losses while saving (showing 4 of 4). These functions will not be directly callable after loading.\n"
     ]
    },
    {
     "name": "stdout",
     "output_type": "stream",
     "text": [
      "INFO:tensorflow:Assets written to: ./models/LSTMsmall/FD0001/assets\n"
     ]
    },
    {
     "name": "stderr",
     "output_type": "stream",
     "text": [
      "INFO:tensorflow:Assets written to: ./models/LSTMsmall/FD0001/assets\n"
     ]
    },
    {
     "name": "stdout",
     "output_type": "stream",
     "text": [
      "78/78 [==============================] - 15s 142ms/step - loss: 8306.5391 - custom_score2: 573536468992.0000 - val_loss: 6955.9253 - val_custom_score2: 16503478.0000\n",
      "Epoch 2/50\n",
      "77/78 [============================>.] - ETA: 0s - loss: 6419.3120 - custom_score2: 3036950.0000\n",
      "Epoch 2: val_loss improved from 6955.92529 to 6531.10693, saving model to ./models/LSTMsmall/FD0001\n"
     ]
    },
    {
     "name": "stderr",
     "output_type": "stream",
     "text": [
      "WARNING:absl:Found untraced functions such as lstm_cell_4_layer_call_fn, lstm_cell_4_layer_call_and_return_conditional_losses, lstm_cell_5_layer_call_fn, lstm_cell_5_layer_call_and_return_conditional_losses while saving (showing 4 of 4). These functions will not be directly callable after loading.\n"
     ]
    },
    {
     "name": "stdout",
     "output_type": "stream",
     "text": [
      "INFO:tensorflow:Assets written to: ./models/LSTMsmall/FD0001/assets\n"
     ]
    },
    {
     "name": "stderr",
     "output_type": "stream",
     "text": [
      "INFO:tensorflow:Assets written to: ./models/LSTMsmall/FD0001/assets\n"
     ]
    },
    {
     "name": "stdout",
     "output_type": "stream",
     "text": [
      "78/78 [==============================] - 8s 107ms/step - loss: 6423.7896 - custom_score2: 2999845.7500 - val_loss: 6531.1069 - val_custom_score2: 640126.8125\n",
      "Epoch 3/50\n",
      "77/78 [============================>.] - ETA: 0s - loss: 6256.9019 - custom_score2: 3229364.5000\n",
      "Epoch 3: val_loss improved from 6531.10693 to 6079.70654, saving model to ./models/LSTMsmall/FD0001\n"
     ]
    },
    {
     "name": "stderr",
     "output_type": "stream",
     "text": [
      "WARNING:absl:Found untraced functions such as lstm_cell_4_layer_call_fn, lstm_cell_4_layer_call_and_return_conditional_losses, lstm_cell_5_layer_call_fn, lstm_cell_5_layer_call_and_return_conditional_losses while saving (showing 4 of 4). These functions will not be directly callable after loading.\n"
     ]
    },
    {
     "name": "stdout",
     "output_type": "stream",
     "text": [
      "INFO:tensorflow:Assets written to: ./models/LSTMsmall/FD0001/assets\n"
     ]
    },
    {
     "name": "stderr",
     "output_type": "stream",
     "text": [
      "INFO:tensorflow:Assets written to: ./models/LSTMsmall/FD0001/assets\n"
     ]
    },
    {
     "name": "stdout",
     "output_type": "stream",
     "text": [
      "78/78 [==============================] - 8s 107ms/step - loss: 6259.0708 - custom_score2: 3198640.7500 - val_loss: 6079.7065 - val_custom_score2: 3382739.2500\n",
      "Epoch 4/50\n",
      "77/78 [============================>.] - ETA: 0s - loss: 4595.3931 - custom_score2: 6943056.0000\n",
      "Epoch 4: val_loss improved from 6079.70654 to 4584.04346, saving model to ./models/LSTMsmall/FD0001\n"
     ]
    },
    {
     "name": "stderr",
     "output_type": "stream",
     "text": [
      "WARNING:absl:Found untraced functions such as lstm_cell_4_layer_call_fn, lstm_cell_4_layer_call_and_return_conditional_losses, lstm_cell_5_layer_call_fn, lstm_cell_5_layer_call_and_return_conditional_losses while saving (showing 4 of 4). These functions will not be directly callable after loading.\n"
     ]
    },
    {
     "name": "stdout",
     "output_type": "stream",
     "text": [
      "INFO:tensorflow:Assets written to: ./models/LSTMsmall/FD0001/assets\n"
     ]
    },
    {
     "name": "stderr",
     "output_type": "stream",
     "text": [
      "INFO:tensorflow:Assets written to: ./models/LSTMsmall/FD0001/assets\n"
     ]
    },
    {
     "name": "stdout",
     "output_type": "stream",
     "text": [
      "78/78 [==============================] - 8s 107ms/step - loss: 4593.7759 - custom_score2: 6854498.0000 - val_loss: 4584.0435 - val_custom_score2: 77536968.0000\n",
      "Epoch 5/50\n",
      "77/78 [============================>.] - ETA: 0s - loss: 3722.7212 - custom_score2: 10495585.0000\n",
      "Epoch 5: val_loss improved from 4584.04346 to 3461.81006, saving model to ./models/LSTMsmall/FD0001\n"
     ]
    },
    {
     "name": "stderr",
     "output_type": "stream",
     "text": [
      "WARNING:absl:Found untraced functions such as lstm_cell_4_layer_call_fn, lstm_cell_4_layer_call_and_return_conditional_losses, lstm_cell_5_layer_call_fn, lstm_cell_5_layer_call_and_return_conditional_losses while saving (showing 4 of 4). These functions will not be directly callable after loading.\n"
     ]
    },
    {
     "name": "stdout",
     "output_type": "stream",
     "text": [
      "INFO:tensorflow:Assets written to: ./models/LSTMsmall/FD0001/assets\n"
     ]
    },
    {
     "name": "stderr",
     "output_type": "stream",
     "text": [
      "INFO:tensorflow:Assets written to: ./models/LSTMsmall/FD0001/assets\n"
     ]
    },
    {
     "name": "stdout",
     "output_type": "stream",
     "text": [
      "78/78 [==============================] - 8s 106ms/step - loss: 3723.9958 - custom_score2: 10362417.0000 - val_loss: 3461.8101 - val_custom_score2: 3761740.7500\n",
      "Epoch 6/50\n",
      "77/78 [============================>.] - ETA: 0s - loss: 3557.3877 - custom_score2: 70009816.0000\n",
      "Epoch 6: val_loss did not improve from 3461.81006\n",
      "78/78 [==============================] - 4s 48ms/step - loss: 3560.9163 - custom_score2: 69188152.0000 - val_loss: 3699.4714 - val_custom_score2: 1879830.2500\n",
      "Epoch 7/50\n",
      "78/78 [==============================] - ETA: 0s - loss: 3523.8320 - custom_score2: 65280132.0000\n",
      "Epoch 7: val_loss did not improve from 3461.81006\n",
      "78/78 [==============================] - 4s 49ms/step - loss: 3523.8320 - custom_score2: 65280132.0000 - val_loss: 3873.7676 - val_custom_score2: 5175315.0000\n",
      "Epoch 8/50\n",
      "77/78 [============================>.] - ETA: 0s - loss: 3484.7756 - custom_score2: 508703296.0000\n",
      "Epoch 8: val_loss improved from 3461.81006 to 3346.16479, saving model to ./models/LSTMsmall/FD0001\n"
     ]
    },
    {
     "name": "stderr",
     "output_type": "stream",
     "text": [
      "WARNING:absl:Found untraced functions such as lstm_cell_4_layer_call_fn, lstm_cell_4_layer_call_and_return_conditional_losses, lstm_cell_5_layer_call_fn, lstm_cell_5_layer_call_and_return_conditional_losses while saving (showing 4 of 4). These functions will not be directly callable after loading.\n"
     ]
    },
    {
     "name": "stdout",
     "output_type": "stream",
     "text": [
      "INFO:tensorflow:Assets written to: ./models/LSTMsmall/FD0001/assets\n"
     ]
    },
    {
     "name": "stderr",
     "output_type": "stream",
     "text": [
      "INFO:tensorflow:Assets written to: ./models/LSTMsmall/FD0001/assets\n"
     ]
    },
    {
     "name": "stdout",
     "output_type": "stream",
     "text": [
      "78/78 [==============================] - 10s 125ms/step - loss: 3485.0647 - custom_score2: 502188992.0000 - val_loss: 3346.1648 - val_custom_score2: 23094588.0000\n",
      "Epoch 9/50\n",
      "77/78 [============================>.] - ETA: 0s - loss: 3257.6648 - custom_score2: 7703922688.0000\n",
      "Epoch 9: val_loss improved from 3346.16479 to 3195.73657, saving model to ./models/LSTMsmall/FD0001\n"
     ]
    },
    {
     "name": "stderr",
     "output_type": "stream",
     "text": [
      "WARNING:absl:Found untraced functions such as lstm_cell_4_layer_call_fn, lstm_cell_4_layer_call_and_return_conditional_losses, lstm_cell_5_layer_call_fn, lstm_cell_5_layer_call_and_return_conditional_losses while saving (showing 4 of 4). These functions will not be directly callable after loading.\n"
     ]
    },
    {
     "name": "stdout",
     "output_type": "stream",
     "text": [
      "INFO:tensorflow:Assets written to: ./models/LSTMsmall/FD0001/assets\n"
     ]
    },
    {
     "name": "stderr",
     "output_type": "stream",
     "text": [
      "INFO:tensorflow:Assets written to: ./models/LSTMsmall/FD0001/assets\n"
     ]
    },
    {
     "name": "stdout",
     "output_type": "stream",
     "text": [
      "78/78 [==============================] - 8s 104ms/step - loss: 3256.7612 - custom_score2: 7605156352.0000 - val_loss: 3195.7366 - val_custom_score2: 931479680.0000\n",
      "Epoch 10/50\n",
      "77/78 [============================>.] - ETA: 0s - loss: 3196.5281 - custom_score2: 46437580800.0000\n",
      "Epoch 10: val_loss improved from 3195.73657 to 3110.51904, saving model to ./models/LSTMsmall/FD0001\n"
     ]
    },
    {
     "name": "stderr",
     "output_type": "stream",
     "text": [
      "WARNING:absl:Found untraced functions such as lstm_cell_4_layer_call_fn, lstm_cell_4_layer_call_and_return_conditional_losses, lstm_cell_5_layer_call_fn, lstm_cell_5_layer_call_and_return_conditional_losses while saving (showing 4 of 4). These functions will not be directly callable after loading.\n"
     ]
    },
    {
     "name": "stdout",
     "output_type": "stream",
     "text": [
      "INFO:tensorflow:Assets written to: ./models/LSTMsmall/FD0001/assets\n"
     ]
    },
    {
     "name": "stderr",
     "output_type": "stream",
     "text": [
      "INFO:tensorflow:Assets written to: ./models/LSTMsmall/FD0001/assets\n"
     ]
    },
    {
     "name": "stdout",
     "output_type": "stream",
     "text": [
      "78/78 [==============================] - 8s 105ms/step - loss: 3194.5376 - custom_score2: 45842227200.0000 - val_loss: 3110.5190 - val_custom_score2: 889432896.0000\n",
      "Epoch 11/50\n",
      "78/78 [==============================] - ETA: 0s - loss: 3174.7214 - custom_score2: 107274174464.0000\n",
      "Epoch 11: val_loss did not improve from 3110.51904\n",
      "78/78 [==============================] - 4s 46ms/step - loss: 3174.7214 - custom_score2: 107274174464.0000 - val_loss: 3353.6448 - val_custom_score2: 53497448.0000\n",
      "Epoch 12/50\n",
      "77/78 [============================>.] - ETA: 0s - loss: 3201.5356 - custom_score2: 98005147648.0000\n",
      "Epoch 12: val_loss improved from 3110.51904 to 3040.67749, saving model to ./models/LSTMsmall/FD0001\n"
     ]
    },
    {
     "name": "stderr",
     "output_type": "stream",
     "text": [
      "WARNING:absl:Found untraced functions such as lstm_cell_4_layer_call_fn, lstm_cell_4_layer_call_and_return_conditional_losses, lstm_cell_5_layer_call_fn, lstm_cell_5_layer_call_and_return_conditional_losses while saving (showing 4 of 4). These functions will not be directly callable after loading.\n"
     ]
    },
    {
     "name": "stdout",
     "output_type": "stream",
     "text": [
      "INFO:tensorflow:Assets written to: ./models/LSTMsmall/FD0001/assets\n"
     ]
    },
    {
     "name": "stderr",
     "output_type": "stream",
     "text": [
      "INFO:tensorflow:Assets written to: ./models/LSTMsmall/FD0001/assets\n"
     ]
    },
    {
     "name": "stdout",
     "output_type": "stream",
     "text": [
      "78/78 [==============================] - 8s 107ms/step - loss: 3200.7485 - custom_score2: 96748683264.0000 - val_loss: 3040.6775 - val_custom_score2: 51461988352.0000\n",
      "Epoch 13/50\n",
      "77/78 [============================>.] - ETA: 0s - loss: 3199.0132 - custom_score2: 198784909312.0000\n",
      "Epoch 13: val_loss did not improve from 3040.67749\n",
      "78/78 [==============================] - 4s 46ms/step - loss: 3200.4565 - custom_score2: 196236394496.0000 - val_loss: 3250.3374 - val_custom_score2: 175381408.0000\n",
      "Epoch 14/50\n",
      "77/78 [============================>.] - ETA: 0s - loss: 3104.6436 - custom_score2: 344434180096.0000\n",
      "Epoch 14: val_loss did not improve from 3040.67749\n",
      "78/78 [==============================] - 3s 43ms/step - loss: 3105.3865 - custom_score2: 340018364416.0000 - val_loss: 3404.3240 - val_custom_score2: 25366749184.0000\n",
      "Epoch 15/50\n",
      "77/78 [============================>.] - ETA: 0s - loss: 3075.3479 - custom_score2: 405437120512.0000\n",
      "Epoch 15: val_loss improved from 3040.67749 to 2912.22192, saving model to ./models/LSTMsmall/FD0001\n"
     ]
    },
    {
     "name": "stderr",
     "output_type": "stream",
     "text": [
      "WARNING:absl:Found untraced functions such as lstm_cell_4_layer_call_fn, lstm_cell_4_layer_call_and_return_conditional_losses, lstm_cell_5_layer_call_fn, lstm_cell_5_layer_call_and_return_conditional_losses while saving (showing 4 of 4). These functions will not be directly callable after loading.\n"
     ]
    },
    {
     "name": "stdout",
     "output_type": "stream",
     "text": [
      "INFO:tensorflow:Assets written to: ./models/LSTMsmall/FD0001/assets\n"
     ]
    },
    {
     "name": "stderr",
     "output_type": "stream",
     "text": [
      "INFO:tensorflow:Assets written to: ./models/LSTMsmall/FD0001/assets\n"
     ]
    },
    {
     "name": "stdout",
     "output_type": "stream",
     "text": [
      "78/78 [==============================] - 8s 104ms/step - loss: 3075.6924 - custom_score2: 401564172288.0000 - val_loss: 2912.2219 - val_custom_score2: 24419569664.0000\n",
      "Epoch 16/50\n",
      "77/78 [============================>.] - ETA: 0s - loss: 3134.6252 - custom_score2: 154119176192.0000\n",
      "Epoch 16: val_loss did not improve from 2912.22192\n",
      "78/78 [==============================] - 4s 48ms/step - loss: 3138.0825 - custom_score2: 152338137088.0000 - val_loss: 4048.2710 - val_custom_score2: 554432790528.0000\n",
      "Epoch 17/50\n",
      "77/78 [============================>.] - ETA: 0s - loss: 3377.7344 - custom_score2: 49563799552.0000\n",
      "Epoch 17: val_loss did not improve from 2912.22192\n",
      "78/78 [==============================] - 4s 49ms/step - loss: 3377.9299 - custom_score2: 48928366592.0000 - val_loss: 3115.7849 - val_custom_score2: 215022800.0000\n",
      "Epoch 18/50\n",
      "77/78 [============================>.] - ETA: 0s - loss: 3438.7170 - custom_score2: 11418422272.0000\n",
      "Epoch 18: val_loss did not improve from 2912.22192\n",
      "78/78 [==============================] - 4s 55ms/step - loss: 3439.4880 - custom_score2: 11275036672.0000 - val_loss: 3191.2839 - val_custom_score2: 183726768128.0000\n",
      "Epoch 19/50\n",
      "77/78 [============================>.] - ETA: 0s - loss: 3536.6809 - custom_score2: 2380904704.0000\n",
      "Epoch 19: val_loss did not improve from 2912.22192\n",
      "78/78 [==============================] - 4s 57ms/step - loss: 3537.7751 - custom_score2: 2358845440.0000 - val_loss: 3268.1875 - val_custom_score2: 608579712.0000\n",
      "Epoch 20/50\n",
      "77/78 [============================>.] - ETA: 0s - loss: 3195.5791 - custom_score2: 5514106880.0000\n",
      "Epoch 20: val_loss did not improve from 2912.22192\n",
      "78/78 [==============================] - 4s 48ms/step - loss: 3197.6257 - custom_score2: 5444695552.0000 - val_loss: 3192.6790 - val_custom_score2: 10018477056.0000\n"
     ]
    }
   ],
   "source": [
    "history_small = LSTMsmallModel.fit(\n",
    "    X_train, \n",
    "    y_train, \n",
    "    validation_data=(X_val, y_val), \n",
    "    epochs = EPOCHS,\n",
    "    batch_size = 256,\n",
    "    use_multiprocessing =True, \n",
    "    callbacks=[model_checkpoint, early_stopping])"
   ]
  },
  {
   "cell_type": "code",
   "execution_count": 14,
   "metadata": {},
   "outputs": [
    {
     "name": "stdout",
     "output_type": "stream",
     "text": [
      "Epoch 1/100\n",
      "618/618 [==============================] - ETA: 0s - loss: 6739.1763 - custom_score2: 64832245760.0000\n",
      "Epoch 1: val_loss improved from inf to 6207.61963, saving model to ./models/LSTMlarge/FD0001\n"
     ]
    },
    {
     "name": "stderr",
     "output_type": "stream",
     "text": [
      "WARNING:absl:Found untraced functions such as lstm_cell_layer_call_fn, lstm_cell_layer_call_and_return_conditional_losses, lstm_cell_1_layer_call_fn, lstm_cell_1_layer_call_and_return_conditional_losses, lstm_cell_2_layer_call_fn while saving (showing 5 of 8). These functions will not be directly callable after loading.\n"
     ]
    },
    {
     "name": "stdout",
     "output_type": "stream",
     "text": [
      "INFO:tensorflow:Assets written to: ./models/LSTMlarge/FD0001/assets\n"
     ]
    },
    {
     "name": "stderr",
     "output_type": "stream",
     "text": [
      "INFO:tensorflow:Assets written to: ./models/LSTMlarge/FD0001/assets\n"
     ]
    },
    {
     "name": "stdout",
     "output_type": "stream",
     "text": [
      "618/618 [==============================] - 52s 73ms/step - loss: 6739.1763 - custom_score2: 64832245760.0000 - val_loss: 6207.6196 - val_custom_score2: 456881.8125\n",
      "Epoch 2/100\n",
      "617/618 [============================>.] - ETA: 0s - loss: 6141.1606 - custom_score2: 531571.8750\n",
      "Epoch 2: val_loss improved from 6207.61963 to 6172.57764, saving model to ./models/LSTMlarge/FD0001\n"
     ]
    },
    {
     "name": "stderr",
     "output_type": "stream",
     "text": [
      "WARNING:absl:Found untraced functions such as lstm_cell_layer_call_fn, lstm_cell_layer_call_and_return_conditional_losses, lstm_cell_1_layer_call_fn, lstm_cell_1_layer_call_and_return_conditional_losses, lstm_cell_2_layer_call_fn while saving (showing 5 of 8). These functions will not be directly callable after loading.\n"
     ]
    },
    {
     "name": "stdout",
     "output_type": "stream",
     "text": [
      "INFO:tensorflow:Assets written to: ./models/LSTMlarge/FD0001/assets\n"
     ]
    },
    {
     "name": "stderr",
     "output_type": "stream",
     "text": [
      "INFO:tensorflow:Assets written to: ./models/LSTMlarge/FD0001/assets\n"
     ]
    },
    {
     "name": "stdout",
     "output_type": "stream",
     "text": [
      "618/618 [==============================] - 44s 72ms/step - loss: 6139.4253 - custom_score2: 530742.8125 - val_loss: 6172.5776 - val_custom_score2: 651121.7500\n",
      "Epoch 3/100\n",
      "618/618 [==============================] - ETA: 0s - loss: 6080.3647 - custom_score2: 427621.5938\n",
      "Epoch 3: val_loss did not improve from 6172.57764\n",
      "618/618 [==============================] - 34s 55ms/step - loss: 6080.3647 - custom_score2: 427621.5938 - val_loss: 6281.8823 - val_custom_score2: 78965.1719\n",
      "Epoch 4/100\n",
      "617/618 [============================>.] - ETA: 0s - loss: 6068.9326 - custom_score2: 407819.3438\n",
      "Epoch 4: val_loss did not improve from 6172.57764\n",
      "618/618 [==============================] - 36s 58ms/step - loss: 6072.5024 - custom_score2: 407279.0938 - val_loss: 6172.9526 - val_custom_score2: 141527.8438\n",
      "Epoch 5/100\n",
      "617/618 [============================>.] - ETA: 0s - loss: 6039.9204 - custom_score2: 325346.1562\n",
      "Epoch 5: val_loss did not improve from 6172.57764\n",
      "618/618 [==============================] - 35s 57ms/step - loss: 6038.0850 - custom_score2: 325011.5625 - val_loss: 6186.1167 - val_custom_score2: 781930.8750\n",
      "Epoch 6/100\n",
      "618/618 [==============================] - ETA: 0s - loss: 6028.5264 - custom_score2: 330287.0938\n",
      "Epoch 6: val_loss improved from 6172.57764 to 6115.83154, saving model to ./models/LSTMlarge/FD0001\n"
     ]
    },
    {
     "name": "stderr",
     "output_type": "stream",
     "text": [
      "WARNING:absl:Found untraced functions such as lstm_cell_layer_call_fn, lstm_cell_layer_call_and_return_conditional_losses, lstm_cell_1_layer_call_fn, lstm_cell_1_layer_call_and_return_conditional_losses, lstm_cell_2_layer_call_fn while saving (showing 5 of 8). These functions will not be directly callable after loading.\n"
     ]
    },
    {
     "name": "stdout",
     "output_type": "stream",
     "text": [
      "INFO:tensorflow:Assets written to: ./models/LSTMlarge/FD0001/assets\n"
     ]
    },
    {
     "name": "stderr",
     "output_type": "stream",
     "text": [
      "INFO:tensorflow:Assets written to: ./models/LSTMlarge/FD0001/assets\n"
     ]
    },
    {
     "name": "stdout",
     "output_type": "stream",
     "text": [
      "618/618 [==============================] - 47s 75ms/step - loss: 6028.5264 - custom_score2: 330287.0938 - val_loss: 6115.8315 - val_custom_score2: 298340.2188\n",
      "Epoch 7/100\n",
      "618/618 [==============================] - ETA: 0s - loss: 6011.5044 - custom_score2: 319558.4688\n",
      "Epoch 7: val_loss improved from 6115.83154 to 6115.45410, saving model to ./models/LSTMlarge/FD0001\n"
     ]
    },
    {
     "name": "stderr",
     "output_type": "stream",
     "text": [
      "WARNING:absl:Found untraced functions such as lstm_cell_layer_call_fn, lstm_cell_layer_call_and_return_conditional_losses, lstm_cell_1_layer_call_fn, lstm_cell_1_layer_call_and_return_conditional_losses, lstm_cell_2_layer_call_fn while saving (showing 5 of 8). These functions will not be directly callable after loading.\n"
     ]
    },
    {
     "name": "stdout",
     "output_type": "stream",
     "text": [
      "INFO:tensorflow:Assets written to: ./models/LSTMlarge/FD0001/assets\n"
     ]
    },
    {
     "name": "stderr",
     "output_type": "stream",
     "text": [
      "INFO:tensorflow:Assets written to: ./models/LSTMlarge/FD0001/assets\n"
     ]
    },
    {
     "name": "stdout",
     "output_type": "stream",
     "text": [
      "618/618 [==============================] - 44s 72ms/step - loss: 6011.5044 - custom_score2: 319558.4688 - val_loss: 6115.4541 - val_custom_score2: 298243.4062\n",
      "Epoch 8/100\n",
      "617/618 [============================>.] - ETA: 0s - loss: 6020.4790 - custom_score2: 320582.9375\n",
      "Epoch 8: val_loss did not improve from 6115.45410\n",
      "618/618 [==============================] - 35s 57ms/step - loss: 6019.8330 - custom_score2: 320132.0312 - val_loss: 6127.9824 - val_custom_score2: 215056.3906\n",
      "Epoch 9/100\n",
      "618/618 [==============================] - ETA: 0s - loss: 6031.4927 - custom_score2: 319699.2500\n",
      "Epoch 9: val_loss did not improve from 6115.45410\n",
      "618/618 [==============================] - 37s 60ms/step - loss: 6031.4927 - custom_score2: 319699.2500 - val_loss: 6118.4385 - val_custom_score2: 349676.4375\n",
      "Epoch 10/100\n",
      "618/618 [==============================] - ETA: 0s - loss: 6018.3311 - custom_score2: 320490.3125\n",
      "Epoch 10: val_loss improved from 6115.45410 to 6115.06445, saving model to ./models/LSTMlarge/FD0001\n"
     ]
    },
    {
     "name": "stderr",
     "output_type": "stream",
     "text": [
      "WARNING:absl:Found untraced functions such as lstm_cell_layer_call_fn, lstm_cell_layer_call_and_return_conditional_losses, lstm_cell_1_layer_call_fn, lstm_cell_1_layer_call_and_return_conditional_losses, lstm_cell_2_layer_call_fn while saving (showing 5 of 8). These functions will not be directly callable after loading.\n"
     ]
    },
    {
     "name": "stdout",
     "output_type": "stream",
     "text": [
      "INFO:tensorflow:Assets written to: ./models/LSTMlarge/FD0001/assets\n"
     ]
    },
    {
     "name": "stderr",
     "output_type": "stream",
     "text": [
      "INFO:tensorflow:Assets written to: ./models/LSTMlarge/FD0001/assets\n"
     ]
    },
    {
     "name": "stdout",
     "output_type": "stream",
     "text": [
      "618/618 [==============================] - 46s 74ms/step - loss: 6018.3311 - custom_score2: 320490.3125 - val_loss: 6115.0645 - val_custom_score2: 308753.0938\n",
      "Epoch 11/100\n",
      "618/618 [==============================] - ETA: 0s - loss: 6010.9487 - custom_score2: 318703.1875\n",
      "Epoch 11: val_loss did not improve from 6115.06445\n",
      "618/618 [==============================] - 35s 57ms/step - loss: 6010.9487 - custom_score2: 318703.1875 - val_loss: 6146.5454 - val_custom_score2: 171605.2188\n",
      "Epoch 12/100\n",
      "617/618 [============================>.] - ETA: 0s - loss: 6022.0967 - custom_score2: 322979.0625\n",
      "Epoch 12: val_loss did not improve from 6115.06445\n",
      "618/618 [==============================] - 34s 56ms/step - loss: 6021.7397 - custom_score2: 322460.7188 - val_loss: 6173.5015 - val_custom_score2: 136936.1406\n",
      "Epoch 13/100\n",
      "618/618 [==============================] - ETA: 0s - loss: 6018.5347 - custom_score2: 315124.9062\n",
      "Epoch 13: val_loss improved from 6115.06445 to 6115.06201, saving model to ./models/LSTMlarge/FD0001\n"
     ]
    },
    {
     "name": "stderr",
     "output_type": "stream",
     "text": [
      "WARNING:absl:Found untraced functions such as lstm_cell_layer_call_fn, lstm_cell_layer_call_and_return_conditional_losses, lstm_cell_1_layer_call_fn, lstm_cell_1_layer_call_and_return_conditional_losses, lstm_cell_2_layer_call_fn while saving (showing 5 of 8). These functions will not be directly callable after loading.\n"
     ]
    },
    {
     "name": "stdout",
     "output_type": "stream",
     "text": [
      "INFO:tensorflow:Assets written to: ./models/LSTMlarge/FD0001/assets\n"
     ]
    },
    {
     "name": "stderr",
     "output_type": "stream",
     "text": [
      "INFO:tensorflow:Assets written to: ./models/LSTMlarge/FD0001/assets\n"
     ]
    },
    {
     "name": "stdout",
     "output_type": "stream",
     "text": [
      "618/618 [==============================] - 47s 77ms/step - loss: 6018.5347 - custom_score2: 315124.9062 - val_loss: 6115.0620 - val_custom_score2: 326739.5000\n",
      "Epoch 14/100\n",
      "618/618 [==============================] - ETA: 0s - loss: 6017.0645 - custom_score2: 309243.8125\n",
      "Epoch 14: val_loss did not improve from 6115.06201\n",
      "618/618 [==============================] - 39s 62ms/step - loss: 6017.0645 - custom_score2: 309243.8125 - val_loss: 6115.5898 - val_custom_score2: 296193.4375\n",
      "Epoch 15/100\n",
      "618/618 [==============================] - ETA: 0s - loss: 6016.1807 - custom_score2: 315945.7188\n",
      "Epoch 15: val_loss did not improve from 6115.06201\n",
      "618/618 [==============================] - 46s 74ms/step - loss: 6016.1807 - custom_score2: 315945.7188 - val_loss: 6115.2422 - val_custom_score2: 330412.6562\n",
      "Epoch 16/100\n",
      "618/618 [==============================] - ETA: 0s - loss: 6019.8711 - custom_score2: 319661.3750\n",
      "Epoch 16: val_loss did not improve from 6115.06201\n",
      "618/618 [==============================] - 37s 59ms/step - loss: 6019.8711 - custom_score2: 319661.3750 - val_loss: 6119.2754 - val_custom_score2: 255401.3906\n",
      "Epoch 17/100\n",
      "617/618 [============================>.] - ETA: 0s - loss: 6018.7773 - custom_score2: 319307.5000\n",
      "Epoch 17: val_loss did not improve from 6115.06201\n",
      "618/618 [==============================] - 38s 62ms/step - loss: 6018.3813 - custom_score2: 318837.7812 - val_loss: 6115.2988 - val_custom_score2: 308610.8125\n",
      "Epoch 18/100\n",
      "617/618 [============================>.] - ETA: 0s - loss: 6016.9497 - custom_score2: 315931.1562\n",
      "Epoch 18: val_loss did not improve from 6115.06201\n",
      "618/618 [==============================] - 38s 62ms/step - loss: 6016.2100 - custom_score2: 315706.1250 - val_loss: 6117.1094 - val_custom_score2: 274488.6250\n"
     ]
    }
   ],
   "source": [
    "model_checkpoint = ModelCheckpoint(\n",
    "    path_large,\n",
    "    monitor='val_loss',\n",
    "    verbose=1,\n",
    "    save_best_only=True,\n",
    "    save_weights_only=False,\n",
    "    mode='auto',\n",
    "\n",
    ")\n",
    "history_large = LSTMlargeModel.fit(\n",
    "    X_train, \n",
    "    y_train, \n",
    "    validation_data=(X_val, y_val), \n",
    "    epochs = 100,\n",
    "    batch_size = 32,\n",
    "    use_multiprocessing =True, \n",
    "    callbacks=[model_checkpoint, early_stopping])"
   ]
  }
 ],
 "metadata": {
  "kernelspec": {
   "display_name": "tensorflowEnv",
   "language": "python",
   "name": "python3"
  },
  "language_info": {
   "codemirror_mode": {
    "name": "ipython",
    "version": 3
   },
   "file_extension": ".py",
   "mimetype": "text/x-python",
   "name": "python",
   "nbconvert_exporter": "python",
   "pygments_lexer": "ipython3",
   "version": "3.9.15"
  },
  "orig_nbformat": 4
 },
 "nbformat": 4,
 "nbformat_minor": 2
}
