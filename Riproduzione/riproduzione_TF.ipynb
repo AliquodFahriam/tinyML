{
 "cells": [
  {
   "cell_type": "markdown",
   "metadata": {},
   "source": [
    "# Riproduzione modelli e addestramento"
   ]
  },
  {
   "cell_type": "code",
   "execution_count": 1,
   "metadata": {},
   "outputs": [],
   "source": [
    "import pandas as pd \n",
    "import numpy as np\n",
    "import os\n",
    "dataset_folder = 'dataset_new'"
   ]
  },
  {
   "cell_type": "code",
   "execution_count": 2,
   "metadata": {},
   "outputs": [],
   "source": [
    "sensors = ['sensor2', 'sensor3', 'sensor4','sensor6','sensor7','sensor8','sensor9','sensor11','sensor12','sensor13','sensor14',\n",
    "           'sensor15','sensor17','sensor20', 'sensor21']"
   ]
  },
  {
   "cell_type": "code",
   "execution_count": 3,
   "metadata": {},
   "outputs": [
    {
     "data": {
      "text/html": [
       "<div>\n",
       "<style scoped>\n",
       "    .dataframe tbody tr th:only-of-type {\n",
       "        vertical-align: middle;\n",
       "    }\n",
       "\n",
       "    .dataframe tbody tr th {\n",
       "        vertical-align: top;\n",
       "    }\n",
       "\n",
       "    .dataframe thead th {\n",
       "        text-align: right;\n",
       "    }\n",
       "</style>\n",
       "<table border=\"1\" class=\"dataframe\">\n",
       "  <thead>\n",
       "    <tr style=\"text-align: right;\">\n",
       "      <th></th>\n",
       "      <th>unit_number</th>\n",
       "      <th>time_cycle</th>\n",
       "      <th>op_setting1</th>\n",
       "      <th>op_setting2</th>\n",
       "      <th>op_setting3</th>\n",
       "      <th>RUL</th>\n",
       "      <th>sensor2</th>\n",
       "      <th>sensor3</th>\n",
       "      <th>sensor4</th>\n",
       "      <th>sensor6</th>\n",
       "      <th>...</th>\n",
       "      <th>sensor8</th>\n",
       "      <th>sensor9</th>\n",
       "      <th>sensor11</th>\n",
       "      <th>sensor12</th>\n",
       "      <th>sensor13</th>\n",
       "      <th>sensor14</th>\n",
       "      <th>sensor15</th>\n",
       "      <th>sensor17</th>\n",
       "      <th>sensor20</th>\n",
       "      <th>sensor21</th>\n",
       "    </tr>\n",
       "  </thead>\n",
       "  <tbody>\n",
       "    <tr>\n",
       "      <th>0</th>\n",
       "      <td>1.0</td>\n",
       "      <td>1.0</td>\n",
       "      <td>-0.0005</td>\n",
       "      <td>0.0004</td>\n",
       "      <td>100.0</td>\n",
       "      <td>258.0</td>\n",
       "      <td>0.355972</td>\n",
       "      <td>0.370523</td>\n",
       "      <td>0.308580</td>\n",
       "      <td>1.0</td>\n",
       "      <td>...</td>\n",
       "      <td>0.623529</td>\n",
       "      <td>0.204233</td>\n",
       "      <td>0.348571</td>\n",
       "      <td>0.231279</td>\n",
       "      <td>0.642857</td>\n",
       "      <td>0.239116</td>\n",
       "      <td>0.647755</td>\n",
       "      <td>0.272727</td>\n",
       "      <td>0.559524</td>\n",
       "      <td>0.446331</td>\n",
       "    </tr>\n",
       "    <tr>\n",
       "      <th>1</th>\n",
       "      <td>1.0</td>\n",
       "      <td>2.0</td>\n",
       "      <td>0.0008</td>\n",
       "      <td>-0.0003</td>\n",
       "      <td>100.0</td>\n",
       "      <td>257.0</td>\n",
       "      <td>0.388759</td>\n",
       "      <td>0.399100</td>\n",
       "      <td>0.309360</td>\n",
       "      <td>1.0</td>\n",
       "      <td>...</td>\n",
       "      <td>0.647059</td>\n",
       "      <td>0.202431</td>\n",
       "      <td>0.308571</td>\n",
       "      <td>0.236882</td>\n",
       "      <td>0.654762</td>\n",
       "      <td>0.278567</td>\n",
       "      <td>0.685659</td>\n",
       "      <td>0.363636</td>\n",
       "      <td>0.488095</td>\n",
       "      <td>0.534836</td>\n",
       "    </tr>\n",
       "    <tr>\n",
       "      <th>2</th>\n",
       "      <td>1.0</td>\n",
       "      <td>3.0</td>\n",
       "      <td>-0.0014</td>\n",
       "      <td>-0.0002</td>\n",
       "      <td>100.0</td>\n",
       "      <td>256.0</td>\n",
       "      <td>0.313817</td>\n",
       "      <td>0.353298</td>\n",
       "      <td>0.445398</td>\n",
       "      <td>1.0</td>\n",
       "      <td>...</td>\n",
       "      <td>0.664706</td>\n",
       "      <td>0.241484</td>\n",
       "      <td>0.302857</td>\n",
       "      <td>0.217015</td>\n",
       "      <td>0.636905</td>\n",
       "      <td>0.264526</td>\n",
       "      <td>0.564462</td>\n",
       "      <td>0.272727</td>\n",
       "      <td>0.404762</td>\n",
       "      <td>0.458577</td>\n",
       "    </tr>\n",
       "    <tr>\n",
       "      <th>3</th>\n",
       "      <td>1.0</td>\n",
       "      <td>4.0</td>\n",
       "      <td>-0.0020</td>\n",
       "      <td>0.0001</td>\n",
       "      <td>100.0</td>\n",
       "      <td>255.0</td>\n",
       "      <td>0.487119</td>\n",
       "      <td>0.417107</td>\n",
       "      <td>0.237285</td>\n",
       "      <td>1.0</td>\n",
       "      <td>...</td>\n",
       "      <td>0.647059</td>\n",
       "      <td>0.215326</td>\n",
       "      <td>0.314286</td>\n",
       "      <td>0.240448</td>\n",
       "      <td>0.684524</td>\n",
       "      <td>0.245612</td>\n",
       "      <td>0.558909</td>\n",
       "      <td>0.363636</td>\n",
       "      <td>0.470238</td>\n",
       "      <td>0.391966</td>\n",
       "    </tr>\n",
       "    <tr>\n",
       "      <th>4</th>\n",
       "      <td>1.0</td>\n",
       "      <td>5.0</td>\n",
       "      <td>0.0016</td>\n",
       "      <td>0.0000</td>\n",
       "      <td>100.0</td>\n",
       "      <td>254.0</td>\n",
       "      <td>0.196721</td>\n",
       "      <td>0.476218</td>\n",
       "      <td>0.321217</td>\n",
       "      <td>1.0</td>\n",
       "      <td>...</td>\n",
       "      <td>0.670588</td>\n",
       "      <td>0.268799</td>\n",
       "      <td>0.262857</td>\n",
       "      <td>0.245033</td>\n",
       "      <td>0.654762</td>\n",
       "      <td>0.252109</td>\n",
       "      <td>0.556736</td>\n",
       "      <td>0.363636</td>\n",
       "      <td>0.577381</td>\n",
       "      <td>0.543371</td>\n",
       "    </tr>\n",
       "  </tbody>\n",
       "</table>\n",
       "<p>5 rows × 21 columns</p>\n",
       "</div>"
      ],
      "text/plain": [
       "   unit_number  time_cycle  op_setting1  op_setting2  op_setting3    RUL  \\\n",
       "0          1.0         1.0      -0.0005       0.0004        100.0  258.0   \n",
       "1          1.0         2.0       0.0008      -0.0003        100.0  257.0   \n",
       "2          1.0         3.0      -0.0014      -0.0002        100.0  256.0   \n",
       "3          1.0         4.0      -0.0020       0.0001        100.0  255.0   \n",
       "4          1.0         5.0       0.0016       0.0000        100.0  254.0   \n",
       "\n",
       "    sensor2   sensor3   sensor4  sensor6  ...   sensor8   sensor9  sensor11  \\\n",
       "0  0.355972  0.370523  0.308580      1.0  ...  0.623529  0.204233  0.348571   \n",
       "1  0.388759  0.399100  0.309360      1.0  ...  0.647059  0.202431  0.308571   \n",
       "2  0.313817  0.353298  0.445398      1.0  ...  0.664706  0.241484  0.302857   \n",
       "3  0.487119  0.417107  0.237285      1.0  ...  0.647059  0.215326  0.314286   \n",
       "4  0.196721  0.476218  0.321217      1.0  ...  0.670588  0.268799  0.262857   \n",
       "\n",
       "   sensor12  sensor13  sensor14  sensor15  sensor17  sensor20  sensor21  \n",
       "0  0.231279  0.642857  0.239116  0.647755  0.272727  0.559524  0.446331  \n",
       "1  0.236882  0.654762  0.278567  0.685659  0.363636  0.488095  0.534836  \n",
       "2  0.217015  0.636905  0.264526  0.564462  0.272727  0.404762  0.458577  \n",
       "3  0.240448  0.684524  0.245612  0.558909  0.363636  0.470238  0.391966  \n",
       "4  0.245033  0.654762  0.252109  0.556736  0.363636  0.577381  0.543371  \n",
       "\n",
       "[5 rows x 21 columns]"
      ]
     },
     "execution_count": 3,
     "metadata": {},
     "output_type": "execute_result"
    }
   ],
   "source": [
    "train = []\n",
    "files = os.listdir(dataset_folder)\n",
    "train_files = [file for file in files if file.startswith('scaled')]\n",
    "\n",
    "for file in files: \n",
    "    path_to_file = dataset_folder + '/'+file\n",
    "    df = pd.read_csv(path_to_file, index_col=0) #index_col = 0 perché sennò viene aggiunta la colonna unnamed. \n",
    "    train.append(df)\n",
    "\n",
    "train[0].head() \n"
   ]
  },
  {
   "cell_type": "markdown",
   "metadata": {},
   "source": [
    "Proviamo, al contrario di quanto fatto in precedenza, ad addestrare le reti in maniera separata sulle 4 componenti del dataframe e poi confrontare i dati "
   ]
  },
  {
   "cell_type": "code",
   "execution_count": 4,
   "metadata": {},
   "outputs": [
    {
     "name": "stderr",
     "output_type": "stream",
     "text": [
      "2023-09-17 12:11:35.091003: I tensorflow/core/platform/cpu_feature_guard.cc:193] This TensorFlow binary is optimized with oneAPI Deep Neural Network Library (oneDNN) to use the following CPU instructions in performance-critical operations:  AVX2 FMA\n",
      "To enable them in other operations, rebuild TensorFlow with the appropriate compiler flags.\n",
      "2023-09-17 12:11:36.433028: W tensorflow/compiler/xla/stream_executor/platform/default/dso_loader.cc:64] Could not load dynamic library 'libnvinfer.so.7'; dlerror: libnvinfer.so.7: cannot open shared object file: No such file or directory; LD_LIBRARY_PATH: :/usr/local/cuda-11.2/lib64:/usr/local/cuda-11.2/extras/CUPTI/lib64:/home/aliquodfahriam/miniconda3/envs/tensorflowEnv/lib/\n",
      "2023-09-17 12:11:36.433369: W tensorflow/compiler/xla/stream_executor/platform/default/dso_loader.cc:64] Could not load dynamic library 'libnvinfer_plugin.so.7'; dlerror: libnvinfer_plugin.so.7: cannot open shared object file: No such file or directory; LD_LIBRARY_PATH: :/usr/local/cuda-11.2/lib64:/usr/local/cuda-11.2/extras/CUPTI/lib64:/home/aliquodfahriam/miniconda3/envs/tensorflowEnv/lib/\n",
      "2023-09-17 12:11:36.433375: W tensorflow/compiler/tf2tensorrt/utils/py_utils.cc:38] TF-TRT Warning: Cannot dlopen some TensorRT libraries. If you would like to use Nvidia GPU with TensorRT, please make sure the missing libraries mentioned above are installed properly.\n"
     ]
    }
   ],
   "source": [
    "##Preparo i dati di FD0001 per l'input. \n",
    "sequence_length = 30 #Rappresenta i Time Steps del layer di input\n",
    "\n",
    "from keras.utils import pad_sequences\n",
    "\n",
    "columns_to_keep = sensors \n",
    "columns_to_keep.append('RUL')\n",
    "df = train[0]\n",
    "selected_columns = df[sensors]\n",
    "dataset_array = selected_columns.values\n",
    "\n",
    "\n",
    "\n",
    "sequences = [dataset_array[i:i+sequence_length] for i in range(len(dataset_array) - sequence_length + 1)]\n",
    "\n",
    "sequences_padded = pad_sequences(sequences, maxlen=sequence_length, dtype='float32', padding='post')\n",
    "\n",
    "X = sequences_padded[:, :, :-1]\n",
    "y = sequences_padded[:, :, -1]\n"
   ]
  },
  {
   "cell_type": "code",
   "execution_count": 5,
   "metadata": {},
   "outputs": [
    {
     "name": "stdout",
     "output_type": "stream",
     "text": [
      "(24691, 30, 15) (24691, 30)\n"
     ]
    }
   ],
   "source": [
    "print(X.shape, y.shape)"
   ]
  },
  {
   "cell_type": "code",
   "execution_count": 6,
   "metadata": {},
   "outputs": [],
   "source": [
    "#Splitting del dataset\n",
    "from sklearn.model_selection import train_test_split\n",
    "X_train, X_val, y_train, y_val = train_test_split(X, y, test_size=0.2, random_state=42)"
   ]
  },
  {
   "cell_type": "code",
   "execution_count": 7,
   "metadata": {},
   "outputs": [],
   "source": [
    "from keras import backend as K \n",
    "import tensorflow as tf \n",
    "import math \n",
    "def root_mean_squared_error(y_true, y_pred):\n",
    "        return K.sqrt(K.mean(K.square(y_pred - y_true))) \n",
    "\n",
    "\n",
    "# def custom_score(y_true, y_pred):\n",
    "#      sum = 0 \n",
    "#      for true, predicted in zip(y_true, y_pred): \n",
    "#           d_i = predicted - true\n",
    "#           if d_i < 0:\n",
    "#              esponente = 1/(d_i/13)\n",
    "#              sum += (math.e ** esponente) -1 \n",
    "#           else: \n",
    "#              esponente =  d_i/10\n",
    "#              sum += (math.e ** esponente) -1 \n",
    "     \n",
    "#      return sum \n",
    "\n",
    "@tf.function\n",
    "def custom_score2(y_true, y_pred):\n",
    "    d_i = y_pred - y_true\n",
    "    esponente = tf.where(d_i < 0, 1.0 / (d_i / 13.0), d_i / 10.0)\n",
    "    sum = tf.reduce_sum(tf.exp(esponente) - 1.0)\n",
    "    \n",
    "    return sum\n"
   ]
  },
  {
   "cell_type": "code",
   "execution_count": 8,
   "metadata": {},
   "outputs": [],
   "source": [
    "from keras import regularizers\n",
    "from keras.models import Sequential\n",
    "from keras.layers import LSTM\n",
    "from keras.layers import Dense\n",
    "from keras.layers import Activation\n",
    "from keras.layers import Dropout\n",
    "from keras.layers import Flatten\n",
    "\n",
    "#Replica della rete neurale proposta come \"small LSTM\"\n",
    "def createLSTMsmallModel(l1Nodes, l2Nodes, d1Nodes, d2Nodes, input_shape):\n",
    "    # input layer\n",
    "    lstm1 = LSTM(l1Nodes, input_shape=input_shape, return_sequences=True, kernel_regularizer=regularizers.l2(0.1))\n",
    "    \n",
    "    lstm2 = LSTM(l2Nodes, return_sequences=True, kernel_regularizer=regularizers.l2(0.1))    \n",
    "    flatten = Flatten()\n",
    "    dense1 = Dense(d1Nodes, activation='relu', kernel_regularizer=regularizers.l2(0.1))\n",
    "    dense2 = Dense(d2Nodes, activation='relu', kernel_regularizer=regularizers.l2(0.1))\n",
    "    \n",
    "    # output layer\n",
    "    outL = Dense(1, activation='relu', kernel_regularizer=regularizers.l2(0.1))\n",
    "    \n",
    "    #layers\n",
    "    layers = [lstm1, lstm2,flatten,  dense1, dense2, outL]\n",
    "    \n",
    "    model = Sequential(layers)\n",
    "    #Abbiamo aggiunto le nostre funzioni di loss e accuracy definite precedentemente\n",
    "    model.compile(optimizer='adam', loss=root_mean_squared_error, metrics = ['accuracy', custom_score2] )\n",
    "    return model\n",
    "\n",
    "\n",
    "def createLSTMlargeModel(l1Nodes, l2Nodes, l3Nodes, l4Nodes, d1dense , d2dense, input_shape): \n",
    "    lstm1 = LSTM(l1Nodes, input_shape=input_shape, return_sequences=True, kernel_regularizer=regularizers.l2(0.1))\n",
    "    d1 = Dropout(0.2)\n",
    "    lstm2 = LSTM(l2Nodes, return_sequences=True, kernel_regularizer=regularizers.l2(0.1))\n",
    "    d2 = Dropout(0.2)\n",
    "    lstm3 = LSTM(l3Nodes, return_sequences=True, kernel_regularizer=regularizers.l2(0.1))\n",
    "    d3 = Dropout(0.2)\n",
    "    lstm4 = LSTM(l4Nodes, return_sequences=True, kernel_regularizer=regularizers.l2(0.1))\n",
    "    d4 = Dropout(0.2)\n",
    "\n",
    "    flatten = Flatten()\n",
    "\n",
    "    dense1 = Dense(d1dense,activation='relu', kernel_regularizer=regularizers.l2(0.1))\n",
    "    dense2 = Dense(d2dense,activation='relu', kernel_regularizer=regularizers.l2(0.1))\n",
    "    output_dense = Dense(1,activation='relu', kernel_regularizer=regularizers.l2(0.1))\n",
    "\n",
    "    layers = [lstm1,d1, lstm2,d2, lstm3, d3, lstm4, d4,flatten,  dense1, dense2, output_dense]\n",
    "\n",
    "    model = Sequential(layers)\n",
    "    model.compile(optimizer='adam', loss=root_mean_squared_error, metrics = ['accuracy', custom_score2])\n",
    "    return model\n"
   ]
  },
  {
   "cell_type": "code",
   "execution_count": 9,
   "metadata": {},
   "outputs": [
    {
     "name": "stderr",
     "output_type": "stream",
     "text": [
      "2023-09-17 12:11:37.918525: I tensorflow/compiler/xla/stream_executor/cuda/cuda_gpu_executor.cc:981] successful NUMA node read from SysFS had negative value (-1), but there must be at least one NUMA node, so returning NUMA node zero\n",
      "2023-09-17 12:11:37.960782: I tensorflow/compiler/xla/stream_executor/cuda/cuda_gpu_executor.cc:981] successful NUMA node read from SysFS had negative value (-1), but there must be at least one NUMA node, so returning NUMA node zero\n",
      "2023-09-17 12:11:37.960976: I tensorflow/compiler/xla/stream_executor/cuda/cuda_gpu_executor.cc:981] successful NUMA node read from SysFS had negative value (-1), but there must be at least one NUMA node, so returning NUMA node zero\n",
      "2023-09-17 12:11:37.961928: I tensorflow/core/platform/cpu_feature_guard.cc:193] This TensorFlow binary is optimized with oneAPI Deep Neural Network Library (oneDNN) to use the following CPU instructions in performance-critical operations:  AVX2 FMA\n",
      "To enable them in other operations, rebuild TensorFlow with the appropriate compiler flags.\n",
      "2023-09-17 12:11:37.963471: I tensorflow/compiler/xla/stream_executor/cuda/cuda_gpu_executor.cc:981] successful NUMA node read from SysFS had negative value (-1), but there must be at least one NUMA node, so returning NUMA node zero\n",
      "2023-09-17 12:11:37.963702: I tensorflow/compiler/xla/stream_executor/cuda/cuda_gpu_executor.cc:981] successful NUMA node read from SysFS had negative value (-1), but there must be at least one NUMA node, so returning NUMA node zero\n",
      "2023-09-17 12:11:37.963832: I tensorflow/compiler/xla/stream_executor/cuda/cuda_gpu_executor.cc:981] successful NUMA node read from SysFS had negative value (-1), but there must be at least one NUMA node, so returning NUMA node zero\n",
      "2023-09-17 12:11:38.753113: I tensorflow/compiler/xla/stream_executor/cuda/cuda_gpu_executor.cc:981] successful NUMA node read from SysFS had negative value (-1), but there must be at least one NUMA node, so returning NUMA node zero\n",
      "2023-09-17 12:11:38.753798: I tensorflow/compiler/xla/stream_executor/cuda/cuda_gpu_executor.cc:981] successful NUMA node read from SysFS had negative value (-1), but there must be at least one NUMA node, so returning NUMA node zero\n",
      "2023-09-17 12:11:38.753951: I tensorflow/compiler/xla/stream_executor/cuda/cuda_gpu_executor.cc:981] successful NUMA node read from SysFS had negative value (-1), but there must be at least one NUMA node, so returning NUMA node zero\n",
      "2023-09-17 12:11:38.754548: I tensorflow/core/common_runtime/gpu/gpu_device.cc:1613] Created device /job:localhost/replica:0/task:0/device:GPU:0 with 4267 MB memory:  -> device: 0, name: NVIDIA GeForce RTX 2060 with Max-Q Design, pci bus id: 0000:01:00.0, compute capability: 7.5\n"
     ]
    }
   ],
   "source": [
    "LSTMlargeModel= createLSTMlargeModel(128, 64, 32, 16, 64, 32, (30,15))\n",
    "LSTMsmallModel = createLSTMsmallModel(60, 30, 30, 15, (30, 15)) "
   ]
  },
  {
   "cell_type": "code",
   "execution_count": 10,
   "metadata": {},
   "outputs": [
    {
     "name": "stdout",
     "output_type": "stream",
     "text": [
      "Model: \"sequential_1\"\n",
      "_________________________________________________________________\n",
      " Layer (type)                Output Shape              Param #   \n",
      "=================================================================\n",
      " lstm_4 (LSTM)               (None, 30, 60)            18240     \n",
      "                                                                 \n",
      " lstm_5 (LSTM)               (None, 30, 30)            10920     \n",
      "                                                                 \n",
      " flatten_1 (Flatten)         (None, 900)               0         \n",
      "                                                                 \n",
      " dense_3 (Dense)             (None, 30)                27030     \n",
      "                                                                 \n",
      " dense_4 (Dense)             (None, 15)                465       \n",
      "                                                                 \n",
      " dense_5 (Dense)             (None, 1)                 16        \n",
      "                                                                 \n",
      "=================================================================\n",
      "Total params: 56,671\n",
      "Trainable params: 56,671\n",
      "Non-trainable params: 0\n",
      "_________________________________________________________________\n"
     ]
    }
   ],
   "source": [
    "LSTMsmallModel.summary()"
   ]
  },
  {
   "cell_type": "code",
   "execution_count": 11,
   "metadata": {},
   "outputs": [
    {
     "name": "stdout",
     "output_type": "stream",
     "text": [
      "Model: \"sequential\"\n",
      "_________________________________________________________________\n",
      " Layer (type)                Output Shape              Param #   \n",
      "=================================================================\n",
      " lstm (LSTM)                 (None, 30, 128)           73728     \n",
      "                                                                 \n",
      " dropout (Dropout)           (None, 30, 128)           0         \n",
      "                                                                 \n",
      " lstm_1 (LSTM)               (None, 30, 64)            49408     \n",
      "                                                                 \n",
      " dropout_1 (Dropout)         (None, 30, 64)            0         \n",
      "                                                                 \n",
      " lstm_2 (LSTM)               (None, 30, 32)            12416     \n",
      "                                                                 \n",
      " dropout_2 (Dropout)         (None, 30, 32)            0         \n",
      "                                                                 \n",
      " lstm_3 (LSTM)               (None, 30, 16)            3136      \n",
      "                                                                 \n",
      " dropout_3 (Dropout)         (None, 30, 16)            0         \n",
      "                                                                 \n",
      " flatten (Flatten)           (None, 480)               0         \n",
      "                                                                 \n",
      " dense (Dense)               (None, 64)                30784     \n",
      "                                                                 \n",
      " dense_1 (Dense)             (None, 32)                2080      \n",
      "                                                                 \n",
      " dense_2 (Dense)             (None, 1)                 33        \n",
      "                                                                 \n",
      "=================================================================\n",
      "Total params: 171,585\n",
      "Trainable params: 171,585\n",
      "Non-trainable params: 0\n",
      "_________________________________________________________________\n"
     ]
    }
   ],
   "source": [
    "LSTMlargeModel.summary()"
   ]
  },
  {
   "cell_type": "code",
   "execution_count": 12,
   "metadata": {},
   "outputs": [],
   "source": [
    "from keras.callbacks import ModelCheckpoint, EarlyStopping\n",
    "from keras.models import load_model, save_model\n",
    "\n",
    "EPOCHS = 100\n",
    "\n",
    "path_small = './models/LSTMsmall/FD0001'\n",
    "path_large = './models/LSTMlarge/FD0001'\n",
    "\n",
    "\n",
    "model_checkpoint = ModelCheckpoint(\n",
    "    path_small,\n",
    "    monitor='val_loss',\n",
    "    verbose=1,\n",
    "    save_best_only=True,\n",
    "    save_weights_only=False,\n",
    "    mode='auto',\n",
    "\n",
    ")\n",
    "\n",
    "\n",
    "early_stopping = EarlyStopping(\n",
    "    patience=5,\n",
    "    min_delta=0.001,\n",
    "    restore_best_weights=True,\n",
    ")\n",
    "\n"
   ]
  },
  {
   "cell_type": "code",
   "execution_count": 13,
   "metadata": {},
   "outputs": [
    {
     "name": "stdout",
     "output_type": "stream",
     "text": [
      "Epoch 1/100\n"
     ]
    },
    {
     "name": "stderr",
     "output_type": "stream",
     "text": [
      "2023-09-17 12:11:43.280276: I tensorflow/compiler/xla/stream_executor/cuda/cuda_dnn.cc:428] Loaded cuDNN version 8100\n"
     ]
    },
    {
     "name": "stdout",
     "output_type": "stream",
     "text": [
      "614/618 [============================>.] - ETA: 0s - loss: 100.3836 - accuracy: 0.0041 - custom_score2: 811592960.0000\n",
      "Epoch 1: val_loss improved from inf to 76.89383, saving model to ./models/LSTMsmall/FD0001\n"
     ]
    },
    {
     "name": "stderr",
     "output_type": "stream",
     "text": [
      "WARNING:absl:Found untraced functions such as lstm_cell_4_layer_call_fn, lstm_cell_4_layer_call_and_return_conditional_losses, lstm_cell_5_layer_call_fn, lstm_cell_5_layer_call_and_return_conditional_losses while saving (showing 4 of 4). These functions will not be directly callable after loading.\n"
     ]
    },
    {
     "name": "stdout",
     "output_type": "stream",
     "text": [
      "INFO:tensorflow:Assets written to: ./models/LSTMsmall/FD0001/assets\n"
     ]
    },
    {
     "name": "stderr",
     "output_type": "stream",
     "text": [
      "INFO:tensorflow:Assets written to: ./models/LSTMsmall/FD0001/assets\n"
     ]
    },
    {
     "name": "stdout",
     "output_type": "stream",
     "text": [
      "618/618 [==============================] - 14s 16ms/step - loss: 100.2453 - accuracy: 0.0041 - custom_score2: 819331904.0000 - val_loss: 76.8938 - val_accuracy: 0.0038 - val_custom_score2: 992118080.0000\n",
      "Epoch 2/100\n",
      "615/618 [============================>.] - ETA: 0s - loss: 71.4930 - accuracy: 0.0041 - custom_score2: 126845861888.0000\n",
      "Epoch 2: val_loss improved from 76.89383 to 70.93401, saving model to ./models/LSTMsmall/FD0001\n"
     ]
    },
    {
     "name": "stderr",
     "output_type": "stream",
     "text": [
      "WARNING:absl:Found untraced functions such as lstm_cell_4_layer_call_fn, lstm_cell_4_layer_call_and_return_conditional_losses, lstm_cell_5_layer_call_fn, lstm_cell_5_layer_call_and_return_conditional_losses while saving (showing 4 of 4). These functions will not be directly callable after loading.\n"
     ]
    },
    {
     "name": "stdout",
     "output_type": "stream",
     "text": [
      "INFO:tensorflow:Assets written to: ./models/LSTMsmall/FD0001/assets\n"
     ]
    },
    {
     "name": "stderr",
     "output_type": "stream",
     "text": [
      "INFO:tensorflow:Assets written to: ./models/LSTMsmall/FD0001/assets\n"
     ]
    },
    {
     "name": "stdout",
     "output_type": "stream",
     "text": [
      "618/618 [==============================] - 10s 17ms/step - loss: 71.4482 - accuracy: 0.0041 - custom_score2: 126412357632.0000 - val_loss: 70.9340 - val_accuracy: 0.0038 - val_custom_score2: 5232199680.0000\n",
      "Epoch 3/100\n",
      "611/618 [============================>.] - ETA: 0s - loss: 69.5321 - accuracy: 0.0041 - custom_score2: 222389370880.0000\n",
      "Epoch 3: val_loss improved from 70.93401 to 67.92781, saving model to ./models/LSTMsmall/FD0001\n"
     ]
    },
    {
     "name": "stderr",
     "output_type": "stream",
     "text": [
      "WARNING:absl:Found untraced functions such as lstm_cell_4_layer_call_fn, lstm_cell_4_layer_call_and_return_conditional_losses, lstm_cell_5_layer_call_fn, lstm_cell_5_layer_call_and_return_conditional_losses while saving (showing 4 of 4). These functions will not be directly callable after loading.\n"
     ]
    },
    {
     "name": "stdout",
     "output_type": "stream",
     "text": [
      "INFO:tensorflow:Assets written to: ./models/LSTMsmall/FD0001/assets\n"
     ]
    },
    {
     "name": "stderr",
     "output_type": "stream",
     "text": [
      "INFO:tensorflow:Assets written to: ./models/LSTMsmall/FD0001/assets\n"
     ]
    },
    {
     "name": "stdout",
     "output_type": "stream",
     "text": [
      "618/618 [==============================] - 10s 16ms/step - loss: 69.5778 - accuracy: 0.0041 - custom_score2: 223720914944.0000 - val_loss: 67.9278 - val_accuracy: 0.0038 - val_custom_score2: 87742767104.0000\n",
      "Epoch 4/100\n",
      "614/618 [============================>.] - ETA: 0s - loss: 68.0603 - accuracy: 0.0041 - custom_score2: 408824938496.0000\n",
      "Epoch 4: val_loss did not improve from 67.92781\n",
      "618/618 [==============================] - 5s 9ms/step - loss: 68.0478 - accuracy: 0.0041 - custom_score2: 406331228160.0000 - val_loss: 67.9770 - val_accuracy: 0.0038 - val_custom_score2: 85538775040.0000\n",
      "Epoch 5/100\n",
      "613/618 [============================>.] - ETA: 0s - loss: 67.0873 - accuracy: 0.0041 - custom_score2: 288893501440.0000\n",
      "Epoch 5: val_loss improved from 67.92781 to 65.05318, saving model to ./models/LSTMsmall/FD0001\n"
     ]
    },
    {
     "name": "stderr",
     "output_type": "stream",
     "text": [
      "WARNING:absl:Found untraced functions such as lstm_cell_4_layer_call_fn, lstm_cell_4_layer_call_and_return_conditional_losses, lstm_cell_5_layer_call_fn, lstm_cell_5_layer_call_and_return_conditional_losses while saving (showing 4 of 4). These functions will not be directly callable after loading.\n"
     ]
    },
    {
     "name": "stdout",
     "output_type": "stream",
     "text": [
      "INFO:tensorflow:Assets written to: ./models/LSTMsmall/FD0001/assets\n"
     ]
    },
    {
     "name": "stderr",
     "output_type": "stream",
     "text": [
      "INFO:tensorflow:Assets written to: ./models/LSTMsmall/FD0001/assets\n"
     ]
    },
    {
     "name": "stdout",
     "output_type": "stream",
     "text": [
      "618/618 [==============================] - 10s 16ms/step - loss: 67.0907 - accuracy: 0.0041 - custom_score2: 286775312384.0000 - val_loss: 65.0532 - val_accuracy: 0.0038 - val_custom_score2: 84862083072.0000\n",
      "Epoch 6/100\n",
      "616/618 [============================>.] - ETA: 0s - loss: 66.7674 - accuracy: 0.0041 - custom_score2: 621006880768.0000\n",
      "Epoch 6: val_loss improved from 65.05318 to 63.82786, saving model to ./models/LSTMsmall/FD0001\n"
     ]
    },
    {
     "name": "stderr",
     "output_type": "stream",
     "text": [
      "WARNING:absl:Found untraced functions such as lstm_cell_4_layer_call_fn, lstm_cell_4_layer_call_and_return_conditional_losses, lstm_cell_5_layer_call_fn, lstm_cell_5_layer_call_and_return_conditional_losses while saving (showing 4 of 4). These functions will not be directly callable after loading.\n"
     ]
    },
    {
     "name": "stdout",
     "output_type": "stream",
     "text": [
      "INFO:tensorflow:Assets written to: ./models/LSTMsmall/FD0001/assets\n"
     ]
    },
    {
     "name": "stderr",
     "output_type": "stream",
     "text": [
      "INFO:tensorflow:Assets written to: ./models/LSTMsmall/FD0001/assets\n"
     ]
    },
    {
     "name": "stdout",
     "output_type": "stream",
     "text": [
      "618/618 [==============================] - 10s 15ms/step - loss: 66.7444 - accuracy: 0.0041 - custom_score2: 618997153792.0000 - val_loss: 63.8279 - val_accuracy: 0.0038 - val_custom_score2: 57424297984.0000\n",
      "Epoch 7/100\n",
      "613/618 [============================>.] - ETA: 0s - loss: 65.8992 - accuracy: 0.0041 - custom_score2: 555260575744.0000\n",
      "Epoch 7: val_loss improved from 63.82786 to 63.54773, saving model to ./models/LSTMsmall/FD0001\n"
     ]
    },
    {
     "name": "stderr",
     "output_type": "stream",
     "text": [
      "WARNING:absl:Found untraced functions such as lstm_cell_4_layer_call_fn, lstm_cell_4_layer_call_and_return_conditional_losses, lstm_cell_5_layer_call_fn, lstm_cell_5_layer_call_and_return_conditional_losses while saving (showing 4 of 4). These functions will not be directly callable after loading.\n"
     ]
    },
    {
     "name": "stdout",
     "output_type": "stream",
     "text": [
      "INFO:tensorflow:Assets written to: ./models/LSTMsmall/FD0001/assets\n"
     ]
    },
    {
     "name": "stderr",
     "output_type": "stream",
     "text": [
      "INFO:tensorflow:Assets written to: ./models/LSTMsmall/FD0001/assets\n"
     ]
    },
    {
     "name": "stdout",
     "output_type": "stream",
     "text": [
      "618/618 [==============================] - 10s 17ms/step - loss: 65.8042 - accuracy: 0.0041 - custom_score2: 551090716672.0000 - val_loss: 63.5477 - val_accuracy: 0.0038 - val_custom_score2: 84299784192.0000\n",
      "Epoch 8/100\n",
      "618/618 [==============================] - ETA: 0s - loss: 65.0955 - accuracy: 0.0041 - custom_score2: 912842358784.0000\n",
      "Epoch 8: val_loss did not improve from 63.54773\n",
      "618/618 [==============================] - 6s 9ms/step - loss: 65.0955 - accuracy: 0.0041 - custom_score2: 912842358784.0000 - val_loss: 65.4873 - val_accuracy: 0.0038 - val_custom_score2: 77457596416.0000\n",
      "Epoch 9/100\n",
      "612/618 [============================>.] - ETA: 0s - loss: 65.3231 - accuracy: 0.0041 - custom_score2: 1694647844864.0000\n",
      "Epoch 9: val_loss did not improve from 63.54773\n",
      "618/618 [==============================] - 5s 8ms/step - loss: 65.2542 - accuracy: 0.0041 - custom_score2: 1678417330176.0000 - val_loss: 65.4852 - val_accuracy: 0.0038 - val_custom_score2: 68943134720.0000\n",
      "Epoch 10/100\n",
      "609/618 [============================>.] - ETA: 0s - loss: 65.2164 - accuracy: 0.0041 - custom_score2: 1875185893376.0000\n",
      "Epoch 10: val_loss did not improve from 63.54773\n",
      "618/618 [==============================] - 5s 8ms/step - loss: 65.1477 - accuracy: 0.0041 - custom_score2: 1847913742336.0000 - val_loss: 63.6046 - val_accuracy: 0.0038 - val_custom_score2: 120136974336.0000\n",
      "Epoch 11/100\n",
      "613/618 [============================>.] - ETA: 0s - loss: 64.3122 - accuracy: 0.0041 - custom_score2: 1090899935232.0000\n",
      "Epoch 11: val_loss improved from 63.54773 to 61.88847, saving model to ./models/LSTMsmall/FD0001\n"
     ]
    },
    {
     "name": "stderr",
     "output_type": "stream",
     "text": [
      "WARNING:absl:Found untraced functions such as lstm_cell_4_layer_call_fn, lstm_cell_4_layer_call_and_return_conditional_losses, lstm_cell_5_layer_call_fn, lstm_cell_5_layer_call_and_return_conditional_losses while saving (showing 4 of 4). These functions will not be directly callable after loading.\n"
     ]
    },
    {
     "name": "stdout",
     "output_type": "stream",
     "text": [
      "INFO:tensorflow:Assets written to: ./models/LSTMsmall/FD0001/assets\n"
     ]
    },
    {
     "name": "stderr",
     "output_type": "stream",
     "text": [
      "INFO:tensorflow:Assets written to: ./models/LSTMsmall/FD0001/assets\n"
     ]
    },
    {
     "name": "stdout",
     "output_type": "stream",
     "text": [
      "618/618 [==============================] - 11s 17ms/step - loss: 64.3186 - accuracy: 0.0041 - custom_score2: 1082961362944.0000 - val_loss: 61.8885 - val_accuracy: 0.0038 - val_custom_score2: 540371550208.0000\n",
      "Epoch 12/100\n",
      "615/618 [============================>.] - ETA: 0s - loss: 63.1508 - accuracy: 0.0041 - custom_score2: 1218183430144.0000\n",
      "Epoch 12: val_loss improved from 61.88847 to 61.51426, saving model to ./models/LSTMsmall/FD0001\n"
     ]
    },
    {
     "name": "stderr",
     "output_type": "stream",
     "text": [
      "WARNING:absl:Found untraced functions such as lstm_cell_4_layer_call_fn, lstm_cell_4_layer_call_and_return_conditional_losses, lstm_cell_5_layer_call_fn, lstm_cell_5_layer_call_and_return_conditional_losses while saving (showing 4 of 4). These functions will not be directly callable after loading.\n"
     ]
    },
    {
     "name": "stdout",
     "output_type": "stream",
     "text": [
      "INFO:tensorflow:Assets written to: ./models/LSTMsmall/FD0001/assets\n"
     ]
    },
    {
     "name": "stderr",
     "output_type": "stream",
     "text": [
      "INFO:tensorflow:Assets written to: ./models/LSTMsmall/FD0001/assets\n"
     ]
    },
    {
     "name": "stdout",
     "output_type": "stream",
     "text": [
      "618/618 [==============================] - 10s 16ms/step - loss: 63.1746 - accuracy: 0.0041 - custom_score2: 1212300656640.0000 - val_loss: 61.5143 - val_accuracy: 0.0038 - val_custom_score2: 1266544541696.0000\n",
      "Epoch 13/100\n",
      "618/618 [==============================] - ETA: 0s - loss: 63.2437 - accuracy: 0.0041 - custom_score2: 4102969360384.0000\n",
      "Epoch 13: val_loss did not improve from 61.51426\n",
      "618/618 [==============================] - 5s 8ms/step - loss: 63.2437 - accuracy: 0.0041 - custom_score2: 4102969360384.0000 - val_loss: 63.9876 - val_accuracy: 0.0038 - val_custom_score2: 25721454592.0000\n",
      "Epoch 14/100\n",
      "615/618 [============================>.] - ETA: 0s - loss: 64.0864 - accuracy: 0.0041 - custom_score2: 582363381760.0000\n",
      "Epoch 14: val_loss did not improve from 61.51426\n",
      "618/618 [==============================] - 5s 8ms/step - loss: 64.0591 - accuracy: 0.0041 - custom_score2: 579558965248.0000 - val_loss: 61.6847 - val_accuracy: 0.0038 - val_custom_score2: 287208046592.0000\n",
      "Epoch 15/100\n",
      "616/618 [============================>.] - ETA: 0s - loss: 63.6252 - accuracy: 0.0041 - custom_score2: 1391909273600.0000\n",
      "Epoch 15: val_loss did not improve from 61.51426\n",
      "618/618 [==============================] - 5s 8ms/step - loss: 63.6245 - accuracy: 0.0041 - custom_score2: 1387425955840.0000 - val_loss: 62.3188 - val_accuracy: 0.0038 - val_custom_score2: 83134013440.0000\n",
      "Epoch 16/100\n",
      "614/618 [============================>.] - ETA: 0s - loss: 63.0482 - accuracy: 0.0041 - custom_score2: 3975514685440.0000\n",
      "Epoch 16: val_loss improved from 61.51426 to 60.56933, saving model to ./models/LSTMsmall/FD0001\n"
     ]
    },
    {
     "name": "stderr",
     "output_type": "stream",
     "text": [
      "WARNING:absl:Found untraced functions such as lstm_cell_4_layer_call_fn, lstm_cell_4_layer_call_and_return_conditional_losses, lstm_cell_5_layer_call_fn, lstm_cell_5_layer_call_and_return_conditional_losses while saving (showing 4 of 4). These functions will not be directly callable after loading.\n"
     ]
    },
    {
     "name": "stdout",
     "output_type": "stream",
     "text": [
      "INFO:tensorflow:Assets written to: ./models/LSTMsmall/FD0001/assets\n"
     ]
    },
    {
     "name": "stderr",
     "output_type": "stream",
     "text": [
      "INFO:tensorflow:Assets written to: ./models/LSTMsmall/FD0001/assets\n"
     ]
    },
    {
     "name": "stdout",
     "output_type": "stream",
     "text": [
      "618/618 [==============================] - 11s 17ms/step - loss: 63.0058 - accuracy: 0.0041 - custom_score2: 3949912129536.0000 - val_loss: 60.5693 - val_accuracy: 0.0038 - val_custom_score2: 734110351360.0000\n",
      "Epoch 17/100\n",
      "613/618 [============================>.] - ETA: 0s - loss: 61.9106 - accuracy: 0.0041 - custom_score2: 4517169987584.0000\n",
      "Epoch 17: val_loss did not improve from 60.56933\n",
      "618/618 [==============================] - 5s 9ms/step - loss: 61.9253 - accuracy: 0.0041 - custom_score2: 4480642318336.0000 - val_loss: 62.4396 - val_accuracy: 0.0038 - val_custom_score2: 7788429836288.0000\n",
      "Epoch 18/100\n",
      "615/618 [============================>.] - ETA: 0s - loss: 62.0219 - accuracy: 0.0041 - custom_score2: 5236008157184.0000\n",
      "Epoch 18: val_loss improved from 60.56933 to 60.16697, saving model to ./models/LSTMsmall/FD0001\n"
     ]
    },
    {
     "name": "stderr",
     "output_type": "stream",
     "text": [
      "WARNING:absl:Found untraced functions such as lstm_cell_4_layer_call_fn, lstm_cell_4_layer_call_and_return_conditional_losses, lstm_cell_5_layer_call_fn, lstm_cell_5_layer_call_and_return_conditional_losses while saving (showing 4 of 4). These functions will not be directly callable after loading.\n"
     ]
    },
    {
     "name": "stdout",
     "output_type": "stream",
     "text": [
      "INFO:tensorflow:Assets written to: ./models/LSTMsmall/FD0001/assets\n"
     ]
    },
    {
     "name": "stderr",
     "output_type": "stream",
     "text": [
      "INFO:tensorflow:Assets written to: ./models/LSTMsmall/FD0001/assets\n"
     ]
    },
    {
     "name": "stdout",
     "output_type": "stream",
     "text": [
      "618/618 [==============================] - 11s 17ms/step - loss: 62.0017 - accuracy: 0.0041 - custom_score2: 5210590674944.0000 - val_loss: 60.1670 - val_accuracy: 0.0038 - val_custom_score2: 241256497152.0000\n",
      "Epoch 19/100\n",
      "617/618 [============================>.] - ETA: 0s - loss: 62.0921 - accuracy: 0.0041 - custom_score2: 9575060209664.0000\n",
      "Epoch 19: val_loss did not improve from 60.16697\n",
      "618/618 [==============================] - 5s 9ms/step - loss: 62.0798 - accuracy: 0.0041 - custom_score2: 9559566450688.0000 - val_loss: 63.3427 - val_accuracy: 0.0038 - val_custom_score2: 180990328832.0000\n",
      "Epoch 20/100\n",
      "614/618 [============================>.] - ETA: 0s - loss: 61.4934 - accuracy: 0.0041 - custom_score2: 6735115845632.0000\n",
      "Epoch 20: val_loss improved from 60.16697 to 59.78714, saving model to ./models/LSTMsmall/FD0001\n"
     ]
    },
    {
     "name": "stderr",
     "output_type": "stream",
     "text": [
      "WARNING:absl:Found untraced functions such as lstm_cell_4_layer_call_fn, lstm_cell_4_layer_call_and_return_conditional_losses, lstm_cell_5_layer_call_fn, lstm_cell_5_layer_call_and_return_conditional_losses while saving (showing 4 of 4). These functions will not be directly callable after loading.\n"
     ]
    },
    {
     "name": "stdout",
     "output_type": "stream",
     "text": [
      "INFO:tensorflow:Assets written to: ./models/LSTMsmall/FD0001/assets\n"
     ]
    },
    {
     "name": "stderr",
     "output_type": "stream",
     "text": [
      "INFO:tensorflow:Assets written to: ./models/LSTMsmall/FD0001/assets\n"
     ]
    },
    {
     "name": "stdout",
     "output_type": "stream",
     "text": [
      "618/618 [==============================] - 10s 17ms/step - loss: 61.4792 - accuracy: 0.0041 - custom_score2: 6691533357056.0000 - val_loss: 59.7871 - val_accuracy: 0.0038 - val_custom_score2: 359068598272.0000\n",
      "Epoch 21/100\n",
      "617/618 [============================>.] - ETA: 0s - loss: 61.6205 - accuracy: 0.0041 - custom_score2: 4148569833472.0000\n",
      "Epoch 21: val_loss did not improve from 59.78714\n",
      "618/618 [==============================] - 5s 8ms/step - loss: 61.6166 - accuracy: 0.0041 - custom_score2: 4141857898496.0000 - val_loss: 60.9869 - val_accuracy: 0.0038 - val_custom_score2: 238555316224.0000\n",
      "Epoch 22/100\n",
      "616/618 [============================>.] - ETA: 0s - loss: 61.4569 - accuracy: 0.0041 - custom_score2: 2746959527936.0000\n",
      "Epoch 22: val_loss did not improve from 59.78714\n",
      "618/618 [==============================] - 5s 9ms/step - loss: 61.4600 - accuracy: 0.0041 - custom_score2: 2738069700608.0000 - val_loss: 60.8413 - val_accuracy: 0.0038 - val_custom_score2: 58272153600.0000\n",
      "Epoch 23/100\n",
      "612/618 [============================>.] - ETA: 0s - loss: 61.0929 - accuracy: 0.0041 - custom_score2: 8532841201664.0000\n",
      "Epoch 23: val_loss improved from 59.78714 to 59.47000, saving model to ./models/LSTMsmall/FD0001\n"
     ]
    },
    {
     "name": "stderr",
     "output_type": "stream",
     "text": [
      "WARNING:absl:Found untraced functions such as lstm_cell_4_layer_call_fn, lstm_cell_4_layer_call_and_return_conditional_losses, lstm_cell_5_layer_call_fn, lstm_cell_5_layer_call_and_return_conditional_losses while saving (showing 4 of 4). These functions will not be directly callable after loading.\n"
     ]
    },
    {
     "name": "stdout",
     "output_type": "stream",
     "text": [
      "INFO:tensorflow:Assets written to: ./models/LSTMsmall/FD0001/assets\n"
     ]
    },
    {
     "name": "stderr",
     "output_type": "stream",
     "text": [
      "INFO:tensorflow:Assets written to: ./models/LSTMsmall/FD0001/assets\n"
     ]
    },
    {
     "name": "stdout",
     "output_type": "stream",
     "text": [
      "618/618 [==============================] - 10s 17ms/step - loss: 61.0693 - accuracy: 0.0041 - custom_score2: 8450003173376.0000 - val_loss: 59.4700 - val_accuracy: 0.0038 - val_custom_score2: 1320587755520.0000\n",
      "Epoch 24/100\n",
      "615/618 [============================>.] - ETA: 0s - loss: 61.0144 - accuracy: 0.0041 - custom_score2: 7282702155776.0000\n",
      "Epoch 24: val_loss did not improve from 59.47000\n",
      "618/618 [==============================] - 5s 9ms/step - loss: 61.0300 - accuracy: 0.0041 - custom_score2: 7247359901696.0000 - val_loss: 59.6923 - val_accuracy: 0.0038 - val_custom_score2: 890724417536.0000\n",
      "Epoch 25/100\n",
      "615/618 [============================>.] - ETA: 0s - loss: 60.6049 - accuracy: 0.0041 - custom_score2: 4794484260864.0000\n",
      "Epoch 25: val_loss improved from 59.47000 to 59.31364, saving model to ./models/LSTMsmall/FD0001\n"
     ]
    },
    {
     "name": "stderr",
     "output_type": "stream",
     "text": [
      "WARNING:absl:Found untraced functions such as lstm_cell_4_layer_call_fn, lstm_cell_4_layer_call_and_return_conditional_losses, lstm_cell_5_layer_call_fn, lstm_cell_5_layer_call_and_return_conditional_losses while saving (showing 4 of 4). These functions will not be directly callable after loading.\n"
     ]
    },
    {
     "name": "stdout",
     "output_type": "stream",
     "text": [
      "INFO:tensorflow:Assets written to: ./models/LSTMsmall/FD0001/assets\n"
     ]
    },
    {
     "name": "stderr",
     "output_type": "stream",
     "text": [
      "INFO:tensorflow:Assets written to: ./models/LSTMsmall/FD0001/assets\n"
     ]
    },
    {
     "name": "stdout",
     "output_type": "stream",
     "text": [
      "618/618 [==============================] - 10s 17ms/step - loss: 60.6039 - accuracy: 0.0041 - custom_score2: 4778115465216.0000 - val_loss: 59.3136 - val_accuracy: 0.0038 - val_custom_score2: 10472216592384.0000\n",
      "Epoch 26/100\n",
      "618/618 [==============================] - ETA: 0s - loss: 60.7493 - accuracy: 0.0041 - custom_score2: 16417036435456.0000\n",
      "Epoch 26: val_loss did not improve from 59.31364\n",
      "618/618 [==============================] - 6s 9ms/step - loss: 60.7493 - accuracy: 0.0041 - custom_score2: 16417036435456.0000 - val_loss: 59.4276 - val_accuracy: 0.0038 - val_custom_score2: 390722781184.0000\n",
      "Epoch 27/100\n",
      "616/618 [============================>.] - ETA: 0s - loss: 60.3426 - accuracy: 0.0041 - custom_score2: 9689763938304.0000\n",
      "Epoch 27: val_loss did not improve from 59.31364\n",
      "618/618 [==============================] - 6s 9ms/step - loss: 60.3385 - accuracy: 0.0041 - custom_score2: 9659503083520.0000 - val_loss: 63.0013 - val_accuracy: 0.0038 - val_custom_score2: 454023380992.0000\n",
      "Epoch 28/100\n",
      "613/618 [============================>.] - ETA: 0s - loss: 60.1790 - accuracy: 0.0041 - custom_score2: 15251381682176.0000\n",
      "Epoch 28: val_loss did not improve from 59.31364\n",
      "618/618 [==============================] - 6s 9ms/step - loss: 60.1754 - accuracy: 0.0041 - custom_score2: 15243438718976.0000 - val_loss: 60.7966 - val_accuracy: 0.0038 - val_custom_score2: 244036354048.0000\n",
      "Epoch 29/100\n",
      "614/618 [============================>.] - ETA: 0s - loss: 60.0781 - accuracy: 0.0041 - custom_score2: 7416872697856.0000\n",
      "Epoch 29: val_loss did not improve from 59.31364\n",
      "618/618 [==============================] - 6s 9ms/step - loss: 60.0567 - accuracy: 0.0041 - custom_score2: 7368886190080.0000 - val_loss: 62.0576 - val_accuracy: 0.0038 - val_custom_score2: 18558182490112.0000\n",
      "Epoch 30/100\n",
      "616/618 [============================>.] - ETA: 0s - loss: 61.1049 - accuracy: 0.0041 - custom_score2: 11077469339648.0000\n",
      "Epoch 30: val_loss did not improve from 59.31364\n",
      "618/618 [==============================] - 6s 10ms/step - loss: 61.0860 - accuracy: 0.0041 - custom_score2: 11041619574784.0000 - val_loss: 63.9471 - val_accuracy: 0.0038 - val_custom_score2: 163948494848.0000\n"
     ]
    }
   ],
   "source": [
    "history_small = LSTMsmallModel.fit(\n",
    "    X_train, \n",
    "    y_train, \n",
    "    validation_data=(X_val, y_val), \n",
    "    epochs = EPOCHS,\n",
    "    batch_size = 32,\n",
    "    use_multiprocessing =True, \n",
    "    callbacks=[model_checkpoint, early_stopping])"
   ]
  },
  {
   "cell_type": "code",
   "execution_count": 14,
   "metadata": {},
   "outputs": [
    {
     "name": "stdout",
     "output_type": "stream",
     "text": [
      "Epoch 1/100\n",
      "618/618 [==============================] - ETA: 0s - loss: 97.3901 - accuracy: 0.0041 - custom_score2: 42135188.0000\n",
      "Epoch 1: val_loss improved from inf to 80.09718, saving model to ./models/LSTMlarge/FD0001\n"
     ]
    },
    {
     "name": "stderr",
     "output_type": "stream",
     "text": [
      "WARNING:absl:Found untraced functions such as lstm_cell_layer_call_fn, lstm_cell_layer_call_and_return_conditional_losses, lstm_cell_1_layer_call_fn, lstm_cell_1_layer_call_and_return_conditional_losses, lstm_cell_2_layer_call_fn while saving (showing 5 of 8). These functions will not be directly callable after loading.\n"
     ]
    },
    {
     "name": "stdout",
     "output_type": "stream",
     "text": [
      "INFO:tensorflow:Assets written to: ./models/LSTMlarge/FD0001/assets\n"
     ]
    },
    {
     "name": "stderr",
     "output_type": "stream",
     "text": [
      "INFO:tensorflow:Assets written to: ./models/LSTMlarge/FD0001/assets\n"
     ]
    },
    {
     "name": "stdout",
     "output_type": "stream",
     "text": [
      "618/618 [==============================] - 27s 35ms/step - loss: 97.3901 - accuracy: 0.0041 - custom_score2: 42135188.0000 - val_loss: 80.0972 - val_accuracy: 0.0038 - val_custom_score2: 20657280.0000\n",
      "Epoch 2/100\n",
      "617/618 [============================>.] - ETA: 0s - loss: 76.0969 - accuracy: 0.0041 - custom_score2: 11533552640.0000\n",
      "Epoch 2: val_loss improved from 80.09718 to 68.77796, saving model to ./models/LSTMlarge/FD0001\n"
     ]
    },
    {
     "name": "stderr",
     "output_type": "stream",
     "text": [
      "WARNING:absl:Found untraced functions such as lstm_cell_layer_call_fn, lstm_cell_layer_call_and_return_conditional_losses, lstm_cell_1_layer_call_fn, lstm_cell_1_layer_call_and_return_conditional_losses, lstm_cell_2_layer_call_fn while saving (showing 5 of 8). These functions will not be directly callable after loading.\n"
     ]
    },
    {
     "name": "stdout",
     "output_type": "stream",
     "text": [
      "INFO:tensorflow:Assets written to: ./models/LSTMlarge/FD0001/assets\n"
     ]
    },
    {
     "name": "stderr",
     "output_type": "stream",
     "text": [
      "INFO:tensorflow:Assets written to: ./models/LSTMlarge/FD0001/assets\n"
     ]
    },
    {
     "name": "stdout",
     "output_type": "stream",
     "text": [
      "618/618 [==============================] - 21s 34ms/step - loss: 76.1024 - accuracy: 0.0041 - custom_score2: 11514890240.0000 - val_loss: 68.7780 - val_accuracy: 0.0038 - val_custom_score2: 24415531008.0000\n",
      "Epoch 3/100\n",
      "615/618 [============================>.] - ETA: 0s - loss: 69.7341 - accuracy: 0.0041 - custom_score2: 313673515008.0000\n",
      "Epoch 3: val_loss improved from 68.77796 to 68.64259, saving model to ./models/LSTMlarge/FD0001\n"
     ]
    },
    {
     "name": "stderr",
     "output_type": "stream",
     "text": [
      "WARNING:absl:Found untraced functions such as lstm_cell_layer_call_fn, lstm_cell_layer_call_and_return_conditional_losses, lstm_cell_1_layer_call_fn, lstm_cell_1_layer_call_and_return_conditional_losses, lstm_cell_2_layer_call_fn while saving (showing 5 of 8). These functions will not be directly callable after loading.\n"
     ]
    },
    {
     "name": "stdout",
     "output_type": "stream",
     "text": [
      "INFO:tensorflow:Assets written to: ./models/LSTMlarge/FD0001/assets\n"
     ]
    },
    {
     "name": "stderr",
     "output_type": "stream",
     "text": [
      "INFO:tensorflow:Assets written to: ./models/LSTMlarge/FD0001/assets\n"
     ]
    },
    {
     "name": "stdout",
     "output_type": "stream",
     "text": [
      "618/618 [==============================] - 20s 32ms/step - loss: 69.7025 - accuracy: 0.0041 - custom_score2: 312151113728.0000 - val_loss: 68.6426 - val_accuracy: 0.0038 - val_custom_score2: 25316382720.0000\n",
      "Epoch 4/100\n",
      "616/618 [============================>.] - ETA: 0s - loss: 68.7629 - accuracy: 0.0041 - custom_score2: 341879095296.0000\n",
      "Epoch 4: val_loss improved from 68.64259 to 66.18967, saving model to ./models/LSTMlarge/FD0001\n"
     ]
    },
    {
     "name": "stderr",
     "output_type": "stream",
     "text": [
      "WARNING:absl:Found untraced functions such as lstm_cell_layer_call_fn, lstm_cell_layer_call_and_return_conditional_losses, lstm_cell_1_layer_call_fn, lstm_cell_1_layer_call_and_return_conditional_losses, lstm_cell_2_layer_call_fn while saving (showing 5 of 8). These functions will not be directly callable after loading.\n"
     ]
    },
    {
     "name": "stdout",
     "output_type": "stream",
     "text": [
      "INFO:tensorflow:Assets written to: ./models/LSTMlarge/FD0001/assets\n"
     ]
    },
    {
     "name": "stderr",
     "output_type": "stream",
     "text": [
      "INFO:tensorflow:Assets written to: ./models/LSTMlarge/FD0001/assets\n"
     ]
    },
    {
     "name": "stdout",
     "output_type": "stream",
     "text": [
      "618/618 [==============================] - 20s 33ms/step - loss: 68.7781 - accuracy: 0.0041 - custom_score2: 340772913152.0000 - val_loss: 66.1897 - val_accuracy: 0.0038 - val_custom_score2: 54512193536.0000\n",
      "Epoch 5/100\n",
      "615/618 [============================>.] - ETA: 0s - loss: 67.7329 - accuracy: 0.0041 - custom_score2: 3799239098368.0000\n",
      "Epoch 5: val_loss improved from 66.18967 to 66.11623, saving model to ./models/LSTMlarge/FD0001\n"
     ]
    },
    {
     "name": "stderr",
     "output_type": "stream",
     "text": [
      "WARNING:absl:Found untraced functions such as lstm_cell_layer_call_fn, lstm_cell_layer_call_and_return_conditional_losses, lstm_cell_1_layer_call_fn, lstm_cell_1_layer_call_and_return_conditional_losses, lstm_cell_2_layer_call_fn while saving (showing 5 of 8). These functions will not be directly callable after loading.\n"
     ]
    },
    {
     "name": "stdout",
     "output_type": "stream",
     "text": [
      "INFO:tensorflow:Assets written to: ./models/LSTMlarge/FD0001/assets\n"
     ]
    },
    {
     "name": "stderr",
     "output_type": "stream",
     "text": [
      "INFO:tensorflow:Assets written to: ./models/LSTMlarge/FD0001/assets\n"
     ]
    },
    {
     "name": "stdout",
     "output_type": "stream",
     "text": [
      "618/618 [==============================] - 21s 34ms/step - loss: 67.6938 - accuracy: 0.0041 - custom_score2: 3780797005824.0000 - val_loss: 66.1162 - val_accuracy: 0.0038 - val_custom_score2: 19799197696.0000\n",
      "Epoch 6/100\n",
      "616/618 [============================>.] - ETA: 0s - loss: 67.2022 - accuracy: 0.0041 - custom_score2: 1419737694208.0000\n",
      "Epoch 6: val_loss improved from 66.11623 to 65.64262, saving model to ./models/LSTMlarge/FD0001\n"
     ]
    },
    {
     "name": "stderr",
     "output_type": "stream",
     "text": [
      "WARNING:absl:Found untraced functions such as lstm_cell_layer_call_fn, lstm_cell_layer_call_and_return_conditional_losses, lstm_cell_1_layer_call_fn, lstm_cell_1_layer_call_and_return_conditional_losses, lstm_cell_2_layer_call_fn while saving (showing 5 of 8). These functions will not be directly callable after loading.\n"
     ]
    },
    {
     "name": "stdout",
     "output_type": "stream",
     "text": [
      "INFO:tensorflow:Assets written to: ./models/LSTMlarge/FD0001/assets\n"
     ]
    },
    {
     "name": "stderr",
     "output_type": "stream",
     "text": [
      "INFO:tensorflow:Assets written to: ./models/LSTMlarge/FD0001/assets\n"
     ]
    },
    {
     "name": "stdout",
     "output_type": "stream",
     "text": [
      "618/618 [==============================] - 20s 33ms/step - loss: 67.2125 - accuracy: 0.0041 - custom_score2: 1415145455616.0000 - val_loss: 65.6426 - val_accuracy: 0.0038 - val_custom_score2: 16334916608.0000\n",
      "Epoch 7/100\n",
      "617/618 [============================>.] - ETA: 0s - loss: 66.5165 - accuracy: 0.0041 - custom_score2: 5031648559104.0000\n",
      "Epoch 7: val_loss improved from 65.64262 to 64.22270, saving model to ./models/LSTMlarge/FD0001\n"
     ]
    },
    {
     "name": "stderr",
     "output_type": "stream",
     "text": [
      "WARNING:absl:Found untraced functions such as lstm_cell_layer_call_fn, lstm_cell_layer_call_and_return_conditional_losses, lstm_cell_1_layer_call_fn, lstm_cell_1_layer_call_and_return_conditional_losses, lstm_cell_2_layer_call_fn while saving (showing 5 of 8). These functions will not be directly callable after loading.\n"
     ]
    },
    {
     "name": "stdout",
     "output_type": "stream",
     "text": [
      "INFO:tensorflow:Assets written to: ./models/LSTMlarge/FD0001/assets\n"
     ]
    },
    {
     "name": "stderr",
     "output_type": "stream",
     "text": [
      "INFO:tensorflow:Assets written to: ./models/LSTMlarge/FD0001/assets\n"
     ]
    },
    {
     "name": "stdout",
     "output_type": "stream",
     "text": [
      "618/618 [==============================] - 20s 33ms/step - loss: 66.5178 - accuracy: 0.0041 - custom_score2: 5023507415040.0000 - val_loss: 64.2227 - val_accuracy: 0.0038 - val_custom_score2: 10675095552.0000\n",
      "Epoch 8/100\n",
      "615/618 [============================>.] - ETA: 0s - loss: 65.4308 - accuracy: 0.0041 - custom_score2: 3019556519936.0000\n",
      "Epoch 8: val_loss improved from 64.22270 to 64.06797, saving model to ./models/LSTMlarge/FD0001\n"
     ]
    },
    {
     "name": "stderr",
     "output_type": "stream",
     "text": [
      "WARNING:absl:Found untraced functions such as lstm_cell_layer_call_fn, lstm_cell_layer_call_and_return_conditional_losses, lstm_cell_1_layer_call_fn, lstm_cell_1_layer_call_and_return_conditional_losses, lstm_cell_2_layer_call_fn while saving (showing 5 of 8). These functions will not be directly callable after loading.\n"
     ]
    },
    {
     "name": "stdout",
     "output_type": "stream",
     "text": [
      "INFO:tensorflow:Assets written to: ./models/LSTMlarge/FD0001/assets\n"
     ]
    },
    {
     "name": "stderr",
     "output_type": "stream",
     "text": [
      "INFO:tensorflow:Assets written to: ./models/LSTMlarge/FD0001/assets\n"
     ]
    },
    {
     "name": "stdout",
     "output_type": "stream",
     "text": [
      "618/618 [==============================] - 21s 34ms/step - loss: 65.4616 - accuracy: 0.0041 - custom_score2: 3011323363328.0000 - val_loss: 64.0680 - val_accuracy: 0.0038 - val_custom_score2: 78974156800.0000\n",
      "Epoch 9/100\n",
      "616/618 [============================>.] - ETA: 0s - loss: 64.8087 - accuracy: 0.0041 - custom_score2: 10832714924032.0000\n",
      "Epoch 9: val_loss improved from 64.06797 to 63.02494, saving model to ./models/LSTMlarge/FD0001\n"
     ]
    },
    {
     "name": "stderr",
     "output_type": "stream",
     "text": [
      "WARNING:absl:Found untraced functions such as lstm_cell_layer_call_fn, lstm_cell_layer_call_and_return_conditional_losses, lstm_cell_1_layer_call_fn, lstm_cell_1_layer_call_and_return_conditional_losses, lstm_cell_2_layer_call_fn while saving (showing 5 of 8). These functions will not be directly callable after loading.\n"
     ]
    },
    {
     "name": "stdout",
     "output_type": "stream",
     "text": [
      "INFO:tensorflow:Assets written to: ./models/LSTMlarge/FD0001/assets\n"
     ]
    },
    {
     "name": "stderr",
     "output_type": "stream",
     "text": [
      "INFO:tensorflow:Assets written to: ./models/LSTMlarge/FD0001/assets\n"
     ]
    },
    {
     "name": "stdout",
     "output_type": "stream",
     "text": [
      "618/618 [==============================] - 23s 37ms/step - loss: 64.8335 - accuracy: 0.0041 - custom_score2: 10797657882624.0000 - val_loss: 63.0249 - val_accuracy: 0.0038 - val_custom_score2: 102075301888.0000\n",
      "Epoch 10/100\n",
      "616/618 [============================>.] - ETA: 0s - loss: 64.1972 - accuracy: 0.0041 - custom_score2: 10580604747776.0000\n",
      "Epoch 10: val_loss improved from 63.02494 to 61.93298, saving model to ./models/LSTMlarge/FD0001\n"
     ]
    },
    {
     "name": "stderr",
     "output_type": "stream",
     "text": [
      "WARNING:absl:Found untraced functions such as lstm_cell_layer_call_fn, lstm_cell_layer_call_and_return_conditional_losses, lstm_cell_1_layer_call_fn, lstm_cell_1_layer_call_and_return_conditional_losses, lstm_cell_2_layer_call_fn while saving (showing 5 of 8). These functions will not be directly callable after loading.\n"
     ]
    },
    {
     "name": "stdout",
     "output_type": "stream",
     "text": [
      "INFO:tensorflow:Assets written to: ./models/LSTMlarge/FD0001/assets\n"
     ]
    },
    {
     "name": "stderr",
     "output_type": "stream",
     "text": [
      "INFO:tensorflow:Assets written to: ./models/LSTMlarge/FD0001/assets\n"
     ]
    },
    {
     "name": "stdout",
     "output_type": "stream",
     "text": [
      "618/618 [==============================] - 23s 37ms/step - loss: 64.2200 - accuracy: 0.0041 - custom_score2: 10549122301952.0000 - val_loss: 61.9330 - val_accuracy: 0.0038 - val_custom_score2: 42414415872.0000\n",
      "Epoch 11/100\n",
      "617/618 [============================>.] - ETA: 0s - loss: 63.6849 - accuracy: 0.0041 - custom_score2: 70856365572096.0000\n",
      "Epoch 11: val_loss did not improve from 61.93298\n",
      "618/618 [==============================] - 11s 17ms/step - loss: 63.6702 - accuracy: 0.0041 - custom_score2: 70741710077952.0000 - val_loss: 67.8144 - val_accuracy: 0.0038 - val_custom_score2: 549413191680.0000\n",
      "Epoch 12/100\n",
      "618/618 [==============================] - ETA: 0s - loss: 63.3346 - accuracy: 0.0041 - custom_score2: 6282179248128.0000\n",
      "Epoch 12: val_loss improved from 61.93298 to 61.39817, saving model to ./models/LSTMlarge/FD0001\n"
     ]
    },
    {
     "name": "stderr",
     "output_type": "stream",
     "text": [
      "WARNING:absl:Found untraced functions such as lstm_cell_layer_call_fn, lstm_cell_layer_call_and_return_conditional_losses, lstm_cell_1_layer_call_fn, lstm_cell_1_layer_call_and_return_conditional_losses, lstm_cell_2_layer_call_fn while saving (showing 5 of 8). These functions will not be directly callable after loading.\n"
     ]
    },
    {
     "name": "stdout",
     "output_type": "stream",
     "text": [
      "INFO:tensorflow:Assets written to: ./models/LSTMlarge/FD0001/assets\n"
     ]
    },
    {
     "name": "stderr",
     "output_type": "stream",
     "text": [
      "INFO:tensorflow:Assets written to: ./models/LSTMlarge/FD0001/assets\n"
     ]
    },
    {
     "name": "stdout",
     "output_type": "stream",
     "text": [
      "618/618 [==============================] - 24s 39ms/step - loss: 63.3346 - accuracy: 0.0041 - custom_score2: 6282179248128.0000 - val_loss: 61.3982 - val_accuracy: 0.0038 - val_custom_score2: 811243012096.0000\n",
      "Epoch 13/100\n",
      "618/618 [==============================] - ETA: 0s - loss: 63.0364 - accuracy: 0.0041 - custom_score2: 13711559360512.0000\n",
      "Epoch 13: val_loss did not improve from 61.39817\n",
      "618/618 [==============================] - 11s 19ms/step - loss: 63.0364 - accuracy: 0.0041 - custom_score2: 13711559360512.0000 - val_loss: 61.9339 - val_accuracy: 0.0038 - val_custom_score2: 723032932352.0000\n",
      "Epoch 14/100\n",
      "615/618 [============================>.] - ETA: 0s - loss: 62.7334 - accuracy: 0.0041 - custom_score2: 10852361043968.0000\n",
      "Epoch 14: val_loss improved from 61.39817 to 59.96266, saving model to ./models/LSTMlarge/FD0001\n"
     ]
    },
    {
     "name": "stderr",
     "output_type": "stream",
     "text": [
      "WARNING:absl:Found untraced functions such as lstm_cell_layer_call_fn, lstm_cell_layer_call_and_return_conditional_losses, lstm_cell_1_layer_call_fn, lstm_cell_1_layer_call_and_return_conditional_losses, lstm_cell_2_layer_call_fn while saving (showing 5 of 8). These functions will not be directly callable after loading.\n"
     ]
    },
    {
     "name": "stdout",
     "output_type": "stream",
     "text": [
      "INFO:tensorflow:Assets written to: ./models/LSTMlarge/FD0001/assets\n"
     ]
    },
    {
     "name": "stderr",
     "output_type": "stream",
     "text": [
      "INFO:tensorflow:Assets written to: ./models/LSTMlarge/FD0001/assets\n"
     ]
    },
    {
     "name": "stdout",
     "output_type": "stream",
     "text": [
      "618/618 [==============================] - 23s 37ms/step - loss: 62.7331 - accuracy: 0.0041 - custom_score2: 10799680585728.0000 - val_loss: 59.9627 - val_accuracy: 0.0038 - val_custom_score2: 427940839424.0000\n",
      "Epoch 15/100\n",
      "617/618 [============================>.] - ETA: 0s - loss: 62.0774 - accuracy: 0.0041 - custom_score2: 28466560892928.0000\n",
      "Epoch 15: val_loss did not improve from 59.96266\n",
      "618/618 [==============================] - 10s 17ms/step - loss: 62.0888 - accuracy: 0.0041 - custom_score2: 28420499046400.0000 - val_loss: 60.2443 - val_accuracy: 0.0038 - val_custom_score2: 1295386279936.0000\n",
      "Epoch 16/100\n",
      "618/618 [==============================] - ETA: 0s - loss: 61.9971 - accuracy: 0.0041 - custom_score2: 4948674740224.0000\n",
      "Epoch 16: val_loss did not improve from 59.96266\n",
      "618/618 [==============================] - 10s 17ms/step - loss: 61.9971 - accuracy: 0.0041 - custom_score2: 4948674740224.0000 - val_loss: 61.2848 - val_accuracy: 0.0038 - val_custom_score2: 1010029428736.0000\n",
      "Epoch 17/100\n",
      "617/618 [============================>.] - ETA: 0s - loss: 61.9392 - accuracy: 0.0041 - custom_score2: 23718625542144.0000\n",
      "Epoch 17: val_loss did not improve from 59.96266\n",
      "618/618 [==============================] - 11s 18ms/step - loss: 61.9439 - accuracy: 0.0041 - custom_score2: 23680249757696.0000 - val_loss: 60.4815 - val_accuracy: 0.0038 - val_custom_score2: 153990184960.0000\n",
      "Epoch 18/100\n",
      "615/618 [============================>.] - ETA: 0s - loss: 61.5368 - accuracy: 0.0041 - custom_score2: 53285998297088.0000\n",
      "Epoch 18: val_loss improved from 59.96266 to 59.11596, saving model to ./models/LSTMlarge/FD0001\n"
     ]
    },
    {
     "name": "stderr",
     "output_type": "stream",
     "text": [
      "WARNING:absl:Found untraced functions such as lstm_cell_layer_call_fn, lstm_cell_layer_call_and_return_conditional_losses, lstm_cell_1_layer_call_fn, lstm_cell_1_layer_call_and_return_conditional_losses, lstm_cell_2_layer_call_fn while saving (showing 5 of 8). These functions will not be directly callable after loading.\n"
     ]
    },
    {
     "name": "stdout",
     "output_type": "stream",
     "text": [
      "INFO:tensorflow:Assets written to: ./models/LSTMlarge/FD0001/assets\n"
     ]
    },
    {
     "name": "stderr",
     "output_type": "stream",
     "text": [
      "INFO:tensorflow:Assets written to: ./models/LSTMlarge/FD0001/assets\n"
     ]
    },
    {
     "name": "stdout",
     "output_type": "stream",
     "text": [
      "618/618 [==============================] - 24s 39ms/step - loss: 61.5608 - accuracy: 0.0041 - custom_score2: 53027335569408.0000 - val_loss: 59.1160 - val_accuracy: 0.0038 - val_custom_score2: 338953732096.0000\n",
      "Epoch 19/100\n",
      "618/618 [==============================] - ETA: 0s - loss: 61.7338 - accuracy: 0.0041 - custom_score2: 18021735202816.0000\n",
      "Epoch 19: val_loss did not improve from 59.11596\n",
      "618/618 [==============================] - 11s 18ms/step - loss: 61.7338 - accuracy: 0.0041 - custom_score2: 18021735202816.0000 - val_loss: 59.8374 - val_accuracy: 0.0038 - val_custom_score2: 1096471478272.0000\n",
      "Epoch 20/100\n",
      "617/618 [============================>.] - ETA: 0s - loss: 61.2569 - accuracy: 0.0041 - custom_score2: 37449925394432.0000\n",
      "Epoch 20: val_loss did not improve from 59.11596\n",
      "618/618 [==============================] - 13s 21ms/step - loss: 61.2628 - accuracy: 0.0041 - custom_score2: 37389326090240.0000 - val_loss: 60.1921 - val_accuracy: 0.0038 - val_custom_score2: 221236527104.0000\n",
      "Epoch 21/100\n",
      "618/618 [==============================] - ETA: 0s - loss: 60.9581 - accuracy: 0.0041 - custom_score2: 117852208103424.0000\n",
      "Epoch 21: val_loss did not improve from 59.11596\n",
      "618/618 [==============================] - 12s 19ms/step - loss: 60.9581 - accuracy: 0.0041 - custom_score2: 117852208103424.0000 - val_loss: 59.9534 - val_accuracy: 0.0038 - val_custom_score2: 4559844409344.0000\n",
      "Epoch 22/100\n",
      "615/618 [============================>.] - ETA: 0s - loss: 60.5549 - accuracy: 0.0041 - custom_score2: 25408900694016.0000\n",
      "Epoch 22: val_loss did not improve from 59.11596\n",
      "618/618 [==============================] - 12s 19ms/step - loss: 60.5402 - accuracy: 0.0041 - custom_score2: 25285567184896.0000 - val_loss: 61.0937 - val_accuracy: 0.0038 - val_custom_score2: 6750286643200.0000\n",
      "Epoch 23/100\n",
      "617/618 [============================>.] - ETA: 0s - loss: 60.5869 - accuracy: 0.0041 - custom_score2: 65584247078912.0000\n",
      "Epoch 23: val_loss did not improve from 59.11596\n",
      "618/618 [==============================] - 12s 20ms/step - loss: 60.6065 - accuracy: 0.0041 - custom_score2: 65478122799104.0000 - val_loss: 59.9503 - val_accuracy: 0.0038 - val_custom_score2: 321762263040.0000\n"
     ]
    }
   ],
   "source": [
    "model_checkpoint = ModelCheckpoint(\n",
    "    path_large,\n",
    "    monitor='val_loss',\n",
    "    verbose=1,\n",
    "    save_best_only=True,\n",
    "    save_weights_only=False,\n",
    "    mode='auto',\n",
    "\n",
    ")\n",
    "history_large = LSTMlargeModel.fit(\n",
    "    X_train, \n",
    "    y_train, \n",
    "    validation_data=(X_val, y_val), \n",
    "    epochs = EPOCHS,\n",
    "    batch_size = 32,\n",
    "    use_multiprocessing =True, \n",
    "    callbacks=[model_checkpoint, early_stopping])"
   ]
  }
 ],
 "metadata": {
  "kernelspec": {
   "display_name": "tensorflowEnv",
   "language": "python",
   "name": "python3"
  },
  "language_info": {
   "codemirror_mode": {
    "name": "ipython",
    "version": 3
   },
   "file_extension": ".py",
   "mimetype": "text/x-python",
   "name": "python",
   "nbconvert_exporter": "python",
   "pygments_lexer": "ipython3",
   "version": "3.9.15"
  },
  "orig_nbformat": 4
 },
 "nbformat": 4,
 "nbformat_minor": 2
}
