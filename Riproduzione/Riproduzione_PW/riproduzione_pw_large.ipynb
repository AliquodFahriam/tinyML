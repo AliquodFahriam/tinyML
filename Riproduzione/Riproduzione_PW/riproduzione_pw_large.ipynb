{
 "cells": [
  {
   "cell_type": "code",
   "execution_count": 1,
   "metadata": {},
   "outputs": [],
   "source": [
    "import pandas as pd \n",
    "import numpy as np\n",
    "import os\n",
    "dataset_folder = '../dataset_new'"
   ]
  },
  {
   "cell_type": "code",
   "execution_count": 2,
   "metadata": {},
   "outputs": [],
   "source": [
    "sensors = ['sensor2', 'sensor3', 'sensor4','sensor7','sensor8','sensor9','sensor11','sensor12','sensor13','sensor14',\n",
    "           'sensor15','sensor17','sensor20', 'sensor21']"
   ]
  },
  {
   "cell_type": "code",
   "execution_count": 3,
   "metadata": {},
   "outputs": [
    {
     "data": {
      "text/html": [
       "<div>\n",
       "<style scoped>\n",
       "    .dataframe tbody tr th:only-of-type {\n",
       "        vertical-align: middle;\n",
       "    }\n",
       "\n",
       "    .dataframe tbody tr th {\n",
       "        vertical-align: top;\n",
       "    }\n",
       "\n",
       "    .dataframe thead th {\n",
       "        text-align: right;\n",
       "    }\n",
       "</style>\n",
       "<table border=\"1\" class=\"dataframe\">\n",
       "  <thead>\n",
       "    <tr style=\"text-align: right;\">\n",
       "      <th></th>\n",
       "      <th>unit_number</th>\n",
       "      <th>time_cycle</th>\n",
       "      <th>op_setting1</th>\n",
       "      <th>op_setting2</th>\n",
       "      <th>op_setting3</th>\n",
       "      <th>RUL</th>\n",
       "      <th>sensor2</th>\n",
       "      <th>sensor3</th>\n",
       "      <th>sensor4</th>\n",
       "      <th>sensor6</th>\n",
       "      <th>...</th>\n",
       "      <th>sensor8</th>\n",
       "      <th>sensor9</th>\n",
       "      <th>sensor11</th>\n",
       "      <th>sensor12</th>\n",
       "      <th>sensor13</th>\n",
       "      <th>sensor14</th>\n",
       "      <th>sensor15</th>\n",
       "      <th>sensor17</th>\n",
       "      <th>sensor20</th>\n",
       "      <th>sensor21</th>\n",
       "    </tr>\n",
       "  </thead>\n",
       "  <tbody>\n",
       "    <tr>\n",
       "      <th>0</th>\n",
       "      <td>1.0</td>\n",
       "      <td>1.0</td>\n",
       "      <td>-0.0005</td>\n",
       "      <td>0.0004</td>\n",
       "      <td>100.0</td>\n",
       "      <td>258.0</td>\n",
       "      <td>0.355972</td>\n",
       "      <td>0.370523</td>\n",
       "      <td>0.308580</td>\n",
       "      <td>1.0</td>\n",
       "      <td>...</td>\n",
       "      <td>0.623529</td>\n",
       "      <td>0.204233</td>\n",
       "      <td>0.348571</td>\n",
       "      <td>0.231279</td>\n",
       "      <td>0.642857</td>\n",
       "      <td>0.239116</td>\n",
       "      <td>0.647755</td>\n",
       "      <td>0.272727</td>\n",
       "      <td>0.559524</td>\n",
       "      <td>0.446331</td>\n",
       "    </tr>\n",
       "    <tr>\n",
       "      <th>1</th>\n",
       "      <td>1.0</td>\n",
       "      <td>2.0</td>\n",
       "      <td>0.0008</td>\n",
       "      <td>-0.0003</td>\n",
       "      <td>100.0</td>\n",
       "      <td>257.0</td>\n",
       "      <td>0.388759</td>\n",
       "      <td>0.399100</td>\n",
       "      <td>0.309360</td>\n",
       "      <td>1.0</td>\n",
       "      <td>...</td>\n",
       "      <td>0.647059</td>\n",
       "      <td>0.202431</td>\n",
       "      <td>0.308571</td>\n",
       "      <td>0.236882</td>\n",
       "      <td>0.654762</td>\n",
       "      <td>0.278567</td>\n",
       "      <td>0.685659</td>\n",
       "      <td>0.363636</td>\n",
       "      <td>0.488095</td>\n",
       "      <td>0.534836</td>\n",
       "    </tr>\n",
       "    <tr>\n",
       "      <th>2</th>\n",
       "      <td>1.0</td>\n",
       "      <td>3.0</td>\n",
       "      <td>-0.0014</td>\n",
       "      <td>-0.0002</td>\n",
       "      <td>100.0</td>\n",
       "      <td>256.0</td>\n",
       "      <td>0.313817</td>\n",
       "      <td>0.353298</td>\n",
       "      <td>0.445398</td>\n",
       "      <td>1.0</td>\n",
       "      <td>...</td>\n",
       "      <td>0.664706</td>\n",
       "      <td>0.241484</td>\n",
       "      <td>0.302857</td>\n",
       "      <td>0.217015</td>\n",
       "      <td>0.636905</td>\n",
       "      <td>0.264526</td>\n",
       "      <td>0.564462</td>\n",
       "      <td>0.272727</td>\n",
       "      <td>0.404762</td>\n",
       "      <td>0.458577</td>\n",
       "    </tr>\n",
       "    <tr>\n",
       "      <th>3</th>\n",
       "      <td>1.0</td>\n",
       "      <td>4.0</td>\n",
       "      <td>-0.0020</td>\n",
       "      <td>0.0001</td>\n",
       "      <td>100.0</td>\n",
       "      <td>255.0</td>\n",
       "      <td>0.487119</td>\n",
       "      <td>0.417107</td>\n",
       "      <td>0.237285</td>\n",
       "      <td>1.0</td>\n",
       "      <td>...</td>\n",
       "      <td>0.647059</td>\n",
       "      <td>0.215326</td>\n",
       "      <td>0.314286</td>\n",
       "      <td>0.240448</td>\n",
       "      <td>0.684524</td>\n",
       "      <td>0.245612</td>\n",
       "      <td>0.558909</td>\n",
       "      <td>0.363636</td>\n",
       "      <td>0.470238</td>\n",
       "      <td>0.391966</td>\n",
       "    </tr>\n",
       "    <tr>\n",
       "      <th>4</th>\n",
       "      <td>1.0</td>\n",
       "      <td>5.0</td>\n",
       "      <td>0.0016</td>\n",
       "      <td>0.0000</td>\n",
       "      <td>100.0</td>\n",
       "      <td>254.0</td>\n",
       "      <td>0.196721</td>\n",
       "      <td>0.476218</td>\n",
       "      <td>0.321217</td>\n",
       "      <td>1.0</td>\n",
       "      <td>...</td>\n",
       "      <td>0.670588</td>\n",
       "      <td>0.268799</td>\n",
       "      <td>0.262857</td>\n",
       "      <td>0.245033</td>\n",
       "      <td>0.654762</td>\n",
       "      <td>0.252109</td>\n",
       "      <td>0.556736</td>\n",
       "      <td>0.363636</td>\n",
       "      <td>0.577381</td>\n",
       "      <td>0.543371</td>\n",
       "    </tr>\n",
       "  </tbody>\n",
       "</table>\n",
       "<p>5 rows × 21 columns</p>\n",
       "</div>"
      ],
      "text/plain": [
       "   unit_number  time_cycle  op_setting1  op_setting2  op_setting3    RUL  \\\n",
       "0          1.0         1.0      -0.0005       0.0004        100.0  258.0   \n",
       "1          1.0         2.0       0.0008      -0.0003        100.0  257.0   \n",
       "2          1.0         3.0      -0.0014      -0.0002        100.0  256.0   \n",
       "3          1.0         4.0      -0.0020       0.0001        100.0  255.0   \n",
       "4          1.0         5.0       0.0016       0.0000        100.0  254.0   \n",
       "\n",
       "    sensor2   sensor3   sensor4  sensor6  ...   sensor8   sensor9  sensor11  \\\n",
       "0  0.355972  0.370523  0.308580      1.0  ...  0.623529  0.204233  0.348571   \n",
       "1  0.388759  0.399100  0.309360      1.0  ...  0.647059  0.202431  0.308571   \n",
       "2  0.313817  0.353298  0.445398      1.0  ...  0.664706  0.241484  0.302857   \n",
       "3  0.487119  0.417107  0.237285      1.0  ...  0.647059  0.215326  0.314286   \n",
       "4  0.196721  0.476218  0.321217      1.0  ...  0.670588  0.268799  0.262857   \n",
       "\n",
       "   sensor12  sensor13  sensor14  sensor15  sensor17  sensor20  sensor21  \n",
       "0  0.231279  0.642857  0.239116  0.647755  0.272727  0.559524  0.446331  \n",
       "1  0.236882  0.654762  0.278567  0.685659  0.363636  0.488095  0.534836  \n",
       "2  0.217015  0.636905  0.264526  0.564462  0.272727  0.404762  0.458577  \n",
       "3  0.240448  0.684524  0.245612  0.558909  0.363636  0.470238  0.391966  \n",
       "4  0.245033  0.654762  0.252109  0.556736  0.363636  0.577381  0.543371  \n",
       "\n",
       "[5 rows x 21 columns]"
      ]
     },
     "execution_count": 3,
     "metadata": {},
     "output_type": "execute_result"
    }
   ],
   "source": [
    "train = []\n",
    "files = os.listdir(dataset_folder)\n",
    "train_files = [file for file in files if file.startswith('scaled')]\n",
    "\n",
    "for file in files: \n",
    "    path_to_file = dataset_folder + '/'+file\n",
    "    df = pd.read_csv(path_to_file, index_col=0) #index_col = 0 perché sennò viene aggiunta la colonna unnamed. \n",
    "    train.append(df)\n",
    "\n",
    "train[0].head()"
   ]
  },
  {
   "cell_type": "code",
   "execution_count": 4,
   "metadata": {},
   "outputs": [],
   "source": [
    "def process_targets(data_length, early_rul = None):\n",
    "    if early_rul == None:\n",
    "        return np.arange(data_length-1, -1, -1)\n",
    "    else:\n",
    "        early_rul_duration = data_length - early_rul\n",
    "        if early_rul_duration <= 0:\n",
    "            return np.arange(data_length-1, -1, -1)\n",
    "        else:\n",
    "            return np.append(early_rul*np.ones(shape = (early_rul_duration,)), np.arange(early_rul-1, -1, -1))"
   ]
  },
  {
   "cell_type": "code",
   "execution_count": 5,
   "metadata": {},
   "outputs": [],
   "source": [
    "def process_input_data_with_targets(input_data, target_data = None, window_length = 1, shift = 1):\n",
    "    #Viene calcolato il numero di batch che saranno generati sulla base della grandezza dell'input \n",
    "    num_batches = int(np.floor((len(input_data) - window_length)/shift)) + 1\n",
    "    \n",
    "    #Si recupera il numero di features all'interno del dataframe\n",
    "    num_features = input_data.shape[1]\n",
    "    '''\n",
    "    Qui, viene inizializzata una matrice output_data con valori NaN, che rappresenta i dati di output che verranno generati dalla funzione. \n",
    "    La matrice è inizialmente creata come una matrice 3D con dimensioni (num_batches, window_length, num_features) per contenere i batch di dati di input.\n",
    "    '''\n",
    "    output_data = np.repeat(np.nan, repeats = num_batches * window_length * num_features).reshape(num_batches, window_length,\n",
    "                                                                                                  num_features)\n",
    "    \n",
    "    #Verfico che i labels siano stati forniti\n",
    "    if target_data is None:\n",
    "        \n",
    "        #Iteriamo attraverso i batch e copiamo le finestre temporali corrispondenti dai dati di input input_data nella matrice output_data. \n",
    "        #L'output sarà quindi una matrice 3D con i batch di dati di input.\n",
    "\n",
    "        for batch in range(num_batches):\n",
    "            output_data[batch,:,:] = input_data[(0+shift*batch):(0+shift*batch+window_length),:]\n",
    "        return output_data\n",
    "    else:\n",
    "        output_targets = np.repeat(np.nan, repeats = num_batches)\n",
    "        #Nel caso in cui i dati siano forniti semplicemente facciamo la stessa cosa per i dati di target\n",
    "        for batch in range(num_batches):\n",
    "            output_data[batch,:,:] = input_data[(0+shift*batch):(0+shift*batch+window_length),:]\n",
    "            output_targets[batch] = target_data[(shift*batch + (window_length-1))] #Differente perché i dati di target sono formattati in altra maniera.\n",
    "        return output_data, output_targets"
   ]
  },
  {
   "cell_type": "code",
   "execution_count": 6,
   "metadata": {},
   "outputs": [],
   "source": [
    "#Configurazione\n",
    "\n",
    "window_length = 30 #Lunghezza delle sequenze\n",
    "shift = 1\n",
    "early_rul = 125 #100 è il valore utilizzato comunemente dallo stato dell'arte             \n",
    "processed_train_data = []\n",
    "processed_train_targets = []\n",
    "\n",
    "FD0001 = train[0]\n",
    "unit_number_col = FD0001['unit_number']\n",
    "num_train_machines_FD0001 = len(FD0001['unit_number'].unique())\n",
    "FD0001 = FD0001[sensors]"
   ]
  },
  {
   "cell_type": "code",
   "execution_count": 7,
   "metadata": {},
   "outputs": [],
   "source": [
    "new_FD0001 = pd.concat([unit_number_col, FD0001], axis= 1 )"
   ]
  },
  {
   "cell_type": "code",
   "execution_count": 8,
   "metadata": {},
   "outputs": [],
   "source": [
    "\n",
    "for i in np.arange(1, num_train_machines_FD0001 + 1):\n",
    "    temp_train_data = new_FD0001[new_FD0001['unit_number'] == i].drop(columns = ['unit_number']).values\n",
    "    \n",
    "    # Verify if data of given window length can be extracted from training data\n",
    "    if (len(temp_train_data) < window_length):\n",
    "        print(\"Train engine {} doesn't have enough data for window_length of {}\".format(i, window_length))\n",
    "        raise AssertionError(\"Window length is larger than number of data points for some engines. \"\n",
    "                             \"Try decreasing window length.\")\n",
    "        \n",
    "    temp_train_targets = process_targets(data_length = temp_train_data.shape[0], early_rul = early_rul)\n",
    "    data_for_a_machine, targets_for_a_machine = process_input_data_with_targets(temp_train_data, temp_train_targets, \n",
    "                                                                                window_length = window_length, shift = shift)\n",
    "    \n",
    "    processed_train_data.append(data_for_a_machine)\n",
    "    processed_train_targets.append(targets_for_a_machine)\n",
    "\n",
    "processed_train_data = np.concatenate(processed_train_data)\n",
    "processed_train_targets = np.concatenate(processed_train_targets)"
   ]
  },
  {
   "cell_type": "code",
   "execution_count": 9,
   "metadata": {},
   "outputs": [
    {
     "name": "stdout",
     "output_type": "stream",
     "text": [
      "Processed trianing data shape:  (21820, 30, 14)\n",
      "Processed training ruls shape:  (21820,)\n"
     ]
    }
   ],
   "source": [
    "\n",
    "print(\"Processed trianing data shape: \", processed_train_data.shape)\n",
    "print(\"Processed training ruls shape: \", processed_train_targets.shape)"
   ]
  },
  {
   "cell_type": "code",
   "execution_count": 10,
   "metadata": {},
   "outputs": [],
   "source": [
    "from sklearn.model_selection import train_test_split\n",
    "X_train, X_val, y_train, y_val = train_test_split(processed_train_data, processed_train_targets, test_size=0.2, random_state=42)"
   ]
  },
  {
   "cell_type": "code",
   "execution_count": 11,
   "metadata": {},
   "outputs": [
    {
     "name": "stderr",
     "output_type": "stream",
     "text": [
      "2023-10-02 11:56:18.010277: I tensorflow/core/platform/cpu_feature_guard.cc:193] This TensorFlow binary is optimized with oneAPI Deep Neural Network Library (oneDNN) to use the following CPU instructions in performance-critical operations:  AVX2 FMA\n",
      "To enable them in other operations, rebuild TensorFlow with the appropriate compiler flags.\n",
      "2023-10-02 11:56:18.735158: W tensorflow/compiler/xla/stream_executor/platform/default/dso_loader.cc:64] Could not load dynamic library 'libnvinfer.so.7'; dlerror: libnvinfer.so.7: cannot open shared object file: No such file or directory; LD_LIBRARY_PATH: :/usr/local/cuda-11.2/lib64:/usr/local/cuda-11.2/extras/CUPTI/lib64:/home/aliquodfahriam/miniconda3/envs/tensorflowEnv/lib/\n",
      "2023-10-02 11:56:18.735259: W tensorflow/compiler/xla/stream_executor/platform/default/dso_loader.cc:64] Could not load dynamic library 'libnvinfer_plugin.so.7'; dlerror: libnvinfer_plugin.so.7: cannot open shared object file: No such file or directory; LD_LIBRARY_PATH: :/usr/local/cuda-11.2/lib64:/usr/local/cuda-11.2/extras/CUPTI/lib64:/home/aliquodfahriam/miniconda3/envs/tensorflowEnv/lib/\n",
      "2023-10-02 11:56:18.735265: W tensorflow/compiler/tf2tensorrt/utils/py_utils.cc:38] TF-TRT Warning: Cannot dlopen some TensorRT libraries. If you would like to use Nvidia GPU with TensorRT, please make sure the missing libraries mentioned above are installed properly.\n"
     ]
    }
   ],
   "source": [
    "from keras import backend as K \n",
    "import tensorflow as tf \n",
    "import math \n",
    "\n",
    "@tf.function\n",
    "def custom_loss2(y_true, y_pred):\n",
    "    alpha = 0.2 # 0.4 per la large !!!\n",
    "    difference = y_pred - y_true\n",
    "    squared_difference = tf.square(y_pred - y_true)\n",
    "    \n",
    "    # Calcola la loss per ciascun elemento\n",
    "    loss = tf.where(difference < 0, 2 * alpha * squared_difference, 2 * (alpha + (1 - 2 * alpha)) * squared_difference)\n",
    "    \n",
    "    # Calcola la media delle loss\n",
    "    return tf.reduce_mean(loss)\n",
    "\n",
    "@tf.function\n",
    "def custom_score(y_true, y_pred):\n",
    "    d_i = y_pred - y_true\n",
    "    #esponente = tf.where(d_i < 0, 1.0 / (d_i / 13.0), d_i / 10.0)\n",
    "    sum = tf.reduce_sum(tf.where(d_i < 0, tf.exp(-d_i/13)-1, tf.exp(d_i/10)-1)) #prova\n",
    "    #sum = tf.reduce_sum(tf.exp(esponente) - 1.0)\n",
    "    return sum\n",
    "\n",
    "\n",
    "def compute_s_score(rul_true, rul_pred):\n",
    "    \"\"\"\n",
    "    Both rul_true and rul_pred should be 1D numpy arrays.\n",
    "    \"\"\"\n",
    "    diff = rul_pred - rul_true\n",
    "    return np.sum(np.where(diff < 0, np.exp(-diff/13)-1, np.exp(diff/10)-1))"
   ]
  },
  {
   "cell_type": "code",
   "execution_count": 12,
   "metadata": {},
   "outputs": [],
   "source": [
    "from keras import regularizers\n",
    "from keras.models import Sequential\n",
    "from keras.layers import LSTM\n",
    "from keras.layers import Dense\n",
    "from keras.layers import Activation\n",
    "from keras.layers import Dropout\n",
    "from keras.layers import Flatten\n",
    "from keras.optimizers import Adam\n",
    "\n",
    "\n",
    "#Replica della rete neurale proposta come \"small LSTM\"\n",
    "def createLSTMsmallModel(l1Nodes, l2Nodes, d1Nodes, d2Nodes, input_shape):\n",
    "    # input layer\n",
    "    lstm1 = LSTM(l1Nodes, input_shape=input_shape,activation='tanh', return_sequences=True, kernel_regularizer=regularizers.l2(0.1))\n",
    "    \n",
    "    lstm2 = LSTM(l2Nodes, return_sequences=True, activation='tanh', kernel_regularizer=regularizers.l2(0.1))    \n",
    "    flatten = Flatten()\n",
    "    dense1 = Dense(d1Nodes, activation='relu', kernel_regularizer=regularizers.l2(0.1))\n",
    "    dense2 = Dense(d2Nodes, activation='relu', kernel_regularizer=regularizers.l2(0.1))\n",
    "    \n",
    "    # output layer\n",
    "    outL = Dense(1, activation='relu', kernel_regularizer=regularizers.l2(0.1))\n",
    "    \n",
    "    #layers\n",
    "    layers = [lstm1, lstm2,flatten,  dense1, dense2, outL]\n",
    "    model = Sequential(layers)\n",
    "    #Abbiamo aggiunto le nostre funzioni di loss e accuracy definite precedentemente\n",
    "\n",
    "    optimizer = Adam(learning_rate=0.1)\n",
    "    model.compile(optimizer=optimizer, loss=custom_loss2, metrics = [custom_score] )\n",
    "    return model\n",
    "\n",
    "\n",
    "def createLSTMlargeModel(l1Nodes, l2Nodes, l3Nodes, l4Nodes, d1dense , d2dense, input_shape): \n",
    "    lstm1 = LSTM(l1Nodes, input_shape=input_shape, return_sequences=True, kernel_regularizer=regularizers.l2(0.1))\n",
    "    d1 = Dropout(0.2)\n",
    "    lstm2 = LSTM(l2Nodes, return_sequences=True, kernel_regularizer=regularizers.l2(0.1))\n",
    "    d2 = Dropout(0.2)\n",
    "    lstm3 = LSTM(l3Nodes, return_sequences=True, kernel_regularizer=regularizers.l2(0.1))\n",
    "    d3 = Dropout(0.2)\n",
    "    lstm4 = LSTM(l4Nodes, return_sequences=True, kernel_regularizer=regularizers.l2(0.1))\n",
    "    d4 = Dropout(0.2)\n",
    "\n",
    "    flatten = Flatten()\n",
    "\n",
    "    dense1 = Dense(d1dense,activation='relu', kernel_regularizer=regularizers.l2(0.1))\n",
    "    dense2 = Dense(d2dense,activation='relu', kernel_regularizer=regularizers.l2(0.1))\n",
    "    output_dense = Dense(1,activation='relu', kernel_regularizer=regularizers.l2(0.1))\n",
    "\n",
    "    layers = [lstm1,d1, lstm2,d2, lstm3, d3, lstm4, d4,flatten,  dense1, dense2, output_dense]\n",
    "   \n",
    "    optimizer = Adam(learning_rate=0.01)\n",
    "    model = Sequential(layers)\n",
    "    model.compile(optimizer=optimizer, loss=custom_loss2, metrics = [custom_score])\n",
    "    return model\n"
   ]
  },
  {
   "cell_type": "code",
   "execution_count": 13,
   "metadata": {},
   "outputs": [
    {
     "name": "stderr",
     "output_type": "stream",
     "text": [
      "2023-10-02 11:56:19.278174: I tensorflow/compiler/xla/stream_executor/cuda/cuda_gpu_executor.cc:981] successful NUMA node read from SysFS had negative value (-1), but there must be at least one NUMA node, so returning NUMA node zero\n",
      "2023-10-02 11:56:19.283307: I tensorflow/compiler/xla/stream_executor/cuda/cuda_gpu_executor.cc:981] successful NUMA node read from SysFS had negative value (-1), but there must be at least one NUMA node, so returning NUMA node zero\n",
      "2023-10-02 11:56:19.283497: I tensorflow/compiler/xla/stream_executor/cuda/cuda_gpu_executor.cc:981] successful NUMA node read from SysFS had negative value (-1), but there must be at least one NUMA node, so returning NUMA node zero\n",
      "2023-10-02 11:56:19.283894: I tensorflow/core/platform/cpu_feature_guard.cc:193] This TensorFlow binary is optimized with oneAPI Deep Neural Network Library (oneDNN) to use the following CPU instructions in performance-critical operations:  AVX2 FMA\n",
      "To enable them in other operations, rebuild TensorFlow with the appropriate compiler flags.\n",
      "2023-10-02 11:56:19.285046: I tensorflow/compiler/xla/stream_executor/cuda/cuda_gpu_executor.cc:981] successful NUMA node read from SysFS had negative value (-1), but there must be at least one NUMA node, so returning NUMA node zero\n",
      "2023-10-02 11:56:19.285281: I tensorflow/compiler/xla/stream_executor/cuda/cuda_gpu_executor.cc:981] successful NUMA node read from SysFS had negative value (-1), but there must be at least one NUMA node, so returning NUMA node zero\n",
      "2023-10-02 11:56:19.285417: I tensorflow/compiler/xla/stream_executor/cuda/cuda_gpu_executor.cc:981] successful NUMA node read from SysFS had negative value (-1), but there must be at least one NUMA node, so returning NUMA node zero\n",
      "2023-10-02 11:56:19.782864: I tensorflow/compiler/xla/stream_executor/cuda/cuda_gpu_executor.cc:981] successful NUMA node read from SysFS had negative value (-1), but there must be at least one NUMA node, so returning NUMA node zero\n",
      "2023-10-02 11:56:19.783050: I tensorflow/compiler/xla/stream_executor/cuda/cuda_gpu_executor.cc:981] successful NUMA node read from SysFS had negative value (-1), but there must be at least one NUMA node, so returning NUMA node zero\n",
      "2023-10-02 11:56:19.783192: I tensorflow/compiler/xla/stream_executor/cuda/cuda_gpu_executor.cc:981] successful NUMA node read from SysFS had negative value (-1), but there must be at least one NUMA node, so returning NUMA node zero\n",
      "2023-10-02 11:56:19.783304: I tensorflow/core/common_runtime/gpu/gpu_device.cc:1613] Created device /job:localhost/replica:0/task:0/device:GPU:0 with 3870 MB memory:  -> device: 0, name: NVIDIA GeForce RTX 2060 with Max-Q Design, pci bus id: 0000:01:00.0, compute capability: 7.5\n"
     ]
    }
   ],
   "source": [
    "LSTMlargeModel= createLSTMlargeModel(128, 64, 32, 16, 64, 32, (30,14))"
   ]
  },
  {
   "cell_type": "code",
   "execution_count": 14,
   "metadata": {},
   "outputs": [],
   "source": [
    "def scheduler(epoch, lr):\n",
    "    if epoch < 30:\n",
    "        return lr\n",
    "    elif epoch >= 30 and epoch < 60 :\n",
    "        return 0.001\n",
    "    elif epoch >= 60 and epoch < 90: \n",
    "        return 0.0001\n",
    "    elif epoch >= 90: \n",
    "        return 0.00001\n",
    "    else: \n",
    "        return 0.01; \n",
    "    \n",
    "\n",
    "lr_scheduler = tf.keras.callbacks.LearningRateScheduler(scheduler, verbose = 1)"
   ]
  },
  {
   "cell_type": "code",
   "execution_count": 15,
   "metadata": {},
   "outputs": [
    {
     "name": "stdout",
     "output_type": "stream",
     "text": [
      "\n",
      "Epoch 1: LearningRateScheduler setting learning rate to 0.009999999776482582.\n",
      "Epoch 1/100\n"
     ]
    },
    {
     "name": "stderr",
     "output_type": "stream",
     "text": [
      "2023-10-02 11:56:25.155106: I tensorflow/compiler/xla/stream_executor/cuda/cuda_dnn.cc:428] Loaded cuDNN version 8100\n"
     ]
    },
    {
     "name": "stdout",
     "output_type": "stream",
     "text": [
      "67/69 [============================>.] - ETA: 0s - loss: 1612.7111 - custom_score: 87861.3281\n",
      "Epoch 1: val_loss improved from inf to 1422.13965, saving model to ./models/LSTMlarge/FD0001\n"
     ]
    },
    {
     "name": "stderr",
     "output_type": "stream",
     "text": [
      "WARNING:absl:Found untraced functions such as lstm_cell_layer_call_fn, lstm_cell_layer_call_and_return_conditional_losses, lstm_cell_1_layer_call_fn, lstm_cell_1_layer_call_and_return_conditional_losses, lstm_cell_2_layer_call_fn while saving (showing 5 of 8). These functions will not be directly callable after loading.\n"
     ]
    },
    {
     "name": "stdout",
     "output_type": "stream",
     "text": [
      "INFO:tensorflow:Assets written to: ./models/LSTMlarge/FD0001/assets\n"
     ]
    },
    {
     "name": "stderr",
     "output_type": "stream",
     "text": [
      "INFO:tensorflow:Assets written to: ./models/LSTMlarge/FD0001/assets\n"
     ]
    },
    {
     "name": "stdout",
     "output_type": "stream",
     "text": [
      "69/69 [==============================] - 18s 182ms/step - loss: 1609.2021 - custom_score: 85649.7891 - val_loss: 1422.1396 - val_custom_score: 20166.3574 - lr: 0.0100\n",
      "\n",
      "Epoch 2: LearningRateScheduler setting learning rate to 0.009999999776482582.\n",
      "Epoch 2/100\n",
      "65/69 [===========================>..] - ETA: 0s - loss: 1479.9427 - custom_score: 25901.3613\n",
      "Epoch 2: val_loss did not improve from 1422.13965\n",
      "69/69 [==============================] - 1s 16ms/step - loss: 1480.5984 - custom_score: 25795.7246 - val_loss: 1476.0763 - val_custom_score: 20756.2051 - lr: 0.0100\n",
      "\n",
      "Epoch 3: LearningRateScheduler setting learning rate to 0.009999999776482582.\n",
      "Epoch 3/100\n",
      "67/69 [============================>.] - ETA: 0s - loss: 1463.6863 - custom_score: 33743.6523\n",
      "Epoch 3: val_loss improved from 1422.13965 to 1315.95056, saving model to ./models/LSTMlarge/FD0001\n"
     ]
    },
    {
     "name": "stderr",
     "output_type": "stream",
     "text": [
      "WARNING:absl:Found untraced functions such as lstm_cell_layer_call_fn, lstm_cell_layer_call_and_return_conditional_losses, lstm_cell_1_layer_call_fn, lstm_cell_1_layer_call_and_return_conditional_losses, lstm_cell_2_layer_call_fn while saving (showing 5 of 8). These functions will not be directly callable after loading.\n"
     ]
    },
    {
     "name": "stdout",
     "output_type": "stream",
     "text": [
      "INFO:tensorflow:Assets written to: ./models/LSTMlarge/FD0001/assets\n"
     ]
    },
    {
     "name": "stderr",
     "output_type": "stream",
     "text": [
      "INFO:tensorflow:Assets written to: ./models/LSTMlarge/FD0001/assets\n"
     ]
    },
    {
     "name": "stdout",
     "output_type": "stream",
     "text": [
      "69/69 [==============================] - 12s 183ms/step - loss: 1460.2328 - custom_score: 33041.5586 - val_loss: 1315.9506 - val_custom_score: 14265.9922 - lr: 0.0100\n",
      "\n",
      "Epoch 4: LearningRateScheduler setting learning rate to 0.009999999776482582.\n",
      "Epoch 4/100\n",
      "66/69 [===========================>..] - ETA: 0s - loss: 1560.8616 - custom_score: 45655.3008\n",
      "Epoch 4: val_loss did not improve from 1315.95056\n",
      "69/69 [==============================] - 1s 21ms/step - loss: 1558.4781 - custom_score: 44348.4883 - val_loss: 1445.0320 - val_custom_score: 19464.0410 - lr: 0.0100\n",
      "\n",
      "Epoch 5: LearningRateScheduler setting learning rate to 0.009999999776482582.\n",
      "Epoch 5/100\n",
      "69/69 [==============================] - ETA: 0s - loss: 1493.1538 - custom_score: 24293.3945\n",
      "Epoch 5: val_loss did not improve from 1315.95056\n",
      "69/69 [==============================] - 1s 17ms/step - loss: 1493.1538 - custom_score: 24293.3945 - val_loss: 1451.1102 - val_custom_score: 19399.2168 - lr: 0.0100\n",
      "\n",
      "Epoch 6: LearningRateScheduler setting learning rate to 0.009999999776482582.\n",
      "Epoch 6/100\n",
      "69/69 [==============================] - ETA: 0s - loss: 1476.9021 - custom_score: 22519.5371\n",
      "Epoch 6: val_loss did not improve from 1315.95056\n",
      "69/69 [==============================] - 1s 17ms/step - loss: 1476.9021 - custom_score: 22519.5371 - val_loss: 1467.4668 - val_custom_score: 27493.4707 - lr: 0.0100\n",
      "\n",
      "Epoch 7: LearningRateScheduler setting learning rate to 0.009999999776482582.\n",
      "Epoch 7/100\n",
      "65/69 [===========================>..] - ETA: 0s - loss: 1474.2948 - custom_score: 23814.2773\n",
      "Epoch 7: val_loss did not improve from 1315.95056\n",
      "69/69 [==============================] - 1s 16ms/step - loss: 1472.3622 - custom_score: 23400.7695 - val_loss: 1426.1661 - val_custom_score: 19209.9727 - lr: 0.0100\n",
      "\n",
      "Epoch 8: LearningRateScheduler setting learning rate to 0.009999999776482582.\n",
      "Epoch 8/100\n",
      "68/69 [============================>.] - ETA: 0s - loss: 1475.7113 - custom_score: 25008.4160\n",
      "Epoch 8: val_loss did not improve from 1315.95056\n",
      "69/69 [==============================] - 1s 14ms/step - loss: 1475.5951 - custom_score: 24700.9688 - val_loss: 1446.7222 - val_custom_score: 19061.2871 - lr: 0.0100\n",
      "\n",
      "Epoch 9: LearningRateScheduler setting learning rate to 0.009999999776482582.\n",
      "Epoch 9/100\n",
      "66/69 [===========================>..] - ETA: 0s - loss: 1502.7589 - custom_score: 30460.6602\n",
      "Epoch 9: val_loss did not improve from 1315.95056\n",
      "69/69 [==============================] - 1s 12ms/step - loss: 1497.6948 - custom_score: 29774.3301 - val_loss: 1428.6346 - val_custom_score: 19711.6855 - lr: 0.0100\n",
      "\n",
      "Epoch 10: LearningRateScheduler setting learning rate to 0.009999999776482582.\n",
      "Epoch 10/100\n",
      "68/69 [============================>.] - ETA: 0s - loss: 1285.6453 - custom_score: 22104.8184\n",
      "Epoch 10: val_loss improved from 1315.95056 to 866.92523, saving model to ./models/LSTMlarge/FD0001\n"
     ]
    },
    {
     "name": "stderr",
     "output_type": "stream",
     "text": [
      "WARNING:absl:Found untraced functions such as lstm_cell_layer_call_fn, lstm_cell_layer_call_and_return_conditional_losses, lstm_cell_1_layer_call_fn, lstm_cell_1_layer_call_and_return_conditional_losses, lstm_cell_2_layer_call_fn while saving (showing 5 of 8). These functions will not be directly callable after loading.\n"
     ]
    },
    {
     "name": "stdout",
     "output_type": "stream",
     "text": [
      "INFO:tensorflow:Assets written to: ./models/LSTMlarge/FD0001/assets\n"
     ]
    },
    {
     "name": "stderr",
     "output_type": "stream",
     "text": [
      "INFO:tensorflow:Assets written to: ./models/LSTMlarge/FD0001/assets\n"
     ]
    },
    {
     "name": "stdout",
     "output_type": "stream",
     "text": [
      "69/69 [==============================] - 12s 172ms/step - loss: 1284.1139 - custom_score: 21816.6191 - val_loss: 866.9252 - val_custom_score: 12518.4258 - lr: 0.0100\n",
      "\n",
      "Epoch 11: LearningRateScheduler setting learning rate to 0.009999999776482582.\n",
      "Epoch 11/100\n",
      "67/69 [============================>.] - ETA: 0s - loss: 704.9494 - custom_score: 12635.5811\n",
      "Epoch 11: val_loss improved from 866.92523 to 606.06830, saving model to ./models/LSTMlarge/FD0001\n"
     ]
    },
    {
     "name": "stderr",
     "output_type": "stream",
     "text": [
      "WARNING:absl:Found untraced functions such as lstm_cell_layer_call_fn, lstm_cell_layer_call_and_return_conditional_losses, lstm_cell_1_layer_call_fn, lstm_cell_1_layer_call_and_return_conditional_losses, lstm_cell_2_layer_call_fn while saving (showing 5 of 8). These functions will not be directly callable after loading.\n"
     ]
    },
    {
     "name": "stdout",
     "output_type": "stream",
     "text": [
      "INFO:tensorflow:Assets written to: ./models/LSTMlarge/FD0001/assets\n"
     ]
    },
    {
     "name": "stderr",
     "output_type": "stream",
     "text": [
      "INFO:tensorflow:Assets written to: ./models/LSTMlarge/FD0001/assets\n"
     ]
    },
    {
     "name": "stdout",
     "output_type": "stream",
     "text": [
      "69/69 [==============================] - 12s 178ms/step - loss: 702.5031 - custom_score: 12465.2012 - val_loss: 606.0683 - val_custom_score: 6739.5195 - lr: 0.0100\n",
      "\n",
      "Epoch 12: LearningRateScheduler setting learning rate to 0.009999999776482582.\n",
      "Epoch 12/100\n",
      "67/69 [============================>.] - ETA: 0s - loss: 631.1671 - custom_score: 10067.5146\n",
      "Epoch 12: val_loss improved from 606.06830 to 539.09479, saving model to ./models/LSTMlarge/FD0001\n"
     ]
    },
    {
     "name": "stderr",
     "output_type": "stream",
     "text": [
      "WARNING:absl:Found untraced functions such as lstm_cell_layer_call_fn, lstm_cell_layer_call_and_return_conditional_losses, lstm_cell_1_layer_call_fn, lstm_cell_1_layer_call_and_return_conditional_losses, lstm_cell_2_layer_call_fn while saving (showing 5 of 8). These functions will not be directly callable after loading.\n"
     ]
    },
    {
     "name": "stdout",
     "output_type": "stream",
     "text": [
      "INFO:tensorflow:Assets written to: ./models/LSTMlarge/FD0001/assets\n"
     ]
    },
    {
     "name": "stderr",
     "output_type": "stream",
     "text": [
      "INFO:tensorflow:Assets written to: ./models/LSTMlarge/FD0001/assets\n"
     ]
    },
    {
     "name": "stdout",
     "output_type": "stream",
     "text": [
      "69/69 [==============================] - 14s 201ms/step - loss: 631.0134 - custom_score: 9933.4678 - val_loss: 539.0948 - val_custom_score: 5968.9512 - lr: 0.0100\n",
      "\n",
      "Epoch 13: LearningRateScheduler setting learning rate to 0.009999999776482582.\n",
      "Epoch 13/100\n",
      "66/69 [===========================>..] - ETA: 0s - loss: 597.8686 - custom_score: 8763.8447\n",
      "Epoch 13: val_loss did not improve from 539.09479\n",
      "69/69 [==============================] - 1s 15ms/step - loss: 596.2372 - custom_score: 8549.6709 - val_loss: 541.5113 - val_custom_score: 7584.3652 - lr: 0.0100\n",
      "\n",
      "Epoch 14: LearningRateScheduler setting learning rate to 0.009999999776482582.\n",
      "Epoch 14/100\n",
      "68/69 [============================>.] - ETA: 0s - loss: 559.1548 - custom_score: 7250.3198\n",
      "Epoch 14: val_loss did not improve from 539.09479\n",
      "69/69 [==============================] - 1s 21ms/step - loss: 558.5800 - custom_score: 7154.4863 - val_loss: 547.1616 - val_custom_score: 5871.2368 - lr: 0.0100\n",
      "\n",
      "Epoch 15: LearningRateScheduler setting learning rate to 0.009999999776482582.\n",
      "Epoch 15/100\n",
      "68/69 [============================>.] - ETA: 0s - loss: 548.4914 - custom_score: 7319.3140\n",
      "Epoch 15: val_loss improved from 539.09479 to 501.14349, saving model to ./models/LSTMlarge/FD0001\n"
     ]
    },
    {
     "name": "stderr",
     "output_type": "stream",
     "text": [
      "WARNING:absl:Found untraced functions such as lstm_cell_layer_call_fn, lstm_cell_layer_call_and_return_conditional_losses, lstm_cell_1_layer_call_fn, lstm_cell_1_layer_call_and_return_conditional_losses, lstm_cell_2_layer_call_fn while saving (showing 5 of 8). These functions will not be directly callable after loading.\n"
     ]
    },
    {
     "name": "stdout",
     "output_type": "stream",
     "text": [
      "INFO:tensorflow:Assets written to: ./models/LSTMlarge/FD0001/assets\n"
     ]
    },
    {
     "name": "stderr",
     "output_type": "stream",
     "text": [
      "INFO:tensorflow:Assets written to: ./models/LSTMlarge/FD0001/assets\n"
     ]
    },
    {
     "name": "stdout",
     "output_type": "stream",
     "text": [
      "69/69 [==============================] - 14s 201ms/step - loss: 548.8792 - custom_score: 7247.1831 - val_loss: 501.1435 - val_custom_score: 5906.5566 - lr: 0.0100\n",
      "\n",
      "Epoch 16: LearningRateScheduler setting learning rate to 0.009999999776482582.\n",
      "Epoch 16/100\n",
      "66/69 [===========================>..] - ETA: 0s - loss: 555.4708 - custom_score: 7339.5391\n",
      "Epoch 16: val_loss improved from 501.14349 to 481.29788, saving model to ./models/LSTMlarge/FD0001\n"
     ]
    },
    {
     "name": "stderr",
     "output_type": "stream",
     "text": [
      "WARNING:absl:Found untraced functions such as lstm_cell_layer_call_fn, lstm_cell_layer_call_and_return_conditional_losses, lstm_cell_1_layer_call_fn, lstm_cell_1_layer_call_and_return_conditional_losses, lstm_cell_2_layer_call_fn while saving (showing 5 of 8). These functions will not be directly callable after loading.\n"
     ]
    },
    {
     "name": "stdout",
     "output_type": "stream",
     "text": [
      "INFO:tensorflow:Assets written to: ./models/LSTMlarge/FD0001/assets\n"
     ]
    },
    {
     "name": "stderr",
     "output_type": "stream",
     "text": [
      "INFO:tensorflow:Assets written to: ./models/LSTMlarge/FD0001/assets\n"
     ]
    },
    {
     "name": "stdout",
     "output_type": "stream",
     "text": [
      "69/69 [==============================] - 13s 185ms/step - loss: 554.4716 - custom_score: 7235.1558 - val_loss: 481.2979 - val_custom_score: 4235.6157 - lr: 0.0100\n",
      "\n",
      "Epoch 17: LearningRateScheduler setting learning rate to 0.009999999776482582.\n",
      "Epoch 17/100\n",
      "68/69 [============================>.] - ETA: 0s - loss: 518.2390 - custom_score: 6105.2476\n",
      "Epoch 17: val_loss improved from 481.29788 to 462.04190, saving model to ./models/LSTMlarge/FD0001\n"
     ]
    },
    {
     "name": "stderr",
     "output_type": "stream",
     "text": [
      "WARNING:absl:Found untraced functions such as lstm_cell_layer_call_fn, lstm_cell_layer_call_and_return_conditional_losses, lstm_cell_1_layer_call_fn, lstm_cell_1_layer_call_and_return_conditional_losses, lstm_cell_2_layer_call_fn while saving (showing 5 of 8). These functions will not be directly callable after loading.\n"
     ]
    },
    {
     "name": "stdout",
     "output_type": "stream",
     "text": [
      "INFO:tensorflow:Assets written to: ./models/LSTMlarge/FD0001/assets\n"
     ]
    },
    {
     "name": "stderr",
     "output_type": "stream",
     "text": [
      "INFO:tensorflow:Assets written to: ./models/LSTMlarge/FD0001/assets\n"
     ]
    },
    {
     "name": "stdout",
     "output_type": "stream",
     "text": [
      "69/69 [==============================] - 13s 188ms/step - loss: 517.9014 - custom_score: 6024.5996 - val_loss: 462.0419 - val_custom_score: 4622.3638 - lr: 0.0100\n",
      "\n",
      "Epoch 18: LearningRateScheduler setting learning rate to 0.009999999776482582.\n",
      "Epoch 18/100\n",
      "68/69 [============================>.] - ETA: 0s - loss: 476.7213 - custom_score: 5106.2622\n",
      "Epoch 18: val_loss did not improve from 462.04190\n",
      "69/69 [==============================] - 1s 16ms/step - loss: 476.4761 - custom_score: 5043.8755 - val_loss: 683.5792 - val_custom_score: 6848.5693 - lr: 0.0100\n",
      "\n",
      "Epoch 19: LearningRateScheduler setting learning rate to 0.009999999776482582.\n",
      "Epoch 19/100\n",
      "69/69 [==============================] - ETA: 0s - loss: 465.4054 - custom_score: 5465.4644\n",
      "Epoch 19: val_loss did not improve from 462.04190\n",
      "69/69 [==============================] - 1s 19ms/step - loss: 465.4054 - custom_score: 5465.4644 - val_loss: 491.3867 - val_custom_score: 9326.9014 - lr: 0.0100\n",
      "\n",
      "Epoch 20: LearningRateScheduler setting learning rate to 0.009999999776482582.\n",
      "Epoch 20/100\n",
      "68/69 [============================>.] - ETA: 0s - loss: 382.0331 - custom_score: 3406.3408\n",
      "Epoch 20: val_loss improved from 462.04190 to 347.44733, saving model to ./models/LSTMlarge/FD0001\n"
     ]
    },
    {
     "name": "stderr",
     "output_type": "stream",
     "text": [
      "WARNING:absl:Found untraced functions such as lstm_cell_layer_call_fn, lstm_cell_layer_call_and_return_conditional_losses, lstm_cell_1_layer_call_fn, lstm_cell_1_layer_call_and_return_conditional_losses, lstm_cell_2_layer_call_fn while saving (showing 5 of 8). These functions will not be directly callable after loading.\n"
     ]
    },
    {
     "name": "stdout",
     "output_type": "stream",
     "text": [
      "INFO:tensorflow:Assets written to: ./models/LSTMlarge/FD0001/assets\n"
     ]
    },
    {
     "name": "stderr",
     "output_type": "stream",
     "text": [
      "INFO:tensorflow:Assets written to: ./models/LSTMlarge/FD0001/assets\n"
     ]
    },
    {
     "name": "stdout",
     "output_type": "stream",
     "text": [
      "69/69 [==============================] - 13s 190ms/step - loss: 381.8119 - custom_score: 3363.2798 - val_loss: 347.4473 - val_custom_score: 5018.4683 - lr: 0.0100\n",
      "\n",
      "Epoch 21: LearningRateScheduler setting learning rate to 0.009999999776482582.\n",
      "Epoch 21/100\n",
      "68/69 [============================>.] - ETA: 0s - loss: 268.9756 - custom_score: 1667.4579\n",
      "Epoch 21: val_loss improved from 347.44733 to 241.52106, saving model to ./models/LSTMlarge/FD0001\n"
     ]
    },
    {
     "name": "stderr",
     "output_type": "stream",
     "text": [
      "WARNING:absl:Found untraced functions such as lstm_cell_layer_call_fn, lstm_cell_layer_call_and_return_conditional_losses, lstm_cell_1_layer_call_fn, lstm_cell_1_layer_call_and_return_conditional_losses, lstm_cell_2_layer_call_fn while saving (showing 5 of 8). These functions will not be directly callable after loading.\n"
     ]
    },
    {
     "name": "stdout",
     "output_type": "stream",
     "text": [
      "INFO:tensorflow:Assets written to: ./models/LSTMlarge/FD0001/assets\n"
     ]
    },
    {
     "name": "stderr",
     "output_type": "stream",
     "text": [
      "INFO:tensorflow:Assets written to: ./models/LSTMlarge/FD0001/assets\n"
     ]
    },
    {
     "name": "stdout",
     "output_type": "stream",
     "text": [
      "69/69 [==============================] - 14s 199ms/step - loss: 268.8322 - custom_score: 1645.8499 - val_loss: 241.5211 - val_custom_score: 1703.6532 - lr: 0.0100\n",
      "\n",
      "Epoch 22: LearningRateScheduler setting learning rate to 0.009999999776482582.\n",
      "Epoch 22/100\n",
      "68/69 [============================>.] - ETA: 0s - loss: 261.9299 - custom_score: 1533.3376\n",
      "Epoch 22: val_loss improved from 241.52106 to 216.88048, saving model to ./models/LSTMlarge/FD0001\n"
     ]
    },
    {
     "name": "stderr",
     "output_type": "stream",
     "text": [
      "WARNING:absl:Found untraced functions such as lstm_cell_layer_call_fn, lstm_cell_layer_call_and_return_conditional_losses, lstm_cell_1_layer_call_fn, lstm_cell_1_layer_call_and_return_conditional_losses, lstm_cell_2_layer_call_fn while saving (showing 5 of 8). These functions will not be directly callable after loading.\n"
     ]
    },
    {
     "name": "stdout",
     "output_type": "stream",
     "text": [
      "INFO:tensorflow:Assets written to: ./models/LSTMlarge/FD0001/assets\n"
     ]
    },
    {
     "name": "stderr",
     "output_type": "stream",
     "text": [
      "INFO:tensorflow:Assets written to: ./models/LSTMlarge/FD0001/assets\n"
     ]
    },
    {
     "name": "stdout",
     "output_type": "stream",
     "text": [
      "69/69 [==============================] - 13s 195ms/step - loss: 261.8500 - custom_score: 1514.2506 - val_loss: 216.8805 - val_custom_score: 914.4192 - lr: 0.0100\n",
      "\n",
      "Epoch 23: LearningRateScheduler setting learning rate to 0.009999999776482582.\n",
      "Epoch 23/100\n",
      "69/69 [==============================] - ETA: 0s - loss: 232.9752 - custom_score: 1285.7986\n",
      "Epoch 23: val_loss did not improve from 216.88048\n",
      "69/69 [==============================] - 1s 20ms/step - loss: 232.9752 - custom_score: 1285.7986 - val_loss: 361.5997 - val_custom_score: 1589.7661 - lr: 0.0100\n",
      "\n",
      "Epoch 24: LearningRateScheduler setting learning rate to 0.009999999776482582.\n",
      "Epoch 24/100\n",
      "68/69 [============================>.] - ETA: 0s - loss: 218.9239 - custom_score: 1239.4226\n",
      "Epoch 24: val_loss improved from 216.88048 to 191.09131, saving model to ./models/LSTMlarge/FD0001\n"
     ]
    },
    {
     "name": "stderr",
     "output_type": "stream",
     "text": [
      "WARNING:absl:Found untraced functions such as lstm_cell_layer_call_fn, lstm_cell_layer_call_and_return_conditional_losses, lstm_cell_1_layer_call_fn, lstm_cell_1_layer_call_and_return_conditional_losses, lstm_cell_2_layer_call_fn while saving (showing 5 of 8). These functions will not be directly callable after loading.\n"
     ]
    },
    {
     "name": "stdout",
     "output_type": "stream",
     "text": [
      "INFO:tensorflow:Assets written to: ./models/LSTMlarge/FD0001/assets\n"
     ]
    },
    {
     "name": "stderr",
     "output_type": "stream",
     "text": [
      "INFO:tensorflow:Assets written to: ./models/LSTMlarge/FD0001/assets\n"
     ]
    },
    {
     "name": "stdout",
     "output_type": "stream",
     "text": [
      "69/69 [==============================] - 14s 200ms/step - loss: 219.2244 - custom_score: 1224.3199 - val_loss: 191.0913 - val_custom_score: 864.1245 - lr: 0.0100\n",
      "\n",
      "Epoch 25: LearningRateScheduler setting learning rate to 0.009999999776482582.\n",
      "Epoch 25/100\n",
      "67/69 [============================>.] - ETA: 0s - loss: 199.2997 - custom_score: 1096.4115\n",
      "Epoch 25: val_loss improved from 191.09131 to 186.61726, saving model to ./models/LSTMlarge/FD0001\n"
     ]
    },
    {
     "name": "stderr",
     "output_type": "stream",
     "text": [
      "WARNING:absl:Found untraced functions such as lstm_cell_layer_call_fn, lstm_cell_layer_call_and_return_conditional_losses, lstm_cell_1_layer_call_fn, lstm_cell_1_layer_call_and_return_conditional_losses, lstm_cell_2_layer_call_fn while saving (showing 5 of 8). These functions will not be directly callable after loading.\n"
     ]
    },
    {
     "name": "stdout",
     "output_type": "stream",
     "text": [
      "INFO:tensorflow:Assets written to: ./models/LSTMlarge/FD0001/assets\n"
     ]
    },
    {
     "name": "stderr",
     "output_type": "stream",
     "text": [
      "INFO:tensorflow:Assets written to: ./models/LSTMlarge/FD0001/assets\n"
     ]
    },
    {
     "name": "stdout",
     "output_type": "stream",
     "text": [
      "69/69 [==============================] - 13s 198ms/step - loss: 198.5854 - custom_score: 1080.6791 - val_loss: 186.6173 - val_custom_score: 756.9742 - lr: 0.0100\n",
      "\n",
      "Epoch 26: LearningRateScheduler setting learning rate to 0.009999999776482582.\n",
      "Epoch 26/100\n",
      "68/69 [============================>.] - ETA: 0s - loss: 190.4972 - custom_score: 1046.9932\n",
      "Epoch 26: val_loss did not improve from 186.61726\n",
      "69/69 [==============================] - 1s 19ms/step - loss: 190.5729 - custom_score: 1034.5520 - val_loss: 191.9942 - val_custom_score: 745.3398 - lr: 0.0100\n",
      "\n",
      "Epoch 27: LearningRateScheduler setting learning rate to 0.009999999776482582.\n",
      "Epoch 27/100\n",
      "69/69 [==============================] - ETA: 0s - loss: 185.9625 - custom_score: 1008.3758\n",
      "Epoch 27: val_loss did not improve from 186.61726\n",
      "69/69 [==============================] - 1s 19ms/step - loss: 185.9625 - custom_score: 1008.3758 - val_loss: 187.6239 - val_custom_score: 781.5540 - lr: 0.0100\n",
      "\n",
      "Epoch 28: LearningRateScheduler setting learning rate to 0.009999999776482582.\n",
      "Epoch 28/100\n",
      "68/69 [============================>.] - ETA: 0s - loss: 181.7462 - custom_score: 1007.7126\n",
      "Epoch 28: val_loss improved from 186.61726 to 173.31923, saving model to ./models/LSTMlarge/FD0001\n"
     ]
    },
    {
     "name": "stderr",
     "output_type": "stream",
     "text": [
      "WARNING:absl:Found untraced functions such as lstm_cell_layer_call_fn, lstm_cell_layer_call_and_return_conditional_losses, lstm_cell_1_layer_call_fn, lstm_cell_1_layer_call_and_return_conditional_losses, lstm_cell_2_layer_call_fn while saving (showing 5 of 8). These functions will not be directly callable after loading.\n"
     ]
    },
    {
     "name": "stdout",
     "output_type": "stream",
     "text": [
      "INFO:tensorflow:Assets written to: ./models/LSTMlarge/FD0001/assets\n"
     ]
    },
    {
     "name": "stderr",
     "output_type": "stream",
     "text": [
      "INFO:tensorflow:Assets written to: ./models/LSTMlarge/FD0001/assets\n"
     ]
    },
    {
     "name": "stdout",
     "output_type": "stream",
     "text": [
      "69/69 [==============================] - 14s 207ms/step - loss: 181.5858 - custom_score: 994.3201 - val_loss: 173.3192 - val_custom_score: 1021.1191 - lr: 0.0100\n",
      "\n",
      "Epoch 29: LearningRateScheduler setting learning rate to 0.009999999776482582.\n",
      "Epoch 29/100\n",
      "69/69 [==============================] - ETA: 0s - loss: 180.4910 - custom_score: 1003.0717\n",
      "Epoch 29: val_loss did not improve from 173.31923\n",
      "69/69 [==============================] - 1s 18ms/step - loss: 180.4910 - custom_score: 1003.0717 - val_loss: 189.9827 - val_custom_score: 710.9390 - lr: 0.0100\n",
      "\n",
      "Epoch 30: LearningRateScheduler setting learning rate to 0.009999999776482582.\n",
      "Epoch 30/100\n",
      "66/69 [===========================>..] - ETA: 0s - loss: 170.8390 - custom_score: 921.7191\n",
      "Epoch 30: val_loss did not improve from 173.31923\n",
      "69/69 [==============================] - 1s 15ms/step - loss: 170.7477 - custom_score: 906.4852 - val_loss: 182.0241 - val_custom_score: 703.6206 - lr: 0.0100\n",
      "\n",
      "Epoch 31: LearningRateScheduler setting learning rate to 0.001.\n",
      "Epoch 31/100\n",
      "67/69 [============================>.] - ETA: 0s - loss: 156.1472 - custom_score: 789.5440\n",
      "Epoch 31: val_loss improved from 173.31923 to 152.95326, saving model to ./models/LSTMlarge/FD0001\n"
     ]
    },
    {
     "name": "stderr",
     "output_type": "stream",
     "text": [
      "WARNING:absl:Found untraced functions such as lstm_cell_layer_call_fn, lstm_cell_layer_call_and_return_conditional_losses, lstm_cell_1_layer_call_fn, lstm_cell_1_layer_call_and_return_conditional_losses, lstm_cell_2_layer_call_fn while saving (showing 5 of 8). These functions will not be directly callable after loading.\n"
     ]
    },
    {
     "name": "stdout",
     "output_type": "stream",
     "text": [
      "INFO:tensorflow:Assets written to: ./models/LSTMlarge/FD0001/assets\n"
     ]
    },
    {
     "name": "stderr",
     "output_type": "stream",
     "text": [
      "INFO:tensorflow:Assets written to: ./models/LSTMlarge/FD0001/assets\n"
     ]
    },
    {
     "name": "stdout",
     "output_type": "stream",
     "text": [
      "69/69 [==============================] - 14s 206ms/step - loss: 156.4400 - custom_score: 782.2220 - val_loss: 152.9533 - val_custom_score: 653.8006 - lr: 0.0010\n",
      "\n",
      "Epoch 32: LearningRateScheduler setting learning rate to 0.001.\n",
      "Epoch 32/100\n",
      "66/69 [===========================>..] - ETA: 0s - loss: 152.3906 - custom_score: 776.5558\n",
      "Epoch 32: val_loss improved from 152.95326 to 147.34993, saving model to ./models/LSTMlarge/FD0001\n"
     ]
    },
    {
     "name": "stderr",
     "output_type": "stream",
     "text": [
      "WARNING:absl:Found untraced functions such as lstm_cell_layer_call_fn, lstm_cell_layer_call_and_return_conditional_losses, lstm_cell_1_layer_call_fn, lstm_cell_1_layer_call_and_return_conditional_losses, lstm_cell_2_layer_call_fn while saving (showing 5 of 8). These functions will not be directly callable after loading.\n"
     ]
    },
    {
     "name": "stdout",
     "output_type": "stream",
     "text": [
      "INFO:tensorflow:Assets written to: ./models/LSTMlarge/FD0001/assets\n"
     ]
    },
    {
     "name": "stderr",
     "output_type": "stream",
     "text": [
      "INFO:tensorflow:Assets written to: ./models/LSTMlarge/FD0001/assets\n"
     ]
    },
    {
     "name": "stdout",
     "output_type": "stream",
     "text": [
      "69/69 [==============================] - 14s 209ms/step - loss: 152.5492 - custom_score: 769.5610 - val_loss: 147.3499 - val_custom_score: 702.5085 - lr: 0.0010\n",
      "\n",
      "Epoch 33: LearningRateScheduler setting learning rate to 0.001.\n",
      "Epoch 33/100\n",
      "67/69 [============================>.] - ETA: 0s - loss: 152.8122 - custom_score: 790.2440\n",
      "Epoch 33: val_loss did not improve from 147.34993\n",
      "69/69 [==============================] - 1s 21ms/step - loss: 152.7186 - custom_score: 780.5309 - val_loss: 150.5670 - val_custom_score: 636.9016 - lr: 0.0010\n",
      "\n",
      "Epoch 34: LearningRateScheduler setting learning rate to 0.001.\n",
      "Epoch 34/100\n",
      "68/69 [============================>.] - ETA: 0s - loss: 150.6288 - custom_score: 767.1567\n",
      "Epoch 34: val_loss improved from 147.34993 to 145.94519, saving model to ./models/LSTMlarge/FD0001\n"
     ]
    },
    {
     "name": "stderr",
     "output_type": "stream",
     "text": [
      "WARNING:absl:Found untraced functions such as lstm_cell_layer_call_fn, lstm_cell_layer_call_and_return_conditional_losses, lstm_cell_1_layer_call_fn, lstm_cell_1_layer_call_and_return_conditional_losses, lstm_cell_2_layer_call_fn while saving (showing 5 of 8). These functions will not be directly callable after loading.\n"
     ]
    },
    {
     "name": "stdout",
     "output_type": "stream",
     "text": [
      "INFO:tensorflow:Assets written to: ./models/LSTMlarge/FD0001/assets\n"
     ]
    },
    {
     "name": "stderr",
     "output_type": "stream",
     "text": [
      "INFO:tensorflow:Assets written to: ./models/LSTMlarge/FD0001/assets\n"
     ]
    },
    {
     "name": "stdout",
     "output_type": "stream",
     "text": [
      "69/69 [==============================] - 14s 203ms/step - loss: 150.7507 - custom_score: 758.6036 - val_loss: 145.9452 - val_custom_score: 702.2028 - lr: 0.0010\n",
      "\n",
      "Epoch 35: LearningRateScheduler setting learning rate to 0.001.\n",
      "Epoch 35/100\n",
      "67/69 [============================>.] - ETA: 0s - loss: 149.3614 - custom_score: 760.2080\n",
      "Epoch 35: val_loss did not improve from 145.94519\n",
      "69/69 [==============================] - 2s 22ms/step - loss: 149.3729 - custom_score: 754.0244 - val_loss: 147.3043 - val_custom_score: 640.0945 - lr: 0.0010\n",
      "\n",
      "Epoch 36: LearningRateScheduler setting learning rate to 0.001.\n",
      "Epoch 36/100\n",
      "66/69 [===========================>..] - ETA: 0s - loss: 150.4079 - custom_score: 767.8484\n",
      "Epoch 36: val_loss improved from 145.94519 to 144.39723, saving model to ./models/LSTMlarge/FD0001\n"
     ]
    },
    {
     "name": "stderr",
     "output_type": "stream",
     "text": [
      "WARNING:absl:Found untraced functions such as lstm_cell_layer_call_fn, lstm_cell_layer_call_and_return_conditional_losses, lstm_cell_1_layer_call_fn, lstm_cell_1_layer_call_and_return_conditional_losses, lstm_cell_2_layer_call_fn while saving (showing 5 of 8). These functions will not be directly callable after loading.\n"
     ]
    },
    {
     "name": "stdout",
     "output_type": "stream",
     "text": [
      "INFO:tensorflow:Assets written to: ./models/LSTMlarge/FD0001/assets\n"
     ]
    },
    {
     "name": "stderr",
     "output_type": "stream",
     "text": [
      "INFO:tensorflow:Assets written to: ./models/LSTMlarge/FD0001/assets\n"
     ]
    },
    {
     "name": "stdout",
     "output_type": "stream",
     "text": [
      "69/69 [==============================] - 14s 212ms/step - loss: 150.1836 - custom_score: 761.1153 - val_loss: 144.3972 - val_custom_score: 654.5662 - lr: 0.0010\n",
      "\n",
      "Epoch 37: LearningRateScheduler setting learning rate to 0.001.\n",
      "Epoch 37/100\n",
      "67/69 [============================>.] - ETA: 0s - loss: 148.7395 - custom_score: 755.3355\n",
      "Epoch 37: val_loss did not improve from 144.39723\n",
      "69/69 [==============================] - 1s 20ms/step - loss: 148.8921 - custom_score: 747.3887 - val_loss: 144.8251 - val_custom_score: 728.4225 - lr: 0.0010\n",
      "\n",
      "Epoch 38: LearningRateScheduler setting learning rate to 0.001.\n",
      "Epoch 38/100\n",
      "67/69 [============================>.] - ETA: 0s - loss: 148.7536 - custom_score: 764.8217\n",
      "Epoch 38: val_loss improved from 144.39723 to 144.09654, saving model to ./models/LSTMlarge/FD0001\n"
     ]
    },
    {
     "name": "stderr",
     "output_type": "stream",
     "text": [
      "WARNING:absl:Found untraced functions such as lstm_cell_layer_call_fn, lstm_cell_layer_call_and_return_conditional_losses, lstm_cell_1_layer_call_fn, lstm_cell_1_layer_call_and_return_conditional_losses, lstm_cell_2_layer_call_fn while saving (showing 5 of 8). These functions will not be directly callable after loading.\n"
     ]
    },
    {
     "name": "stdout",
     "output_type": "stream",
     "text": [
      "INFO:tensorflow:Assets written to: ./models/LSTMlarge/FD0001/assets\n"
     ]
    },
    {
     "name": "stderr",
     "output_type": "stream",
     "text": [
      "INFO:tensorflow:Assets written to: ./models/LSTMlarge/FD0001/assets\n"
     ]
    },
    {
     "name": "stdout",
     "output_type": "stream",
     "text": [
      "69/69 [==============================] - 15s 215ms/step - loss: 149.2564 - custom_score: 760.9943 - val_loss: 144.0965 - val_custom_score: 712.1576 - lr: 0.0010\n",
      "\n",
      "Epoch 39: LearningRateScheduler setting learning rate to 0.001.\n",
      "Epoch 39/100\n",
      "69/69 [==============================] - ETA: 0s - loss: 147.5957 - custom_score: 745.3809\n",
      "Epoch 39: val_loss improved from 144.09654 to 142.40013, saving model to ./models/LSTMlarge/FD0001\n"
     ]
    },
    {
     "name": "stderr",
     "output_type": "stream",
     "text": [
      "WARNING:absl:Found untraced functions such as lstm_cell_layer_call_fn, lstm_cell_layer_call_and_return_conditional_losses, lstm_cell_1_layer_call_fn, lstm_cell_1_layer_call_and_return_conditional_losses, lstm_cell_2_layer_call_fn while saving (showing 5 of 8). These functions will not be directly callable after loading.\n"
     ]
    },
    {
     "name": "stdout",
     "output_type": "stream",
     "text": [
      "INFO:tensorflow:Assets written to: ./models/LSTMlarge/FD0001/assets\n"
     ]
    },
    {
     "name": "stderr",
     "output_type": "stream",
     "text": [
      "INFO:tensorflow:Assets written to: ./models/LSTMlarge/FD0001/assets\n"
     ]
    },
    {
     "name": "stdout",
     "output_type": "stream",
     "text": [
      "69/69 [==============================] - 14s 209ms/step - loss: 147.5957 - custom_score: 745.3809 - val_loss: 142.4001 - val_custom_score: 648.6597 - lr: 0.0010\n",
      "\n",
      "Epoch 40: LearningRateScheduler setting learning rate to 0.001.\n",
      "Epoch 40/100\n",
      "67/69 [============================>.] - ETA: 0s - loss: 146.2331 - custom_score: 744.2623\n",
      "Epoch 40: val_loss did not improve from 142.40013\n",
      "69/69 [==============================] - 2s 22ms/step - loss: 146.3826 - custom_score: 736.7290 - val_loss: 142.9785 - val_custom_score: 676.2064 - lr: 0.0010\n",
      "\n",
      "Epoch 41: LearningRateScheduler setting learning rate to 0.001.\n",
      "Epoch 41/100\n",
      "67/69 [============================>.] - ETA: 0s - loss: 143.8253 - custom_score: 724.0497\n",
      "Epoch 41: val_loss improved from 142.40013 to 141.88078, saving model to ./models/LSTMlarge/FD0001\n"
     ]
    },
    {
     "name": "stderr",
     "output_type": "stream",
     "text": [
      "WARNING:absl:Found untraced functions such as lstm_cell_layer_call_fn, lstm_cell_layer_call_and_return_conditional_losses, lstm_cell_1_layer_call_fn, lstm_cell_1_layer_call_and_return_conditional_losses, lstm_cell_2_layer_call_fn while saving (showing 5 of 8). These functions will not be directly callable after loading.\n"
     ]
    },
    {
     "name": "stdout",
     "output_type": "stream",
     "text": [
      "INFO:tensorflow:Assets written to: ./models/LSTMlarge/FD0001/assets\n"
     ]
    },
    {
     "name": "stderr",
     "output_type": "stream",
     "text": [
      "INFO:tensorflow:Assets written to: ./models/LSTMlarge/FD0001/assets\n"
     ]
    },
    {
     "name": "stdout",
     "output_type": "stream",
     "text": [
      "69/69 [==============================] - 15s 224ms/step - loss: 144.0594 - custom_score: 717.1656 - val_loss: 141.8808 - val_custom_score: 707.1438 - lr: 0.0010\n",
      "\n",
      "Epoch 42: LearningRateScheduler setting learning rate to 0.001.\n",
      "Epoch 42/100\n",
      "66/69 [===========================>..] - ETA: 0s - loss: 144.4913 - custom_score: 739.3522\n",
      "Epoch 42: val_loss improved from 141.88078 to 140.22136, saving model to ./models/LSTMlarge/FD0001\n"
     ]
    },
    {
     "name": "stderr",
     "output_type": "stream",
     "text": [
      "WARNING:absl:Found untraced functions such as lstm_cell_layer_call_fn, lstm_cell_layer_call_and_return_conditional_losses, lstm_cell_1_layer_call_fn, lstm_cell_1_layer_call_and_return_conditional_losses, lstm_cell_2_layer_call_fn while saving (showing 5 of 8). These functions will not be directly callable after loading.\n"
     ]
    },
    {
     "name": "stdout",
     "output_type": "stream",
     "text": [
      "INFO:tensorflow:Assets written to: ./models/LSTMlarge/FD0001/assets\n"
     ]
    },
    {
     "name": "stderr",
     "output_type": "stream",
     "text": [
      "INFO:tensorflow:Assets written to: ./models/LSTMlarge/FD0001/assets\n"
     ]
    },
    {
     "name": "stdout",
     "output_type": "stream",
     "text": [
      "69/69 [==============================] - 14s 209ms/step - loss: 144.5098 - custom_score: 727.9178 - val_loss: 140.2214 - val_custom_score: 657.7881 - lr: 0.0010\n",
      "\n",
      "Epoch 43: LearningRateScheduler setting learning rate to 0.001.\n",
      "Epoch 43/100\n",
      "69/69 [==============================] - ETA: 0s - loss: 144.2700 - custom_score: 734.0873\n",
      "Epoch 43: val_loss did not improve from 140.22136\n",
      "69/69 [==============================] - 1s 20ms/step - loss: 144.2700 - custom_score: 734.0873 - val_loss: 142.9487 - val_custom_score: 594.3751 - lr: 0.0010\n",
      "\n",
      "Epoch 44: LearningRateScheduler setting learning rate to 0.001.\n",
      "Epoch 44/100\n",
      "67/69 [============================>.] - ETA: 0s - loss: 143.0549 - custom_score: 722.1012\n",
      "Epoch 44: val_loss did not improve from 140.22136\n",
      "69/69 [==============================] - 1s 22ms/step - loss: 143.0020 - custom_score: 714.1207 - val_loss: 144.5545 - val_custom_score: 596.0271 - lr: 0.0010\n",
      "\n",
      "Epoch 45: LearningRateScheduler setting learning rate to 0.001.\n",
      "Epoch 45/100\n",
      "67/69 [============================>.] - ETA: 0s - loss: 141.4827 - custom_score: 723.0898\n",
      "Epoch 45: val_loss did not improve from 140.22136\n",
      "69/69 [==============================] - 2s 22ms/step - loss: 141.5477 - custom_score: 714.2856 - val_loss: 152.0963 - val_custom_score: 579.8103 - lr: 0.0010\n",
      "\n",
      "Epoch 46: LearningRateScheduler setting learning rate to 0.001.\n",
      "Epoch 46/100\n",
      "69/69 [==============================] - ETA: 0s - loss: 144.1169 - custom_score: 730.0858\n",
      "Epoch 46: val_loss improved from 140.22136 to 137.91153, saving model to ./models/LSTMlarge/FD0001\n"
     ]
    },
    {
     "name": "stderr",
     "output_type": "stream",
     "text": [
      "WARNING:absl:Found untraced functions such as lstm_cell_layer_call_fn, lstm_cell_layer_call_and_return_conditional_losses, lstm_cell_1_layer_call_fn, lstm_cell_1_layer_call_and_return_conditional_losses, lstm_cell_2_layer_call_fn while saving (showing 5 of 8). These functions will not be directly callable after loading.\n"
     ]
    },
    {
     "name": "stdout",
     "output_type": "stream",
     "text": [
      "INFO:tensorflow:Assets written to: ./models/LSTMlarge/FD0001/assets\n"
     ]
    },
    {
     "name": "stderr",
     "output_type": "stream",
     "text": [
      "INFO:tensorflow:Assets written to: ./models/LSTMlarge/FD0001/assets\n"
     ]
    },
    {
     "name": "stdout",
     "output_type": "stream",
     "text": [
      "69/69 [==============================] - 15s 217ms/step - loss: 144.1169 - custom_score: 730.0858 - val_loss: 137.9115 - val_custom_score: 597.0992 - lr: 0.0010\n",
      "\n",
      "Epoch 47: LearningRateScheduler setting learning rate to 0.001.\n",
      "Epoch 47/100\n",
      "67/69 [============================>.] - ETA: 0s - loss: 143.7201 - custom_score: 742.1556\n",
      "Epoch 47: val_loss did not improve from 137.91153\n",
      "69/69 [==============================] - 2s 22ms/step - loss: 143.5117 - custom_score: 731.2020 - val_loss: 140.3576 - val_custom_score: 600.8941 - lr: 0.0010\n",
      "\n",
      "Epoch 48: LearningRateScheduler setting learning rate to 0.001.\n",
      "Epoch 48/100\n",
      "67/69 [============================>.] - ETA: 0s - loss: 144.0456 - custom_score: 738.8516\n",
      "Epoch 48: val_loss improved from 137.91153 to 137.45929, saving model to ./models/LSTMlarge/FD0001\n"
     ]
    },
    {
     "name": "stderr",
     "output_type": "stream",
     "text": [
      "WARNING:absl:Found untraced functions such as lstm_cell_layer_call_fn, lstm_cell_layer_call_and_return_conditional_losses, lstm_cell_1_layer_call_fn, lstm_cell_1_layer_call_and_return_conditional_losses, lstm_cell_2_layer_call_fn while saving (showing 5 of 8). These functions will not be directly callable after loading.\n"
     ]
    },
    {
     "name": "stdout",
     "output_type": "stream",
     "text": [
      "INFO:tensorflow:Assets written to: ./models/LSTMlarge/FD0001/assets\n"
     ]
    },
    {
     "name": "stderr",
     "output_type": "stream",
     "text": [
      "INFO:tensorflow:Assets written to: ./models/LSTMlarge/FD0001/assets\n"
     ]
    },
    {
     "name": "stdout",
     "output_type": "stream",
     "text": [
      "69/69 [==============================] - 15s 218ms/step - loss: 143.6702 - custom_score: 728.4965 - val_loss: 137.4593 - val_custom_score: 600.8864 - lr: 0.0010\n",
      "\n",
      "Epoch 49: LearningRateScheduler setting learning rate to 0.001.\n",
      "Epoch 49/100\n",
      "69/69 [==============================] - ETA: 0s - loss: 140.5719 - custom_score: 703.7580\n",
      "Epoch 49: val_loss did not improve from 137.45929\n",
      "69/69 [==============================] - 1s 21ms/step - loss: 140.5719 - custom_score: 703.7580 - val_loss: 140.5584 - val_custom_score: 583.4581 - lr: 0.0010\n",
      "\n",
      "Epoch 50: LearningRateScheduler setting learning rate to 0.001.\n",
      "Epoch 50/100\n",
      "68/69 [============================>.] - ETA: 0s - loss: 140.0309 - custom_score: 710.2537\n",
      "Epoch 50: val_loss improved from 137.45929 to 135.69574, saving model to ./models/LSTMlarge/FD0001\n"
     ]
    },
    {
     "name": "stderr",
     "output_type": "stream",
     "text": [
      "WARNING:absl:Found untraced functions such as lstm_cell_layer_call_fn, lstm_cell_layer_call_and_return_conditional_losses, lstm_cell_1_layer_call_fn, lstm_cell_1_layer_call_and_return_conditional_losses, lstm_cell_2_layer_call_fn while saving (showing 5 of 8). These functions will not be directly callable after loading.\n"
     ]
    },
    {
     "name": "stdout",
     "output_type": "stream",
     "text": [
      "INFO:tensorflow:Assets written to: ./models/LSTMlarge/FD0001/assets\n"
     ]
    },
    {
     "name": "stderr",
     "output_type": "stream",
     "text": [
      "INFO:tensorflow:Assets written to: ./models/LSTMlarge/FD0001/assets\n"
     ]
    },
    {
     "name": "stdout",
     "output_type": "stream",
     "text": [
      "69/69 [==============================] - 14s 211ms/step - loss: 139.9318 - custom_score: 701.1265 - val_loss: 135.6957 - val_custom_score: 628.6165 - lr: 0.0010\n",
      "\n",
      "Epoch 51: LearningRateScheduler setting learning rate to 0.001.\n",
      "Epoch 51/100\n",
      "69/69 [==============================] - ETA: 0s - loss: 139.4166 - custom_score: 698.7814\n",
      "Epoch 51: val_loss did not improve from 135.69574\n",
      "69/69 [==============================] - 1s 19ms/step - loss: 139.4166 - custom_score: 698.7814 - val_loss: 140.5866 - val_custom_score: 576.0563 - lr: 0.0010\n",
      "\n",
      "Epoch 52: LearningRateScheduler setting learning rate to 0.001.\n",
      "Epoch 52/100\n",
      "68/69 [============================>.] - ETA: 0s - loss: 138.3736 - custom_score: 696.3568\n",
      "Epoch 52: val_loss did not improve from 135.69574\n",
      "69/69 [==============================] - 1s 21ms/step - loss: 138.3362 - custom_score: 688.4380 - val_loss: 135.7324 - val_custom_score: 610.7764 - lr: 0.0010\n",
      "\n",
      "Epoch 53: LearningRateScheduler setting learning rate to 0.001.\n",
      "Epoch 53/100\n",
      "68/69 [============================>.] - ETA: 0s - loss: 137.0107 - custom_score: 692.5663\n",
      "Epoch 53: val_loss improved from 135.69574 to 133.51927, saving model to ./models/LSTMlarge/FD0001\n"
     ]
    },
    {
     "name": "stderr",
     "output_type": "stream",
     "text": [
      "WARNING:absl:Found untraced functions such as lstm_cell_layer_call_fn, lstm_cell_layer_call_and_return_conditional_losses, lstm_cell_1_layer_call_fn, lstm_cell_1_layer_call_and_return_conditional_losses, lstm_cell_2_layer_call_fn while saving (showing 5 of 8). These functions will not be directly callable after loading.\n"
     ]
    },
    {
     "name": "stdout",
     "output_type": "stream",
     "text": [
      "INFO:tensorflow:Assets written to: ./models/LSTMlarge/FD0001/assets\n"
     ]
    },
    {
     "name": "stderr",
     "output_type": "stream",
     "text": [
      "INFO:tensorflow:Assets written to: ./models/LSTMlarge/FD0001/assets\n"
     ]
    },
    {
     "name": "stdout",
     "output_type": "stream",
     "text": [
      "69/69 [==============================] - 15s 217ms/step - loss: 137.0012 - custom_score: 684.3452 - val_loss: 133.5193 - val_custom_score: 589.0605 - lr: 0.0010\n",
      "\n",
      "Epoch 54: LearningRateScheduler setting learning rate to 0.001.\n",
      "Epoch 54/100\n",
      "69/69 [==============================] - ETA: 0s - loss: 136.8430 - custom_score: 678.0895\n",
      "Epoch 54: val_loss did not improve from 133.51927\n",
      "69/69 [==============================] - 2s 22ms/step - loss: 136.8430 - custom_score: 678.0895 - val_loss: 134.3719 - val_custom_score: 645.9122 - lr: 0.0010\n",
      "\n",
      "Epoch 55: LearningRateScheduler setting learning rate to 0.001.\n",
      "Epoch 55/100\n",
      "69/69 [==============================] - ETA: 0s - loss: 136.6297 - custom_score: 682.7040\n",
      "Epoch 55: val_loss improved from 133.51927 to 133.07428, saving model to ./models/LSTMlarge/FD0001\n"
     ]
    },
    {
     "name": "stderr",
     "output_type": "stream",
     "text": [
      "WARNING:absl:Found untraced functions such as lstm_cell_layer_call_fn, lstm_cell_layer_call_and_return_conditional_losses, lstm_cell_1_layer_call_fn, lstm_cell_1_layer_call_and_return_conditional_losses, lstm_cell_2_layer_call_fn while saving (showing 5 of 8). These functions will not be directly callable after loading.\n"
     ]
    },
    {
     "name": "stdout",
     "output_type": "stream",
     "text": [
      "INFO:tensorflow:Assets written to: ./models/LSTMlarge/FD0001/assets\n"
     ]
    },
    {
     "name": "stderr",
     "output_type": "stream",
     "text": [
      "INFO:tensorflow:Assets written to: ./models/LSTMlarge/FD0001/assets\n"
     ]
    },
    {
     "name": "stdout",
     "output_type": "stream",
     "text": [
      "69/69 [==============================] - 15s 217ms/step - loss: 136.6297 - custom_score: 682.7040 - val_loss: 133.0743 - val_custom_score: 633.2665 - lr: 0.0010\n",
      "\n",
      "Epoch 56: LearningRateScheduler setting learning rate to 0.001.\n",
      "Epoch 56/100\n",
      "67/69 [============================>.] - ETA: 0s - loss: 136.1447 - custom_score: 686.5399\n",
      "Epoch 56: val_loss improved from 133.07428 to 132.72122, saving model to ./models/LSTMlarge/FD0001\n"
     ]
    },
    {
     "name": "stderr",
     "output_type": "stream",
     "text": [
      "WARNING:absl:Found untraced functions such as lstm_cell_layer_call_fn, lstm_cell_layer_call_and_return_conditional_losses, lstm_cell_1_layer_call_fn, lstm_cell_1_layer_call_and_return_conditional_losses, lstm_cell_2_layer_call_fn while saving (showing 5 of 8). These functions will not be directly callable after loading.\n"
     ]
    },
    {
     "name": "stdout",
     "output_type": "stream",
     "text": [
      "INFO:tensorflow:Assets written to: ./models/LSTMlarge/FD0001/assets\n"
     ]
    },
    {
     "name": "stderr",
     "output_type": "stream",
     "text": [
      "INFO:tensorflow:Assets written to: ./models/LSTMlarge/FD0001/assets\n"
     ]
    },
    {
     "name": "stdout",
     "output_type": "stream",
     "text": [
      "69/69 [==============================] - 15s 213ms/step - loss: 136.0913 - custom_score: 678.6390 - val_loss: 132.7212 - val_custom_score: 563.3303 - lr: 0.0010\n",
      "\n",
      "Epoch 57: LearningRateScheduler setting learning rate to 0.001.\n",
      "Epoch 57/100\n",
      "68/69 [============================>.] - ETA: 0s - loss: 134.9286 - custom_score: 675.5837\n",
      "Epoch 57: val_loss improved from 132.72122 to 130.11086, saving model to ./models/LSTMlarge/FD0001\n"
     ]
    },
    {
     "name": "stderr",
     "output_type": "stream",
     "text": [
      "WARNING:absl:Found untraced functions such as lstm_cell_layer_call_fn, lstm_cell_layer_call_and_return_conditional_losses, lstm_cell_1_layer_call_fn, lstm_cell_1_layer_call_and_return_conditional_losses, lstm_cell_2_layer_call_fn while saving (showing 5 of 8). These functions will not be directly callable after loading.\n"
     ]
    },
    {
     "name": "stdout",
     "output_type": "stream",
     "text": [
      "INFO:tensorflow:Assets written to: ./models/LSTMlarge/FD0001/assets\n"
     ]
    },
    {
     "name": "stderr",
     "output_type": "stream",
     "text": [
      "INFO:tensorflow:Assets written to: ./models/LSTMlarge/FD0001/assets\n"
     ]
    },
    {
     "name": "stdout",
     "output_type": "stream",
     "text": [
      "69/69 [==============================] - 15s 213ms/step - loss: 134.9588 - custom_score: 668.5298 - val_loss: 130.1109 - val_custom_score: 598.8536 - lr: 0.0010\n",
      "\n",
      "Epoch 58: LearningRateScheduler setting learning rate to 0.001.\n",
      "Epoch 58/100\n",
      "68/69 [============================>.] - ETA: 0s - loss: 133.8912 - custom_score: 675.0613\n",
      "Epoch 58: val_loss did not improve from 130.11086\n",
      "69/69 [==============================] - 2s 22ms/step - loss: 134.0704 - custom_score: 668.1102 - val_loss: 136.2889 - val_custom_score: 563.5818 - lr: 0.0010\n",
      "\n",
      "Epoch 59: LearningRateScheduler setting learning rate to 0.001.\n",
      "Epoch 59/100\n",
      "69/69 [==============================] - ETA: 0s - loss: 133.3462 - custom_score: 664.5900\n",
      "Epoch 59: val_loss did not improve from 130.11086\n",
      "69/69 [==============================] - 1s 19ms/step - loss: 133.3462 - custom_score: 664.5900 - val_loss: 132.5602 - val_custom_score: 557.3893 - lr: 0.0010\n",
      "\n",
      "Epoch 60: LearningRateScheduler setting learning rate to 0.001.\n",
      "Epoch 60/100\n",
      "68/69 [============================>.] - ETA: 0s - loss: 136.8495 - custom_score: 699.6869\n",
      "Epoch 60: val_loss did not improve from 130.11086\n",
      "69/69 [==============================] - 2s 22ms/step - loss: 136.7365 - custom_score: 690.5959 - val_loss: 132.5623 - val_custom_score: 625.7614 - lr: 0.0010\n",
      "\n",
      "Epoch 61: LearningRateScheduler setting learning rate to 0.0001.\n",
      "Epoch 61/100\n",
      "67/69 [============================>.] - ETA: 0s - loss: 131.8000 - custom_score: 670.1660\n",
      "Epoch 61: val_loss did not improve from 130.11086\n",
      "69/69 [==============================] - 2s 23ms/step - loss: 131.7655 - custom_score: 661.4017 - val_loss: 130.1183 - val_custom_score: 569.2485 - lr: 1.0000e-04\n",
      "\n",
      "Epoch 62: LearningRateScheduler setting learning rate to 0.0001.\n",
      "Epoch 62/100\n",
      "68/69 [============================>.] - ETA: 0s - loss: 130.4390 - custom_score: 654.3765\n",
      "Epoch 62: val_loss improved from 130.11086 to 129.11766, saving model to ./models/LSTMlarge/FD0001\n"
     ]
    },
    {
     "name": "stderr",
     "output_type": "stream",
     "text": [
      "WARNING:absl:Found untraced functions such as lstm_cell_layer_call_fn, lstm_cell_layer_call_and_return_conditional_losses, lstm_cell_1_layer_call_fn, lstm_cell_1_layer_call_and_return_conditional_losses, lstm_cell_2_layer_call_fn while saving (showing 5 of 8). These functions will not be directly callable after loading.\n"
     ]
    },
    {
     "name": "stdout",
     "output_type": "stream",
     "text": [
      "INFO:tensorflow:Assets written to: ./models/LSTMlarge/FD0001/assets\n"
     ]
    },
    {
     "name": "stderr",
     "output_type": "stream",
     "text": [
      "INFO:tensorflow:Assets written to: ./models/LSTMlarge/FD0001/assets\n"
     ]
    },
    {
     "name": "stdout",
     "output_type": "stream",
     "text": [
      "69/69 [==============================] - 15s 215ms/step - loss: 130.3274 - custom_score: 646.1870 - val_loss: 129.1177 - val_custom_score: 579.8563 - lr: 1.0000e-04\n",
      "\n",
      "Epoch 63: LearningRateScheduler setting learning rate to 0.0001.\n",
      "Epoch 63/100\n",
      "69/69 [==============================] - ETA: 0s - loss: 129.8275 - custom_score: 640.2061\n",
      "Epoch 63: val_loss did not improve from 129.11766\n",
      "69/69 [==============================] - 1s 22ms/step - loss: 129.8275 - custom_score: 640.2061 - val_loss: 129.2636 - val_custom_score: 590.3463 - lr: 1.0000e-04\n",
      "\n",
      "Epoch 64: LearningRateScheduler setting learning rate to 0.0001.\n",
      "Epoch 64/100\n",
      "68/69 [============================>.] - ETA: 0s - loss: 130.3343 - custom_score: 656.5494\n",
      "Epoch 64: val_loss did not improve from 129.11766\n",
      "69/69 [==============================] - 1s 20ms/step - loss: 130.4921 - custom_score: 650.2470 - val_loss: 129.2599 - val_custom_score: 561.8343 - lr: 1.0000e-04\n",
      "\n",
      "Epoch 65: LearningRateScheduler setting learning rate to 0.0001.\n",
      "Epoch 65/100\n",
      "69/69 [==============================] - ETA: 0s - loss: 131.0246 - custom_score: 647.0363\n",
      "Epoch 65: val_loss did not improve from 129.11766\n",
      "69/69 [==============================] - 2s 22ms/step - loss: 131.0246 - custom_score: 647.0363 - val_loss: 129.6427 - val_custom_score: 560.0991 - lr: 1.0000e-04\n",
      "\n",
      "Epoch 66: LearningRateScheduler setting learning rate to 0.0001.\n",
      "Epoch 66/100\n",
      "67/69 [============================>.] - ETA: 0s - loss: 130.6857 - custom_score: 657.4456\n",
      "Epoch 66: val_loss improved from 129.11766 to 128.47101, saving model to ./models/LSTMlarge/FD0001\n"
     ]
    },
    {
     "name": "stderr",
     "output_type": "stream",
     "text": [
      "WARNING:absl:Found untraced functions such as lstm_cell_layer_call_fn, lstm_cell_layer_call_and_return_conditional_losses, lstm_cell_1_layer_call_fn, lstm_cell_1_layer_call_and_return_conditional_losses, lstm_cell_2_layer_call_fn while saving (showing 5 of 8). These functions will not be directly callable after loading.\n"
     ]
    },
    {
     "name": "stdout",
     "output_type": "stream",
     "text": [
      "INFO:tensorflow:Assets written to: ./models/LSTMlarge/FD0001/assets\n"
     ]
    },
    {
     "name": "stderr",
     "output_type": "stream",
     "text": [
      "INFO:tensorflow:Assets written to: ./models/LSTMlarge/FD0001/assets\n"
     ]
    },
    {
     "name": "stdout",
     "output_type": "stream",
     "text": [
      "69/69 [==============================] - 16s 230ms/step - loss: 130.7782 - custom_score: 651.9783 - val_loss: 128.4710 - val_custom_score: 565.8118 - lr: 1.0000e-04\n",
      "\n",
      "Epoch 67: LearningRateScheduler setting learning rate to 0.0001.\n",
      "Epoch 67/100\n",
      "66/69 [===========================>..] - ETA: 0s - loss: 129.1387 - custom_score: 639.5726\n",
      "Epoch 67: val_loss improved from 128.47101 to 128.33919, saving model to ./models/LSTMlarge/FD0001\n"
     ]
    },
    {
     "name": "stderr",
     "output_type": "stream",
     "text": [
      "WARNING:absl:Found untraced functions such as lstm_cell_layer_call_fn, lstm_cell_layer_call_and_return_conditional_losses, lstm_cell_1_layer_call_fn, lstm_cell_1_layer_call_and_return_conditional_losses, lstm_cell_2_layer_call_fn while saving (showing 5 of 8). These functions will not be directly callable after loading.\n"
     ]
    },
    {
     "name": "stdout",
     "output_type": "stream",
     "text": [
      "INFO:tensorflow:Assets written to: ./models/LSTMlarge/FD0001/assets\n"
     ]
    },
    {
     "name": "stderr",
     "output_type": "stream",
     "text": [
      "INFO:tensorflow:Assets written to: ./models/LSTMlarge/FD0001/assets\n"
     ]
    },
    {
     "name": "stdout",
     "output_type": "stream",
     "text": [
      "69/69 [==============================] - 15s 218ms/step - loss: 129.2612 - custom_score: 632.8637 - val_loss: 128.3392 - val_custom_score: 567.1246 - lr: 1.0000e-04\n",
      "\n",
      "Epoch 68: LearningRateScheduler setting learning rate to 0.0001.\n",
      "Epoch 68/100\n",
      "68/69 [============================>.] - ETA: 0s - loss: 130.2791 - custom_score: 650.7675\n",
      "Epoch 68: val_loss improved from 128.33919 to 128.01118, saving model to ./models/LSTMlarge/FD0001\n"
     ]
    },
    {
     "name": "stderr",
     "output_type": "stream",
     "text": [
      "WARNING:absl:Found untraced functions such as lstm_cell_layer_call_fn, lstm_cell_layer_call_and_return_conditional_losses, lstm_cell_1_layer_call_fn, lstm_cell_1_layer_call_and_return_conditional_losses, lstm_cell_2_layer_call_fn while saving (showing 5 of 8). These functions will not be directly callable after loading.\n"
     ]
    },
    {
     "name": "stdout",
     "output_type": "stream",
     "text": [
      "INFO:tensorflow:Assets written to: ./models/LSTMlarge/FD0001/assets\n"
     ]
    },
    {
     "name": "stderr",
     "output_type": "stream",
     "text": [
      "INFO:tensorflow:Assets written to: ./models/LSTMlarge/FD0001/assets\n"
     ]
    },
    {
     "name": "stdout",
     "output_type": "stream",
     "text": [
      "69/69 [==============================] - 15s 215ms/step - loss: 130.2172 - custom_score: 642.8732 - val_loss: 128.0112 - val_custom_score: 569.8643 - lr: 1.0000e-04\n",
      "\n",
      "Epoch 69: LearningRateScheduler setting learning rate to 0.0001.\n",
      "Epoch 69/100\n",
      "68/69 [============================>.] - ETA: 0s - loss: 129.9359 - custom_score: 644.8464\n",
      "Epoch 69: val_loss did not improve from 128.01118\n",
      "69/69 [==============================] - 1s 21ms/step - loss: 130.1635 - custom_score: 637.9004 - val_loss: 128.5240 - val_custom_score: 562.3828 - lr: 1.0000e-04\n",
      "\n",
      "Epoch 70: LearningRateScheduler setting learning rate to 0.0001.\n",
      "Epoch 70/100\n",
      "67/69 [============================>.] - ETA: 0s - loss: 129.6178 - custom_score: 649.1736\n",
      "Epoch 70: val_loss improved from 128.01118 to 127.85304, saving model to ./models/LSTMlarge/FD0001\n"
     ]
    },
    {
     "name": "stderr",
     "output_type": "stream",
     "text": [
      "WARNING:absl:Found untraced functions such as lstm_cell_layer_call_fn, lstm_cell_layer_call_and_return_conditional_losses, lstm_cell_1_layer_call_fn, lstm_cell_1_layer_call_and_return_conditional_losses, lstm_cell_2_layer_call_fn while saving (showing 5 of 8). These functions will not be directly callable after loading.\n"
     ]
    },
    {
     "name": "stdout",
     "output_type": "stream",
     "text": [
      "INFO:tensorflow:Assets written to: ./models/LSTMlarge/FD0001/assets\n"
     ]
    },
    {
     "name": "stderr",
     "output_type": "stream",
     "text": [
      "INFO:tensorflow:Assets written to: ./models/LSTMlarge/FD0001/assets\n"
     ]
    },
    {
     "name": "stdout",
     "output_type": "stream",
     "text": [
      "69/69 [==============================] - 15s 223ms/step - loss: 129.5980 - custom_score: 640.9128 - val_loss: 127.8530 - val_custom_score: 569.5166 - lr: 1.0000e-04\n",
      "\n",
      "Epoch 71: LearningRateScheduler setting learning rate to 0.0001.\n",
      "Epoch 71/100\n",
      "67/69 [============================>.] - ETA: 0s - loss: 128.6984 - custom_score: 646.1442\n",
      "Epoch 71: val_loss did not improve from 127.85304\n",
      "69/69 [==============================] - 1s 20ms/step - loss: 128.7448 - custom_score: 638.8473 - val_loss: 128.3776 - val_custom_score: 559.8864 - lr: 1.0000e-04\n",
      "\n",
      "Epoch 72: LearningRateScheduler setting learning rate to 0.0001.\n",
      "Epoch 72/100\n",
      "67/69 [============================>.] - ETA: 0s - loss: 128.9341 - custom_score: 641.3287\n",
      "Epoch 72: val_loss did not improve from 127.85304\n",
      "69/69 [==============================] - 2s 23ms/step - loss: 128.7597 - custom_score: 632.3870 - val_loss: 128.2115 - val_custom_score: 566.9101 - lr: 1.0000e-04\n",
      "\n",
      "Epoch 73: LearningRateScheduler setting learning rate to 0.0001.\n",
      "Epoch 73/100\n",
      "68/69 [============================>.] - ETA: 0s - loss: 129.4415 - custom_score: 645.3322\n",
      "Epoch 73: val_loss did not improve from 127.85304\n",
      "69/69 [==============================] - 2s 22ms/step - loss: 129.3370 - custom_score: 637.2462 - val_loss: 129.2031 - val_custom_score: 550.0702 - lr: 1.0000e-04\n",
      "\n",
      "Epoch 74: LearningRateScheduler setting learning rate to 0.0001.\n",
      "Epoch 74/100\n",
      "68/69 [============================>.] - ETA: 0s - loss: 128.9164 - custom_score: 638.1635\n",
      "Epoch 74: val_loss improved from 127.85304 to 127.66980, saving model to ./models/LSTMlarge/FD0001\n"
     ]
    },
    {
     "name": "stderr",
     "output_type": "stream",
     "text": [
      "WARNING:absl:Found untraced functions such as lstm_cell_layer_call_fn, lstm_cell_layer_call_and_return_conditional_losses, lstm_cell_1_layer_call_fn, lstm_cell_1_layer_call_and_return_conditional_losses, lstm_cell_2_layer_call_fn while saving (showing 5 of 8). These functions will not be directly callable after loading.\n"
     ]
    },
    {
     "name": "stdout",
     "output_type": "stream",
     "text": [
      "INFO:tensorflow:Assets written to: ./models/LSTMlarge/FD0001/assets\n"
     ]
    },
    {
     "name": "stderr",
     "output_type": "stream",
     "text": [
      "INFO:tensorflow:Assets written to: ./models/LSTMlarge/FD0001/assets\n"
     ]
    },
    {
     "name": "stdout",
     "output_type": "stream",
     "text": [
      "69/69 [==============================] - 15s 222ms/step - loss: 129.3447 - custom_score: 632.2808 - val_loss: 127.6698 - val_custom_score: 600.4080 - lr: 1.0000e-04\n",
      "\n",
      "Epoch 75: LearningRateScheduler setting learning rate to 0.0001.\n",
      "Epoch 75/100\n",
      "68/69 [============================>.] - ETA: 0s - loss: 129.0569 - custom_score: 653.1090\n",
      "Epoch 75: val_loss did not improve from 127.66980\n",
      "69/69 [==============================] - 1s 21ms/step - loss: 129.1320 - custom_score: 645.7645 - val_loss: 128.9817 - val_custom_score: 544.9907 - lr: 1.0000e-04\n",
      "\n",
      "Epoch 76: LearningRateScheduler setting learning rate to 0.0001.\n",
      "Epoch 76/100\n",
      "69/69 [==============================] - ETA: 0s - loss: 129.1049 - custom_score: 637.7457\n",
      "Epoch 76: val_loss improved from 127.66980 to 127.33828, saving model to ./models/LSTMlarge/FD0001\n"
     ]
    },
    {
     "name": "stderr",
     "output_type": "stream",
     "text": [
      "WARNING:absl:Found untraced functions such as lstm_cell_layer_call_fn, lstm_cell_layer_call_and_return_conditional_losses, lstm_cell_1_layer_call_fn, lstm_cell_1_layer_call_and_return_conditional_losses, lstm_cell_2_layer_call_fn while saving (showing 5 of 8). These functions will not be directly callable after loading.\n"
     ]
    },
    {
     "name": "stdout",
     "output_type": "stream",
     "text": [
      "INFO:tensorflow:Assets written to: ./models/LSTMlarge/FD0001/assets\n"
     ]
    },
    {
     "name": "stderr",
     "output_type": "stream",
     "text": [
      "INFO:tensorflow:Assets written to: ./models/LSTMlarge/FD0001/assets\n"
     ]
    },
    {
     "name": "stdout",
     "output_type": "stream",
     "text": [
      "69/69 [==============================] - 15s 221ms/step - loss: 129.1049 - custom_score: 637.7457 - val_loss: 127.3383 - val_custom_score: 569.3779 - lr: 1.0000e-04\n",
      "\n",
      "Epoch 77: LearningRateScheduler setting learning rate to 0.0001.\n",
      "Epoch 77/100\n",
      "67/69 [============================>.] - ETA: 0s - loss: 128.7929 - custom_score: 639.3693\n",
      "Epoch 77: val_loss improved from 127.33828 to 127.20979, saving model to ./models/LSTMlarge/FD0001\n"
     ]
    },
    {
     "name": "stderr",
     "output_type": "stream",
     "text": [
      "WARNING:absl:Found untraced functions such as lstm_cell_layer_call_fn, lstm_cell_layer_call_and_return_conditional_losses, lstm_cell_1_layer_call_fn, lstm_cell_1_layer_call_and_return_conditional_losses, lstm_cell_2_layer_call_fn while saving (showing 5 of 8). These functions will not be directly callable after loading.\n"
     ]
    },
    {
     "name": "stdout",
     "output_type": "stream",
     "text": [
      "INFO:tensorflow:Assets written to: ./models/LSTMlarge/FD0001/assets\n"
     ]
    },
    {
     "name": "stderr",
     "output_type": "stream",
     "text": [
      "INFO:tensorflow:Assets written to: ./models/LSTMlarge/FD0001/assets\n"
     ]
    },
    {
     "name": "stdout",
     "output_type": "stream",
     "text": [
      "69/69 [==============================] - 15s 225ms/step - loss: 128.9142 - custom_score: 632.1761 - val_loss: 127.2098 - val_custom_score: 570.4542 - lr: 1.0000e-04\n",
      "\n",
      "Epoch 78: LearningRateScheduler setting learning rate to 0.0001.\n",
      "Epoch 78/100\n",
      "69/69 [==============================] - ETA: 0s - loss: 128.8042 - custom_score: 634.7117\n",
      "Epoch 78: val_loss did not improve from 127.20979\n",
      "69/69 [==============================] - 2s 22ms/step - loss: 128.8042 - custom_score: 634.7117 - val_loss: 128.0431 - val_custom_score: 549.4749 - lr: 1.0000e-04\n",
      "\n",
      "Epoch 79: LearningRateScheduler setting learning rate to 0.0001.\n",
      "Epoch 79/100\n",
      "67/69 [============================>.] - ETA: 0s - loss: 130.2453 - custom_score: 654.7790\n",
      "Epoch 79: val_loss did not improve from 127.20979\n",
      "69/69 [==============================] - 2s 23ms/step - loss: 130.4897 - custom_score: 646.7666 - val_loss: 127.7980 - val_custom_score: 553.4783 - lr: 1.0000e-04\n",
      "\n",
      "Epoch 80: LearningRateScheduler setting learning rate to 0.0001.\n",
      "Epoch 80/100\n",
      "69/69 [==============================] - ETA: 0s - loss: 128.8541 - custom_score: 642.3740\n",
      "Epoch 80: val_loss did not improve from 127.20979\n",
      "69/69 [==============================] - 2s 22ms/step - loss: 128.8541 - custom_score: 642.3740 - val_loss: 127.6967 - val_custom_score: 558.6273 - lr: 1.0000e-04\n",
      "\n",
      "Epoch 81: LearningRateScheduler setting learning rate to 0.0001.\n",
      "Epoch 81/100\n",
      "68/69 [============================>.] - ETA: 0s - loss: 129.6057 - custom_score: 646.0435\n",
      "Epoch 81: val_loss did not improve from 127.20979\n",
      "69/69 [==============================] - 1s 21ms/step - loss: 129.5586 - custom_score: 637.9724 - val_loss: 128.0353 - val_custom_score: 548.6331 - lr: 1.0000e-04\n",
      "\n",
      "Epoch 82: LearningRateScheduler setting learning rate to 0.0001.\n",
      "Epoch 82/100\n",
      "69/69 [==============================] - ETA: 0s - loss: 128.4252 - custom_score: 635.9088\n",
      "Epoch 82: val_loss did not improve from 127.20979\n",
      "69/69 [==============================] - 2s 23ms/step - loss: 128.4252 - custom_score: 635.9088 - val_loss: 128.0320 - val_custom_score: 551.1487 - lr: 1.0000e-04\n",
      "\n",
      "Epoch 83: LearningRateScheduler setting learning rate to 0.0001.\n",
      "Epoch 83/100\n",
      "67/69 [============================>.] - ETA: 0s - loss: 128.5124 - custom_score: 644.8178\n",
      "Epoch 83: val_loss did not improve from 127.20979\n",
      "69/69 [==============================] - 2s 23ms/step - loss: 128.5098 - custom_score: 636.7939 - val_loss: 127.4817 - val_custom_score: 556.0173 - lr: 1.0000e-04\n",
      "\n",
      "Epoch 84: LearningRateScheduler setting learning rate to 0.0001.\n",
      "Epoch 84/100\n",
      "68/69 [============================>.] - ETA: 0s - loss: 127.8557 - custom_score: 639.3076\n",
      "Epoch 84: val_loss improved from 127.20979 to 127.03011, saving model to ./models/LSTMlarge/FD0001\n"
     ]
    },
    {
     "name": "stderr",
     "output_type": "stream",
     "text": [
      "WARNING:absl:Found untraced functions such as lstm_cell_layer_call_fn, lstm_cell_layer_call_and_return_conditional_losses, lstm_cell_1_layer_call_fn, lstm_cell_1_layer_call_and_return_conditional_losses, lstm_cell_2_layer_call_fn while saving (showing 5 of 8). These functions will not be directly callable after loading.\n"
     ]
    },
    {
     "name": "stdout",
     "output_type": "stream",
     "text": [
      "INFO:tensorflow:Assets written to: ./models/LSTMlarge/FD0001/assets\n"
     ]
    },
    {
     "name": "stderr",
     "output_type": "stream",
     "text": [
      "INFO:tensorflow:Assets written to: ./models/LSTMlarge/FD0001/assets\n"
     ]
    },
    {
     "name": "stdout",
     "output_type": "stream",
     "text": [
      "69/69 [==============================] - 16s 231ms/step - loss: 127.7917 - custom_score: 631.0987 - val_loss: 127.0301 - val_custom_score: 559.5665 - lr: 1.0000e-04\n",
      "\n",
      "Epoch 85: LearningRateScheduler setting learning rate to 0.0001.\n",
      "Epoch 85/100\n",
      "68/69 [============================>.] - ETA: 0s - loss: 127.9115 - custom_score: 639.1959\n",
      "Epoch 85: val_loss improved from 127.03011 to 127.01148, saving model to ./models/LSTMlarge/FD0001\n"
     ]
    },
    {
     "name": "stderr",
     "output_type": "stream",
     "text": [
      "WARNING:absl:Found untraced functions such as lstm_cell_layer_call_fn, lstm_cell_layer_call_and_return_conditional_losses, lstm_cell_1_layer_call_fn, lstm_cell_1_layer_call_and_return_conditional_losses, lstm_cell_2_layer_call_fn while saving (showing 5 of 8). These functions will not be directly callable after loading.\n"
     ]
    },
    {
     "name": "stdout",
     "output_type": "stream",
     "text": [
      "INFO:tensorflow:Assets written to: ./models/LSTMlarge/FD0001/assets\n"
     ]
    },
    {
     "name": "stderr",
     "output_type": "stream",
     "text": [
      "INFO:tensorflow:Assets written to: ./models/LSTMlarge/FD0001/assets\n"
     ]
    },
    {
     "name": "stdout",
     "output_type": "stream",
     "text": [
      "69/69 [==============================] - 16s 228ms/step - loss: 128.0776 - custom_score: 632.8827 - val_loss: 127.0115 - val_custom_score: 581.5053 - lr: 1.0000e-04\n",
      "\n",
      "Epoch 86: LearningRateScheduler setting learning rate to 0.0001.\n",
      "Epoch 86/100\n",
      "68/69 [============================>.] - ETA: 0s - loss: 128.0291 - custom_score: 638.0897\n",
      "Epoch 86: val_loss did not improve from 127.01148\n",
      "69/69 [==============================] - 2s 23ms/step - loss: 128.0894 - custom_score: 630.4413 - val_loss: 127.7508 - val_custom_score: 556.5472 - lr: 1.0000e-04\n",
      "\n",
      "Epoch 87: LearningRateScheduler setting learning rate to 0.0001.\n",
      "Epoch 87/100\n",
      "69/69 [==============================] - ETA: 0s - loss: 128.7460 - custom_score: 635.7976\n",
      "Epoch 87: val_loss improved from 127.01148 to 126.87521, saving model to ./models/LSTMlarge/FD0001\n"
     ]
    },
    {
     "name": "stderr",
     "output_type": "stream",
     "text": [
      "WARNING:absl:Found untraced functions such as lstm_cell_layer_call_fn, lstm_cell_layer_call_and_return_conditional_losses, lstm_cell_1_layer_call_fn, lstm_cell_1_layer_call_and_return_conditional_losses, lstm_cell_2_layer_call_fn while saving (showing 5 of 8). These functions will not be directly callable after loading.\n"
     ]
    },
    {
     "name": "stdout",
     "output_type": "stream",
     "text": [
      "INFO:tensorflow:Assets written to: ./models/LSTMlarge/FD0001/assets\n"
     ]
    },
    {
     "name": "stderr",
     "output_type": "stream",
     "text": [
      "INFO:tensorflow:Assets written to: ./models/LSTMlarge/FD0001/assets\n"
     ]
    },
    {
     "name": "stdout",
     "output_type": "stream",
     "text": [
      "69/69 [==============================] - 16s 229ms/step - loss: 128.7460 - custom_score: 635.7976 - val_loss: 126.8752 - val_custom_score: 554.1982 - lr: 1.0000e-04\n",
      "\n",
      "Epoch 88: LearningRateScheduler setting learning rate to 0.0001.\n",
      "Epoch 88/100\n",
      "67/69 [============================>.] - ETA: 0s - loss: 127.7539 - custom_score: 638.1816\n",
      "Epoch 88: val_loss improved from 126.87521 to 126.26167, saving model to ./models/LSTMlarge/FD0001\n"
     ]
    },
    {
     "name": "stderr",
     "output_type": "stream",
     "text": [
      "WARNING:absl:Found untraced functions such as lstm_cell_layer_call_fn, lstm_cell_layer_call_and_return_conditional_losses, lstm_cell_1_layer_call_fn, lstm_cell_1_layer_call_and_return_conditional_losses, lstm_cell_2_layer_call_fn while saving (showing 5 of 8). These functions will not be directly callable after loading.\n"
     ]
    },
    {
     "name": "stdout",
     "output_type": "stream",
     "text": [
      "INFO:tensorflow:Assets written to: ./models/LSTMlarge/FD0001/assets\n"
     ]
    },
    {
     "name": "stderr",
     "output_type": "stream",
     "text": [
      "INFO:tensorflow:Assets written to: ./models/LSTMlarge/FD0001/assets\n"
     ]
    },
    {
     "name": "stdout",
     "output_type": "stream",
     "text": [
      "69/69 [==============================] - 15s 219ms/step - loss: 127.8537 - custom_score: 631.4216 - val_loss: 126.2617 - val_custom_score: 564.1066 - lr: 1.0000e-04\n",
      "\n",
      "Epoch 89: LearningRateScheduler setting learning rate to 0.0001.\n",
      "Epoch 89/100\n",
      "68/69 [============================>.] - ETA: 0s - loss: 127.5802 - custom_score: 637.3304\n",
      "Epoch 89: val_loss did not improve from 126.26167\n",
      "69/69 [==============================] - 1s 21ms/step - loss: 127.5416 - custom_score: 630.1027 - val_loss: 128.5456 - val_custom_score: 538.4985 - lr: 1.0000e-04\n",
      "\n",
      "Epoch 90: LearningRateScheduler setting learning rate to 0.0001.\n",
      "Epoch 90/100\n",
      "68/69 [============================>.] - ETA: 0s - loss: 128.2971 - custom_score: 639.5126\n",
      "Epoch 90: val_loss did not improve from 126.26167\n",
      "69/69 [==============================] - 1s 21ms/step - loss: 128.3589 - custom_score: 632.2162 - val_loss: 126.6119 - val_custom_score: 553.2628 - lr: 1.0000e-04\n",
      "\n",
      "Epoch 91: LearningRateScheduler setting learning rate to 1e-05.\n",
      "Epoch 91/100\n",
      "67/69 [============================>.] - ETA: 0s - loss: 127.7664 - custom_score: 631.5615\n",
      "Epoch 91: val_loss improved from 126.26167 to 126.18027, saving model to ./models/LSTMlarge/FD0001\n"
     ]
    },
    {
     "name": "stderr",
     "output_type": "stream",
     "text": [
      "WARNING:absl:Found untraced functions such as lstm_cell_layer_call_fn, lstm_cell_layer_call_and_return_conditional_losses, lstm_cell_1_layer_call_fn, lstm_cell_1_layer_call_and_return_conditional_losses, lstm_cell_2_layer_call_fn while saving (showing 5 of 8). These functions will not be directly callable after loading.\n"
     ]
    },
    {
     "name": "stdout",
     "output_type": "stream",
     "text": [
      "INFO:tensorflow:Assets written to: ./models/LSTMlarge/FD0001/assets\n"
     ]
    },
    {
     "name": "stderr",
     "output_type": "stream",
     "text": [
      "INFO:tensorflow:Assets written to: ./models/LSTMlarge/FD0001/assets\n"
     ]
    },
    {
     "name": "stdout",
     "output_type": "stream",
     "text": [
      "69/69 [==============================] - 15s 224ms/step - loss: 127.6098 - custom_score: 622.5217 - val_loss: 126.1803 - val_custom_score: 556.1433 - lr: 1.0000e-05\n",
      "\n",
      "Epoch 92: LearningRateScheduler setting learning rate to 1e-05.\n",
      "Epoch 92/100\n",
      "69/69 [==============================] - ETA: 0s - loss: 127.7148 - custom_score: 627.3096\n",
      "Epoch 92: val_loss improved from 126.18027 to 126.14221, saving model to ./models/LSTMlarge/FD0001\n"
     ]
    },
    {
     "name": "stderr",
     "output_type": "stream",
     "text": [
      "WARNING:absl:Found untraced functions such as lstm_cell_layer_call_fn, lstm_cell_layer_call_and_return_conditional_losses, lstm_cell_1_layer_call_fn, lstm_cell_1_layer_call_and_return_conditional_losses, lstm_cell_2_layer_call_fn while saving (showing 5 of 8). These functions will not be directly callable after loading.\n"
     ]
    },
    {
     "name": "stdout",
     "output_type": "stream",
     "text": [
      "INFO:tensorflow:Assets written to: ./models/LSTMlarge/FD0001/assets\n"
     ]
    },
    {
     "name": "stderr",
     "output_type": "stream",
     "text": [
      "INFO:tensorflow:Assets written to: ./models/LSTMlarge/FD0001/assets\n"
     ]
    },
    {
     "name": "stdout",
     "output_type": "stream",
     "text": [
      "69/69 [==============================] - 15s 219ms/step - loss: 127.7148 - custom_score: 627.3096 - val_loss: 126.1422 - val_custom_score: 556.5568 - lr: 1.0000e-05\n",
      "\n",
      "Epoch 93: LearningRateScheduler setting learning rate to 1e-05.\n",
      "Epoch 93/100\n",
      "67/69 [============================>.] - ETA: 0s - loss: 127.9573 - custom_score: 634.5717\n",
      "Epoch 93: val_loss improved from 126.14221 to 126.13567, saving model to ./models/LSTMlarge/FD0001\n"
     ]
    },
    {
     "name": "stderr",
     "output_type": "stream",
     "text": [
      "WARNING:absl:Found untraced functions such as lstm_cell_layer_call_fn, lstm_cell_layer_call_and_return_conditional_losses, lstm_cell_1_layer_call_fn, lstm_cell_1_layer_call_and_return_conditional_losses, lstm_cell_2_layer_call_fn while saving (showing 5 of 8). These functions will not be directly callable after loading.\n"
     ]
    },
    {
     "name": "stdout",
     "output_type": "stream",
     "text": [
      "INFO:tensorflow:Assets written to: ./models/LSTMlarge/FD0001/assets\n"
     ]
    },
    {
     "name": "stderr",
     "output_type": "stream",
     "text": [
      "INFO:tensorflow:Assets written to: ./models/LSTMlarge/FD0001/assets\n"
     ]
    },
    {
     "name": "stdout",
     "output_type": "stream",
     "text": [
      "69/69 [==============================] - 15s 219ms/step - loss: 127.8030 - custom_score: 628.0303 - val_loss: 126.1357 - val_custom_score: 556.2664 - lr: 1.0000e-05\n",
      "\n",
      "Epoch 94: LearningRateScheduler setting learning rate to 1e-05.\n",
      "Epoch 94/100\n",
      "67/69 [============================>.] - ETA: 0s - loss: 126.7747 - custom_score: 630.9788\n",
      "Epoch 94: val_loss improved from 126.13567 to 126.10133, saving model to ./models/LSTMlarge/FD0001\n"
     ]
    },
    {
     "name": "stderr",
     "output_type": "stream",
     "text": [
      "WARNING:absl:Found untraced functions such as lstm_cell_layer_call_fn, lstm_cell_layer_call_and_return_conditional_losses, lstm_cell_1_layer_call_fn, lstm_cell_1_layer_call_and_return_conditional_losses, lstm_cell_2_layer_call_fn while saving (showing 5 of 8). These functions will not be directly callable after loading.\n"
     ]
    },
    {
     "name": "stdout",
     "output_type": "stream",
     "text": [
      "INFO:tensorflow:Assets written to: ./models/LSTMlarge/FD0001/assets\n"
     ]
    },
    {
     "name": "stderr",
     "output_type": "stream",
     "text": [
      "INFO:tensorflow:Assets written to: ./models/LSTMlarge/FD0001/assets\n"
     ]
    },
    {
     "name": "stdout",
     "output_type": "stream",
     "text": [
      "69/69 [==============================] - 15s 224ms/step - loss: 127.1489 - custom_score: 625.2723 - val_loss: 126.1013 - val_custom_score: 556.4767 - lr: 1.0000e-05\n",
      "\n",
      "Epoch 95: LearningRateScheduler setting learning rate to 1e-05.\n",
      "Epoch 95/100\n",
      "68/69 [============================>.] - ETA: 0s - loss: 128.9559 - custom_score: 647.7553\n",
      "Epoch 95: val_loss did not improve from 126.10133\n",
      "69/69 [==============================] - 2s 22ms/step - loss: 128.9225 - custom_score: 640.0262 - val_loss: 126.3682 - val_custom_score: 551.3737 - lr: 1.0000e-05\n",
      "\n",
      "Epoch 96: LearningRateScheduler setting learning rate to 1e-05.\n",
      "Epoch 96/100\n",
      "67/69 [============================>.] - ETA: 0s - loss: 126.8631 - custom_score: 630.9938\n",
      "Epoch 96: val_loss did not improve from 126.10133\n",
      "69/69 [==============================] - 1s 22ms/step - loss: 126.6263 - custom_score: 621.9279 - val_loss: 126.3494 - val_custom_score: 552.5044 - lr: 1.0000e-05\n",
      "\n",
      "Epoch 97: LearningRateScheduler setting learning rate to 1e-05.\n",
      "Epoch 97/100\n",
      "67/69 [============================>.] - ETA: 0s - loss: 127.5397 - custom_score: 631.9131\n",
      "Epoch 97: val_loss improved from 126.10133 to 125.90366, saving model to ./models/LSTMlarge/FD0001\n"
     ]
    },
    {
     "name": "stderr",
     "output_type": "stream",
     "text": [
      "WARNING:absl:Found untraced functions such as lstm_cell_layer_call_fn, lstm_cell_layer_call_and_return_conditional_losses, lstm_cell_1_layer_call_fn, lstm_cell_1_layer_call_and_return_conditional_losses, lstm_cell_2_layer_call_fn while saving (showing 5 of 8). These functions will not be directly callable after loading.\n"
     ]
    },
    {
     "name": "stdout",
     "output_type": "stream",
     "text": [
      "INFO:tensorflow:Assets written to: ./models/LSTMlarge/FD0001/assets\n"
     ]
    },
    {
     "name": "stderr",
     "output_type": "stream",
     "text": [
      "INFO:tensorflow:Assets written to: ./models/LSTMlarge/FD0001/assets\n"
     ]
    },
    {
     "name": "stdout",
     "output_type": "stream",
     "text": [
      "69/69 [==============================] - 17s 242ms/step - loss: 127.6987 - custom_score: 625.6381 - val_loss: 125.9037 - val_custom_score: 564.4070 - lr: 1.0000e-05\n",
      "\n",
      "Epoch 98: LearningRateScheduler setting learning rate to 1e-05.\n",
      "Epoch 98/100\n",
      "66/69 [===========================>..] - ETA: 0s - loss: 127.2858 - custom_score: 634.8532\n",
      "Epoch 98: val_loss did not improve from 125.90366\n",
      "69/69 [==============================] - 1s 21ms/step - loss: 127.0738 - custom_score: 627.7604 - val_loss: 126.0640 - val_custom_score: 557.7011 - lr: 1.0000e-05\n",
      "\n",
      "Epoch 99: LearningRateScheduler setting learning rate to 1e-05.\n",
      "Epoch 99/100\n",
      "69/69 [==============================] - ETA: 0s - loss: 127.6334 - custom_score: 627.8188\n",
      "Epoch 99: val_loss did not improve from 125.90366\n",
      "69/69 [==============================] - 2s 22ms/step - loss: 127.6334 - custom_score: 627.8188 - val_loss: 126.4461 - val_custom_score: 550.2488 - lr: 1.0000e-05\n",
      "\n",
      "Epoch 100: LearningRateScheduler setting learning rate to 1e-05.\n",
      "Epoch 100/100\n",
      "69/69 [==============================] - ETA: 0s - loss: 128.2622 - custom_score: 625.0972\n",
      "Epoch 100: val_loss did not improve from 125.90366\n",
      "69/69 [==============================] - 2s 22ms/step - loss: 128.2622 - custom_score: 625.0972 - val_loss: 126.0646 - val_custom_score: 556.9481 - lr: 1.0000e-05\n"
     ]
    }
   ],
   "source": [
    "from keras.callbacks import ModelCheckpoint, EarlyStopping\n",
    "from keras.models import load_model, save_model\n",
    "\n",
    "EPOCHS = 100 \n",
    "\n",
    "path_large = './models/LSTMlarge/FD0001'\n",
    "model_checkpoint = ModelCheckpoint(\n",
    "    path_large,\n",
    "    monitor='val_loss',\n",
    "    verbose=1,\n",
    "    save_best_only=True,\n",
    "    save_weights_only=False,\n",
    "    mode='auto',\n",
    "\n",
    ")\n",
    "early_stopping = EarlyStopping(\n",
    "    patience=5,\n",
    "    min_delta=0.001,\n",
    "    restore_best_weights=True,\n",
    ")\n",
    "\n",
    "history_large = LSTMlargeModel.fit(\n",
    "    X_train, \n",
    "    y_train, \n",
    "    validation_data=(X_val, y_val), \n",
    "    epochs = 100,\n",
    "    batch_size = 256,\n",
    "    use_multiprocessing =True, \n",
    "    callbacks=[model_checkpoint, lr_scheduler])\n"
   ]
  }
 ],
 "metadata": {
  "kernelspec": {
   "display_name": "tensorflowEnv",
   "language": "python",
   "name": "python3"
  },
  "language_info": {
   "codemirror_mode": {
    "name": "ipython",
    "version": 3
   },
   "file_extension": ".py",
   "mimetype": "text/x-python",
   "name": "python",
   "nbconvert_exporter": "python",
   "pygments_lexer": "ipython3",
   "version": "3.9.15"
  },
  "orig_nbformat": 4
 },
 "nbformat": 4,
 "nbformat_minor": 2
}
