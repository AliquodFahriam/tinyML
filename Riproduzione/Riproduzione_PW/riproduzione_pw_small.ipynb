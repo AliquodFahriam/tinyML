{
 "cells": [
  {
   "cell_type": "code",
   "execution_count": 1,
   "metadata": {},
   "outputs": [],
   "source": [
    "import pandas as pd \n",
    "import numpy as np\n",
    "import os\n",
    "dataset_folder = '../dataset_new'"
   ]
  },
  {
   "cell_type": "code",
   "execution_count": 2,
   "metadata": {},
   "outputs": [],
   "source": [
    "sensors = ['sensor2', 'sensor3', 'sensor4','sensor7','sensor8','sensor9','sensor11','sensor12','sensor13','sensor14',\n",
    "           'sensor15','sensor17','sensor20', 'sensor21']"
   ]
  },
  {
   "cell_type": "code",
   "execution_count": 3,
   "metadata": {},
   "outputs": [
    {
     "data": {
      "text/html": [
       "<div>\n",
       "<style scoped>\n",
       "    .dataframe tbody tr th:only-of-type {\n",
       "        vertical-align: middle;\n",
       "    }\n",
       "\n",
       "    .dataframe tbody tr th {\n",
       "        vertical-align: top;\n",
       "    }\n",
       "\n",
       "    .dataframe thead th {\n",
       "        text-align: right;\n",
       "    }\n",
       "</style>\n",
       "<table border=\"1\" class=\"dataframe\">\n",
       "  <thead>\n",
       "    <tr style=\"text-align: right;\">\n",
       "      <th></th>\n",
       "      <th>unit_number</th>\n",
       "      <th>time_cycle</th>\n",
       "      <th>op_setting1</th>\n",
       "      <th>op_setting2</th>\n",
       "      <th>op_setting3</th>\n",
       "      <th>RUL</th>\n",
       "      <th>sensor2</th>\n",
       "      <th>sensor3</th>\n",
       "      <th>sensor4</th>\n",
       "      <th>sensor6</th>\n",
       "      <th>...</th>\n",
       "      <th>sensor8</th>\n",
       "      <th>sensor9</th>\n",
       "      <th>sensor11</th>\n",
       "      <th>sensor12</th>\n",
       "      <th>sensor13</th>\n",
       "      <th>sensor14</th>\n",
       "      <th>sensor15</th>\n",
       "      <th>sensor17</th>\n",
       "      <th>sensor20</th>\n",
       "      <th>sensor21</th>\n",
       "    </tr>\n",
       "  </thead>\n",
       "  <tbody>\n",
       "    <tr>\n",
       "      <th>0</th>\n",
       "      <td>1.0</td>\n",
       "      <td>1.0</td>\n",
       "      <td>-0.0005</td>\n",
       "      <td>0.0004</td>\n",
       "      <td>100.0</td>\n",
       "      <td>258.0</td>\n",
       "      <td>0.355972</td>\n",
       "      <td>0.370523</td>\n",
       "      <td>0.308580</td>\n",
       "      <td>1.0</td>\n",
       "      <td>...</td>\n",
       "      <td>0.623529</td>\n",
       "      <td>0.204233</td>\n",
       "      <td>0.348571</td>\n",
       "      <td>0.231279</td>\n",
       "      <td>0.642857</td>\n",
       "      <td>0.239116</td>\n",
       "      <td>0.647755</td>\n",
       "      <td>0.272727</td>\n",
       "      <td>0.559524</td>\n",
       "      <td>0.446331</td>\n",
       "    </tr>\n",
       "    <tr>\n",
       "      <th>1</th>\n",
       "      <td>1.0</td>\n",
       "      <td>2.0</td>\n",
       "      <td>0.0008</td>\n",
       "      <td>-0.0003</td>\n",
       "      <td>100.0</td>\n",
       "      <td>257.0</td>\n",
       "      <td>0.388759</td>\n",
       "      <td>0.399100</td>\n",
       "      <td>0.309360</td>\n",
       "      <td>1.0</td>\n",
       "      <td>...</td>\n",
       "      <td>0.647059</td>\n",
       "      <td>0.202431</td>\n",
       "      <td>0.308571</td>\n",
       "      <td>0.236882</td>\n",
       "      <td>0.654762</td>\n",
       "      <td>0.278567</td>\n",
       "      <td>0.685659</td>\n",
       "      <td>0.363636</td>\n",
       "      <td>0.488095</td>\n",
       "      <td>0.534836</td>\n",
       "    </tr>\n",
       "    <tr>\n",
       "      <th>2</th>\n",
       "      <td>1.0</td>\n",
       "      <td>3.0</td>\n",
       "      <td>-0.0014</td>\n",
       "      <td>-0.0002</td>\n",
       "      <td>100.0</td>\n",
       "      <td>256.0</td>\n",
       "      <td>0.313817</td>\n",
       "      <td>0.353298</td>\n",
       "      <td>0.445398</td>\n",
       "      <td>1.0</td>\n",
       "      <td>...</td>\n",
       "      <td>0.664706</td>\n",
       "      <td>0.241484</td>\n",
       "      <td>0.302857</td>\n",
       "      <td>0.217015</td>\n",
       "      <td>0.636905</td>\n",
       "      <td>0.264526</td>\n",
       "      <td>0.564462</td>\n",
       "      <td>0.272727</td>\n",
       "      <td>0.404762</td>\n",
       "      <td>0.458577</td>\n",
       "    </tr>\n",
       "    <tr>\n",
       "      <th>3</th>\n",
       "      <td>1.0</td>\n",
       "      <td>4.0</td>\n",
       "      <td>-0.0020</td>\n",
       "      <td>0.0001</td>\n",
       "      <td>100.0</td>\n",
       "      <td>255.0</td>\n",
       "      <td>0.487119</td>\n",
       "      <td>0.417107</td>\n",
       "      <td>0.237285</td>\n",
       "      <td>1.0</td>\n",
       "      <td>...</td>\n",
       "      <td>0.647059</td>\n",
       "      <td>0.215326</td>\n",
       "      <td>0.314286</td>\n",
       "      <td>0.240448</td>\n",
       "      <td>0.684524</td>\n",
       "      <td>0.245612</td>\n",
       "      <td>0.558909</td>\n",
       "      <td>0.363636</td>\n",
       "      <td>0.470238</td>\n",
       "      <td>0.391966</td>\n",
       "    </tr>\n",
       "    <tr>\n",
       "      <th>4</th>\n",
       "      <td>1.0</td>\n",
       "      <td>5.0</td>\n",
       "      <td>0.0016</td>\n",
       "      <td>0.0000</td>\n",
       "      <td>100.0</td>\n",
       "      <td>254.0</td>\n",
       "      <td>0.196721</td>\n",
       "      <td>0.476218</td>\n",
       "      <td>0.321217</td>\n",
       "      <td>1.0</td>\n",
       "      <td>...</td>\n",
       "      <td>0.670588</td>\n",
       "      <td>0.268799</td>\n",
       "      <td>0.262857</td>\n",
       "      <td>0.245033</td>\n",
       "      <td>0.654762</td>\n",
       "      <td>0.252109</td>\n",
       "      <td>0.556736</td>\n",
       "      <td>0.363636</td>\n",
       "      <td>0.577381</td>\n",
       "      <td>0.543371</td>\n",
       "    </tr>\n",
       "  </tbody>\n",
       "</table>\n",
       "<p>5 rows × 21 columns</p>\n",
       "</div>"
      ],
      "text/plain": [
       "   unit_number  time_cycle  op_setting1  op_setting2  op_setting3    RUL  \\\n",
       "0          1.0         1.0      -0.0005       0.0004        100.0  258.0   \n",
       "1          1.0         2.0       0.0008      -0.0003        100.0  257.0   \n",
       "2          1.0         3.0      -0.0014      -0.0002        100.0  256.0   \n",
       "3          1.0         4.0      -0.0020       0.0001        100.0  255.0   \n",
       "4          1.0         5.0       0.0016       0.0000        100.0  254.0   \n",
       "\n",
       "    sensor2   sensor3   sensor4  sensor6  ...   sensor8   sensor9  sensor11  \\\n",
       "0  0.355972  0.370523  0.308580      1.0  ...  0.623529  0.204233  0.348571   \n",
       "1  0.388759  0.399100  0.309360      1.0  ...  0.647059  0.202431  0.308571   \n",
       "2  0.313817  0.353298  0.445398      1.0  ...  0.664706  0.241484  0.302857   \n",
       "3  0.487119  0.417107  0.237285      1.0  ...  0.647059  0.215326  0.314286   \n",
       "4  0.196721  0.476218  0.321217      1.0  ...  0.670588  0.268799  0.262857   \n",
       "\n",
       "   sensor12  sensor13  sensor14  sensor15  sensor17  sensor20  sensor21  \n",
       "0  0.231279  0.642857  0.239116  0.647755  0.272727  0.559524  0.446331  \n",
       "1  0.236882  0.654762  0.278567  0.685659  0.363636  0.488095  0.534836  \n",
       "2  0.217015  0.636905  0.264526  0.564462  0.272727  0.404762  0.458577  \n",
       "3  0.240448  0.684524  0.245612  0.558909  0.363636  0.470238  0.391966  \n",
       "4  0.245033  0.654762  0.252109  0.556736  0.363636  0.577381  0.543371  \n",
       "\n",
       "[5 rows x 21 columns]"
      ]
     },
     "execution_count": 3,
     "metadata": {},
     "output_type": "execute_result"
    }
   ],
   "source": [
    "train = []\n",
    "files = os.listdir(dataset_folder)\n",
    "train_files = [file for file in files if file.startswith('scaled')]\n",
    "\n",
    "for file in files: \n",
    "    path_to_file = dataset_folder + '/'+file\n",
    "    df = pd.read_csv(path_to_file, index_col=0) #index_col = 0 perché sennò viene aggiunta la colonna unnamed. \n",
    "    train.append(df)\n",
    "\n",
    "train[0].head()"
   ]
  },
  {
   "cell_type": "markdown",
   "metadata": {},
   "source": [
    "La seguente funzione *process_targets* è la cosiddetta funzione **lineare a tratti** di cui parliamo estensivamente all'interno del readme ci permette dunque di calcolare il valore della RUL da assegnare ad ogni elemento del dataset. \n",
    "La funzione prende in input la lunghezza totale dei dati e la *\"early_rul\"* la quale rappresenta il valore massimo possibile di RUL (imponiamo ciò poiché come descritto dalla letteratura dovrebbe permettere alla rete di comprendere meglio quando il componente è in salute o meno), il quale poi viene decrementato in maniera lineare quando la *\"data_length\"* supera il valore di *early_rul*"
   ]
  },
  {
   "cell_type": "code",
   "execution_count": 4,
   "metadata": {},
   "outputs": [],
   "source": [
    "def process_targets(data_length, early_rul = None):\n",
    "    if early_rul == None:\n",
    "        return np.arange(data_length-1, -1, -1)\n",
    "    else:\n",
    "        early_rul_duration = data_length - early_rul\n",
    "        if early_rul_duration <= 0:\n",
    "            return np.arange(data_length-1, -1, -1)\n",
    "        else:\n",
    "            return np.append(early_rul*np.ones(shape = (early_rul_duration,)), np.arange(early_rul-1, -1, -1))"
   ]
  },
  {
   "cell_type": "markdown",
   "metadata": {},
   "source": [
    "*process_input_data_with_targets* è invece la funzione addetta a \"sistemare\" i valori all'interno delle loro proprie sequenze di *window_length* valori. "
   ]
  },
  {
   "cell_type": "code",
   "execution_count": 5,
   "metadata": {},
   "outputs": [],
   "source": [
    "def process_input_data_with_targets(input_data, target_data = None, window_length = 1, shift = 1):\n",
    "    #Viene calcolato il numero di batch che saranno generati sulla base della grandezza dell'input \n",
    "    num_batches = int(np.floor((len(input_data) - window_length)/shift)) + 1\n",
    "    \n",
    "    #Si recupera il numero di features all'interno del dataframe\n",
    "    num_features = input_data.shape[1]\n",
    "    '''\n",
    "    Qui, viene inizializzata una matrice output_data con valori NaN, che rappresenta i dati di output che verranno generati dalla funzione. \n",
    "    La matrice è inizialmente creata come una matrice 3D con dimensioni (num_batches, window_length, num_features) per contenere i batch di dati di input.\n",
    "    '''\n",
    "    output_data = np.repeat(np.nan, repeats = num_batches * window_length * num_features).reshape(num_batches, window_length,\n",
    "                                                                                                  num_features)\n",
    "    \n",
    "    #Verfico che i labels siano stati forniti\n",
    "    if target_data is None:\n",
    "        \n",
    "        #Iteriamo attraverso i batch e copiamo le finestre temporali corrispondenti dai dati di input input_data nella matrice output_data. \n",
    "        #L'output sarà quindi una matrice 3D con i batch di dati di input.\n",
    "\n",
    "        for batch in range(num_batches):\n",
    "            output_data[batch,:,:] = input_data[(0+shift*batch):(0+shift*batch+window_length),:]\n",
    "        return output_data\n",
    "    else:\n",
    "        output_targets = np.repeat(np.nan, repeats = num_batches)\n",
    "        #Nel caso in cui i dati siano forniti semplicemente facciamo la stessa cosa per i dati di target\n",
    "        for batch in range(num_batches):\n",
    "            output_data[batch,:,:] = input_data[(0+shift*batch):(0+shift*batch+window_length),:]\n",
    "            output_targets[batch] = target_data[(shift*batch + (window_length-1))] #Differente perché i dati di target sono formattati in altra maniera.\n",
    "        return output_data, output_targets"
   ]
  },
  {
   "cell_type": "code",
   "execution_count": 6,
   "metadata": {},
   "outputs": [],
   "source": [
    "#Configurazione\n",
    "\n",
    "window_length = 30 #Lunghezza delle sequenze\n",
    "shift = 1\n",
    "early_rul = 125 #100 è il valore utilizzato comunemente dallo stato dell'arte             \n",
    "processed_train_data = []\n",
    "processed_train_targets = []\n",
    "\n",
    "FD0001 = train[0]\n",
    "unit_number_col = FD0001['unit_number']\n",
    "num_train_machines_FD0001 = len(FD0001['unit_number'].unique())\n",
    "FD0001 = FD0001[sensors]"
   ]
  },
  {
   "cell_type": "code",
   "execution_count": 7,
   "metadata": {},
   "outputs": [],
   "source": [
    "new_FD0001 = pd.concat([unit_number_col, FD0001], axis= 1 )"
   ]
  },
  {
   "cell_type": "code",
   "execution_count": 8,
   "metadata": {},
   "outputs": [
    {
     "data": {
      "text/html": [
       "<div>\n",
       "<style scoped>\n",
       "    .dataframe tbody tr th:only-of-type {\n",
       "        vertical-align: middle;\n",
       "    }\n",
       "\n",
       "    .dataframe tbody tr th {\n",
       "        vertical-align: top;\n",
       "    }\n",
       "\n",
       "    .dataframe thead th {\n",
       "        text-align: right;\n",
       "    }\n",
       "</style>\n",
       "<table border=\"1\" class=\"dataframe\">\n",
       "  <thead>\n",
       "    <tr style=\"text-align: right;\">\n",
       "      <th></th>\n",
       "      <th>unit_number</th>\n",
       "      <th>sensor2</th>\n",
       "      <th>sensor3</th>\n",
       "      <th>sensor4</th>\n",
       "      <th>sensor7</th>\n",
       "      <th>sensor8</th>\n",
       "      <th>sensor9</th>\n",
       "      <th>sensor11</th>\n",
       "      <th>sensor12</th>\n",
       "      <th>sensor13</th>\n",
       "      <th>sensor14</th>\n",
       "      <th>sensor15</th>\n",
       "      <th>sensor17</th>\n",
       "      <th>sensor20</th>\n",
       "      <th>sensor21</th>\n",
       "    </tr>\n",
       "  </thead>\n",
       "  <tbody>\n",
       "    <tr>\n",
       "      <th>0</th>\n",
       "      <td>1.0</td>\n",
       "      <td>0.355972</td>\n",
       "      <td>0.370523</td>\n",
       "      <td>0.308580</td>\n",
       "      <td>0.208812</td>\n",
       "      <td>0.623529</td>\n",
       "      <td>0.204233</td>\n",
       "      <td>0.348571</td>\n",
       "      <td>0.231279</td>\n",
       "      <td>0.642857</td>\n",
       "      <td>0.239116</td>\n",
       "      <td>0.647755</td>\n",
       "      <td>0.272727</td>\n",
       "      <td>0.559524</td>\n",
       "      <td>0.446331</td>\n",
       "    </tr>\n",
       "    <tr>\n",
       "      <th>1</th>\n",
       "      <td>1.0</td>\n",
       "      <td>0.388759</td>\n",
       "      <td>0.399100</td>\n",
       "      <td>0.309360</td>\n",
       "      <td>0.236590</td>\n",
       "      <td>0.647059</td>\n",
       "      <td>0.202431</td>\n",
       "      <td>0.308571</td>\n",
       "      <td>0.236882</td>\n",
       "      <td>0.654762</td>\n",
       "      <td>0.278567</td>\n",
       "      <td>0.685659</td>\n",
       "      <td>0.363636</td>\n",
       "      <td>0.488095</td>\n",
       "      <td>0.534836</td>\n",
       "    </tr>\n",
       "    <tr>\n",
       "      <th>2</th>\n",
       "      <td>1.0</td>\n",
       "      <td>0.313817</td>\n",
       "      <td>0.353298</td>\n",
       "      <td>0.445398</td>\n",
       "      <td>0.230843</td>\n",
       "      <td>0.664706</td>\n",
       "      <td>0.241484</td>\n",
       "      <td>0.302857</td>\n",
       "      <td>0.217015</td>\n",
       "      <td>0.636905</td>\n",
       "      <td>0.264526</td>\n",
       "      <td>0.564462</td>\n",
       "      <td>0.272727</td>\n",
       "      <td>0.404762</td>\n",
       "      <td>0.458577</td>\n",
       "    </tr>\n",
       "    <tr>\n",
       "      <th>3</th>\n",
       "      <td>1.0</td>\n",
       "      <td>0.487119</td>\n",
       "      <td>0.417107</td>\n",
       "      <td>0.237285</td>\n",
       "      <td>0.268199</td>\n",
       "      <td>0.647059</td>\n",
       "      <td>0.215326</td>\n",
       "      <td>0.314286</td>\n",
       "      <td>0.240448</td>\n",
       "      <td>0.684524</td>\n",
       "      <td>0.245612</td>\n",
       "      <td>0.558909</td>\n",
       "      <td>0.363636</td>\n",
       "      <td>0.470238</td>\n",
       "      <td>0.391966</td>\n",
       "    </tr>\n",
       "    <tr>\n",
       "      <th>4</th>\n",
       "      <td>1.0</td>\n",
       "      <td>0.196721</td>\n",
       "      <td>0.476218</td>\n",
       "      <td>0.321217</td>\n",
       "      <td>0.245690</td>\n",
       "      <td>0.670588</td>\n",
       "      <td>0.268799</td>\n",
       "      <td>0.262857</td>\n",
       "      <td>0.245033</td>\n",
       "      <td>0.654762</td>\n",
       "      <td>0.252109</td>\n",
       "      <td>0.556736</td>\n",
       "      <td>0.363636</td>\n",
       "      <td>0.577381</td>\n",
       "      <td>0.543371</td>\n",
       "    </tr>\n",
       "  </tbody>\n",
       "</table>\n",
       "</div>"
      ],
      "text/plain": [
       "   unit_number   sensor2   sensor3   sensor4   sensor7   sensor8   sensor9  \\\n",
       "0          1.0  0.355972  0.370523  0.308580  0.208812  0.623529  0.204233   \n",
       "1          1.0  0.388759  0.399100  0.309360  0.236590  0.647059  0.202431   \n",
       "2          1.0  0.313817  0.353298  0.445398  0.230843  0.664706  0.241484   \n",
       "3          1.0  0.487119  0.417107  0.237285  0.268199  0.647059  0.215326   \n",
       "4          1.0  0.196721  0.476218  0.321217  0.245690  0.670588  0.268799   \n",
       "\n",
       "   sensor11  sensor12  sensor13  sensor14  sensor15  sensor17  sensor20  \\\n",
       "0  0.348571  0.231279  0.642857  0.239116  0.647755  0.272727  0.559524   \n",
       "1  0.308571  0.236882  0.654762  0.278567  0.685659  0.363636  0.488095   \n",
       "2  0.302857  0.217015  0.636905  0.264526  0.564462  0.272727  0.404762   \n",
       "3  0.314286  0.240448  0.684524  0.245612  0.558909  0.363636  0.470238   \n",
       "4  0.262857  0.245033  0.654762  0.252109  0.556736  0.363636  0.577381   \n",
       "\n",
       "   sensor21  \n",
       "0  0.446331  \n",
       "1  0.534836  \n",
       "2  0.458577  \n",
       "3  0.391966  \n",
       "4  0.543371  "
      ]
     },
     "execution_count": 8,
     "metadata": {},
     "output_type": "execute_result"
    }
   ],
   "source": [
    "new_FD0001.head()"
   ]
  },
  {
   "cell_type": "code",
   "execution_count": 9,
   "metadata": {},
   "outputs": [],
   "source": [
    "\n",
    "for i in np.arange(1, num_train_machines_FD0001 + 1):\n",
    "    temp_train_data = new_FD0001[new_FD0001['unit_number'] == i].drop(columns = ['unit_number']).values\n",
    "    \n",
    "    # Verify if data of given window length can be extracted from training data\n",
    "    if (len(temp_train_data) < window_length):\n",
    "        print(\"Train engine {} doesn't have enough data for window_length of {}\".format(i, window_length))\n",
    "        raise AssertionError(\"Window length is larger than number of data points for some engines. \"\n",
    "                             \"Try decreasing window length.\")\n",
    "        \n",
    "    temp_train_targets = process_targets(data_length = temp_train_data.shape[0], early_rul = early_rul)\n",
    "    data_for_a_machine, targets_for_a_machine = process_input_data_with_targets(temp_train_data, temp_train_targets, \n",
    "                                                                                window_length = window_length, shift = shift)\n",
    "    \n",
    "    processed_train_data.append(data_for_a_machine)\n",
    "    processed_train_targets.append(targets_for_a_machine)\n",
    "\n",
    "processed_train_data = np.concatenate(processed_train_data)\n",
    "processed_train_targets = np.concatenate(processed_train_targets)"
   ]
  },
  {
   "cell_type": "code",
   "execution_count": 10,
   "metadata": {},
   "outputs": [
    {
     "name": "stdout",
     "output_type": "stream",
     "text": [
      "Processed trianing data shape:  (21820, 30, 14)\n",
      "Processed training ruls shape:  (21820,)\n"
     ]
    }
   ],
   "source": [
    "\n",
    "print(\"Processed trianing data shape: \", processed_train_data.shape)\n",
    "print(\"Processed training ruls shape: \", processed_train_targets.shape)"
   ]
  },
  {
   "cell_type": "code",
   "execution_count": 11,
   "metadata": {},
   "outputs": [],
   "source": [
    "from sklearn.model_selection import train_test_split\n",
    "X_train, X_val, y_train, y_val = train_test_split(processed_train_data, processed_train_targets, test_size=0.2, random_state=42)"
   ]
  },
  {
   "cell_type": "code",
   "execution_count": 12,
   "metadata": {},
   "outputs": [
    {
     "name": "stderr",
     "output_type": "stream",
     "text": [
      "2023-10-09 15:06:09.512810: I tensorflow/core/platform/cpu_feature_guard.cc:193] This TensorFlow binary is optimized with oneAPI Deep Neural Network Library (oneDNN) to use the following CPU instructions in performance-critical operations:  AVX2 FMA\n",
      "To enable them in other operations, rebuild TensorFlow with the appropriate compiler flags.\n",
      "2023-10-09 15:06:10.237040: W tensorflow/compiler/xla/stream_executor/platform/default/dso_loader.cc:64] Could not load dynamic library 'libnvinfer.so.7'; dlerror: libnvinfer.so.7: cannot open shared object file: No such file or directory; LD_LIBRARY_PATH: :/usr/local/cuda-11.2/lib64:/usr/local/cuda-11.2/extras/CUPTI/lib64:/home/aliquodfahriam/miniconda3/envs/tensorflowEnv/lib/\n",
      "2023-10-09 15:06:10.237129: W tensorflow/compiler/xla/stream_executor/platform/default/dso_loader.cc:64] Could not load dynamic library 'libnvinfer_plugin.so.7'; dlerror: libnvinfer_plugin.so.7: cannot open shared object file: No such file or directory; LD_LIBRARY_PATH: :/usr/local/cuda-11.2/lib64:/usr/local/cuda-11.2/extras/CUPTI/lib64:/home/aliquodfahriam/miniconda3/envs/tensorflowEnv/lib/\n",
      "2023-10-09 15:06:10.237136: W tensorflow/compiler/tf2tensorrt/utils/py_utils.cc:38] TF-TRT Warning: Cannot dlopen some TensorRT libraries. If you would like to use Nvidia GPU with TensorRT, please make sure the missing libraries mentioned above are installed properly.\n"
     ]
    }
   ],
   "source": [
    "from keras import backend as K \n",
    "import tensorflow as tf \n",
    "import math \n",
    "\n",
    "@tf.function\n",
    "def custom_loss2(y_true, y_pred):\n",
    "    alpha = 0.2\n",
    "    difference = y_pred - y_true\n",
    "    squared_difference = tf.square(y_pred - y_true)\n",
    "    \n",
    "    # Calcola la loss per ciascun elemento\n",
    "    loss = tf.where(difference < 0, 2 * alpha * squared_difference, 2 * (alpha + (1 - 2 * alpha)) * squared_difference)\n",
    "    \n",
    "    # Calcola la media delle loss\n",
    "    return tf.reduce_mean(loss)\n",
    "\n",
    "@tf.function\n",
    "def custom_score(y_true, y_pred):\n",
    "    d_i = y_pred - y_true\n",
    "    #esponente = tf.where(d_i < 0, 1.0 / (d_i / 13.0), d_i / 10.0)\n",
    "    sum = tf.reduce_sum(tf.where(d_i < 0, tf.exp(-d_i/13)-1, tf.exp(d_i/10)-1)) #prova\n",
    "    #sum = tf.reduce_sum(tf.exp(esponente) - 1.0)\n",
    "    return sum\n"
   ]
  },
  {
   "cell_type": "code",
   "execution_count": 13,
   "metadata": {},
   "outputs": [],
   "source": [
    "from keras import regularizers\n",
    "from keras.models import Sequential\n",
    "from keras.layers import LSTM\n",
    "from keras.layers import Dense\n",
    "from keras.layers import Activation\n",
    "from keras.layers import Dropout\n",
    "from keras.layers import Flatten\n",
    "from keras.optimizers import Adam\n",
    "\n",
    "\n",
    "#Replica della rete neurale proposta come \"small LSTM\"\n",
    "def createLSTMsmallModel(l1Nodes, l2Nodes, d1Nodes, d2Nodes, input_shape):\n",
    "    # input layer\n",
    "    lstm1 = LSTM(l1Nodes, input_shape=input_shape,activation='tanh', return_sequences=True, kernel_regularizer=regularizers.l2(0.1))\n",
    "    \n",
    "    lstm2 = LSTM(l2Nodes, return_sequences=True, activation='tanh', kernel_regularizer=regularizers.l2(0.1))    \n",
    "    flatten = Flatten()\n",
    "    dense1 = Dense(d1Nodes, activation='relu', kernel_regularizer=regularizers.l2(0.1))\n",
    "    dense2 = Dense(d2Nodes, activation='relu', kernel_regularizer=regularizers.l2(0.1))\n",
    "    \n",
    "    # output layer\n",
    "    outL = Dense(1, activation='relu', kernel_regularizer=regularizers.l2(0.1))\n",
    "    \n",
    "    #layers\n",
    "    layers = [lstm1, lstm2,flatten,  dense1, dense2, outL]\n",
    "    model = Sequential(layers)\n",
    "    #Abbiamo aggiunto le nostre funzioni di loss e accuracy definite precedentemente\n",
    "\n",
    "    optimizer = Adam(learning_rate=0.01)\n",
    "    model.compile(optimizer=optimizer, loss=custom_loss2, metrics = [custom_score] )\n",
    "    return model\n"
   ]
  },
  {
   "cell_type": "code",
   "execution_count": 14,
   "metadata": {},
   "outputs": [
    {
     "name": "stderr",
     "output_type": "stream",
     "text": [
      "2023-10-09 15:06:10.767358: I tensorflow/compiler/xla/stream_executor/cuda/cuda_gpu_executor.cc:981] successful NUMA node read from SysFS had negative value (-1), but there must be at least one NUMA node, so returning NUMA node zero\n",
      "2023-10-09 15:06:10.772697: I tensorflow/compiler/xla/stream_executor/cuda/cuda_gpu_executor.cc:981] successful NUMA node read from SysFS had negative value (-1), but there must be at least one NUMA node, so returning NUMA node zero\n",
      "2023-10-09 15:06:10.772914: I tensorflow/compiler/xla/stream_executor/cuda/cuda_gpu_executor.cc:981] successful NUMA node read from SysFS had negative value (-1), but there must be at least one NUMA node, so returning NUMA node zero\n",
      "2023-10-09 15:06:10.773340: I tensorflow/core/platform/cpu_feature_guard.cc:193] This TensorFlow binary is optimized with oneAPI Deep Neural Network Library (oneDNN) to use the following CPU instructions in performance-critical operations:  AVX2 FMA\n",
      "To enable them in other operations, rebuild TensorFlow with the appropriate compiler flags.\n",
      "2023-10-09 15:06:10.774685: I tensorflow/compiler/xla/stream_executor/cuda/cuda_gpu_executor.cc:981] successful NUMA node read from SysFS had negative value (-1), but there must be at least one NUMA node, so returning NUMA node zero\n",
      "2023-10-09 15:06:10.775206: I tensorflow/compiler/xla/stream_executor/cuda/cuda_gpu_executor.cc:981] successful NUMA node read from SysFS had negative value (-1), but there must be at least one NUMA node, so returning NUMA node zero\n",
      "2023-10-09 15:06:10.775497: I tensorflow/compiler/xla/stream_executor/cuda/cuda_gpu_executor.cc:981] successful NUMA node read from SysFS had negative value (-1), but there must be at least one NUMA node, so returning NUMA node zero\n",
      "2023-10-09 15:06:11.274886: I tensorflow/compiler/xla/stream_executor/cuda/cuda_gpu_executor.cc:981] successful NUMA node read from SysFS had negative value (-1), but there must be at least one NUMA node, so returning NUMA node zero\n",
      "2023-10-09 15:06:11.275066: I tensorflow/compiler/xla/stream_executor/cuda/cuda_gpu_executor.cc:981] successful NUMA node read from SysFS had negative value (-1), but there must be at least one NUMA node, so returning NUMA node zero\n",
      "2023-10-09 15:06:11.275206: I tensorflow/compiler/xla/stream_executor/cuda/cuda_gpu_executor.cc:981] successful NUMA node read from SysFS had negative value (-1), but there must be at least one NUMA node, so returning NUMA node zero\n",
      "2023-10-09 15:06:11.275317: I tensorflow/core/common_runtime/gpu/gpu_device.cc:1613] Created device /job:localhost/replica:0/task:0/device:GPU:0 with 3876 MB memory:  -> device: 0, name: NVIDIA GeForce RTX 2060 with Max-Q Design, pci bus id: 0000:01:00.0, compute capability: 7.5\n"
     ]
    }
   ],
   "source": [
    "LSTMsmallModel = createLSTMsmallModel(60, 30, 30, 15, (30, 14)) "
   ]
  },
  {
   "cell_type": "code",
   "execution_count": 15,
   "metadata": {},
   "outputs": [],
   "source": [
    "def scheduler(epoch, lr):\n",
    "    if epoch < 10:\n",
    "        return lr\n",
    "    elif epoch >= 10 and epoch < 20 :\n",
    "        return 0.001\n",
    "    elif epoch >= 20 and epoch < 30: \n",
    "        return 0.0001\n",
    "    elif epoch >= 30: \n",
    "        return 0.00001\n",
    "    else: \n",
    "        return 0.01; \n",
    "    \n",
    "\n",
    "lr_scheduler = tf.keras.callbacks.LearningRateScheduler(scheduler, verbose = 1)"
   ]
  },
  {
   "cell_type": "code",
   "execution_count": 16,
   "metadata": {},
   "outputs": [],
   "source": [
    "from keras.callbacks import ModelCheckpoint, EarlyStopping\n",
    "from keras.models import load_model, save_model\n",
    "\n",
    "EPOCHS = 50 #100 / 80 / 150 \n",
    "\n",
    "path_small = './models/LSTMsmall/FD0001_scoreFixed'\n",
    "\n",
    "\n",
    "\n",
    "model_checkpoint = ModelCheckpoint(\n",
    "    path_small,\n",
    "    monitor='val_loss',\n",
    "    verbose=1,\n",
    "    save_best_only=True,\n",
    "    save_weights_only=False,\n",
    "    mode='auto',\n",
    "\n",
    ")\n",
    "\n",
    "\n",
    "early_stopping = EarlyStopping(\n",
    "    patience=5,\n",
    "    min_delta=0.001,\n",
    "    restore_best_weights=True,\n",
    ")\n",
    "\n"
   ]
  },
  {
   "cell_type": "code",
   "execution_count": 17,
   "metadata": {},
   "outputs": [
    {
     "name": "stdout",
     "output_type": "stream",
     "text": [
      "\n",
      "Epoch 1: LearningRateScheduler setting learning rate to 0.009999999776482582.\n",
      "Epoch 1/50\n"
     ]
    },
    {
     "name": "stderr",
     "output_type": "stream",
     "text": [
      "2023-10-09 15:06:14.668990: I tensorflow/compiler/xla/stream_executor/cuda/cuda_dnn.cc:428] Loaded cuDNN version 8100\n"
     ]
    },
    {
     "name": "stdout",
     "output_type": "stream",
     "text": [
      "67/69 [============================>.] - ETA: 0s - loss: 1620.7319 - custom_score: 106018.0234\n",
      "Epoch 1: val_loss improved from inf to 1409.58215, saving model to ./models/LSTMsmall/FD0001_scoreFixed\n"
     ]
    },
    {
     "name": "stderr",
     "output_type": "stream",
     "text": [
      "WARNING:absl:Found untraced functions such as lstm_cell_layer_call_fn, lstm_cell_layer_call_and_return_conditional_losses, lstm_cell_1_layer_call_fn, lstm_cell_1_layer_call_and_return_conditional_losses while saving (showing 4 of 4). These functions will not be directly callable after loading.\n"
     ]
    },
    {
     "name": "stdout",
     "output_type": "stream",
     "text": [
      "INFO:tensorflow:Assets written to: ./models/LSTMsmall/FD0001_scoreFixed/assets\n"
     ]
    },
    {
     "name": "stderr",
     "output_type": "stream",
     "text": [
      "INFO:tensorflow:Assets written to: ./models/LSTMsmall/FD0001_scoreFixed/assets\n"
     ]
    },
    {
     "name": "stdout",
     "output_type": "stream",
     "text": [
      "69/69 [==============================] - 10s 97ms/step - loss: 1618.6426 - custom_score: 103331.0469 - val_loss: 1409.5822 - val_custom_score: 19410.3516 - lr: 0.0100\n",
      "\n",
      "Epoch 2: LearningRateScheduler setting learning rate to 0.009999999776482582.\n",
      "Epoch 2/50\n",
      "65/69 [===========================>..] - ETA: 0s - loss: 1126.3212 - custom_score: 17076.5332\n",
      "Epoch 2: val_loss improved from 1409.58215 to 469.61792, saving model to ./models/LSTMsmall/FD0001_scoreFixed\n"
     ]
    },
    {
     "name": "stderr",
     "output_type": "stream",
     "text": [
      "WARNING:absl:Found untraced functions such as lstm_cell_layer_call_fn, lstm_cell_layer_call_and_return_conditional_losses, lstm_cell_1_layer_call_fn, lstm_cell_1_layer_call_and_return_conditional_losses while saving (showing 4 of 4). These functions will not be directly callable after loading.\n"
     ]
    },
    {
     "name": "stdout",
     "output_type": "stream",
     "text": [
      "INFO:tensorflow:Assets written to: ./models/LSTMsmall/FD0001_scoreFixed/assets\n"
     ]
    },
    {
     "name": "stderr",
     "output_type": "stream",
     "text": [
      "INFO:tensorflow:Assets written to: ./models/LSTMsmall/FD0001_scoreFixed/assets\n"
     ]
    },
    {
     "name": "stdout",
     "output_type": "stream",
     "text": [
      "69/69 [==============================] - 6s 84ms/step - loss: 1098.6423 - custom_score: 16380.3223 - val_loss: 469.6179 - val_custom_score: 6310.5010 - lr: 0.0100\n",
      "\n",
      "Epoch 3: LearningRateScheduler setting learning rate to 0.009999999776482582.\n",
      "Epoch 3/50\n",
      "65/69 [===========================>..] - ETA: 0s - loss: 382.5547 - custom_score: 3409.6172\n",
      "Epoch 3: val_loss improved from 469.61792 to 336.09033, saving model to ./models/LSTMsmall/FD0001_scoreFixed\n"
     ]
    },
    {
     "name": "stderr",
     "output_type": "stream",
     "text": [
      "WARNING:absl:Found untraced functions such as lstm_cell_layer_call_fn, lstm_cell_layer_call_and_return_conditional_losses, lstm_cell_1_layer_call_fn, lstm_cell_1_layer_call_and_return_conditional_losses while saving (showing 4 of 4). These functions will not be directly callable after loading.\n"
     ]
    },
    {
     "name": "stdout",
     "output_type": "stream",
     "text": [
      "INFO:tensorflow:Assets written to: ./models/LSTMsmall/FD0001_scoreFixed/assets\n"
     ]
    },
    {
     "name": "stderr",
     "output_type": "stream",
     "text": [
      "INFO:tensorflow:Assets written to: ./models/LSTMsmall/FD0001_scoreFixed/assets\n"
     ]
    },
    {
     "name": "stdout",
     "output_type": "stream",
     "text": [
      "69/69 [==============================] - 6s 86ms/step - loss: 381.5455 - custom_score: 3337.7759 - val_loss: 336.0903 - val_custom_score: 2548.8030 - lr: 0.0100\n",
      "\n",
      "Epoch 4: LearningRateScheduler setting learning rate to 0.009999999776482582.\n",
      "Epoch 4/50\n",
      "69/69 [==============================] - ETA: 0s - loss: 343.8472 - custom_score: 2748.3708\n",
      "Epoch 4: val_loss improved from 336.09033 to 295.99939, saving model to ./models/LSTMsmall/FD0001_scoreFixed\n"
     ]
    },
    {
     "name": "stderr",
     "output_type": "stream",
     "text": [
      "WARNING:absl:Found untraced functions such as lstm_cell_layer_call_fn, lstm_cell_layer_call_and_return_conditional_losses, lstm_cell_1_layer_call_fn, lstm_cell_1_layer_call_and_return_conditional_losses while saving (showing 4 of 4). These functions will not be directly callable after loading.\n"
     ]
    },
    {
     "name": "stdout",
     "output_type": "stream",
     "text": [
      "INFO:tensorflow:Assets written to: ./models/LSTMsmall/FD0001_scoreFixed/assets\n"
     ]
    },
    {
     "name": "stderr",
     "output_type": "stream",
     "text": [
      "INFO:tensorflow:Assets written to: ./models/LSTMsmall/FD0001_scoreFixed/assets\n"
     ]
    },
    {
     "name": "stdout",
     "output_type": "stream",
     "text": [
      "69/69 [==============================] - 6s 88ms/step - loss: 343.8472 - custom_score: 2748.3708 - val_loss: 295.9994 - val_custom_score: 1840.7886 - lr: 0.0100\n",
      "\n",
      "Epoch 5: LearningRateScheduler setting learning rate to 0.009999999776482582.\n",
      "Epoch 5/50\n",
      "69/69 [==============================] - ETA: 0s - loss: 277.3823 - custom_score: 1772.9271\n",
      "Epoch 5: val_loss improved from 295.99939 to 263.06668, saving model to ./models/LSTMsmall/FD0001_scoreFixed\n"
     ]
    },
    {
     "name": "stderr",
     "output_type": "stream",
     "text": [
      "WARNING:absl:Found untraced functions such as lstm_cell_layer_call_fn, lstm_cell_layer_call_and_return_conditional_losses, lstm_cell_1_layer_call_fn, lstm_cell_1_layer_call_and_return_conditional_losses while saving (showing 4 of 4). These functions will not be directly callable after loading.\n"
     ]
    },
    {
     "name": "stdout",
     "output_type": "stream",
     "text": [
      "INFO:tensorflow:Assets written to: ./models/LSTMsmall/FD0001_scoreFixed/assets\n"
     ]
    },
    {
     "name": "stderr",
     "output_type": "stream",
     "text": [
      "INFO:tensorflow:Assets written to: ./models/LSTMsmall/FD0001_scoreFixed/assets\n"
     ]
    },
    {
     "name": "stdout",
     "output_type": "stream",
     "text": [
      "69/69 [==============================] - 6s 88ms/step - loss: 277.3823 - custom_score: 1772.9271 - val_loss: 263.0667 - val_custom_score: 1119.0974 - lr: 0.0100\n",
      "\n",
      "Epoch 6: LearningRateScheduler setting learning rate to 0.009999999776482582.\n",
      "Epoch 6/50\n",
      "68/69 [============================>.] - ETA: 0s - loss: 224.8316 - custom_score: 1215.2677\n",
      "Epoch 6: val_loss did not improve from 263.06668\n",
      "69/69 [==============================] - 1s 10ms/step - loss: 224.9061 - custom_score: 1201.1399 - val_loss: 308.0485 - val_custom_score: 2449.4375 - lr: 0.0100\n",
      "\n",
      "Epoch 7: LearningRateScheduler setting learning rate to 0.009999999776482582.\n",
      "Epoch 7/50\n",
      "69/69 [==============================] - ETA: 0s - loss: 215.5007 - custom_score: 1132.9449\n",
      "Epoch 7: val_loss improved from 263.06668 to 201.38927, saving model to ./models/LSTMsmall/FD0001_scoreFixed\n"
     ]
    },
    {
     "name": "stderr",
     "output_type": "stream",
     "text": [
      "WARNING:absl:Found untraced functions such as lstm_cell_layer_call_fn, lstm_cell_layer_call_and_return_conditional_losses, lstm_cell_1_layer_call_fn, lstm_cell_1_layer_call_and_return_conditional_losses while saving (showing 4 of 4). These functions will not be directly callable after loading.\n"
     ]
    },
    {
     "name": "stdout",
     "output_type": "stream",
     "text": [
      "INFO:tensorflow:Assets written to: ./models/LSTMsmall/FD0001_scoreFixed/assets\n"
     ]
    },
    {
     "name": "stderr",
     "output_type": "stream",
     "text": [
      "INFO:tensorflow:Assets written to: ./models/LSTMsmall/FD0001_scoreFixed/assets\n"
     ]
    },
    {
     "name": "stdout",
     "output_type": "stream",
     "text": [
      "69/69 [==============================] - 6s 94ms/step - loss: 215.5007 - custom_score: 1132.9449 - val_loss: 201.3893 - val_custom_score: 839.7377 - lr: 0.0100\n",
      "\n",
      "Epoch 8: LearningRateScheduler setting learning rate to 0.009999999776482582.\n",
      "Epoch 8/50\n",
      "65/69 [===========================>..] - ETA: 0s - loss: 208.3683 - custom_score: 1081.0558\n",
      "Epoch 8: val_loss did not improve from 201.38927\n",
      "69/69 [==============================] - 1s 10ms/step - loss: 207.9496 - custom_score: 1075.1844 - val_loss: 227.2870 - val_custom_score: 846.3199 - lr: 0.0100\n",
      "\n",
      "Epoch 9: LearningRateScheduler setting learning rate to 0.009999999776482582.\n",
      "Epoch 9/50\n",
      "66/69 [===========================>..] - ETA: 0s - loss: 193.6831 - custom_score: 965.3025\n",
      "Epoch 9: val_loss did not improve from 201.38927\n",
      "69/69 [==============================] - 1s 10ms/step - loss: 193.6487 - custom_score: 956.1132 - val_loss: 207.2484 - val_custom_score: 774.3003 - lr: 0.0100\n",
      "\n",
      "Epoch 10: LearningRateScheduler setting learning rate to 0.009999999776482582.\n",
      "Epoch 10/50\n",
      "63/69 [==========================>...] - ETA: 0s - loss: 193.0764 - custom_score: 991.5568 \n",
      "Epoch 10: val_loss improved from 201.38927 to 183.00621, saving model to ./models/LSTMsmall/FD0001_scoreFixed\n"
     ]
    },
    {
     "name": "stderr",
     "output_type": "stream",
     "text": [
      "WARNING:absl:Found untraced functions such as lstm_cell_layer_call_fn, lstm_cell_layer_call_and_return_conditional_losses, lstm_cell_1_layer_call_fn, lstm_cell_1_layer_call_and_return_conditional_losses while saving (showing 4 of 4). These functions will not be directly callable after loading.\n"
     ]
    },
    {
     "name": "stdout",
     "output_type": "stream",
     "text": [
      "INFO:tensorflow:Assets written to: ./models/LSTMsmall/FD0001_scoreFixed/assets\n"
     ]
    },
    {
     "name": "stderr",
     "output_type": "stream",
     "text": [
      "INFO:tensorflow:Assets written to: ./models/LSTMsmall/FD0001_scoreFixed/assets\n"
     ]
    },
    {
     "name": "stdout",
     "output_type": "stream",
     "text": [
      "69/69 [==============================] - 6s 90ms/step - loss: 192.1092 - custom_score: 968.4222 - val_loss: 183.0062 - val_custom_score: 852.5085 - lr: 0.0100\n",
      "\n",
      "Epoch 11: LearningRateScheduler setting learning rate to 0.001.\n",
      "Epoch 11/50\n",
      "64/69 [==========================>...] - ETA: 0s - loss: 177.7992 - custom_score: 871.0459\n",
      "Epoch 11: val_loss did not improve from 183.00621\n",
      "69/69 [==============================] - 1s 11ms/step - loss: 177.4747 - custom_score: 859.0885 - val_loss: 183.4585 - val_custom_score: 761.8990 - lr: 0.0010\n",
      "\n",
      "Epoch 12: LearningRateScheduler setting learning rate to 0.001.\n",
      "Epoch 12/50\n",
      "63/69 [==========================>...] - ETA: 0s - loss: 177.5832 - custom_score: 863.6260\n",
      "Epoch 12: val_loss improved from 183.00621 to 182.27969, saving model to ./models/LSTMsmall/FD0001_scoreFixed\n"
     ]
    },
    {
     "name": "stderr",
     "output_type": "stream",
     "text": [
      "WARNING:absl:Found untraced functions such as lstm_cell_layer_call_fn, lstm_cell_layer_call_and_return_conditional_losses, lstm_cell_1_layer_call_fn, lstm_cell_1_layer_call_and_return_conditional_losses while saving (showing 4 of 4). These functions will not be directly callable after loading.\n"
     ]
    },
    {
     "name": "stdout",
     "output_type": "stream",
     "text": [
      "INFO:tensorflow:Assets written to: ./models/LSTMsmall/FD0001_scoreFixed/assets\n"
     ]
    },
    {
     "name": "stderr",
     "output_type": "stream",
     "text": [
      "INFO:tensorflow:Assets written to: ./models/LSTMsmall/FD0001_scoreFixed/assets\n"
     ]
    },
    {
     "name": "stdout",
     "output_type": "stream",
     "text": [
      "69/69 [==============================] - 6s 94ms/step - loss: 176.8488 - custom_score: 855.6992 - val_loss: 182.2797 - val_custom_score: 762.8400 - lr: 0.0010\n",
      "\n",
      "Epoch 13: LearningRateScheduler setting learning rate to 0.001.\n",
      "Epoch 13/50\n",
      "64/69 [==========================>...] - ETA: 0s - loss: 176.3684 - custom_score: 860.4709\n",
      "Epoch 13: val_loss improved from 182.27969 to 178.66130, saving model to ./models/LSTMsmall/FD0001_scoreFixed\n"
     ]
    },
    {
     "name": "stderr",
     "output_type": "stream",
     "text": [
      "WARNING:absl:Found untraced functions such as lstm_cell_layer_call_fn, lstm_cell_layer_call_and_return_conditional_losses, lstm_cell_1_layer_call_fn, lstm_cell_1_layer_call_and_return_conditional_losses while saving (showing 4 of 4). These functions will not be directly callable after loading.\n"
     ]
    },
    {
     "name": "stdout",
     "output_type": "stream",
     "text": [
      "INFO:tensorflow:Assets written to: ./models/LSTMsmall/FD0001_scoreFixed/assets\n"
     ]
    },
    {
     "name": "stderr",
     "output_type": "stream",
     "text": [
      "INFO:tensorflow:Assets written to: ./models/LSTMsmall/FD0001_scoreFixed/assets\n"
     ]
    },
    {
     "name": "stdout",
     "output_type": "stream",
     "text": [
      "69/69 [==============================] - 7s 97ms/step - loss: 175.8730 - custom_score: 845.6652 - val_loss: 178.6613 - val_custom_score: 768.1222 - lr: 0.0010\n",
      "\n",
      "Epoch 14: LearningRateScheduler setting learning rate to 0.001.\n",
      "Epoch 14/50\n",
      "62/69 [=========================>....] - ETA: 0s - loss: 173.8985 - custom_score: 842.5192\n",
      "Epoch 14: val_loss improved from 178.66130 to 176.90836, saving model to ./models/LSTMsmall/FD0001_scoreFixed\n"
     ]
    },
    {
     "name": "stderr",
     "output_type": "stream",
     "text": [
      "WARNING:absl:Found untraced functions such as lstm_cell_layer_call_fn, lstm_cell_layer_call_and_return_conditional_losses, lstm_cell_1_layer_call_fn, lstm_cell_1_layer_call_and_return_conditional_losses while saving (showing 4 of 4). These functions will not be directly callable after loading.\n"
     ]
    },
    {
     "name": "stdout",
     "output_type": "stream",
     "text": [
      "INFO:tensorflow:Assets written to: ./models/LSTMsmall/FD0001_scoreFixed/assets\n"
     ]
    },
    {
     "name": "stderr",
     "output_type": "stream",
     "text": [
      "INFO:tensorflow:Assets written to: ./models/LSTMsmall/FD0001_scoreFixed/assets\n"
     ]
    },
    {
     "name": "stdout",
     "output_type": "stream",
     "text": [
      "69/69 [==============================] - 6s 89ms/step - loss: 173.8223 - custom_score: 832.2662 - val_loss: 176.9084 - val_custom_score: 795.5723 - lr: 0.0010\n",
      "\n",
      "Epoch 15: LearningRateScheduler setting learning rate to 0.001.\n",
      "Epoch 15/50\n",
      "66/69 [===========================>..] - ETA: 0s - loss: 173.4053 - custom_score: 839.7768\n",
      "Epoch 15: val_loss improved from 176.90836 to 175.74684, saving model to ./models/LSTMsmall/FD0001_scoreFixed\n"
     ]
    },
    {
     "name": "stderr",
     "output_type": "stream",
     "text": [
      "WARNING:absl:Found untraced functions such as lstm_cell_layer_call_fn, lstm_cell_layer_call_and_return_conditional_losses, lstm_cell_1_layer_call_fn, lstm_cell_1_layer_call_and_return_conditional_losses while saving (showing 4 of 4). These functions will not be directly callable after loading.\n"
     ]
    },
    {
     "name": "stdout",
     "output_type": "stream",
     "text": [
      "INFO:tensorflow:Assets written to: ./models/LSTMsmall/FD0001_scoreFixed/assets\n"
     ]
    },
    {
     "name": "stderr",
     "output_type": "stream",
     "text": [
      "INFO:tensorflow:Assets written to: ./models/LSTMsmall/FD0001_scoreFixed/assets\n"
     ]
    },
    {
     "name": "stdout",
     "output_type": "stream",
     "text": [
      "69/69 [==============================] - 6s 92ms/step - loss: 173.0222 - custom_score: 829.2878 - val_loss: 175.7468 - val_custom_score: 838.4964 - lr: 0.0010\n",
      "\n",
      "Epoch 16: LearningRateScheduler setting learning rate to 0.001.\n",
      "Epoch 16/50\n",
      "67/69 [============================>.] - ETA: 0s - loss: 172.2179 - custom_score: 836.1092\n",
      "Epoch 16: val_loss improved from 175.74684 to 175.50093, saving model to ./models/LSTMsmall/FD0001_scoreFixed\n"
     ]
    },
    {
     "name": "stderr",
     "output_type": "stream",
     "text": [
      "WARNING:absl:Found untraced functions such as lstm_cell_layer_call_fn, lstm_cell_layer_call_and_return_conditional_losses, lstm_cell_1_layer_call_fn, lstm_cell_1_layer_call_and_return_conditional_losses while saving (showing 4 of 4). These functions will not be directly callable after loading.\n"
     ]
    },
    {
     "name": "stdout",
     "output_type": "stream",
     "text": [
      "INFO:tensorflow:Assets written to: ./models/LSTMsmall/FD0001_scoreFixed/assets\n"
     ]
    },
    {
     "name": "stderr",
     "output_type": "stream",
     "text": [
      "INFO:tensorflow:Assets written to: ./models/LSTMsmall/FD0001_scoreFixed/assets\n"
     ]
    },
    {
     "name": "stdout",
     "output_type": "stream",
     "text": [
      "69/69 [==============================] - 7s 98ms/step - loss: 172.2133 - custom_score: 828.2264 - val_loss: 175.5009 - val_custom_score: 757.9378 - lr: 0.0010\n",
      "\n",
      "Epoch 17: LearningRateScheduler setting learning rate to 0.001.\n",
      "Epoch 17/50\n",
      "64/69 [==========================>...] - ETA: 0s - loss: 170.9907 - custom_score: 825.4694\n",
      "Epoch 17: val_loss improved from 175.50093 to 174.61049, saving model to ./models/LSTMsmall/FD0001_scoreFixed\n"
     ]
    },
    {
     "name": "stderr",
     "output_type": "stream",
     "text": [
      "WARNING:absl:Found untraced functions such as lstm_cell_layer_call_fn, lstm_cell_layer_call_and_return_conditional_losses, lstm_cell_1_layer_call_fn, lstm_cell_1_layer_call_and_return_conditional_losses while saving (showing 4 of 4). These functions will not be directly callable after loading.\n"
     ]
    },
    {
     "name": "stdout",
     "output_type": "stream",
     "text": [
      "INFO:tensorflow:Assets written to: ./models/LSTMsmall/FD0001_scoreFixed/assets\n"
     ]
    },
    {
     "name": "stderr",
     "output_type": "stream",
     "text": [
      "INFO:tensorflow:Assets written to: ./models/LSTMsmall/FD0001_scoreFixed/assets\n"
     ]
    },
    {
     "name": "stdout",
     "output_type": "stream",
     "text": [
      "69/69 [==============================] - 7s 96ms/step - loss: 171.5568 - custom_score: 822.8653 - val_loss: 174.6105 - val_custom_score: 756.5942 - lr: 0.0010\n",
      "\n",
      "Epoch 18: LearningRateScheduler setting learning rate to 0.001.\n",
      "Epoch 18/50\n",
      "68/69 [============================>.] - ETA: 0s - loss: 171.4837 - custom_score: 835.8615\n",
      "Epoch 18: val_loss improved from 174.61049 to 173.27655, saving model to ./models/LSTMsmall/FD0001_scoreFixed\n"
     ]
    },
    {
     "name": "stderr",
     "output_type": "stream",
     "text": [
      "WARNING:absl:Found untraced functions such as lstm_cell_layer_call_fn, lstm_cell_layer_call_and_return_conditional_losses, lstm_cell_1_layer_call_fn, lstm_cell_1_layer_call_and_return_conditional_losses while saving (showing 4 of 4). These functions will not be directly callable after loading.\n"
     ]
    },
    {
     "name": "stdout",
     "output_type": "stream",
     "text": [
      "INFO:tensorflow:Assets written to: ./models/LSTMsmall/FD0001_scoreFixed/assets\n"
     ]
    },
    {
     "name": "stderr",
     "output_type": "stream",
     "text": [
      "INFO:tensorflow:Assets written to: ./models/LSTMsmall/FD0001_scoreFixed/assets\n"
     ]
    },
    {
     "name": "stdout",
     "output_type": "stream",
     "text": [
      "69/69 [==============================] - 7s 96ms/step - loss: 171.3653 - custom_score: 825.0913 - val_loss: 173.2766 - val_custom_score: 776.1925 - lr: 0.0010\n",
      "\n",
      "Epoch 19: LearningRateScheduler setting learning rate to 0.001.\n",
      "Epoch 19/50\n",
      "64/69 [==========================>...] - ETA: 0s - loss: 170.9989 - custom_score: 834.5531\n",
      "Epoch 19: val_loss did not improve from 173.27655\n",
      "69/69 [==============================] - 1s 10ms/step - loss: 170.5833 - custom_score: 829.0089 - val_loss: 178.2701 - val_custom_score: 725.1643 - lr: 0.0010\n",
      "\n",
      "Epoch 20: LearningRateScheduler setting learning rate to 0.001.\n",
      "Epoch 20/50\n",
      "63/69 [==========================>...] - ETA: 0s - loss: 169.3323 - custom_score: 826.3267\n",
      "Epoch 20: val_loss improved from 173.27655 to 170.90895, saving model to ./models/LSTMsmall/FD0001_scoreFixed\n"
     ]
    },
    {
     "name": "stderr",
     "output_type": "stream",
     "text": [
      "WARNING:absl:Found untraced functions such as lstm_cell_layer_call_fn, lstm_cell_layer_call_and_return_conditional_losses, lstm_cell_1_layer_call_fn, lstm_cell_1_layer_call_and_return_conditional_losses while saving (showing 4 of 4). These functions will not be directly callable after loading.\n"
     ]
    },
    {
     "name": "stdout",
     "output_type": "stream",
     "text": [
      "INFO:tensorflow:Assets written to: ./models/LSTMsmall/FD0001_scoreFixed/assets\n"
     ]
    },
    {
     "name": "stderr",
     "output_type": "stream",
     "text": [
      "INFO:tensorflow:Assets written to: ./models/LSTMsmall/FD0001_scoreFixed/assets\n"
     ]
    },
    {
     "name": "stdout",
     "output_type": "stream",
     "text": [
      "69/69 [==============================] - 7s 96ms/step - loss: 169.0940 - custom_score: 813.9366 - val_loss: 170.9090 - val_custom_score: 789.9753 - lr: 0.0010\n",
      "\n",
      "Epoch 21: LearningRateScheduler setting learning rate to 0.0001.\n",
      "Epoch 21/50\n",
      "68/69 [============================>.] - ETA: 0s - loss: 167.3988 - custom_score: 817.5837\n",
      "Epoch 21: val_loss did not improve from 170.90895\n",
      "69/69 [==============================] - 1s 10ms/step - loss: 167.4242 - custom_score: 808.2484 - val_loss: 171.0302 - val_custom_score: 760.8008 - lr: 1.0000e-04\n",
      "\n",
      "Epoch 22: LearningRateScheduler setting learning rate to 0.0001.\n",
      "Epoch 22/50\n",
      "65/69 [===========================>..] - ETA: 0s - loss: 166.8337 - custom_score: 804.9268\n",
      "Epoch 22: val_loss improved from 170.90895 to 170.78554, saving model to ./models/LSTMsmall/FD0001_scoreFixed\n"
     ]
    },
    {
     "name": "stderr",
     "output_type": "stream",
     "text": [
      "WARNING:absl:Found untraced functions such as lstm_cell_layer_call_fn, lstm_cell_layer_call_and_return_conditional_losses, lstm_cell_1_layer_call_fn, lstm_cell_1_layer_call_and_return_conditional_losses while saving (showing 4 of 4). These functions will not be directly callable after loading.\n"
     ]
    },
    {
     "name": "stdout",
     "output_type": "stream",
     "text": [
      "INFO:tensorflow:Assets written to: ./models/LSTMsmall/FD0001_scoreFixed/assets\n"
     ]
    },
    {
     "name": "stderr",
     "output_type": "stream",
     "text": [
      "INFO:tensorflow:Assets written to: ./models/LSTMsmall/FD0001_scoreFixed/assets\n"
     ]
    },
    {
     "name": "stdout",
     "output_type": "stream",
     "text": [
      "69/69 [==============================] - 7s 103ms/step - loss: 167.3119 - custom_score: 796.9087 - val_loss: 170.7855 - val_custom_score: 759.3960 - lr: 1.0000e-04\n",
      "\n",
      "Epoch 23: LearningRateScheduler setting learning rate to 0.0001.\n",
      "Epoch 23/50\n",
      "69/69 [==============================] - ETA: 0s - loss: 167.1488 - custom_score: 805.2990\n",
      "Epoch 23: val_loss improved from 170.78554 to 170.50346, saving model to ./models/LSTMsmall/FD0001_scoreFixed\n"
     ]
    },
    {
     "name": "stderr",
     "output_type": "stream",
     "text": [
      "WARNING:absl:Found untraced functions such as lstm_cell_layer_call_fn, lstm_cell_layer_call_and_return_conditional_losses, lstm_cell_1_layer_call_fn, lstm_cell_1_layer_call_and_return_conditional_losses while saving (showing 4 of 4). These functions will not be directly callable after loading.\n"
     ]
    },
    {
     "name": "stdout",
     "output_type": "stream",
     "text": [
      "INFO:tensorflow:Assets written to: ./models/LSTMsmall/FD0001_scoreFixed/assets\n"
     ]
    },
    {
     "name": "stderr",
     "output_type": "stream",
     "text": [
      "INFO:tensorflow:Assets written to: ./models/LSTMsmall/FD0001_scoreFixed/assets\n"
     ]
    },
    {
     "name": "stdout",
     "output_type": "stream",
     "text": [
      "69/69 [==============================] - 7s 108ms/step - loss: 167.1488 - custom_score: 805.2990 - val_loss: 170.5035 - val_custom_score: 768.0856 - lr: 1.0000e-04\n",
      "\n",
      "Epoch 24: LearningRateScheduler setting learning rate to 0.0001.\n",
      "Epoch 24/50\n",
      "69/69 [==============================] - ETA: 0s - loss: 167.0443 - custom_score: 805.6396\n",
      "Epoch 24: val_loss improved from 170.50346 to 170.36897, saving model to ./models/LSTMsmall/FD0001_scoreFixed\n"
     ]
    },
    {
     "name": "stderr",
     "output_type": "stream",
     "text": [
      "WARNING:absl:Found untraced functions such as lstm_cell_layer_call_fn, lstm_cell_layer_call_and_return_conditional_losses, lstm_cell_1_layer_call_fn, lstm_cell_1_layer_call_and_return_conditional_losses while saving (showing 4 of 4). These functions will not be directly callable after loading.\n"
     ]
    },
    {
     "name": "stdout",
     "output_type": "stream",
     "text": [
      "INFO:tensorflow:Assets written to: ./models/LSTMsmall/FD0001_scoreFixed/assets\n"
     ]
    },
    {
     "name": "stderr",
     "output_type": "stream",
     "text": [
      "INFO:tensorflow:Assets written to: ./models/LSTMsmall/FD0001_scoreFixed/assets\n"
     ]
    },
    {
     "name": "stdout",
     "output_type": "stream",
     "text": [
      "69/69 [==============================] - 7s 105ms/step - loss: 167.0443 - custom_score: 805.6396 - val_loss: 170.3690 - val_custom_score: 790.7683 - lr: 1.0000e-04\n",
      "\n",
      "Epoch 25: LearningRateScheduler setting learning rate to 0.0001.\n",
      "Epoch 25/50\n",
      "65/69 [===========================>..] - ETA: 0s - loss: 167.1378 - custom_score: 812.4780\n",
      "Epoch 25: val_loss did not improve from 170.36897\n",
      "69/69 [==============================] - 1s 10ms/step - loss: 167.0870 - custom_score: 805.6284 - val_loss: 170.4739 - val_custom_score: 802.2554 - lr: 1.0000e-04\n",
      "\n",
      "Epoch 26: LearningRateScheduler setting learning rate to 0.0001.\n",
      "Epoch 26/50\n",
      "65/69 [===========================>..] - ETA: 0s - loss: 167.3135 - custom_score: 808.4078\n",
      "Epoch 26: val_loss improved from 170.36897 to 170.13838, saving model to ./models/LSTMsmall/FD0001_scoreFixed\n"
     ]
    },
    {
     "name": "stderr",
     "output_type": "stream",
     "text": [
      "WARNING:absl:Found untraced functions such as lstm_cell_layer_call_fn, lstm_cell_layer_call_and_return_conditional_losses, lstm_cell_1_layer_call_fn, lstm_cell_1_layer_call_and_return_conditional_losses while saving (showing 4 of 4). These functions will not be directly callable after loading.\n"
     ]
    },
    {
     "name": "stdout",
     "output_type": "stream",
     "text": [
      "INFO:tensorflow:Assets written to: ./models/LSTMsmall/FD0001_scoreFixed/assets\n"
     ]
    },
    {
     "name": "stderr",
     "output_type": "stream",
     "text": [
      "INFO:tensorflow:Assets written to: ./models/LSTMsmall/FD0001_scoreFixed/assets\n"
     ]
    },
    {
     "name": "stdout",
     "output_type": "stream",
     "text": [
      "69/69 [==============================] - 7s 99ms/step - loss: 166.9061 - custom_score: 797.2622 - val_loss: 170.1384 - val_custom_score: 766.7662 - lr: 1.0000e-04\n",
      "\n",
      "Epoch 27: LearningRateScheduler setting learning rate to 0.0001.\n",
      "Epoch 27/50\n",
      "62/69 [=========================>....] - ETA: 0s - loss: 166.6579 - custom_score: 813.7963\n",
      "Epoch 27: val_loss did not improve from 170.13838\n",
      "69/69 [==============================] - 1s 8ms/step - loss: 166.6701 - custom_score: 797.6142 - val_loss: 170.4320 - val_custom_score: 749.3000 - lr: 1.0000e-04\n",
      "\n",
      "Epoch 28: LearningRateScheduler setting learning rate to 0.0001.\n",
      "Epoch 28/50\n",
      "67/69 [============================>.] - ETA: 0s - loss: 166.3468 - custom_score: 804.4233\n",
      "Epoch 28: val_loss improved from 170.13838 to 169.89403, saving model to ./models/LSTMsmall/FD0001_scoreFixed\n"
     ]
    },
    {
     "name": "stderr",
     "output_type": "stream",
     "text": [
      "WARNING:absl:Found untraced functions such as lstm_cell_layer_call_fn, lstm_cell_layer_call_and_return_conditional_losses, lstm_cell_1_layer_call_fn, lstm_cell_1_layer_call_and_return_conditional_losses while saving (showing 4 of 4). These functions will not be directly callable after loading.\n"
     ]
    },
    {
     "name": "stdout",
     "output_type": "stream",
     "text": [
      "INFO:tensorflow:Assets written to: ./models/LSTMsmall/FD0001_scoreFixed/assets\n"
     ]
    },
    {
     "name": "stderr",
     "output_type": "stream",
     "text": [
      "INFO:tensorflow:Assets written to: ./models/LSTMsmall/FD0001_scoreFixed/assets\n"
     ]
    },
    {
     "name": "stdout",
     "output_type": "stream",
     "text": [
      "69/69 [==============================] - 6s 93ms/step - loss: 166.5932 - custom_score: 799.8449 - val_loss: 169.8940 - val_custom_score: 794.0967 - lr: 1.0000e-04\n",
      "\n",
      "Epoch 29: LearningRateScheduler setting learning rate to 0.0001.\n",
      "Epoch 29/50\n",
      "68/69 [============================>.] - ETA: 0s - loss: 166.6058 - custom_score: 809.8829\n",
      "Epoch 29: val_loss did not improve from 169.89403\n",
      "69/69 [==============================] - 1s 12ms/step - loss: 166.7114 - custom_score: 802.1208 - val_loss: 170.1268 - val_custom_score: 749.2186 - lr: 1.0000e-04\n",
      "\n",
      "Epoch 30: LearningRateScheduler setting learning rate to 0.0001.\n",
      "Epoch 30/50\n",
      "66/69 [===========================>..] - ETA: 0s - loss: 166.5657 - custom_score: 805.4864\n",
      "Epoch 30: val_loss did not improve from 169.89403\n",
      "69/69 [==============================] - 1s 12ms/step - loss: 166.4535 - custom_score: 793.4448 - val_loss: 170.1065 - val_custom_score: 747.6707 - lr: 1.0000e-04\n",
      "\n",
      "Epoch 31: LearningRateScheduler setting learning rate to 1e-05.\n",
      "Epoch 31/50\n",
      "64/69 [==========================>...] - ETA: 0s - loss: 166.6024 - custom_score: 808.3344\n",
      "Epoch 31: val_loss improved from 169.89403 to 169.69263, saving model to ./models/LSTMsmall/FD0001_scoreFixed\n"
     ]
    },
    {
     "name": "stderr",
     "output_type": "stream",
     "text": [
      "WARNING:absl:Found untraced functions such as lstm_cell_layer_call_fn, lstm_cell_layer_call_and_return_conditional_losses, lstm_cell_1_layer_call_fn, lstm_cell_1_layer_call_and_return_conditional_losses while saving (showing 4 of 4). These functions will not be directly callable after loading.\n"
     ]
    },
    {
     "name": "stdout",
     "output_type": "stream",
     "text": [
      "INFO:tensorflow:Assets written to: ./models/LSTMsmall/FD0001_scoreFixed/assets\n"
     ]
    },
    {
     "name": "stderr",
     "output_type": "stream",
     "text": [
      "INFO:tensorflow:Assets written to: ./models/LSTMsmall/FD0001_scoreFixed/assets\n"
     ]
    },
    {
     "name": "stdout",
     "output_type": "stream",
     "text": [
      "69/69 [==============================] - 7s 102ms/step - loss: 166.0429 - custom_score: 791.3320 - val_loss: 169.6926 - val_custom_score: 759.2632 - lr: 1.0000e-05\n",
      "\n",
      "Epoch 32: LearningRateScheduler setting learning rate to 1e-05.\n",
      "Epoch 32/50\n",
      "65/69 [===========================>..] - ETA: 0s - loss: 165.9645 - custom_score: 809.2896\n",
      "Epoch 32: val_loss did not improve from 169.69263\n",
      "69/69 [==============================] - 1s 11ms/step - loss: 166.0317 - custom_score: 799.4493 - val_loss: 169.8151 - val_custom_score: 753.3058 - lr: 1.0000e-05\n",
      "\n",
      "Epoch 33: LearningRateScheduler setting learning rate to 1e-05.\n",
      "Epoch 33/50\n",
      "66/69 [===========================>..] - ETA: 0s - loss: 165.6505 - custom_score: 801.8287\n",
      "Epoch 33: val_loss did not improve from 169.69263\n",
      "69/69 [==============================] - 1s 11ms/step - loss: 166.0065 - custom_score: 795.3792 - val_loss: 169.8105 - val_custom_score: 753.5081 - lr: 1.0000e-05\n",
      "\n",
      "Epoch 34: LearningRateScheduler setting learning rate to 1e-05.\n",
      "Epoch 34/50\n",
      "66/69 [===========================>..] - ETA: 0s - loss: 166.0701 - custom_score: 808.6674\n",
      "Epoch 34: val_loss did not improve from 169.69263\n",
      "69/69 [==============================] - 1s 11ms/step - loss: 166.0001 - custom_score: 797.9957 - val_loss: 169.7346 - val_custom_score: 755.1369 - lr: 1.0000e-05\n",
      "\n",
      "Epoch 35: LearningRateScheduler setting learning rate to 1e-05.\n",
      "Epoch 35/50\n",
      "64/69 [==========================>...] - ETA: 0s - loss: 166.6144 - custom_score: 809.3198\n",
      "Epoch 35: val_loss did not improve from 169.69263\n",
      "69/69 [==============================] - 1s 11ms/step - loss: 165.9707 - custom_score: 795.6437 - val_loss: 169.8497 - val_custom_score: 750.8112 - lr: 1.0000e-05\n",
      "\n",
      "Epoch 36: LearningRateScheduler setting learning rate to 1e-05.\n",
      "Epoch 36/50\n",
      "66/69 [===========================>..] - ETA: 0s - loss: 165.8887 - custom_score: 804.7700\n",
      "Epoch 36: val_loss did not improve from 169.69263\n",
      "69/69 [==============================] - 1s 11ms/step - loss: 165.9693 - custom_score: 796.4868 - val_loss: 169.8138 - val_custom_score: 751.3655 - lr: 1.0000e-05\n",
      "\n",
      "Epoch 37: LearningRateScheduler setting learning rate to 1e-05.\n",
      "Epoch 37/50\n",
      "69/69 [==============================] - ETA: 0s - loss: 165.9290 - custom_score: 796.4145\n",
      "Epoch 37: val_loss improved from 169.69263 to 169.62267, saving model to ./models/LSTMsmall/FD0001_scoreFixed\n"
     ]
    }
   ],
   "source": [
    "history = LSTMsmallModel.fit(\n",
    "    X_train, \n",
    "    y_train, \n",
    "    validation_data=(X_val, y_val), \n",
    "    epochs = EPOCHS,\n",
    "    batch_size = 256,\n",
    "    use_multiprocessing =True, \n",
    "    callbacks=[model_checkpoint, lr_scheduler])"
   ]
  },
  {
   "cell_type": "markdown",
   "metadata": {},
   "source": []
  },
  {
   "cell_type": "code",
   "execution_count": null,
   "metadata": {},
   "outputs": [
    {
     "data": {
      "image/png": "[encoded data removed]",
      "text/plain": [
       "<Figure size 1200x600 with 1 Axes>"
      ]
     },
     "metadata": {},
     "output_type": "display_data"
    },
    {
     "data": {
      "image/png": "[encoded data removed]",
      "text/plain": [
       "<Figure size 1200x600 with 1 Axes>"
      ]
     },
     "metadata": {},
     "output_type": "display_data"
    }
   ],
   "source": [
    "import matplotlib.pyplot as plt\n",
    "loss_values = history.history['loss']\n",
    "val_loss_values = history.history['val_loss']\n",
    "\n",
    "\n",
    "custom_score_values = history.history['custom_score']  \n",
    "custom_score_validation_values = history.history['val_custom_score']\n",
    "\n",
    "\n",
    "# Plot della loss function\n",
    "plt.figure(figsize=(12, 6))\n",
    "plt.plot(range(1, len(loss_values) + 1), loss_values, label='Loss', marker='o')\n",
    "plt.plot(range(1, len(val_loss_values) + 1), val_loss_values, label='Validation Loss', marker='o', linestyle='-', color='orange')\n",
    "plt.title('Training Loss and Validation Loss')\n",
    "plt.xlabel('Epoca')\n",
    "plt.ylabel('Loss')\n",
    "plt.ylim(0, 600)\n",
    "plt.legend()\n",
    "plt.grid(True)\n",
    "plt.show()\n",
    "\n",
    "# Plot della custom score\n",
    "plt.figure(figsize=(12, 6))\n",
    "plt.plot(range(1, len(custom_score_values) + 1), custom_score_values, label='Training S Score', marker='o', color='blue')\n",
    "plt.plot(range(1, len(custom_score_validation_values) + 1), custom_score_validation_values, label='Validation S Score', marker='o', color='orange')\n",
    "plt.title('Training S Score and validation S Score')\n",
    "plt.xlabel('Epoca')\n",
    "plt.ylabel('S Score')\n",
    "plt.ylim(0, 9000)\n",
    "plt.legend()\n",
    "plt.grid(True)\n",
    "plt.show()\n"
   ]
  },
  {
   "cell_type": "code",
   "execution_count": null,
   "metadata": {},
   "outputs": [
    {
     "data": {
      "image/png": "[encoded data removed]",
      "text/plain": [
       "<Figure size 1200x600 with 1 Axes>"
      ]
     },
     "metadata": {},
     "output_type": "display_data"
    }
   ],
   "source": [
    "plt.figure(figsize=(12, 6))\n",
    "plt.plot(range(1, len(loss_values) + 1), loss_values, label='Training Loss', marker='o')\n",
    "plt.plot(range(1, len(val_loss_values) + 1), val_loss_values, label='Validation Loss', marker='o', linestyle='-', color='orange')\n",
    "plt.title('Training Loss and Validation Loss')\n",
    "plt.xlabel('Epoca')\n",
    "plt.ylabel('Loss')\n",
    "plt.ylim(0, 200)\n",
    "plt.xlim(15,50)\n",
    "plt.legend()\n",
    "plt.grid(True)\n",
    "plt.show()\n"
   ]
  },
  {
   "cell_type": "code",
   "execution_count": null,
   "metadata": {},
   "outputs": [
    {
     "data": {
      "image/png": "[encoded data removed]",
      "text/plain": [
       "<Figure size 1200x600 with 1 Axes>"
      ]
     },
     "metadata": {},
     "output_type": "display_data"
    }
   ],
   "source": [
    "plt.figure(figsize=(12, 6))\n",
    "plt.plot(range(1, len(custom_score_values) + 1), custom_score_values, label='Training S Score', marker='o', color='blue')\n",
    "plt.plot(range(1, len(custom_score_validation_values) + 1), custom_score_validation_values, label='Validation S Score', marker='o', color='orange')\n",
    "plt.title('Training S Score and validation S Score')\n",
    "plt.xlabel('Epoca')\n",
    "plt.ylabel('S Score')\n",
    "plt.ylim(400, 900)\n",
    "plt.xlim(15,50)\n",
    "plt.legend()\n",
    "plt.grid(True)\n",
    "plt.show()"
   ]
  },
  {
   "cell_type": "code",
   "execution_count": null,
   "metadata": {},
   "outputs": [],
   "source": [
    "### FUNZIONA\n",
    "MODEL_DIR = '/home/aliquodfahriam/tinyML/Riproduzione/Riproduzione_PW/models/LSTMsmall/prova'\n",
    "run_model = tf.function(lambda x: LSTMsmallModel(x))\n",
    "BATCH_SIZE = 256\n",
    "STEPS = 30\n",
    "INPUT_SIZE = 14\n",
    "\n",
    "concrete_func = run_model.get_concrete_function(\n",
    "    tf.TensorSpec([BATCH_SIZE, STEPS, INPUT_SIZE], LSTMsmallModel.inputs[0].dtype)\n",
    ")\n",
    "converter = tf.lite.TFLiteConverter.from_keras_model(LSTMsmallModel)\n",
    "converter.target_spec.supported_ops = [\n",
    "  tf.lite.OpsSet.TFLITE_BUILTINS, # enable TensorFlow Lite ops.\n",
    "  tf.lite.OpsSet.SELECT_TF_OPS # enable TensorFlow ops.\n",
    "]\n",
    "\n",
    "\n",
    "LSTMsmallModel.save(MODEL_DIR, save_format=\"tf\", signatures = concrete_func )\n",
    "\n",
    "converter = tf.lite.TFLiteConverter.from_saved_model(MODEL_DIR)\n",
    "tflite_model = converter.convert()\n",
    "\n",
    "with open(\"small_lstm_fixed.tflite\", \"wb\") as f:\n",
    "    f.write(tflite_model)"
   ]
  }
 ],
 "metadata": {
  "kernelspec": {
   "display_name": "tensorflowEnv",
   "language": "python",
   "name": "python3"
  },
  "language_info": {
   "codemirror_mode": {
    "name": "ipython",
    "version": 3
   },
   "file_extension": ".py",
   "mimetype": "text/x-python",
   "name": "python",
   "nbconvert_exporter": "python",
   "pygments_lexer": "ipython3",
   "version": "3.9.15"
  },
  "orig_nbformat": 4
 },
 "nbformat": 4,
 "nbformat_minor": 2
}
