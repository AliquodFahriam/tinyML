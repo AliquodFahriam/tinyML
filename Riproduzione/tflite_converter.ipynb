{
 "cells": [
  {
   "cell_type": "code",
   "execution_count": null,
   "metadata": {},
   "outputs": [],
   "source": [
    "import tensorflow as tf\n",
    "\n",
    "small_lstm = tf.keras.models.load_model('./models/LSTMsmall')\n",
    "large_lstm = tf.keras.models.load_model('./models/LSTMlarge')\n",
    "\n",
    "converter = tf.lite.TFLiteConverter.from_keras_model(small_lstm)\n",
    "lstm_small_tflite = converter.convert()\n",
    "with open(\"small_lstm.tflite\", \"wb\") as f:\n",
    "    f.write(lstm_small_tflite)\n",
    "\n",
    "converter2 = tf.lite.TFLiteConverter.from_keras_model(large_lstm)\n",
    "lstm_large = converter2.convert()\n",
    "with open(\"large_lstm.tflite\", \"wb\") as f:\n",
    "    f.write(lstm_small_tflite)"
   ]
  }
 ],
 "metadata": {
  "kernelspec": {
   "display_name": "tensorflowEnv",
   "language": "python",
   "name": "python3"
  },
  "language_info": {
   "name": "python",
   "version": "3.9.15"
  },
  "orig_nbformat": 4
 },
 "nbformat": 4,
 "nbformat_minor": 2
}
