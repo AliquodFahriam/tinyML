{
 "cells": [
  {
   "cell_type": "code",
   "execution_count": 1,
   "metadata": {},
   "outputs": [
    {
     "name": "stderr",
     "output_type": "stream",
     "text": [
      "2024-01-17 01:51:34.482856: E tensorflow/compiler/xla/stream_executor/cuda/cuda_dnn.cc:9342] Unable to register cuDNN factory: Attempting to register factory for plugin cuDNN when one has already been registered\n",
      "2024-01-17 01:51:34.482895: E tensorflow/compiler/xla/stream_executor/cuda/cuda_fft.cc:609] Unable to register cuFFT factory: Attempting to register factory for plugin cuFFT when one has already been registered\n",
      "2024-01-17 01:51:34.482927: E tensorflow/compiler/xla/stream_executor/cuda/cuda_blas.cc:1518] Unable to register cuBLAS factory: Attempting to register factory for plugin cuBLAS when one has already been registered\n",
      "2024-01-17 01:51:34.490030: I tensorflow/core/platform/cpu_feature_guard.cc:182] This TensorFlow binary is optimized to use available CPU instructions in performance-critical operations.\n",
      "To enable the following instructions: AVX2 FMA, in other operations, rebuild TensorFlow with the appropriate compiler flags.\n"
     ]
    }
   ],
   "source": [
    "import tensorflow as tf\n",
    "from tensorflow.keras import layers\n",
    "from tensorflow.keras.models import Sequential\n",
    "\n",
    "import numpy as np\n",
    "import pandas as pd\n",
    "import sklearn\n",
    "from sklearn.model_selection import train_test_split\n",
    "\n",
    "from sklearn.preprocessing import MinMaxScaler\n",
    "from sklearn.metrics import mean_squared_error\n",
    "import matplotlib.pyplot as plt\n",
    "\n",
    "np.random.seed(34)"
   ]
  },
  {
   "cell_type": "code",
   "execution_count": 2,
   "metadata": {},
   "outputs": [],
   "source": [
    "train_data = pd.read_csv(\"../CMAPSS/train_FD003.txt\", sep= \"\\s+\", header = None)"
   ]
  },
  {
   "cell_type": "code",
   "execution_count": 3,
   "metadata": {},
   "outputs": [],
   "source": [
    "def process_input_data_with_targets(input_data, target_data = None, window_length = 1, shift = 1):\n",
    "    \"\"\"Depending on values of window_length and shift, this function generates batchs of data and targets \n",
    "    from input_data and target_data.\n",
    "    \n",
    "    Number of batches = np.floor((len(input_data) - window_length)/shift) + 1\n",
    "    \n",
    "    **We don't check input dimensions uisng exception handling. So readers should be careful while using these\n",
    "    functions. If input data are not of desired dimension, either error occurs or something undesirable is \n",
    "    produced as output.**\n",
    "    \n",
    "    Arguments:\n",
    "        input_data: input data to function (Must be 2 dimensional)\n",
    "        target_data: input rul values (Must be 1D array)s\n",
    "        window_length: window length of data\n",
    "        shift: Distance by which the window moves for next batch. This is closely related to overlap\n",
    "               between data. For example, if window length is 30 and shift is 1, there is an overlap of \n",
    "               29 data points between two consecutive batches.\n",
    "        \n",
    "    \"\"\"\n",
    "    num_batches = int(np.floor((len(input_data) - window_length)/shift)) + 1\n",
    "    num_features = input_data.shape[1]\n",
    "    output_data = np.repeat(np.nan, repeats = num_batches * window_length * num_features).reshape(num_batches, window_length,\n",
    "                                                                                                  num_features)\n",
    "    if target_data is None:\n",
    "        for batch in range(num_batches):\n",
    "            output_data[batch,:,:] = input_data[(0+shift*batch):(0+shift*batch+window_length),:]\n",
    "        return output_data\n",
    "    else:\n",
    "        output_targets = np.repeat(np.nan, repeats = num_batches)\n",
    "        for batch in range(num_batches):\n",
    "            output_data[batch,:,:] = input_data[(0+shift*batch):(0+shift*batch+window_length),:]\n",
    "            output_targets[batch] = target_data[(shift*batch + (window_length-1))]\n",
    "        return output_data, output_targets"
   ]
  },
  {
   "cell_type": "code",
   "execution_count": 4,
   "metadata": {},
   "outputs": [],
   "source": [
    "def process_test_data(test_data_for_an_engine, window_length, shift, num_test_windows = 1):\n",
    "    \"\"\" This function takes test data for an engine as first input. The next two inputs\n",
    "    window_length and shift are same as other functins. \n",
    "    \n",
    "    Finally it takes num_test_windows as the last input. num_test_windows sets how many examplles we\n",
    "    want from test data (from last). By default it extracts only the last example.\n",
    "    \n",
    "    The function return last examples and number of last examples (a scaler) as output. \n",
    "    We need the second output later. If we are extracting more than 1 last examples, we have to \n",
    "    average their prediction results. The second scaler halps us do just that.\n",
    "    \"\"\"\n",
    "    max_num_test_batches = int(np.floor((len(test_data_for_an_engine) - window_length)/shift)) + 1\n",
    "    if max_num_test_batches < num_test_windows:\n",
    "        required_len = (max_num_test_batches -1)* shift + window_length\n",
    "        batched_test_data_for_an_engine = process_input_data_with_targets(test_data_for_an_engine[-required_len:, :],\n",
    "                                                                          target_data = None,\n",
    "                                                                          window_length = window_length, shift = shift)\n",
    "        return batched_test_data_for_an_engine, max_num_test_batches\n",
    "    else:\n",
    "        required_len = (num_test_windows - 1) * shift + window_length\n",
    "        batched_test_data_for_an_engine = process_input_data_with_targets(test_data_for_an_engine[-required_len:, :],\n",
    "                                                                          target_data = None,\n",
    "                                                                          window_length = window_length, shift = shift)\n",
    "        return batched_test_data_for_an_engine, num_test_windows"
   ]
  },
  {
   "cell_type": "code",
   "execution_count": 5,
   "metadata": {},
   "outputs": [],
   "source": [
    "def process_targets(data_length, early_rul = None):\n",
    "    if early_rul == None:\n",
    "        return np.arange(data_length-1, -1, -1)\n",
    "    else:\n",
    "        early_rul_duration = data_length - early_rul\n",
    "        if early_rul_duration <= 0:\n",
    "            return np.arange(data_length-1, -1, -1)\n",
    "        else:\n",
    "            return np.append(early_rul*np.ones(shape = (early_rul_duration,)), np.arange(early_rul-1, -1, -1))"
   ]
  },
  {
   "cell_type": "code",
   "execution_count": 6,
   "metadata": {},
   "outputs": [
    {
     "name": "stdout",
     "output_type": "stream",
     "text": [
      "Processed trianing data shape:  (21820, 30, 14)\n",
      "Processed training ruls shape:  (21820,)\n",
      "Processed test data shape:  (500, 30, 14)\n",
      "True RUL shape:  (100,)\n",
      "<class 'numpy.ndarray'>\n",
      "<class 'numpy.ndarray'>\n",
      "<class 'numpy.ndarray'>\n",
      "<class 'numpy.ndarray'>\n"
     ]
    }
   ],
   "source": [
    "test_data = pd.read_csv(\"../CMAPSS/test_FD003.txt\", sep = \"\\s+\", header = None)\n",
    "true_rul = pd.read_csv(\"../CMAPSS/RUL_FD003.txt\", sep = '\\s+', header = None)\n",
    "\n",
    "window_length = 30 #corretta\n",
    "shift = 1 #corretta\n",
    "early_rul = 125        #corretta    \n",
    "processed_train_data = []\n",
    "processed_train_targets = []\n",
    "\n",
    "# How many test windows to take for each engine. If set to 1 (this is the default), only last window of test data for \n",
    "# each engine is taken. If set to a different number, that many windows from last are taken. \n",
    "# Final output is the average output of all windows.\n",
    "num_test_windows = 5     \n",
    "processed_test_data = []\n",
    "num_test_windows_list = []\n",
    "\n",
    "columns_to_be_dropped = [0,1,2,3,4,5,9,10,14,20,22,23]\n",
    "\n",
    "train_data_first_column = train_data[0]\n",
    "test_data_first_column = test_data[0]\n",
    "\n",
    "# Scale data for all engines\n",
    "scaler = MinMaxScaler(feature_range = (-1,1))\n",
    "train_data = scaler.fit_transform(train_data.drop(columns = columns_to_be_dropped))\n",
    "test_data = scaler.transform(test_data.drop(columns = columns_to_be_dropped))\n",
    "\n",
    "train_data = pd.DataFrame(data = np.c_[train_data_first_column, train_data])\n",
    "test_data = pd.DataFrame(data = np.c_[test_data_first_column, test_data])\n",
    "\n",
    "num_train_machines = len(train_data[0].unique())\n",
    "num_test_machines = len(test_data[0].unique())\n",
    "\n",
    "# Process training and test data sepeartely as number of engines in training and test set may be different.\n",
    "# As we are doing scaling for full dataset, we are not bothered by different number of engines in training and test set.\n",
    "\n",
    "# Process trianing data\n",
    "for i in np.arange(1, num_train_machines + 1):\n",
    "    temp_train_data = train_data[train_data[0] == i].drop(columns = [0]).values\n",
    "    \n",
    "    # Verify if data of given window length can be extracted from training data\n",
    "    if (len(temp_train_data) < window_length):\n",
    "        print(\"Train engine {} doesn't have enough data for window_length of {}\".format(i, window_length))\n",
    "        raise AssertionError(\"Window length is larger than number of data points for some engines. \"\n",
    "                             \"Try decreasing window length.\")\n",
    "        \n",
    "    temp_train_targets = process_targets(data_length = temp_train_data.shape[0], early_rul = early_rul)\n",
    "    data_for_a_machine, targets_for_a_machine = process_input_data_with_targets(temp_train_data, temp_train_targets, \n",
    "                                                                                window_length = window_length, shift = shift)\n",
    "    \n",
    "    processed_train_data.append(data_for_a_machine)\n",
    "    processed_train_targets.append(targets_for_a_machine)\n",
    "\n",
    "processed_train_data = np.concatenate(processed_train_data)\n",
    "processed_train_targets = np.concatenate(processed_train_targets)\n",
    "\n",
    "# Process test data\n",
    "for i in np.arange(1, num_test_machines + 1):\n",
    "    temp_test_data = test_data[test_data[0] == i].drop(columns = [0]).values\n",
    "    \n",
    "    # Verify if data of given window length can be extracted from test data\n",
    "    if (len(temp_test_data) < window_length):\n",
    "        print(\"Test engine {} doesn't have enough data for window_length of {}\".format(i, window_length))\n",
    "        raise AssertionError(\"Window length is larger than number of data points for some engines. \"\n",
    "                             \"Try decreasing window length.\")\n",
    "    \n",
    "    # Prepare test data\n",
    "    test_data_for_an_engine, num_windows = process_test_data(temp_test_data, window_length = window_length, shift = shift,\n",
    "                                                             num_test_windows = num_test_windows)\n",
    "    \n",
    "    processed_test_data.append(test_data_for_an_engine)\n",
    "    num_test_windows_list.append(num_windows)\n",
    "\n",
    "processed_test_data = np.concatenate(processed_test_data)\n",
    "true_rul = true_rul[0].values\n",
    "\n",
    "# Shuffle training data\n",
    "index = np.random.permutation(len(processed_train_targets))\n",
    "processed_train_data, processed_train_targets = processed_train_data[index], processed_train_targets[index]\n",
    "\n",
    "print(\"Processed trianing data shape: \", processed_train_data.shape)\n",
    "print(\"Processed training ruls shape: \", processed_train_targets.shape)\n",
    "print(\"Processed test data shape: \", processed_test_data.shape)\n",
    "print(\"True RUL shape: \", true_rul.shape)\n",
    "\n",
    "print(type(processed_train_data))\n",
    "print(type(processed_test_data))\n",
    "print(type(processed_train_targets))\n",
    "print(type(true_rul))\n",
    "\n",
    "np.save(\"processed_test_data_np\",processed_test_data)\n",
    "np.save(\"processed_test_RUL_np\", true_rul)"
   ]
  },
  {
   "cell_type": "code",
   "execution_count": 7,
   "metadata": {},
   "outputs": [
    {
     "name": "stdout",
     "output_type": "stream",
     "text": [
      "Processed train data shape:  (17456, 30, 14)\n",
      "Processed validation data shape:  (4364, 30, 14)\n",
      "Processed train targets shape:  (17456,)\n",
      "Processed validation targets shape:  (4364,)\n"
     ]
    }
   ],
   "source": [
    "processed_train_data, processed_val_data, processed_train_targets, processed_val_targets = train_test_split(processed_train_data,\n",
    "                                                                                                            processed_train_targets,\n",
    "                                                                                                            test_size = 0.2,\n",
    "                                                                                                            random_state = 83)\n",
    "print(\"Processed train data shape: \", processed_train_data.shape)\n",
    "print(\"Processed validation data shape: \", processed_val_data.shape)\n",
    "print(\"Processed train targets shape: \", processed_train_targets.shape)\n",
    "print(\"Processed validation targets shape: \", processed_val_targets.shape)"
   ]
  },
  {
   "cell_type": "code",
   "execution_count": 8,
   "metadata": {},
   "outputs": [],
   "source": [
    "def custom_loss(y_true, y_pred):\n",
    "    alpha = 0.4\n",
    "    difference = y_pred - y_true\n",
    "    squared_difference = tf.square(y_pred - y_true)\n",
    "    \n",
    "    # Calcola la loss per ciascun elemento\n",
    "    loss = tf.where(difference < 0, 2 * alpha * squared_difference, 2 * (alpha + (1 - 2 * alpha)) * squared_difference)\n",
    "    \n",
    "    # Calcola la media delle loss\n",
    "    return tf.reduce_mean(loss)"
   ]
  },
  {
   "cell_type": "code",
   "execution_count": 9,
   "metadata": {},
   "outputs": [
    {
     "name": "stderr",
     "output_type": "stream",
     "text": [
      "2024-01-17 01:51:37.467607: E tensorflow/compiler/xla/stream_executor/cuda/cuda_driver.cc:268] failed call to cuInit: CUDA_ERROR_NO_DEVICE: no CUDA-capable device is detected\n"
     ]
    },
    {
     "name": "stdout",
     "output_type": "stream",
     "text": [
      "Model: \"model_1\"\n",
      "__________________________________________________________________________________________________\n",
      " Layer (type)                Output Shape                 Param #   Connected to                  \n",
      "==================================================================================================\n",
      " cnn_input (InputLayer)      [(None, 30, 14)]             0         []                            \n",
      "                                                                                                  \n",
      " conv1d (Conv1D)             (None, 22, 10)               1270      ['cnn_input[0][0]']           \n",
      "                                                                                                  \n",
      " max_pooling1d (MaxPooling1  (None, 11, 10)               0         ['conv1d[0][0]']              \n",
      " D)                                                                                               \n",
      "                                                                                                  \n",
      " lstm_input (InputLayer)     [(None, 30, 14)]             0         []                            \n",
      "                                                                                                  \n",
      " conv1d_1 (Conv1D)           (None, 9, 10)                310       ['max_pooling1d[0][0]']       \n",
      "                                                                                                  \n",
      " lstm (LSTM)                 (None, 30, 32)               6016      ['lstm_input[0][0]']          \n",
      "                                                                                                  \n",
      " max_pooling1d_1 (MaxPoolin  (None, 4, 10)                0         ['conv1d_1[0][0]']            \n",
      " g1D)                                                                                             \n",
      "                                                                                                  \n",
      " lstm_1 (LSTM)               (None, 30, 32)               8320      ['lstm[0][0]']                \n",
      "                                                                                                  \n",
      " conv1d_2 (Conv1D)           (None, 2, 128)               3968      ['max_pooling1d_1[0][0]']     \n",
      "                                                                                                  \n",
      " lstm_2 (LSTM)               (None, 64)                   24832     ['lstm_1[0][0]']              \n",
      "                                                                                                  \n",
      " flatten_1 (Flatten)         (None, 256)                  0         ['conv1d_2[0][0]']            \n",
      "                                                                                                  \n",
      " concatenate (Concatenate)   (None, 320)                  0         ['lstm_2[0][0]',              \n",
      "                                                                     'flatten_1[0][0]']           \n",
      "                                                                                                  \n",
      " dense (Dense)               (None, 100)                  32100     ['concatenate[0][0]']         \n",
      "                                                                                                  \n",
      " dense_1 (Dense)             (None, 32)                   3232      ['dense[0][0]']               \n",
      "                                                                                                  \n",
      " dense_2 (Dense)             (None, 1)                    33        ['dense_1[0][0]']             \n",
      "                                                                                                  \n",
      "==================================================================================================\n",
      "Total params: 80081 (312.82 KB)\n",
      "Trainable params: 80081 (312.82 KB)\n",
      "Non-trainable params: 0 (0.00 Byte)\n",
      "__________________________________________________________________________________________________\n"
     ]
    }
   ],
   "source": [
    "import tensorflow as tf\n",
    "from tensorflow.keras.models import Model\n",
    "from tensorflow.keras.layers import Input, LSTM, Conv1D, MaxPooling1D, Flatten, Dense, Concatenate,Conv2D\n",
    "from tensorflow.keras.metrics import RootMeanSquaredError\n",
    "\n",
    "def build_lstm_cnn_model(timesteps, features, sequence_length):\n",
    "    # Definizione dell'input per la parte LSTM\n",
    "    lstm_input = Input(shape=(timesteps, features), name='lstm_input')\n",
    "\n",
    "    # Aggiunta di tre layer LSTM\n",
    "    lstm_layer1 = LSTM(units=32, activation='relu', return_sequences=True)(lstm_input)\n",
    "    lstm_layer2 = LSTM(units=32, activation='relu', return_sequences=True)(lstm_layer1)\n",
    "    lstm_layer3 = LSTM(units=64, activation='relu')(lstm_layer2)\n",
    "    flatten = Flatten()(lstm_layer3)\n",
    "    # Creazione del modello LSTM\n",
    "    lstm_model = Model(inputs=lstm_input, outputs=lstm_layer3)\n",
    "\n",
    "    # Definizione dell'input per la parte CNN\n",
    "    cnn_input = Input(shape=(sequence_length, features), name='cnn_input')\n",
    "\n",
    "    # Aggiunta di tre layer CNN\n",
    "    conv1d_layer1 = Conv1D(filters=10, kernel_size=9, activation='relu')(cnn_input)\n",
    "    maxpooling_layer1 = MaxPooling1D(pool_size=2)(conv1d_layer1)\n",
    "\n",
    "    conv1d_layer2 = Conv1D(filters=10, kernel_size=3, activation='relu')(maxpooling_layer1)\n",
    "    maxpooling_layer2 = MaxPooling1D(pool_size=2)(conv1d_layer2)\n",
    "\n",
    "    conv1d_layer3 = Conv1D(filters=128, kernel_size=3, activation='relu')(maxpooling_layer2)\n",
    "    flatten_cnn = Flatten()(conv1d_layer3)\n",
    "\n",
    "    # Concatenazione delle uscite di LSTM e CNN\n",
    "    concatenated = Concatenate()([lstm_model.output, flatten_cnn])\n",
    "\n",
    "    # Aggiunta di uno o più strati completamente connessi per la regressione\n",
    "    dense_layer1 = Dense(100, activation='tanh')(concatenated)\n",
    "    dense_layer2 = Dense(32, activation='tanh')(dense_layer1)\n",
    "    output_layer = Dense(1, activation='relu')(dense_layer2)\n",
    "\n",
    "    # Creazione del modello finale\n",
    "    model = Model(inputs=[lstm_input, cnn_input], outputs=output_layer)\n",
    "\n",
    "    # Compilazione del modello\n",
    "    model.compile(optimizer='adam', loss=custom_loss, metrics=[RootMeanSquaredError()])\n",
    "\n",
    "    return model\n",
    "\n",
    "# Esempio di utilizzo della funzione per creare e compilare il modello\n",
    "timesteps = 30  # Imposta il valore appropriato\n",
    "features = 14   # Imposta il valore appropriato\n",
    "sequence_length = 30  # Imposta il valore appropriato\n",
    "\n",
    "model = build_lstm_cnn_model(timesteps, features, sequence_length)\n",
    "model.summary()\n"
   ]
  },
  {
   "cell_type": "code",
   "execution_count": 10,
   "metadata": {},
   "outputs": [
    {
     "name": "stdout",
     "output_type": "stream",
     "text": [
      "Epoch 1/50\n",
      "137/137 [==============================] - 9s 44ms/step - loss: 6527.7524 - root_mean_squared_error: 90.3270 - val_loss: 6103.8320 - val_root_mean_squared_error: 87.3416\n",
      "Epoch 2/50\n",
      "137/137 [==============================] - 6s 42ms/step - loss: 5886.8794 - root_mean_squared_error: 85.7685 - val_loss: 5572.0229 - val_root_mean_squared_error: 83.4374\n",
      "Epoch 3/50\n",
      "137/137 [==============================] - 6s 44ms/step - loss: 5378.4819 - root_mean_squared_error: 81.9625 - val_loss: 5093.8086 - val_root_mean_squared_error: 79.7536\n",
      "Epoch 4/50\n",
      "137/137 [==============================] - 6s 47ms/step - loss: 4919.5352 - root_mean_squared_error: 78.3582 - val_loss: 4662.0210 - val_root_mean_squared_error: 76.2618\n",
      "Epoch 5/50\n",
      "137/137 [==============================] - 6s 45ms/step - loss: 4504.4976 - root_mean_squared_error: 74.9361 - val_loss: 4272.5415 - val_root_mean_squared_error: 72.9531\n",
      "Epoch 6/50\n",
      "137/137 [==============================] - 6s 44ms/step - loss: 4121.0059 - root_mean_squared_error: 71.6483 - val_loss: 3875.9973 - val_root_mean_squared_error: 69.5792\n",
      "Epoch 7/50\n",
      "137/137 [==============================] - 6s 44ms/step - loss: 3725.9197 - root_mean_squared_error: 68.2069 - val_loss: 3518.1560 - val_root_mean_squared_error: 66.2549\n",
      "Epoch 8/50\n",
      "137/137 [==============================] - 6s 44ms/step - loss: 3375.0354 - root_mean_squared_error: 64.9277 - val_loss: 3180.8794 - val_root_mean_squared_error: 63.0292\n",
      "Epoch 9/50\n",
      "137/137 [==============================] - 6s 45ms/step - loss: 3053.1636 - root_mean_squared_error: 61.7599 - val_loss: 2878.9707 - val_root_mean_squared_error: 59.9536\n",
      "Epoch 10/50\n",
      "137/137 [==============================] - 6s 44ms/step - loss: 2762.2415 - root_mean_squared_error: 58.7396 - val_loss: 2600.1526 - val_root_mean_squared_error: 56.9945\n",
      "Epoch 11/50\n",
      "137/137 [==============================] - 6s 45ms/step - loss: 2495.4656 - root_mean_squared_error: 55.8265 - val_loss: 2347.3328 - val_root_mean_squared_error: 54.1509\n",
      "Epoch 12/50\n",
      "137/137 [==============================] - 6s 43ms/step - loss: 2250.3875 - root_mean_squared_error: 53.0097 - val_loss: 2116.0266 - val_root_mean_squared_error: 51.3899\n",
      "Epoch 13/50\n",
      "137/137 [==============================] - 6s 44ms/step - loss: 2026.5830 - root_mean_squared_error: 50.2978 - val_loss: 1900.9360 - val_root_mean_squared_error: 48.7094\n",
      "Epoch 14/50\n",
      "137/137 [==============================] - 6s 43ms/step - loss: 1821.7162 - root_mean_squared_error: 47.6801 - val_loss: 1708.9365 - val_root_mean_squared_error: 46.1878\n",
      "Epoch 15/50\n",
      "137/137 [==============================] - 6s 42ms/step - loss: 1634.7275 - root_mean_squared_error: 45.1577 - val_loss: 1532.6820 - val_root_mean_squared_error: 43.7398\n",
      "Epoch 16/50\n",
      "137/137 [==============================] - 6s 43ms/step - loss: 1463.9418 - root_mean_squared_error: 42.7247 - val_loss: 1374.8159 - val_root_mean_squared_error: 41.3425\n",
      "Epoch 17/50\n",
      "137/137 [==============================] - 6s 44ms/step - loss: 1309.9429 - root_mean_squared_error: 40.3972 - val_loss: 1224.3097 - val_root_mean_squared_error: 39.0226\n",
      "Epoch 18/50\n",
      "137/137 [==============================] - 6s 42ms/step - loss: 1168.8586 - root_mean_squared_error: 38.1465 - val_loss: 1088.8800 - val_root_mean_squared_error: 36.8109\n",
      "Epoch 19/50\n",
      "137/137 [==============================] - 6s 41ms/step - loss: 1039.1698 - root_mean_squared_error: 35.9551 - val_loss: 969.1677 - val_root_mean_squared_error: 34.6808\n",
      "Epoch 20/50\n",
      "137/137 [==============================] - 6s 43ms/step - loss: 924.2674 - root_mean_squared_error: 33.8847 - val_loss: 858.1204 - val_root_mean_squared_error: 32.6587\n",
      "Epoch 21/50\n",
      "137/137 [==============================] - 6s 42ms/step - loss: 820.0892 - root_mean_squared_error: 31.8930 - val_loss: 769.1757 - val_root_mean_squared_error: 30.8471\n",
      "Epoch 22/50\n",
      "137/137 [==============================] - 6s 43ms/step - loss: 726.6437 - root_mean_squared_error: 29.9887 - val_loss: 682.0574 - val_root_mean_squared_error: 28.9602\n",
      "Epoch 23/50\n",
      "137/137 [==============================] - 6s 42ms/step - loss: 642.5327 - root_mean_squared_error: 28.1703 - val_loss: 599.5231 - val_root_mean_squared_error: 27.1623\n",
      "Epoch 24/50\n",
      "137/137 [==============================] - 6s 43ms/step - loss: 567.8740 - root_mean_squared_error: 26.4435 - val_loss: 535.4155 - val_root_mean_squared_error: 25.5433\n",
      "Epoch 25/50\n",
      "137/137 [==============================] - 6s 42ms/step - loss: 500.5807 - root_mean_squared_error: 24.7896 - val_loss: 466.7519 - val_root_mean_squared_error: 23.9246\n",
      "Epoch 26/50\n",
      "137/137 [==============================] - 6s 45ms/step - loss: 440.2784 - root_mean_squared_error: 23.2023 - val_loss: 414.3467 - val_root_mean_squared_error: 22.4529\n",
      "Epoch 27/50\n",
      "137/137 [==============================] - 6s 43ms/step - loss: 389.7218 - root_mean_squared_error: 21.7691 - val_loss: 369.0534 - val_root_mean_squared_error: 21.2141\n",
      "Epoch 28/50\n",
      "137/137 [==============================] - 6s 45ms/step - loss: 343.2922 - root_mean_squared_error: 20.3783 - val_loss: 324.8183 - val_root_mean_squared_error: 19.7667\n",
      "Epoch 29/50\n",
      "137/137 [==============================] - 6s 45ms/step - loss: 302.7561 - root_mean_squared_error: 19.0698 - val_loss: 293.9430 - val_root_mean_squared_error: 18.5838\n",
      "Epoch 30/50\n",
      "137/137 [==============================] - 6s 44ms/step - loss: 269.3857 - root_mean_squared_error: 17.9092 - val_loss: 264.1584 - val_root_mean_squared_error: 17.4824\n",
      "Epoch 31/50\n",
      "137/137 [==============================] - 6s 42ms/step - loss: 240.4169 - root_mean_squared_error: 16.8387 - val_loss: 246.8510 - val_root_mean_squared_error: 17.2016\n",
      "Epoch 32/50\n",
      "137/137 [==============================] - 6s 43ms/step - loss: 214.9242 - root_mean_squared_error: 15.8385 - val_loss: 221.0402 - val_root_mean_squared_error: 16.0551\n",
      "Epoch 33/50\n",
      "137/137 [==============================] - 6s 42ms/step - loss: 195.3229 - root_mean_squared_error: 15.0014 - val_loss: 195.1975 - val_root_mean_squared_error: 14.7837\n",
      "Epoch 34/50\n",
      "137/137 [==============================] - 6s 43ms/step - loss: 175.1034 - root_mean_squared_error: 14.1253 - val_loss: 180.0683 - val_root_mean_squared_error: 14.0794\n",
      "Epoch 35/50\n",
      "137/137 [==============================] - 6s 44ms/step - loss: 162.4019 - root_mean_squared_error: 13.4913 - val_loss: 171.0435 - val_root_mean_squared_error: 13.9259\n",
      "Epoch 36/50\n",
      "137/137 [==============================] - 6s 42ms/step - loss: 146.4569 - root_mean_squared_error: 12.7401 - val_loss: 157.8831 - val_root_mean_squared_error: 12.8898\n",
      "Epoch 37/50\n",
      "137/137 [==============================] - 6s 43ms/step - loss: 134.3512 - root_mean_squared_error: 12.1246 - val_loss: 160.0615 - val_root_mean_squared_error: 13.5586\n",
      "Epoch 38/50\n",
      "137/137 [==============================] - 6s 44ms/step - loss: 125.3917 - root_mean_squared_error: 11.6376 - val_loss: 136.2359 - val_root_mean_squared_error: 12.0586\n",
      "Epoch 39/50\n",
      "137/137 [==============================] - 6s 42ms/step - loss: 117.3788 - root_mean_squared_error: 11.1856 - val_loss: 129.0312 - val_root_mean_squared_error: 11.5338\n",
      "Epoch 40/50\n",
      "137/137 [==============================] - 6s 44ms/step - loss: 112.7234 - root_mean_squared_error: 10.9181 - val_loss: 121.3650 - val_root_mean_squared_error: 11.3660\n",
      "Epoch 41/50\n",
      "137/137 [==============================] - 6s 42ms/step - loss: 138.9594 - root_mean_squared_error: 12.1464 - val_loss: 130.8695 - val_root_mean_squared_error: 11.6162\n",
      "Epoch 42/50\n",
      "137/137 [==============================] - 6s 42ms/step - loss: 111.5803 - root_mean_squared_error: 10.8119 - val_loss: 124.6033 - val_root_mean_squared_error: 11.4665\n",
      "Epoch 43/50\n",
      "137/137 [==============================] - 6s 43ms/step - loss: 103.8860 - root_mean_squared_error: 10.3845 - val_loss: 125.4706 - val_root_mean_squared_error: 11.7273\n",
      "Epoch 44/50\n",
      "137/137 [==============================] - 6s 42ms/step - loss: 96.6692 - root_mean_squared_error: 10.0093 - val_loss: 109.9957 - val_root_mean_squared_error: 10.6285\n",
      "Epoch 45/50\n",
      "137/137 [==============================] - 6s 42ms/step - loss: 92.7558 - root_mean_squared_error: 9.7699 - val_loss: 110.2054 - val_root_mean_squared_error: 10.6139\n",
      "Epoch 46/50\n",
      "137/137 [==============================] - 6s 42ms/step - loss: 88.1803 - root_mean_squared_error: 9.5110 - val_loss: 105.1418 - val_root_mean_squared_error: 10.3428\n",
      "Epoch 47/50\n",
      "137/137 [==============================] - 6s 43ms/step - loss: 84.9826 - root_mean_squared_error: 9.3203 - val_loss: 101.1908 - val_root_mean_squared_error: 10.0560\n",
      "Epoch 48/50\n",
      "137/137 [==============================] - 6s 43ms/step - loss: 83.0040 - root_mean_squared_error: 9.1917 - val_loss: 105.2801 - val_root_mean_squared_error: 10.7200\n",
      "Epoch 49/50\n",
      "137/137 [==============================] - 6s 45ms/step - loss: 82.2957 - root_mean_squared_error: 9.1495 - val_loss: 96.3460 - val_root_mean_squared_error: 9.9094\n",
      "Epoch 50/50\n",
      "137/137 [==============================] - 6s 42ms/step - loss: 78.7257 - root_mean_squared_error: 8.9267 - val_loss: 95.2613 - val_root_mean_squared_error: 9.8611\n"
     ]
    }
   ],
   "source": [
    "EPOCHS = 50\n",
    "BATCH_SIZE = 128\n",
    "\n",
    "history = model.fit(\n",
    "    [processed_train_data, processed_train_data],\n",
    "    processed_train_targets,\n",
    "    epochs=EPOCHS,\n",
    "    validation_data=([processed_val_data, processed_val_data], processed_val_targets),\n",
    "    batch_size=BATCH_SIZE\n",
    ")\n"
   ]
  },
  {
   "cell_type": "code",
   "execution_count": 11,
   "metadata": {},
   "outputs": [
    {
     "name": "stdout",
     "output_type": "stream",
     "text": [
      "16/16 [==============================] - 0s 10ms/step\n",
      "RMSE:  15.585463760577753\n"
     ]
    }
   ],
   "source": [
    "rul_pred = model.predict([processed_test_data, processed_test_data]).reshape(-1)\n",
    "preds_for_each_engine = np.split(rul_pred, np.cumsum(num_test_windows_list)[:-1])\n",
    "mean_pred_for_each_engine = [np.average(ruls_for_each_engine, weights = np.repeat(1/num_windows, num_windows, axis=0))\n",
    "                             for ruls_for_each_engine, num_windows in zip(preds_for_each_engine, num_test_windows_list)]\n",
    "RMSE = np.sqrt(mean_squared_error(true_rul, mean_pred_for_each_engine))\n",
    "print(\"RMSE: \", RMSE)\n"
   ]
  },
  {
   "cell_type": "code",
   "execution_count": 12,
   "metadata": {},
   "outputs": [
    {
     "name": "stdout",
     "output_type": "stream",
     "text": [
      "RMSE (Taking only last examples):  14.579028385283786\n"
     ]
    }
   ],
   "source": [
    "indices_of_last_examples = np.cumsum(num_test_windows_list) - 1\n",
    "preds_for_last_example = np.concatenate(preds_for_each_engine)[indices_of_last_examples]\n",
    "\n",
    "RMSE_new = np.sqrt(mean_squared_error(true_rul, preds_for_last_example))\n",
    "print(\"RMSE (Taking only last examples): \", RMSE_new)"
   ]
  },
  {
   "cell_type": "code",
   "execution_count": 13,
   "metadata": {},
   "outputs": [],
   "source": [
    "def compute_s_score(rul_true, rul_pred):\n",
    "    \"\"\"\n",
    "    Both rul_true and rul_pred should be 1D numpy arrays.\n",
    "    \"\"\"\n",
    "    diff = rul_pred - rul_true\n",
    "    return np.sum(np.where(diff < 0, np.exp(-diff/13)-1, np.exp(diff/10)-1))"
   ]
  },
  {
   "cell_type": "code",
   "execution_count": 14,
   "metadata": {},
   "outputs": [
    {
     "name": "stdout",
     "output_type": "stream",
     "text": [
      "S-score (LARGE MODEL MSE):  390.0726215869993\n"
     ]
    }
   ],
   "source": [
    "s_score = compute_s_score(true_rul, preds_for_last_example)\n",
    "print(\"S-score (LARGE MODEL MSE): \", s_score)"
   ]
  },
  {
   "cell_type": "code",
   "execution_count": 15,
   "metadata": {},
   "outputs": [
    {
     "data": {
      "image/png": "[encoded data removed]",
      "text/plain": [
       "<Figure size 640x480 with 1 Axes>"
      ]
     },
     "metadata": {},
     "output_type": "display_data"
    }
   ],
   "source": [
    "motor_indices = np.arange(100)\n",
    "bar_width = 0.60\n",
    "plt.bar(motor_indices, true_rul, bar_width, label=\"True RUL\", color=\"red\")\n",
    "plt.bar(motor_indices + bar_width , preds_for_last_example, bar_width, label=\"Pred RUL\", color=\"blue\")\n",
    "# Aggiungere legenda e mostrare il grafico\n",
    "plt.legend()\n",
    "plt.xlabel(\"Motori\")\n",
    "plt.ylabel(\"RUL Values\")\n",
    "plt.title(\"Confronto diretto tra True e Predicted RUL per motore\")\n",
    "#plt.savefig(\"alternative_LSTM.pdf\", format=\"pdf\", bbox_inches=\"tight\")\n",
    "plt.show()"
   ]
  }
 ],
 "metadata": {
  "kernelspec": {
   "display_name": "tf",
   "language": "python",
   "name": "python3"
  },
  "language_info": {
   "codemirror_mode": {
    "name": "ipython",
    "version": 3
   },
   "file_extension": ".py",
   "mimetype": "text/x-python",
   "name": "python",
   "nbconvert_exporter": "python",
   "pygments_lexer": "ipython3",
   "version": "3.10.13"
  }
 },
 "nbformat": 4,
 "nbformat_minor": 2
}
