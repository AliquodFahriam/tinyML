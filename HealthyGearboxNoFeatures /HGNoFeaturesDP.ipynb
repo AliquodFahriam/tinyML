{
 "cells": [
  {
   "cell_type": "code",
   "execution_count": 1,
   "metadata": {},
   "outputs": [],
   "source": [
    "import pandas as pd \n",
    "import os "
   ]
  },
  {
   "cell_type": "code",
   "execution_count": 2,
   "metadata": {},
   "outputs": [],
   "source": [
    "## HEALTHY \n",
    "h0 = pd.read_csv('Healthy/h30hz0.csv')\n",
    "h10 = pd.read_csv('Healthy/h30hz10.csv')\n",
    "h20 = pd.read_csv('Healthy/h30hz20.csv')\n",
    "h30 = pd.read_csv('Healthy/h30hz30.csv')\n",
    "h40 = pd.read_csv('Healthy/h30hz40.csv')\n",
    "h50 = pd.read_csv('Healthy/h30hz50.csv')\n",
    "h60 = pd.read_csv('Healthy/h30hz60.csv')\n",
    "h70 = pd.read_csv('Healthy/h30hz70.csv')\n",
    "h80 = pd.read_csv('Healthy/h30hz80.csv')\n",
    "h90 = pd.read_csv('Healthy/h30hz90.csv')\n",
    "\n",
    "healthy_list = [h0, h10,h20,h30, h40, h50, h60, h70, h80, h90]\n",
    "\n",
    "##BROKEN\n",
    "b0 = pd.read_csv('BrokenTooth/b30hz0.csv')\n",
    "b10 = pd.read_csv('BrokenTooth/b30hz10.csv')\n",
    "b20 = pd.read_csv('BrokenTooth/b30hz20.csv')\n",
    "b30 = pd.read_csv('BrokenTooth/b30hz30.csv')\n",
    "b40 = pd.read_csv('BrokenTooth/b30hz40.csv')\n",
    "b50 = pd.read_csv('BrokenTooth/b30hz50.csv')\n",
    "b60 = pd.read_csv('BrokenTooth/b30hz60.csv')\n",
    "b70 = pd.read_csv('BrokenTooth/b30hz70.csv')\n",
    "b80 = pd.read_csv('BrokenTooth/b30hz80.csv')\n",
    "b90 = pd.read_csv('BrokenTooth/b30hz90.csv')\n",
    "\n",
    "broken_list = [b0, b10,b20,b30, b40, b50, b60, b70, b80, b90]"
   ]
  },
  {
   "cell_type": "code",
   "execution_count": 3,
   "metadata": {},
   "outputs": [],
   "source": [
    "counter = 0\n",
    "for i in healthy_list: \n",
    "    i['load'] = counter\n",
    "    counter+= 10\n",
    "    if counter == 100: \n",
    "        break; \n",
    "\n",
    "counter=0\n",
    "\n",
    "for i in broken_list: \n",
    "    i['load'] = counter\n",
    "    counter += 10\n",
    "    if counter == 100: \n",
    "        break "
   ]
  },
  {
   "cell_type": "code",
   "execution_count": 4,
   "metadata": {},
   "outputs": [],
   "source": [
    "healthy = pd.concat(healthy_list)\n",
    "broken = pd.concat(broken_list)\n",
    "\n",
    "healthy['broken'] = 0\n",
    "healthy['healthy'] = 1\n",
    "\n",
    "broken['broken'] = 1\n",
    "broken['healthy'] = 0\n",
    "\n",
    "gear_df = pd.concat([healthy, broken])\n"
   ]
  },
  {
   "attachments": {},
   "cell_type": "markdown",
   "metadata": {},
   "source": [
    "### Alcuni appunti \n",
    "Si nota come il valore di *a1* cambi in maniera particolare tra i valori *healthy* e quelli *broken*. Segna di conseguenza un passaggio troppo netto e potrebbe compromettere il lavoro della rete neurale o, ancora peggio, causare overfitting per la rete neurale. A questo proposito vorrei dedicare un notebook a parte per quanto riguarda l'*EDA* "
   ]
  },
  {
   "cell_type": "code",
   "execution_count": 5,
   "metadata": {},
   "outputs": [],
   "source": [
    "#gear_df.insert(0, 'time', range(0, len(gear_df)))\n",
    "'''\n",
    "gear_df.plot(x = 'time', y = ['a1', 'a2', 'a3', 'a4', 'healthy', 'load'])\n",
    "gear_df.plot(x = 'time', y = ['a1', 'healthy', 'load'])\n",
    "gear_df.plot(x = 'time', y = ['a2', 'healthy', 'load'])\n",
    "gear_df.plot(x = 'time', y = ['a3', 'healthy', 'load'])\n",
    "gear_df.plot(x = 'time', y = ['a4', 'healthy', 'load'])\n",
    "\n",
    "'''\n",
    "#Per fare funzionare il plot decommentare la prima riga e le seguenti cinque. \n",
    "\n",
    "\n",
    "#healthy.insert(0, 'time', range(0, len(healthy)))\n",
    "#broken.insert(0, 'time', range(0, len(broken)))\n",
    "#healthy.plot(x='time',y = ['a1', 'a2', 'a3', 'a4'])\n",
    "#broken.plot(x='time',y = ['a1', 'a2', 'a3', 'a4'])\n",
    "\n",
    "#healthy.plot(x='time',y = ['a1', 'load'])\n",
    "#broken.plot(x='time',y = ['a1', 'load'])\n",
    "\n",
    "gear_df.to_csv('gear_data.csv')"
   ]
  }
 ],
 "metadata": {
  "kernelspec": {
   "display_name": "tensorflowEnv",
   "language": "python",
   "name": "python3"
  },
  "language_info": {
   "codemirror_mode": {
    "name": "ipython",
    "version": 3
   },
   "file_extension": ".py",
   "mimetype": "text/x-python",
   "name": "python",
   "nbconvert_exporter": "python",
   "pygments_lexer": "ipython3",
   "version": "3.9.15"
  },
  "orig_nbformat": 4,
  "vscode": {
   "interpreter": {
    "hash": "4fbd6a2b706929f7aac065e9772485a8b6fb0e1a03dfb4804852dcb6f1569e03"
   }
  }
 },
 "nbformat": 4,
 "nbformat_minor": 2
}
